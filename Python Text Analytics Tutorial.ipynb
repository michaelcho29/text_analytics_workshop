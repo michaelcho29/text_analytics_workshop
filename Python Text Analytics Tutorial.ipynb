{
 "cells": [
  {
   "cell_type": "markdown",
   "metadata": {},
   "source": [
    "# Text Analytics in Python Using NLTK and Gensim\n",
    "\n",
    "The purpose of this notebook is to show some Text Analytics strategies that you can use with the NLTK and Gensim packages in python. In addition, the notebook was written with a plug and play application is mind. What this means is that if you have another dataset that you want to use with this notebook, you only need to change a few code cells to run the same analysis (the csv file being read in, the name of the column that contains the reviews, and the word dictionaries if doing Rule Based Categorization). Below is the table of contents for this notebook. \n",
    "\n",
    "### Introduction\n",
    "1. Reading in the Data\n",
    "\n",
    "### Pre-analysis Definitions\n",
    "1. Stemming\n",
    "2. Lemmatization\n",
    "3. Tokenization\n",
    "4. Stop Words\n",
    "\n",
    "### Data Preprocessing\n",
    "1. Preparing data for tokenization\n",
    "2. Tokenizing, Stemming/Lemmatizing, and Removing Stop Words\n",
    "3. Word Frequencies\n",
    "4. N-grams\n",
    "\n",
    "### Topic Modelling with Gensim\n",
    "1. Topic Modelling\n",
    "2. Assigning Comments to Topics\n",
    "\n",
    "### Rule Based Categorization\n",
    "2. Tagging Basics\n",
    "3. Negation and Secondary Terms\n",
    "4. Applying Tags"
   ]
  },
  {
   "cell_type": "markdown",
   "metadata": {},
   "source": [
    "## Introduction"
   ]
  },
  {
   "cell_type": "markdown",
   "metadata": {},
   "source": [
    "To show off the functionailty of NTLK and Gensim, we will use a sample Hotel's dataset from kaggle (https://www.kaggle.com/datafiniti/hotel-reviews/). It is a list of 1,000 hotels and their reviews provided by Datafiniti's Business Database. The dataset includes hotel location, name, rating, review data, title, and username, among other fields.  "
   ]
  },
  {
   "cell_type": "markdown",
   "metadata": {},
   "source": [
    "### Reading in the Data"
   ]
  },
  {
   "cell_type": "markdown",
   "metadata": {},
   "source": [
    "To start, we need to import the dictionaries we need and read in the dataset."
   ]
  },
  {
   "cell_type": "code",
   "execution_count": 17,
   "metadata": {},
   "outputs": [],
   "source": [
    "import pandas as pd\n",
    "import string\n",
    "import nltk\n",
    "import warnings\n",
    "# nltk.download('wordnet')\n",
    "# nltk.download('punkt')\n",
    "# nltk.download('stopwords')\n",
    "warnings.filterwarnings('ignore')\n",
    "\n",
    "data = pd.read_csv('Datafiniti_Hotel_Reviews.csv') \n",
    "data = data.dropna(subset=['reviews.text'])"
   ]
  },
  {
   "cell_type": "markdown",
   "metadata": {},
   "source": [
    "To get a sense of what the reviews look like, we print out the first three comments in the dataset"
   ]
  },
  {
   "cell_type": "code",
   "execution_count": 18,
   "metadata": {},
   "outputs": [
    {
     "name": "stdout",
     "output_type": "stream",
     "text": [
      "Number of reviews: 9999\n",
      "\n",
      "Example reviews: \n",
      "\n",
      "Our experience at Rancho Valencia was absolutely perfect from beginning to end!!!! We felt special and very happy during our stayed. I would come back in a heart beat!!!\n",
      "\n",
      "\n",
      "Amazing place. Everyone was extremely warm and welcoming. We've stayed at some top notch places and this is definitely in our top 2. Great for a romantic getaway or take the kids along as we did. Had a couple stuffed animals waiting for our girls upon arrival. Can't wait to go back.\n",
      "\n",
      "\n",
      "We booked a 3 night stay at Rancho Valencia to play some tennis, since it is one of the highest rated tennis resorts in America. This place is really over the top from a luxury standpoint and overall experience. The villas are really perfect, the staff is great, attention to details (includes fresh squeezed orange juice each morning), restaurants, bar and room service amazing, and the tennis program was really impressive as well. We will want to come back here again.\n",
      "\n",
      "\n"
     ]
    }
   ],
   "source": [
    "print('Number of reviews: {}\\n'.format(len(data)))\n",
    "print('Example reviews: \\n')\n",
    "for i in data['reviews.text'].iloc[0:3]:\n",
    "    print(i)\n",
    "    print('\\n')"
   ]
  },
  {
   "cell_type": "markdown",
   "metadata": {},
   "source": [
    "## Pre-Analysis Definitions"
   ]
  },
  {
   "cell_type": "markdown",
   "metadata": {},
   "source": [
    "Before diving into the analysis, we must first define the following terms: **Stemming**, **Lemmatization**, and **Tokenization**"
   ]
  },
  {
   "cell_type": "markdown",
   "metadata": {},
   "source": [
    "### Stemming"
   ]
  },
  {
   "cell_type": "markdown",
   "metadata": {},
   "source": [
    "Stemming is the process by which a word is reduced to its word stem. The purpose of stemming (and also lemmatization) is to reduce a word to its core root. Reducing a word to its core root allows a text analytics algorithm to group words with similar meaning together in order to improve accuracy."
   ]
  },
  {
   "cell_type": "markdown",
   "metadata": {},
   "source": [
    "In ```NLTK```, there are multiple stemming algorithms available to use. For this notebook, we will be showing ```PorterStemmer``` and ```LancasterStemmer```. First, we define a stem object for both Porter and Lancaster stemming:"
   ]
  },
  {
   "cell_type": "code",
   "execution_count": 19,
   "metadata": {},
   "outputs": [],
   "source": [
    "from nltk.stem import PorterStemmer\n",
    "from nltk.stem import LancasterStemmer\n",
    "\n",
    "porter = PorterStemmer()\n",
    "lancaster = LancasterStemmer()"
   ]
  },
  {
   "cell_type": "markdown",
   "metadata": {},
   "source": [
    "Below is an example of how the ```PorterStemmer``` takes an example word, **stay**, and its various ending combinations, and simplifes them to the core word **stay**"
   ]
  },
  {
   "cell_type": "code",
   "execution_count": 20,
   "metadata": {},
   "outputs": [
    {
     "name": "stdout",
     "output_type": "stream",
     "text": [
      "Porter Stemming Example with \"stay\"\n",
      "stay --> stay\n",
      "stayed --> stay\n",
      "stays --> stay\n",
      "staying --> stay\n"
     ]
    }
   ],
   "source": [
    "print('Porter Stemming Example with \"stay\"')\n",
    "print('stay --> {}'.format(porter.stem(\"stay\")))\n",
    "print('stayed --> {}'.format(porter.stem(\"stayed\")))\n",
    "print('stays --> {}'.format(porter.stem(\"stays\")))\n",
    "print('staying --> {}'.format(porter.stem(\"staying\")))"
   ]
  },
  {
   "cell_type": "markdown",
   "metadata": {},
   "source": [
    "The ```PorterStemmer``` is known for it's speed and simplicity, and is typically used in Information Retrieval Environments where fast recall and fetching of search queries is important. On the other hand, the Lancaster stemmer is more aggressive in stemming words."
   ]
  },
  {
   "cell_type": "code",
   "execution_count": 21,
   "metadata": {},
   "outputs": [
    {
     "name": "stdout",
     "output_type": "stream",
     "text": [
      "Porter Stemming Example with \"destabilize\"\n",
      "destabilized --> destabil\n",
      "destabilize --> destabil\n",
      "destabilizing --> destabil\n",
      "destabilizes --> destabil\n"
     ]
    }
   ],
   "source": [
    "print('Porter Stemming Example with \"destabilize\"')\n",
    "print('destabilized --> {}'.format(porter.stem(\"destabilized\")))\n",
    "print('destabilize --> {}'.format(porter.stem(\"destabilize\")))\n",
    "print('destabilizing --> {}'.format(porter.stem(\"destabilizing\")))\n",
    "print('destabilizes --> {}'.format(porter.stem(\"destabilizes\")))"
   ]
  },
  {
   "cell_type": "markdown",
   "metadata": {},
   "source": [
    "Lancaster here stems the word destabilize to **dest**"
   ]
  },
  {
   "cell_type": "code",
   "execution_count": 22,
   "metadata": {},
   "outputs": [
    {
     "name": "stdout",
     "output_type": "stream",
     "text": [
      "Lancaster Stemming Example with \"destabilize\"\n",
      "destabilized --> dest\n",
      "destabilize --> dest\n",
      "destabilizing --> dest\n",
      "destabilizes --> dest\n"
     ]
    }
   ],
   "source": [
    "print('Lancaster Stemming Example with \"destabilize\"')\n",
    "print('destabilized --> {}'.format(lancaster.stem(\"destabilized\")))\n",
    "print('destabilize --> {}'.format(lancaster.stem(\"destabilize\")))\n",
    "print('destabilizing --> {}'.format(lancaster.stem(\"destabilizing\")))\n",
    "print('destabilizes --> {}'.format(lancaster.stem(\"destabilizes\")))"
   ]
  },
  {
   "cell_type": "markdown",
   "metadata": {},
   "source": [
    "The **PorterStemmer** and **LancasterStemmer** has disadvantages, namely that \n",
    "\n",
    "1. The words sometimes do not stem to actual words\n",
    "2. Linguistic meaning can sometimes be lost\n",
    "\n",
    "The example below with **university** and **universe** illustrates this point"
   ]
  },
  {
   "cell_type": "code",
   "execution_count": 23,
   "metadata": {},
   "outputs": [
    {
     "name": "stdout",
     "output_type": "stream",
     "text": [
      "Porter Stemming Example with \"university\" and \"universe\"\n",
      "university --> univers\n",
      "universal --> univers\n",
      "universities --> univers\n",
      "universe --> univers\n"
     ]
    }
   ],
   "source": [
    "print('Porter Stemming Example with \"university\" and \"universe\"')\n",
    "print('university --> {}'.format(porter.stem(\"university\")))\n",
    "print('universal --> {}'.format(porter.stem(\"universal\")))\n",
    "print('universities --> {}'.format(porter.stem(\"universities\")))\n",
    "print('universe --> {}'.format(porter.stem(\"universe\")))"
   ]
  },
  {
   "cell_type": "code",
   "execution_count": 24,
   "metadata": {},
   "outputs": [
    {
     "name": "stdout",
     "output_type": "stream",
     "text": [
      "Lancaster Stemming Example with \"university\" and \"universe\"\n",
      "university --> univers\n",
      "universal --> univers\n",
      "universities --> univers\n",
      "universe --> univers\n"
     ]
    }
   ],
   "source": [
    "print('Lancaster Stemming Example with \"university\" and \"universe\"')\n",
    "print('university --> {}'.format(lancaster.stem(\"university\")))\n",
    "print('universal --> {}'.format(lancaster.stem(\"universal\")))\n",
    "print('universities --> {}'.format(lancaster.stem(\"universities\")))\n",
    "print('universe --> {}'.format(lancaster.stem(\"universe\")))"
   ]
  },
  {
   "cell_type": "markdown",
   "metadata": {},
   "source": [
    "As you can see above, the words university and universe simplify to *univers*, and difference in meaning between the two words is lost. One way to remedy this problem is with Lemmatization "
   ]
  },
  {
   "cell_type": "markdown",
   "metadata": {},
   "source": [
    "### Lemmatization"
   ]
  },
  {
   "cell_type": "markdown",
   "metadata": {},
   "source": [
    "Sometimes, instead of getting the stem of a word, which might not be an actual word, we can lemmetize our words to make sure that the words are grouped into an actual language word. Whereas the word **\"pictures\"** might stem to something like **\"pictur\"**, in lemmatization it would shorten to **\"picture\"**. This grouping is useful for keeping the full linguistic context of a word as opposed to just keeping the root of a word."
   ]
  },
  {
   "cell_type": "markdown",
   "metadata": {},
   "source": [
    "In the ```NLTK``` package we can use ```WordNetLemmatizer``` to lemmatize our words"
   ]
  },
  {
   "cell_type": "code",
   "execution_count": 25,
   "metadata": {},
   "outputs": [],
   "source": [
    "from nltk.stem import WordNetLemmatizer   \n",
    "lemmatizer = WordNetLemmatizer() "
   ]
  },
  {
   "cell_type": "markdown",
   "metadata": {},
   "source": [
    "Going back to the example of university and universe, we see that Lemmatization ensures that we retain linguistic meaning while still grouping words where possible"
   ]
  },
  {
   "cell_type": "code",
   "execution_count": 26,
   "metadata": {},
   "outputs": [
    {
     "name": "stdout",
     "output_type": "stream",
     "text": [
      "Lemmatization Example with \"university\" and \"universe\"\n",
      "university --> university\n",
      "universal --> universal\n",
      "universities --> university\n",
      "universe --> universe\n"
     ]
    }
   ],
   "source": [
    "print('Lemmatization Example with \"university\" and \"universe\"')\n",
    "print('university --> {}'.format(lemmatizer.lemmatize(\"university\")))\n",
    "print('universal --> {}'.format(lemmatizer.lemmatize(\"universal\")))\n",
    "print('universities --> {}'.format(lemmatizer.lemmatize(\"universities\")))\n",
    "print('universe --> {}'.format(lemmatizer.lemmatize(\"universe\")))"
   ]
  },
  {
   "cell_type": "markdown",
   "metadata": {},
   "source": [
    "So how do we decide which strategy to use when grouping similar words? When is stemming more advantagous to use when compared with lemmatization? The answer depends your application, and the importance of retaining linguistic meaning vs. having more simplified word groupings and reducing the number of features in your algorithm. If you cut off too much of the ending of a word (**overstemming**) you may have more nonsensical terms in your output and/or lose linguistic meaning. If you cut off too little from the ending of a word (**understemming**), then you may not be grouping enough similar words together and thus open your model up to potential overfitting."
   ]
  },
  {
   "cell_type": "markdown",
   "metadata": {},
   "source": [
    "### Tokenization"
   ]
  },
  {
   "cell_type": "markdown",
   "metadata": {},
   "source": [
    "*What is tokenization?*\n",
    "* Tokenization is when you take a string of text, and make each word an item in a list so each word can be analyzed individually\n",
    "* **EXAMPLE:** ```\"Our experience at Rancho Valencia was absolutely perfect from beginning to end!!!!\" --> ['our','experience','at','rancho','valencia','was', 'absolutely','perfect','from', 'beginning', 'to', 'end']```\n",
    "\n",
    "*Why do we use tokenization?*\n",
    "* It is the general format used for many text analysis techniques in NTLK, including Frequency Distribution and  N-Grams, among other techniques"
   ]
  },
  {
   "cell_type": "markdown",
   "metadata": {},
   "source": [
    "In ```NTLK```, you can tokenize a string of text using ```word_tokenize```"
   ]
  },
  {
   "cell_type": "code",
   "execution_count": 27,
   "metadata": {},
   "outputs": [
    {
     "name": "stdout",
     "output_type": "stream",
     "text": [
      "Raw Comment: \"Our experience at Rancho Valencia was absolutely perfect from beginning to end\"\n",
      "Cleaned Comment: ['our', 'experience', 'at', 'rancho', 'valencia', 'was', 'absolutely', 'perfect', 'from', 'beginning', 'to', 'end']\n"
     ]
    }
   ],
   "source": [
    "sample_string = 'Our experience at Rancho Valencia was absolutely perfect from beginning to end'\n",
    "sample_token = nltk.word_tokenize(sample_string.lower())\n",
    "\n",
    "print('Raw Comment: \"Our experience at Rancho Valencia was absolutely perfect from beginning to end\"')\n",
    "print('Cleaned Comment: {}'.format(sample_token))"
   ]
  },
  {
   "cell_type": "markdown",
   "metadata": {},
   "source": [
    "### Stop Words"
   ]
  },
  {
   "cell_type": "markdown",
   "metadata": {},
   "source": [
    "One issue that adds a lot of noise to a text analytics model are common words that appear in many comments but often add little contextual meaning. Examples of common words are \"the\", \"at\", \"a\", \"an\". These words are known as **stop words**. Fortunately, ```NTLK``` has a pre-defined corpus of stop words, ```nltk.corpus.stopwords.words('english')```, which you can you to filter out these common words from your text data. Below is a subset of words within the ```NLTK``` stop words corpus"
   ]
  },
  {
   "cell_type": "code",
   "execution_count": 28,
   "metadata": {},
   "outputs": [
    {
     "name": "stdout",
     "output_type": "stream",
     "text": [
      "First 10 stop words in the NLTK Stop Words Corpus (English):\n",
      "['i', 'me', 'my', 'myself', 'we', 'our', 'ours', 'ourselves', 'you', \"you're\"]\n"
     ]
    }
   ],
   "source": [
    "print('First 10 stop words in the NLTK Stop Words Corpus (English):')\n",
    "print(nltk.corpus.stopwords.words('english')[0:10])"
   ]
  },
  {
   "cell_type": "markdown",
   "metadata": {},
   "source": [
    "Here is an example of applying ```nltk.corpus.stopwords.words('english')``` to your tokenized text"
   ]
  },
  {
   "cell_type": "code",
   "execution_count": 29,
   "metadata": {},
   "outputs": [
    {
     "name": "stdout",
     "output_type": "stream",
     "text": [
      "Raw Comment: \"Our experience at Rancho Valencia was absolutely perfect from beginning to end\"\n",
      "Tokenized Comment: ['our', 'experience', 'at', 'rancho', 'valencia', 'was', 'absolutely', 'perfect', 'from', 'beginning', 'to', 'end']\n",
      "Tokenized Comment After Removing Stop Words: ['experience', 'rancho', 'valencia', 'absolutely', 'perfect', 'beginning', 'end']\n"
     ]
    }
   ],
   "source": [
    "sample_string = 'Our experience at Rancho Valencia was absolutely perfect from beginning to end'\n",
    "sample_token = nltk.word_tokenize(sample_string.lower())   # <----- Original Tokenized Text\n",
    "\n",
    "stop_words = nltk.corpus.stopwords.words('english')\n",
    "sample_token_no_stop = [word for word in sample_token if word not in stop_words] # <-- Removing Stop Words\n",
    "\n",
    "print('Raw Comment: \"Our experience at Rancho Valencia was absolutely perfect from beginning to end\"')\n",
    "print('Tokenized Comment: {}'.format(sample_token))\n",
    "print('Tokenized Comment After Removing Stop Words: {}'.format(sample_token_no_stop))"
   ]
  },
  {
   "cell_type": "markdown",
   "metadata": {},
   "source": [
    "## Data Preprocessing"
   ]
  },
  {
   "cell_type": "markdown",
   "metadata": {},
   "source": [
    "Now that we have some NLP preprocessing techniques defined, let's use them in practice on a real dataset"
   ]
  },
  {
   "cell_type": "markdown",
   "metadata": {},
   "source": [
    "### Preparing the Reviews for Tokenization"
   ]
  },
  {
   "cell_type": "markdown",
   "metadata": {},
   "source": [
    "The first step in the analysis to clean up the reviews so that they can be easily tokenized. There are two parts of the review that need to be cleaned:\n",
    "\n",
    "1. Remove punctuation\n",
    "2. Expand contraction words (i.e. don't --> do not)"
   ]
  },
  {
   "cell_type": "markdown",
   "metadata": {},
   "source": [
    "#### Removing Punctuation"
   ]
  },
  {
   "cell_type": "markdown",
   "metadata": {},
   "source": [
    "To remove punctuation, we define a function, ```remove_punctuation```, that utilizes the ```string``` library to look for and remove any symbols related to punctuation, with the exception of apostrophes (needed for expanding contraction words). The ```string``` library is a default library in Python"
   ]
  },
  {
   "cell_type": "code",
   "execution_count": 30,
   "metadata": {},
   "outputs": [
    {
     "name": "stdout",
     "output_type": "stream",
     "text": [
      "Raw Comment: here: a sentence - alibeit convoluted - with lots(!) of random $%^ punctuation?\n",
      "Cleaned Comment: here  a sentence   alibeit convoluted   with lots    of random     punctuation \n"
     ]
    }
   ],
   "source": [
    "def remove_punctuation(text):\n",
    "    nopunc = []\n",
    "    # Looks for and removes punctuations from string\n",
    "    for char in text:\n",
    "        if char == '’' or char == \"'\":\n",
    "            nopunc.append(\"'\")\n",
    "        # Punctuation in string.punctuation: '!\"#$%&\\'()*+,-./:;<=>?@[\\\\]^_`{|}~'\n",
    "        elif char in string.punctuation and char != \"'\":\n",
    "            nopunc.append(' ')\n",
    "        else:\n",
    "            nopunc.append(char)\n",
    "    # After removing punctuation, join string back together\n",
    "    output = ''.join(nopunc)\n",
    "    \n",
    "    return output\n",
    "\n",
    "sample_sentence_one = 'here: a sentence - alibeit convoluted - with lots(!) of random $%^ punctuation?'\n",
    "\n",
    "print('Raw Comment: {}'.format(sample_sentence_one))\n",
    "print('Cleaned Comment: {}'.format(remove_punctuation(sample_sentence_one)))"
   ]
  },
  {
   "cell_type": "markdown",
   "metadata": {},
   "source": [
    "#### Expanding Contraction Words"
   ]
  },
  {
   "cell_type": "markdown",
   "metadata": {},
   "source": [
    "To expand contraction words, we must first define a mapping of a contraction word to its expanded form. Fortunately, someone on the internet has already done this (https://stackoverflow.com/questions/19790188/expanding-english-language-contractions-in-python). To avoid adding extra space to this notebook, the dictionary of contraction word mappings was placed in ```contractions_v2.py```, then called into this notebook using ```import```. The code cell below shows how the contraction word mappings are brought into the notebook, as well as a print of 10 terms within the contraction word mapping dictionary "
   ]
  },
  {
   "cell_type": "code",
   "execution_count": 31,
   "metadata": {},
   "outputs": [
    {
     "name": "stdout",
     "output_type": "stream",
     "text": [
      "Example of items in the contraction word list dictionary:\n"
     ]
    },
    {
     "data": {
      "text/plain": [
       "{\"ain't\": 'am not',\n",
       " \"aren't\": 'are not',\n",
       " \"can't\": 'cannot',\n",
       " \"can't've\": 'cannot have',\n",
       " \"'cause\": 'because',\n",
       " \"could've\": 'could have',\n",
       " \"couldn't\": 'could not',\n",
       " \"couldn't've\": 'could not have',\n",
       " \"didn't\": 'did not',\n",
       " \"doesn't\": 'does not'}"
      ]
     },
     "execution_count": 31,
     "metadata": {},
     "output_type": "execute_result"
    }
   ],
   "source": [
    "# Get a dictionary of english language contractions\n",
    "from contractions_v2 import get_word_contractions\n",
    "contract_list = get_word_contractions()\n",
    "\n",
    "print('Example of items in the contraction word list dictionary:')\n",
    "dict(list(contract_list.items())[0:10])"
   ]
  },
  {
   "cell_type": "markdown",
   "metadata": {},
   "source": [
    "Now that the mapping has been added, we can define a function, ```expand_contraction_words```, that looks at each word in the review and expands a contraction word if it exists."
   ]
  },
  {
   "cell_type": "code",
   "execution_count": 32,
   "metadata": {},
   "outputs": [
    {
     "name": "stdout",
     "output_type": "stream",
     "text": [
      "Example input/output of expand_contraction_words function:\n",
      "Input: ['we', \"aren't\", 'he', \"didn't\", 'she', \"wouldn't\"]\n",
      "Output: ['we', 'are not', 'he', 'did not', 'she', 'would not']\n"
     ]
    }
   ],
   "source": [
    "def expand_contraction_words(lst, contraction_list):\n",
    "    final_output = []\n",
    "    for item in lst:\n",
    "        if item.lower() in contraction_list.keys():\n",
    "            final_output.append(contraction_list[item.lower()])\n",
    "        else:\n",
    "            final_output.append(item)\n",
    "            \n",
    "    return final_output\n",
    "            \n",
    "print('Example input/output of expand_contraction_words function:')\n",
    "print('Input: {}'.format([\"we\", \"aren't\", \"he\", \"didn't\", \"she\", \"wouldn't\"]))\n",
    "print('Output: {}'.format(expand_contraction_words([\"we\", \"aren't\", \"he\", \"didn't\", \"she\", \"wouldn't\"], contract_list)))"
   ]
  },
  {
   "cell_type": "markdown",
   "metadata": {},
   "source": [
    "Putting the ```remove_punctuation``` and ```expand_contraction_words``` functions together, we can define a new function, ```clean_review``` which takes a review with punctuations and contraction words and returns a review with punctuation removed, and contraction words expanded."
   ]
  },
  {
   "cell_type": "code",
   "execution_count": 33,
   "metadata": {},
   "outputs": [
    {
     "name": "stdout",
     "output_type": "stream",
     "text": [
      "Here is an example of a cleaned comment:\n",
      "Raw Comment: WHOA! I DON'T THINK SENTENCE(?) is cleaned*...or maybe it's clean NOW\n",
      "Cleaned Comment: whoa  i do not think sentence    is cleaned    or maybe it is clean now\n"
     ]
    }
   ],
   "source": [
    "# Function that removes punctuation and expands contraction words\n",
    "def clean_review(text, contraction_list):\n",
    "    # Remove Punctuation\n",
    "    nopunc = remove_punctuation(text).split(' ')\n",
    "    \n",
    "    # Expand contraction words\n",
    "    final_output = expand_contraction_words(nopunc, contraction_list)\n",
    "            \n",
    "    return ' '.join(final_output).lower()\n",
    "\n",
    "sample_sentence_two = \"WHOA! I DON'T THINK SENTENCE(?) is cleaned*...or maybe it's clean NOW\"\n",
    "\n",
    "print('Here is an example of a cleaned comment:')\n",
    "print('Raw Comment: {}'.format(sample_sentence_two))\n",
    "print('Cleaned Comment: {}'.format(clean_review(sample_sentence_two, contract_list)))"
   ]
  },
  {
   "cell_type": "markdown",
   "metadata": {},
   "source": [
    "### Tokenizing, Stemming/Lemmatizing, and Removing Stop Words"
   ]
  },
  {
   "cell_type": "markdown",
   "metadata": {},
   "source": [
    "Next, we get the reviews in a format that can be used for text analysis. This step involves removing stopwords, tokenizing the review, and stemming / lemmatizing words within the review. The function below does all of the above steps. "
   ]
  },
  {
   "cell_type": "code",
   "execution_count": 34,
   "metadata": {},
   "outputs": [],
   "source": [
    "def tokenize(text, stemmer=None):\n",
    "    stop_words = set([i for i in nltk.corpus.stopwords.words('english') if i not in ['no','not']])\n",
    "    tokenized_text = nltk.word_tokenize(text)\n",
    "    \n",
    "    if stemmer == None:\n",
    "        return [word for word in tokenized_text if word not in stop_words]\n",
    "    elif stemmer == 'Porter':\n",
    "        return [porter.stem(word) for word in tokenized_text if word not in stop_words]\n",
    "    elif stemmer == 'Lancaster':\n",
    "        return [lancaster.stem(word) for word in tokenized_text if word not in stop_words]\n",
    "    elif stemmer == 'Lemmatize':\n",
    "        return [lemmatizer.lemmatize(word) for word in tokenized_text if word not in stop_words]"
   ]
  },
  {
   "cell_type": "markdown",
   "metadata": {},
   "source": [
    "The code cell below applies the above function to the dataset, and puts all reviews together in list of lists (i.e. a corpus of reviews). As an example, there is a variable defined below for each potential stemming/lemmatizing scenario discussed (No Stemming/Lemmatization, Porter, Lancaster, and Lemmatize). However, **moving forward in this notebook, we will use the scenario where all reviews are Lemmatized (i.e. corp_lemma)**"
   ]
  },
  {
   "cell_type": "code",
   "execution_count": 35,
   "metadata": {},
   "outputs": [],
   "source": [
    "corp_norm = [tokenize(clean_review(comment, contract_list)) for comment in data['reviews.text']]\n",
    "corp_lancaster = [tokenize(clean_review(comment, contract_list), stemmer='Lancaster') for comment in data['reviews.text']]\n",
    "corp_lemma = [tokenize(clean_review(comment, contract_list), stemmer='Lemmatize') for comment in data['reviews.text']]\n",
    "corp_porter = [tokenize(clean_review(comment, contract_list), stemmer='Porter') for comment in data['reviews.text']]"
   ]
  },
  {
   "cell_type": "markdown",
   "metadata": {},
   "source": [
    "### Word Frequencies"
   ]
  },
  {
   "cell_type": "markdown",
   "metadata": {},
   "source": [
    "Now that our comments are tokenized, we can start to use more functionality within ```NLTK```. The first function to show is ```FreqDist```, which can allow you to see the most common words within the reviews. To do this, we must first flatten out the corpus of reviews (go from list of lists to one long list with all the words from all the reviews). Then we can use ```FreqDist``` and ```plot``` to show the words with the highest frequency. In addition to the plot, we can do some additional processing to get the word frequencies in a tabular (DataFrame) format."
   ]
  },
  {
   "cell_type": "code",
   "execution_count": 36,
   "metadata": {},
   "outputs": [
    {
     "data": {
      "text/plain": [
       "<Figure size 640x480 with 1 Axes>"
      ]
     },
     "metadata": {},
     "output_type": "display_data"
    },
    {
     "data": {
      "text/html": [
       "<div>\n",
       "<style scoped>\n",
       "    .dataframe tbody tr th:only-of-type {\n",
       "        vertical-align: middle;\n",
       "    }\n",
       "\n",
       "    .dataframe tbody tr th {\n",
       "        vertical-align: top;\n",
       "    }\n",
       "\n",
       "    .dataframe thead th {\n",
       "        text-align: right;\n",
       "    }\n",
       "</style>\n",
       "<table border=\"1\" class=\"dataframe\">\n",
       "  <thead>\n",
       "    <tr style=\"text-align: right;\">\n",
       "      <th></th>\n",
       "      <th>word</th>\n",
       "      <th>frequency</th>\n",
       "    </tr>\n",
       "  </thead>\n",
       "  <tbody>\n",
       "    <tr>\n",
       "      <th>70</th>\n",
       "      <td>room</td>\n",
       "      <td>8928</td>\n",
       "    </tr>\n",
       "    <tr>\n",
       "      <th>122</th>\n",
       "      <td>hotel</td>\n",
       "      <td>7314</td>\n",
       "    </tr>\n",
       "    <tr>\n",
       "      <th>39</th>\n",
       "      <td>not</td>\n",
       "      <td>6085</td>\n",
       "    </tr>\n",
       "    <tr>\n",
       "      <th>59</th>\n",
       "      <td>staff</td>\n",
       "      <td>4046</td>\n",
       "    </tr>\n",
       "    <tr>\n",
       "      <th>45</th>\n",
       "      <td>stay</td>\n",
       "      <td>3827</td>\n",
       "    </tr>\n",
       "    <tr>\n",
       "      <th>26</th>\n",
       "      <td>great</td>\n",
       "      <td>3520</td>\n",
       "    </tr>\n",
       "    <tr>\n",
       "      <th>202</th>\n",
       "      <td>good</td>\n",
       "      <td>3518</td>\n",
       "    </tr>\n",
       "    <tr>\n",
       "      <th>150</th>\n",
       "      <td>clean</td>\n",
       "      <td>3370</td>\n",
       "    </tr>\n",
       "    <tr>\n",
       "      <th>143</th>\n",
       "      <td>breakfast</td>\n",
       "      <td>2974</td>\n",
       "    </tr>\n",
       "    <tr>\n",
       "      <th>156</th>\n",
       "      <td>nice</td>\n",
       "      <td>2813</td>\n",
       "    </tr>\n",
       "  </tbody>\n",
       "</table>\n",
       "</div>"
      ],
      "text/plain": [
       "          word  frequency\n",
       "70        room       8928\n",
       "122      hotel       7314\n",
       "39         not       6085\n",
       "59       staff       4046\n",
       "45        stay       3827\n",
       "26       great       3520\n",
       "202       good       3518\n",
       "150      clean       3370\n",
       "143  breakfast       2974\n",
       "156       nice       2813"
      ]
     },
     "execution_count": 36,
     "metadata": {},
     "output_type": "execute_result"
    }
   ],
   "source": [
    "# Use NLTK FreqDist to get the most common words in the review\n",
    "word_frequency = nltk.FreqDist([item for sublist in corp_lemma for item in sublist])\n",
    "word_frequency.plot(10)\n",
    "\n",
    "word_frequency_df = pd.DataFrame.from_dict(word_frequency, orient='index', columns=['frequency'])\n",
    "word_frequency_df.reset_index(level=0, inplace=True)\n",
    "word_frequency_df = word_frequency_df.rename(columns={'index': 'word'})\n",
    "word_frequency_df.sort_values(by=['frequency'], ascending=False).iloc[0:10]"
   ]
  },
  {
   "cell_type": "markdown",
   "metadata": {},
   "source": [
    "### N-Grams"
   ]
  },
  {
   "cell_type": "markdown",
   "metadata": {},
   "source": [
    "N-Grams refers to the  “contiguous sequence of N items from a given sample of text or speech”. The frequency distribution shown above is an example of **unigrams** or 1-grams. ```NLTK``` allows you to look at as many continuous sequence lengths as desired given tokenized text data and the function ```ngrams```. Below are examples of what 2-grams (or **bigrams**) and 3-grams (or **tri-grams**) look like:"
   ]
  },
  {
   "cell_type": "code",
   "execution_count": 37,
   "metadata": {},
   "outputs": [
    {
     "name": "stdout",
     "output_type": "stream",
     "text": [
      "Tokenized Comment: ['experience', 'rancho', 'valencia', 'absolutely', 'perfect', 'beginning', 'end', 'felt', 'special', 'happy', 'stayed', 'would', 'come', 'back', 'heart', 'beat']\n",
      "Example Bigrams: (('experience', 'rancho'), ('rancho', 'valencia'), ('valencia', 'absolutely'), ('absolutely', 'perfect'), ('perfect', 'beginning'), ('beginning', 'end'), ('end', 'felt'), ('felt', 'special'), ('special', 'happy'), ('happy', 'stayed'), ('stayed', 'would'), ('would', 'come'), ('come', 'back'), ('back', 'heart'), ('heart', 'beat'))\n",
      "Example Trigrams: (('experience', 'rancho', 'valencia'), ('rancho', 'valencia', 'absolutely'), ('valencia', 'absolutely', 'perfect'), ('absolutely', 'perfect', 'beginning'), ('perfect', 'beginning', 'end'), ('beginning', 'end', 'felt'), ('end', 'felt', 'special'), ('felt', 'special', 'happy'), ('special', 'happy', 'stayed'), ('happy', 'stayed', 'would'), ('stayed', 'would', 'come'), ('would', 'come', 'back'), ('come', 'back', 'heart'), ('back', 'heart', 'beat'))\n"
     ]
    }
   ],
   "source": [
    "from nltk.util import ngrams\n",
    "\n",
    "print('Tokenized Comment: {}'.format(corp_lemma[0]))\n",
    "\n",
    "corp_lemma_bigrams = [tuple(ngrams(comment, 2)) for comment in corp_lemma]\n",
    "print('Example Bigrams: {}'.format(corp_lemma_bigrams[0]))\n",
    "\n",
    "corp_lemma_trigrams = [tuple(ngrams(comment, 3)) for comment in corp_lemma]\n",
    "print('Example Trigrams: {}'.format(corp_lemma_trigrams[0]))"
   ]
  },
  {
   "cell_type": "markdown",
   "metadata": {},
   "source": [
    "We can also still use the ```FreqDist``` function in ```NLTK``` to see the frequency of particular bigrams or trigrams within our corpus of text data:"
   ]
  },
  {
   "cell_type": "code",
   "execution_count": 38,
   "metadata": {},
   "outputs": [
    {
     "name": "stdout",
     "output_type": "stream",
     "text": [
      "Bigrams Frequency Distribution\n"
     ]
    },
    {
     "data": {
      "image/png": "[encoded data removed]",
      "text/plain": [
       "<Figure size 432x288 with 1 Axes>"
      ]
     },
     "metadata": {
      "needs_background": "light"
     },
     "output_type": "display_data"
    }
   ],
   "source": [
    "print('Bigrams Frequency Distribution')\n",
    "nltk.FreqDist([item for sublist in corp_lemma_bigrams for item in sublist]).plot(10)"
   ]
  },
  {
   "cell_type": "code",
   "execution_count": 39,
   "metadata": {},
   "outputs": [
    {
     "name": "stdout",
     "output_type": "stream",
     "text": [
      "Trigrams Frequency Distribution\n"
     ]
    },
    {
     "data": {
      "image/png": "[encoded data removed]",
      "text/plain": [
       "<Figure size 432x288 with 1 Axes>"
      ]
     },
     "metadata": {
      "needs_background": "light"
     },
     "output_type": "display_data"
    }
   ],
   "source": [
    "print('Trigrams Frequency Distribution')\n",
    "nltk.FreqDist([item for sublist in corp_lemma_trigrams for item in sublist]).plot(10)"
   ]
  },
  {
   "cell_type": "markdown",
   "metadata": {},
   "source": [
    "#### Skipgrams"
   ]
  },
  {
   "cell_type": "markdown",
   "metadata": {},
   "source": [
    "One variation on N-grams are **skipgrams**. Skipgrams are similar to N-grams in that you are looking for items in your text that are of the same number of words (i.e. for bigrams, all items were two word pairs). However, the key difference is that you are allowed to \"skip\" words that appear in between. Skipgrams gets all N-word combinations of a review given the allowed number of words you can skip. Note that for skipgrams you need at least a two-gram (because there are no words between a single word!). Here is an example to better illustrate what skipgrams does.   "
   ]
  },
  {
   "cell_type": "code",
   "execution_count": 40,
   "metadata": {},
   "outputs": [
    {
     "name": "stdout",
     "output_type": "stream",
     "text": [
      "Tokenized comment: ['hello', 'welcome', 'informs', 'meetup', 'something', 'nltk']\n",
      "Example Bigrams: [('hello', 'welcome'), ('welcome', 'informs'), ('informs', 'meetup'), ('meetup', 'something'), ('something', 'nltk')]\n",
      "Example Trigrams with 2 word skip: [('hello', 'welcome'), ('hello', 'informs'), ('hello', 'meetup'), ('welcome', 'informs'), ('welcome', 'meetup'), ('welcome', 'something'), ('informs', 'meetup'), ('informs', 'something'), ('informs', 'nltk'), ('meetup', 'something'), ('meetup', 'nltk'), ('something', 'nltk')]\n"
     ]
    }
   ],
   "source": [
    "from nltk.util import skipgrams\n",
    "\n",
    "sample_text = ['hello', 'welcome', 'informs', 'meetup', 'something', 'nltk']\n",
    "bigram_sample = list(ngrams(sample_text, 2))\n",
    "bigram_skip_sample = list(skipgrams(sample_text, 2, 2))\n",
    "\n",
    "print('Tokenized comment: {}'.format(sample_text))\n",
    "print('Example Bigrams: {}'.format(bigram_sample))\n",
    "print('Example Trigrams with 2 word skip: {}'.format(bigram_skip_sample))"
   ]
  },
  {
   "cell_type": "markdown",
   "metadata": {},
   "source": [
    "Notice that the number of \"grams\" in your list will grow exponentially as your N or number of allowed skips between words increases. Here is an example from our dataset when looking at trigrams and allowed 3 word skip:"
   ]
  },
  {
   "cell_type": "code",
   "execution_count": 41,
   "metadata": {},
   "outputs": [
    {
     "name": "stdout",
     "output_type": "stream",
     "text": [
      "Tokenized Comment (length 16): ['experience', 'rancho', 'valencia', 'absolutely', 'perfect', 'beginning', 'end', 'felt', 'special', 'happy', 'stayed', 'would', 'come', 'back', 'heart', 'beat']\n",
      "Example Trigrams (length 14): (('experience', 'rancho', 'valencia'), ('rancho', 'valencia', 'absolutely'), ('valencia', 'absolutely', 'perfect'), ('absolutely', 'perfect', 'beginning'), ('perfect', 'beginning', 'end'), ('beginning', 'end', 'felt'), ('end', 'felt', 'special'), ('felt', 'special', 'happy'), ('special', 'happy', 'stayed'), ('happy', 'stayed', 'would'), ('stayed', 'would', 'come'), ('would', 'come', 'back'), ('come', 'back', 'heart'), ('back', 'heart', 'beat'))\n",
      "\n",
      "Example Trigrams with allowed 3 word skip (length 120):\n",
      " (('experience', 'rancho', 'valencia'), ('experience', 'rancho', 'absolutely'), ('experience', 'rancho', 'perfect'), ('experience', 'rancho', 'beginning'), ('experience', 'valencia', 'absolutely'), ('experience', 'valencia', 'perfect'), ('experience', 'valencia', 'beginning'), ('experience', 'absolutely', 'perfect'), ('experience', 'absolutely', 'beginning'), ('experience', 'perfect', 'beginning'), ('rancho', 'valencia', 'absolutely'), ('rancho', 'valencia', 'perfect'), ('rancho', 'valencia', 'beginning'), ('rancho', 'valencia', 'end'), ('rancho', 'absolutely', 'perfect'), ('rancho', 'absolutely', 'beginning'), ('rancho', 'absolutely', 'end'), ('rancho', 'perfect', 'beginning'), ('rancho', 'perfect', 'end'), ('rancho', 'beginning', 'end'), ('valencia', 'absolutely', 'perfect'), ('valencia', 'absolutely', 'beginning'), ('valencia', 'absolutely', 'end'), ('valencia', 'absolutely', 'felt'), ('valencia', 'perfect', 'beginning'), ('valencia', 'perfect', 'end'), ('valencia', 'perfect', 'felt'), ('valencia', 'beginning', 'end'), ('valencia', 'beginning', 'felt'), ('valencia', 'end', 'felt'), ('absolutely', 'perfect', 'beginning'), ('absolutely', 'perfect', 'end'), ('absolutely', 'perfect', 'felt'), ('absolutely', 'perfect', 'special'), ('absolutely', 'beginning', 'end'), ('absolutely', 'beginning', 'felt'), ('absolutely', 'beginning', 'special'), ('absolutely', 'end', 'felt'), ('absolutely', 'end', 'special'), ('absolutely', 'felt', 'special'), ('perfect', 'beginning', 'end'), ('perfect', 'beginning', 'felt'), ('perfect', 'beginning', 'special'), ('perfect', 'beginning', 'happy'), ('perfect', 'end', 'felt'), ('perfect', 'end', 'special'), ('perfect', 'end', 'happy'), ('perfect', 'felt', 'special'), ('perfect', 'felt', 'happy'), ('perfect', 'special', 'happy'), ('beginning', 'end', 'felt'), ('beginning', 'end', 'special'), ('beginning', 'end', 'happy'), ('beginning', 'end', 'stayed'), ('beginning', 'felt', 'special'), ('beginning', 'felt', 'happy'), ('beginning', 'felt', 'stayed'), ('beginning', 'special', 'happy'), ('beginning', 'special', 'stayed'), ('beginning', 'happy', 'stayed'), ('end', 'felt', 'special'), ('end', 'felt', 'happy'), ('end', 'felt', 'stayed'), ('end', 'felt', 'would'), ('end', 'special', 'happy'), ('end', 'special', 'stayed'), ('end', 'special', 'would'), ('end', 'happy', 'stayed'), ('end', 'happy', 'would'), ('end', 'stayed', 'would'), ('felt', 'special', 'happy'), ('felt', 'special', 'stayed'), ('felt', 'special', 'would'), ('felt', 'special', 'come'), ('felt', 'happy', 'stayed'), ('felt', 'happy', 'would'), ('felt', 'happy', 'come'), ('felt', 'stayed', 'would'), ('felt', 'stayed', 'come'), ('felt', 'would', 'come'), ('special', 'happy', 'stayed'), ('special', 'happy', 'would'), ('special', 'happy', 'come'), ('special', 'happy', 'back'), ('special', 'stayed', 'would'), ('special', 'stayed', 'come'), ('special', 'stayed', 'back'), ('special', 'would', 'come'), ('special', 'would', 'back'), ('special', 'come', 'back'), ('happy', 'stayed', 'would'), ('happy', 'stayed', 'come'), ('happy', 'stayed', 'back'), ('happy', 'stayed', 'heart'), ('happy', 'would', 'come'), ('happy', 'would', 'back'), ('happy', 'would', 'heart'), ('happy', 'come', 'back'), ('happy', 'come', 'heart'), ('happy', 'back', 'heart'), ('stayed', 'would', 'come'), ('stayed', 'would', 'back'), ('stayed', 'would', 'heart'), ('stayed', 'would', 'beat'), ('stayed', 'come', 'back'), ('stayed', 'come', 'heart'), ('stayed', 'come', 'beat'), ('stayed', 'back', 'heart'), ('stayed', 'back', 'beat'), ('stayed', 'heart', 'beat'), ('would', 'come', 'back'), ('would', 'come', 'heart'), ('would', 'come', 'beat'), ('would', 'back', 'heart'), ('would', 'back', 'beat'), ('would', 'heart', 'beat'), ('come', 'back', 'heart'), ('come', 'back', 'beat'), ('come', 'heart', 'beat'), ('back', 'heart', 'beat'))\n"
     ]
    }
   ],
   "source": [
    "print('Tokenized Comment (length {}): {}'.format(len(corp_lemma[0]), corp_lemma[0]))\n",
    "print('Example Trigrams (length {}): {}'.format(len(corp_lemma_trigrams[0]), corp_lemma_trigrams[0]))\n",
    "\n",
    "corp_lemma_skipgrams = [tuple(skipgrams(comment, 3, 3)) for comment in corp_lemma]\n",
    "print('\\nExample Trigrams with allowed 3 word skip (length {}):\\n {}'.format(len(corp_lemma_skipgrams[0]), corp_lemma_skipgrams[0]))"
   ]
  },
  {
   "cell_type": "markdown",
   "metadata": {},
   "source": [
    "Like with N-grams, you can also use ```FreqDist``` with skipgrams"
   ]
  },
  {
   "cell_type": "code",
   "execution_count": 42,
   "metadata": {},
   "outputs": [
    {
     "data": {
      "image/png": "[encoded data removed]",
      "text/plain": [
       "<Figure size 432x288 with 1 Axes>"
      ]
     },
     "metadata": {
      "needs_background": "light"
     },
     "output_type": "display_data"
    }
   ],
   "source": [
    "nltk.FreqDist([item for sublist in corp_lemma_skipgrams for item in sublist]).plot(10)"
   ]
  },
  {
   "cell_type": "markdown",
   "metadata": {},
   "source": [
    "## Topic Modelling with Gensim"
   ]
  },
  {
   "cell_type": "markdown",
   "metadata": {},
   "source": [
    "After all the definitions and data processing work, we can finally get to our model! "
   ]
  },
  {
   "cell_type": "markdown",
   "metadata": {},
   "source": [
    "### Topic Modelling"
   ]
  },
  {
   "cell_type": "markdown",
   "metadata": {},
   "source": [
    "For topic modelling, we can use the package ```gensim```, which does topic modelling using a technique called Latent Dirichlet Allocation (https://en.wikipedia.org/wiki/Latent_Dirichlet_allocation). At a high level, Latent Dirichlet Allocation is a statistical model that assigns probabilities of words being in a topic based on words in the review itself and words in all of the reviews. \n",
    "\n",
    "To get started with topic modelling, we first have to create corpus objects within Gensim so that it can run the analysis. To do this, we use the one of the corpus list of lists we defined earlier in the notebook. For the purposes of the analysis, we will use the ```corp_lemma``` variable as our corpus "
   ]
  },
  {
   "cell_type": "code",
   "execution_count": 43,
   "metadata": {},
   "outputs": [],
   "source": [
    "from gensim import corpora\n",
    "dictionary = corpora.Dictionary(corp_norm)\n",
    "corpus = [dictionary.doc2bow(text) for text in corp_norm]"
   ]
  },
  {
   "cell_type": "markdown",
   "metadata": {},
   "source": [
    "Next, we will save the corpus in a format that can be used for a later visualization of results. To do this, we use the ```pickle``` package in python, which allows you to serialize or deserialize a Python object for later use (for more information on pickle, see the appendix)."
   ]
  },
  {
   "cell_type": "code",
   "execution_count": 44,
   "metadata": {},
   "outputs": [],
   "source": [
    "import pickle\n",
    "pickle.dump(corpus, open('corpus.pkl', 'wb'))\n",
    "dictionary.save('dictionary.gensim')"
   ]
  },
  {
   "cell_type": "markdown",
   "metadata": {},
   "source": [
    "Next, we define the number of topics we want the model to output, set parameters for the model, and run the model using the corpus and dictionary variables defined above."
   ]
  },
  {
   "cell_type": "code",
   "execution_count": 45,
   "metadata": {},
   "outputs": [],
   "source": [
    "import gensim\n",
    "NUM_TOPICS = 10\n",
    "ldamodel = gensim.models.ldamodel.LdaModel(corpus, num_topics = NUM_TOPICS,\n",
    "                                           id2word=dictionary, passes=20, random_state=12)\n",
    "ldamodel.save('model.gensim')"
   ]
  },
  {
   "cell_type": "markdown",
   "metadata": {},
   "source": [
    "Unfortunately, there is no set way to decide how to choose the number of topics. This part of the analysis is where domain knowledge and trial-and-error come into play. One way in ```gensim``` to interpret the topic modelling results is to print out the highest probability words within each topic"
   ]
  },
  {
   "cell_type": "code",
   "execution_count": 46,
   "metadata": {},
   "outputs": [
    {
     "name": "stdout",
     "output_type": "stream",
     "text": [
      "(0, '0.012*\"la\" + 0.008*\"lodge\" + 0.008*\"u\" + 0.007*\"en\" + 0.007*\"curtains\"')\n",
      "(1, '0.047*\"not\" + 0.041*\"room\" + 0.016*\"hotel\" + 0.012*\"no\" + 0.011*\"night\"')\n",
      "(2, '0.014*\"place\" + 0.007*\"best\" + 0.006*\"virginia\" + 0.006*\"years\" + 0.006*\"santa\"')\n",
      "(3, '0.041*\"room\" + 0.019*\"bed\" + 0.017*\"clean\" + 0.016*\"nice\" + 0.014*\"no\"')\n",
      "(4, '0.038*\"good\" + 0.037*\"hotel\" + 0.037*\"clean\" + 0.037*\"staff\" + 0.032*\"great\"')\n",
      "(5, '0.022*\"„\" + 0.014*\"aria\" + 0.010*\"anaheim\" + 0.008*\"stadium\" + 0.006*\"hotel\"')\n",
      "(6, '0.021*\"not\" + 0.020*\"staff\" + 0.020*\"hotel\" + 0.018*\"breakfast\" + 0.014*\"room\"')\n",
      "(7, '0.029*\"thank\" + 0.017*\"us\" + 0.015*\"service\" + 0.014*\"hotel\" + 0.013*\"review\"')\n",
      "(8, '0.023*\"stayed\" + 0.021*\"inn\" + 0.015*\"stay\" + 0.015*\"hotel\" + 0.015*\"staff\"')\n",
      "(9, '0.027*\"hotel\" + 0.018*\"great\" + 0.013*\"not\" + 0.010*\"stay\" + 0.010*\"pool\"')\n"
     ]
    }
   ],
   "source": [
    "topics = ldamodel.print_topics(num_words=5)\n",
    "for topic in topics:\n",
    "    print(topic)"
   ]
  },
  {
   "cell_type": "markdown",
   "metadata": {},
   "source": [
    "Another handy way to interpret the topic modelling results is by utilizing ```pyLDAvis```, a topic modelling visualization package that is supplemental to ```gensim```.  The ```pyLDAvis``` package takes the results from your gensim model to create the visualization."
   ]
  },
  {
   "cell_type": "code",
   "execution_count": 47,
   "metadata": {},
   "outputs": [],
   "source": [
    "# Use pyLDA to visualize topics\n",
    "dictionary = gensim.corpora.Dictionary.load('dictionary.gensim')\n",
    "corpus = pickle.load(open('corpus.pkl', 'rb'))\n",
    "lda = gensim.models.ldamodel.LdaModel.load('model.gensim')\n",
    "\n",
    "import pyLDAvis.gensim\n",
    "lda_display = pyLDAvis.gensim.prepare(lda, corpus, dictionary, sort_topics=False)"
   ]
  },
  {
   "cell_type": "markdown",
   "metadata": {},
   "source": [
    "Below is a visualization of the topic modeling results. The visualization has several helpful features to understand the topics generated by the model.\n",
    "\n",
    "1. On the left side, there is a distance map that shows how close in similarity each topic is relative to one another, as well as the size of the topic relative to the entire corpus of comments\n",
    "2. Based on the topic you hover over/select on the left side, the right side updates with a bar chart of the top 30 words within that topic. The bar chart has a blue bar that shows the overall term frequency, and a red bar that shows the estimated term frequency within the selected topic. \n",
    "    a. Note that when no topic is selected, the bar chart on the right only shows overall term frequencies\n",
    "3. On the top right, there is a slider that can be used to adjust how much weight the visualization places on how relevent a given word is to the selected topic vs. the overall term frequency. A lower value of $\\lambda$ means that more weight is placed on the topic relevancy of words. For example, if a word in the topic only appears in the selected topic, it will be given more weight over a word that appears with a high frequency in the corpus. "
   ]
  },
  {
   "cell_type": "code",
   "execution_count": 48,
   "metadata": {},
   "outputs": [
    {
     "data": {
      "text/html": [
       "\n",
       "<link rel=\"stylesheet\" type=\"text/css\" href=\"https://cdn.rawgit.com/bmabey/pyLDAvis/files/ldavis.v1.0.0.css\">\n",
       "\n",
       "\n",
       "<div id=\"ldavis_el2072422613287229441241456484\"></div>\n",
       "<script type=\"text/javascript\">\n",
       "\n",
       "var ldavis_el2072422613287229441241456484_data = {\"mdsDat\": {\"x\": [-0.29611094921559344, 0.15533183251574398, -0.2090141078040604, 0.10846304119353167, 0.21134204658443845, -0.2931304538340793, 0.1630098946981436, -0.06905374450956671, 0.06612234390062477, 0.16304009647081727], \"y\": [0.08770438490312478, 0.0625585807080932, -0.02395220031911637, 0.23939017345125413, 0.03850349022018152, 0.06383103941114017, -0.04160069227286233, -0.2503230606889444, -0.14511089323940826, -0.03100082217346249], \"topics\": [1, 2, 3, 4, 5, 6, 7, 8, 9, 10], \"cluster\": [1, 1, 1, 1, 1, 1, 1, 1, 1, 1], \"Freq\": [1.2838678359985352, 21.174814224243164, 1.84646737575531, 7.309688568115234, 16.8472957611084, 1.4150681495666504, 18.426713943481445, 5.670740604400635, 7.517190456390381, 18.50815773010254]}, \"tinfo\": {\"Category\": [\"Default\", \"Default\", \"Default\", \"Default\", \"Default\", \"Default\", \"Default\", \"Default\", \"Default\", \"Default\", \"Default\", \"Default\", \"Default\", \"Default\", \"Default\", \"Default\", \"Default\", \"Default\", \"Default\", \"Default\", \"Default\", \"Default\", \"Default\", \"Default\", \"Default\", \"Default\", \"Default\", \"Default\", \"Default\", \"Default\", \"Topic1\", \"Topic1\", \"Topic1\", \"Topic1\", \"Topic1\", \"Topic1\", \"Topic1\", \"Topic1\", \"Topic1\", \"Topic1\", \"Topic1\", \"Topic1\", \"Topic1\", \"Topic1\", \"Topic1\", \"Topic1\", \"Topic1\", \"Topic1\", \"Topic1\", \"Topic1\", \"Topic1\", \"Topic1\", \"Topic1\", \"Topic1\", \"Topic1\", \"Topic1\", \"Topic1\", \"Topic1\", \"Topic1\", \"Topic1\", \"Topic1\", \"Topic1\", \"Topic1\", \"Topic1\", \"Topic1\", \"Topic1\", \"Topic1\", \"Topic1\", \"Topic1\", \"Topic1\", \"Topic1\", \"Topic1\", \"Topic1\", \"Topic1\", \"Topic1\", \"Topic1\", \"Topic2\", \"Topic2\", \"Topic2\", \"Topic2\", \"Topic2\", \"Topic2\", \"Topic2\", \"Topic2\", \"Topic2\", \"Topic2\", \"Topic2\", \"Topic2\", \"Topic2\", \"Topic2\", \"Topic2\", \"Topic2\", \"Topic2\", \"Topic2\", \"Topic2\", \"Topic2\", \"Topic2\", \"Topic2\", \"Topic2\", \"Topic2\", \"Topic2\", \"Topic2\", \"Topic2\", \"Topic2\", \"Topic2\", \"Topic2\", \"Topic2\", \"Topic2\", \"Topic2\", \"Topic2\", \"Topic2\", \"Topic2\", \"Topic2\", \"Topic2\", \"Topic2\", \"Topic2\", \"Topic2\", \"Topic2\", \"Topic2\", \"Topic2\", \"Topic2\", \"Topic2\", \"Topic2\", \"Topic2\", \"Topic2\", \"Topic2\", \"Topic2\", \"Topic2\", \"Topic2\", \"Topic2\", \"Topic2\", \"Topic2\", \"Topic2\", \"Topic2\", \"Topic2\", \"Topic2\", \"Topic2\", \"Topic2\", \"Topic2\", \"Topic2\", \"Topic2\", \"Topic2\", \"Topic2\", \"Topic2\", \"Topic2\", \"Topic2\", \"Topic2\", \"Topic2\", \"Topic2\", \"Topic2\", \"Topic2\", \"Topic2\", \"Topic3\", \"Topic3\", \"Topic3\", \"Topic3\", \"Topic3\", \"Topic3\", \"Topic3\", \"Topic3\", \"Topic3\", \"Topic3\", \"Topic3\", \"Topic3\", \"Topic3\", \"Topic3\", \"Topic3\", \"Topic3\", \"Topic3\", \"Topic3\", \"Topic3\", \"Topic3\", \"Topic3\", \"Topic3\", \"Topic3\", \"Topic3\", \"Topic3\", \"Topic3\", \"Topic3\", \"Topic3\", \"Topic3\", \"Topic3\", \"Topic3\", \"Topic3\", \"Topic3\", \"Topic3\", \"Topic3\", \"Topic3\", \"Topic3\", \"Topic3\", \"Topic3\", \"Topic3\", \"Topic3\", \"Topic3\", \"Topic3\", \"Topic3\", \"Topic3\", \"Topic3\", \"Topic3\", \"Topic3\", \"Topic3\", \"Topic3\", \"Topic3\", \"Topic3\", \"Topic3\", \"Topic3\", \"Topic4\", \"Topic4\", \"Topic4\", \"Topic4\", \"Topic4\", \"Topic4\", \"Topic4\", \"Topic4\", \"Topic4\", \"Topic4\", \"Topic4\", \"Topic4\", \"Topic4\", \"Topic4\", \"Topic4\", \"Topic4\", \"Topic4\", \"Topic4\", \"Topic4\", \"Topic4\", \"Topic4\", \"Topic4\", \"Topic4\", \"Topic4\", \"Topic4\", \"Topic4\", \"Topic4\", \"Topic4\", \"Topic4\", \"Topic4\", \"Topic4\", \"Topic4\", \"Topic4\", \"Topic4\", \"Topic4\", \"Topic4\", \"Topic4\", \"Topic4\", \"Topic4\", \"Topic4\", \"Topic4\", \"Topic4\", \"Topic4\", \"Topic4\", \"Topic4\", \"Topic4\", \"Topic4\", \"Topic4\", \"Topic4\", \"Topic4\", \"Topic4\", \"Topic4\", \"Topic4\", \"Topic4\", \"Topic4\", \"Topic4\", \"Topic4\", \"Topic4\", \"Topic4\", \"Topic4\", \"Topic4\", \"Topic4\", \"Topic4\", \"Topic4\", \"Topic4\", \"Topic4\", \"Topic4\", \"Topic4\", \"Topic4\", \"Topic4\", \"Topic5\", \"Topic5\", \"Topic5\", \"Topic5\", \"Topic5\", \"Topic5\", \"Topic5\", \"Topic5\", \"Topic5\", \"Topic5\", \"Topic5\", \"Topic5\", \"Topic5\", \"Topic5\", \"Topic5\", \"Topic5\", \"Topic5\", \"Topic5\", \"Topic5\", \"Topic5\", \"Topic5\", \"Topic5\", \"Topic5\", \"Topic5\", \"Topic5\", \"Topic5\", \"Topic5\", \"Topic5\", \"Topic5\", \"Topic5\", \"Topic5\", \"Topic5\", \"Topic5\", \"Topic5\", \"Topic5\", \"Topic5\", \"Topic5\", \"Topic5\", \"Topic5\", \"Topic5\", \"Topic5\", \"Topic5\", \"Topic5\", \"Topic5\", \"Topic5\", \"Topic5\", \"Topic5\", \"Topic5\", \"Topic5\", \"Topic5\", \"Topic5\", \"Topic5\", \"Topic5\", \"Topic5\", \"Topic5\", \"Topic5\", \"Topic5\", \"Topic5\", \"Topic5\", \"Topic5\", \"Topic5\", \"Topic5\", \"Topic5\", \"Topic5\", \"Topic5\", \"Topic5\", \"Topic5\", \"Topic5\", \"Topic5\", \"Topic6\", \"Topic6\", \"Topic6\", \"Topic6\", \"Topic6\", \"Topic6\", \"Topic6\", \"Topic6\", \"Topic6\", \"Topic6\", \"Topic6\", \"Topic6\", \"Topic6\", \"Topic6\", \"Topic6\", \"Topic6\", \"Topic6\", \"Topic6\", \"Topic6\", \"Topic6\", \"Topic6\", \"Topic6\", \"Topic6\", \"Topic6\", \"Topic6\", \"Topic6\", \"Topic6\", \"Topic6\", \"Topic6\", \"Topic6\", \"Topic6\", \"Topic6\", \"Topic6\", \"Topic6\", \"Topic6\", \"Topic6\", \"Topic6\", \"Topic6\", \"Topic6\", \"Topic6\", \"Topic6\", \"Topic6\", \"Topic7\", \"Topic7\", \"Topic7\", \"Topic7\", \"Topic7\", \"Topic7\", \"Topic7\", \"Topic7\", \"Topic7\", \"Topic7\", \"Topic7\", \"Topic7\", \"Topic7\", \"Topic7\", \"Topic7\", \"Topic7\", \"Topic7\", \"Topic7\", \"Topic7\", \"Topic7\", \"Topic7\", \"Topic7\", \"Topic7\", \"Topic7\", \"Topic7\", \"Topic7\", \"Topic7\", \"Topic7\", \"Topic7\", \"Topic7\", \"Topic7\", \"Topic7\", \"Topic7\", \"Topic7\", \"Topic7\", \"Topic7\", \"Topic7\", \"Topic7\", \"Topic7\", \"Topic7\", \"Topic7\", \"Topic7\", \"Topic7\", \"Topic7\", \"Topic7\", \"Topic7\", \"Topic7\", \"Topic7\", \"Topic7\", \"Topic7\", \"Topic7\", \"Topic7\", \"Topic7\", \"Topic7\", \"Topic7\", \"Topic7\", \"Topic7\", \"Topic7\", \"Topic7\", \"Topic7\", \"Topic7\", \"Topic7\", \"Topic7\", \"Topic7\", \"Topic7\", \"Topic7\", \"Topic7\", \"Topic7\", \"Topic7\", \"Topic7\", \"Topic7\", \"Topic7\", \"Topic7\", \"Topic7\", \"Topic7\", \"Topic7\", \"Topic7\", \"Topic8\", \"Topic8\", \"Topic8\", \"Topic8\", \"Topic8\", \"Topic8\", \"Topic8\", \"Topic8\", \"Topic8\", \"Topic8\", \"Topic8\", \"Topic8\", \"Topic8\", \"Topic8\", \"Topic8\", \"Topic8\", \"Topic8\", \"Topic8\", \"Topic8\", \"Topic8\", \"Topic8\", \"Topic8\", \"Topic8\", \"Topic8\", \"Topic8\", \"Topic8\", \"Topic8\", \"Topic8\", \"Topic8\", \"Topic8\", \"Topic8\", \"Topic8\", \"Topic8\", \"Topic8\", \"Topic8\", \"Topic8\", \"Topic8\", \"Topic8\", \"Topic8\", \"Topic8\", \"Topic8\", \"Topic8\", \"Topic8\", \"Topic8\", \"Topic8\", \"Topic8\", \"Topic8\", \"Topic8\", \"Topic8\", \"Topic8\", \"Topic8\", \"Topic8\", \"Topic8\", \"Topic8\", \"Topic8\", \"Topic8\", \"Topic8\", \"Topic8\", \"Topic8\", \"Topic8\", \"Topic8\", \"Topic8\", \"Topic8\", \"Topic8\", \"Topic9\", \"Topic9\", \"Topic9\", \"Topic9\", \"Topic9\", \"Topic9\", \"Topic9\", \"Topic9\", \"Topic9\", \"Topic9\", \"Topic9\", \"Topic9\", \"Topic9\", \"Topic9\", \"Topic9\", \"Topic9\", \"Topic9\", \"Topic9\", \"Topic9\", \"Topic9\", \"Topic9\", \"Topic9\", \"Topic9\", \"Topic9\", \"Topic9\", \"Topic9\", \"Topic9\", \"Topic9\", \"Topic9\", \"Topic9\", \"Topic9\", \"Topic9\", \"Topic9\", \"Topic9\", \"Topic9\", \"Topic9\", \"Topic9\", \"Topic9\", \"Topic9\", \"Topic9\", \"Topic9\", \"Topic9\", \"Topic9\", \"Topic9\", \"Topic9\", \"Topic9\", \"Topic9\", \"Topic9\", \"Topic9\", \"Topic9\", \"Topic9\", \"Topic9\", \"Topic9\", \"Topic9\", \"Topic9\", \"Topic9\", \"Topic9\", \"Topic9\", \"Topic9\", \"Topic9\", \"Topic9\", \"Topic9\", \"Topic9\", \"Topic9\", \"Topic9\", \"Topic9\", \"Topic9\", \"Topic9\", \"Topic9\", \"Topic9\", \"Topic9\", \"Topic9\", \"Topic9\", \"Topic10\", \"Topic10\", \"Topic10\", \"Topic10\", \"Topic10\", \"Topic10\", \"Topic10\", \"Topic10\", \"Topic10\", \"Topic10\", \"Topic10\", \"Topic10\", \"Topic10\", \"Topic10\", \"Topic10\", \"Topic10\", \"Topic10\", \"Topic10\", \"Topic10\", \"Topic10\", \"Topic10\", \"Topic10\", \"Topic10\", \"Topic10\", \"Topic10\", \"Topic10\", \"Topic10\", \"Topic10\", \"Topic10\", \"Topic10\", \"Topic10\", \"Topic10\", \"Topic10\", \"Topic10\", \"Topic10\", \"Topic10\", \"Topic10\", \"Topic10\", \"Topic10\", \"Topic10\", \"Topic10\", \"Topic10\", \"Topic10\", \"Topic10\", \"Topic10\", \"Topic10\", \"Topic10\", \"Topic10\", \"Topic10\", \"Topic10\", \"Topic10\", \"Topic10\", \"Topic10\", \"Topic10\", \"Topic10\", \"Topic10\", \"Topic10\", \"Topic10\", \"Topic10\", \"Topic10\", \"Topic10\", \"Topic10\", \"Topic10\", \"Topic10\", \"Topic10\", \"Topic10\", \"Topic10\", \"Topic10\", \"Topic10\", \"Topic10\", \"Topic10\", \"Topic10\", \"Topic10\", \"Topic10\", \"Topic10\", \"Topic10\", \"Topic10\", \"Topic10\", \"Topic10\", \"Topic10\", \"Topic10\"], \"Freq\": [6369.0, 2893.0, 3875.0, 3072.0, 3461.0, 3355.0, 5810.0, 2760.0, 2110.0, 522.0, 1792.0, 1583.0, 1691.0, 1136.0, 1773.0, 533.0, 1232.0, 1488.0, 6477.0, 1396.0, 1298.0, 3679.0, 1160.0, 650.0, 1282.0, 462.0, 441.0, 1361.0, 951.0, 771.0, 33.63400650024414, 29.288745880126953, 28.944334030151367, 20.039899826049805, 17.201326370239258, 17.141122817993164, 17.132186889648438, 16.39322853088379, 16.20367431640625, 15.692078590393066, 13.909242630004883, 13.829107284545898, 13.631006240844727, 10.90625, 10.859299659729004, 10.501313209533691, 9.672026634216309, 9.60913372039795, 9.564388275146484, 9.476536750793457, 9.428481101989746, 9.196409225463867, 9.123223304748535, 8.838160514831543, 8.674434661865234, 8.326981544494629, 8.189223289489746, 8.156123161315918, 8.110089302062988, 7.671961784362793, 10.481693267822266, 33.10721969604492, 28.891151428222656, 50.18387985229492, 18.581073760986328, 16.079072952270508, 12.328797340393066, 14.875397682189941, 13.97004508972168, 13.597946166992188, 19.656578063964844, 11.507257461547852, 10.806009292602539, 10.898463249206543, 13.291401863098145, 19.592519760131836, 296.46575927734375, 170.36354064941406, 159.1276397705078, 153.1448974609375, 145.88671875, 129.78271484375, 120.4494857788086, 114.2046127319336, 107.33055114746094, 106.7657241821289, 100.02831268310547, 91.49363708496094, 82.28856658935547, 81.20275115966797, 73.80875396728516, 62.93827819824219, 62.2751579284668, 59.24440002441406, 56.538055419921875, 54.561161041259766, 73.06912231445312, 54.425472259521484, 52.56981658935547, 51.51508331298828, 51.26459503173828, 50.60634994506836, 48.845924377441406, 48.840919494628906, 43.48314666748047, 41.60125732421875, 255.3900604248047, 102.07660675048828, 96.43694305419922, 178.62681579589844, 304.0860900878906, 64.01731872558594, 112.8375015258789, 94.26231384277344, 180.1195068359375, 3179.726806640625, 379.37359619140625, 193.278076171875, 127.54352569580078, 2773.413330078125, 309.3041076660156, 827.8272094726562, 366.0771484375, 740.2976684570312, 137.2078857421875, 329.7795715332031, 494.8415222167969, 169.29197692871094, 576.6791381835938, 183.67019653320312, 206.43299865722656, 381.7457580566406, 414.7752990722656, 632.5902709960938, 227.2560577392578, 420.3221130371094, 216.29881286621094, 239.64305114746094, 430.5008544921875, 1054.244873046875, 306.362548828125, 399.546142578125, 370.72662353515625, 286.1839294433594, 401.3879699707031, 349.3358459472656, 296.5856628417969, 427.3690490722656, 287.85009765625, 259.3453674316406, 299.6963195800781, 278.2766418457031, 35.81572341918945, 32.90848922729492, 27.55816650390625, 24.569795608520508, 24.506649017333984, 22.71829605102539, 21.467105865478516, 20.171249389648438, 18.739276885986328, 17.694454193115234, 16.469301223754883, 14.928832054138184, 13.878610610961914, 12.953889846801758, 12.112303733825684, 11.82269287109375, 10.919561386108398, 9.902008056640625, 9.822404861450195, 9.716814041137695, 9.512774467468262, 9.190875053405762, 9.148179054260254, 9.089537620544434, 8.889899253845215, 8.631169319152832, 8.55293083190918, 8.241527557373047, 8.109084129333496, 8.072443008422852, 30.486679077148438, 9.91677188873291, 18.04958724975586, 13.192296981811523, 17.140798568725586, 11.895999908447266, 80.21534729003906, 35.42799758911133, 24.219661712646484, 42.44274139404297, 15.91047477722168, 17.563352584838867, 30.137434005737305, 18.470073699951172, 26.623363494873047, 22.721738815307617, 25.323932647705078, 17.694242477416992, 25.905508041381836, 17.548677444458008, 22.137365341186523, 18.45648956298828, 17.43894386291504, 17.242082595825195, 229.70382690429688, 194.61749267578125, 111.48678588867188, 72.79875946044922, 64.05685424804688, 63.85903549194336, 63.02798843383789, 54.97872543334961, 51.355438232421875, 34.748207092285156, 29.740478515625, 28.622875213623047, 21.043075561523438, 20.63878059387207, 19.383790969848633, 18.480880737304688, 18.34166717529297, 17.56637191772461, 16.996726989746094, 17.372629165649414, 15.942927360534668, 15.837873458862305, 15.199017524719238, 13.820760726928711, 13.782792091369629, 13.762304306030273, 13.579607963562012, 13.457358360290527, 13.304381370544434, 13.127347946166992, 48.777286529541016, 51.98715591430664, 102.60161590576172, 86.39988708496094, 304.8695068359375, 22.009159088134766, 176.7169952392578, 69.28125, 293.74163818359375, 195.30885314941406, 135.74546813964844, 266.2986755371094, 176.65023803710938, 118.88748931884766, 54.44717025756836, 298.1152038574219, 439.55810546875, 132.56080627441406, 237.35848999023438, 173.51763916015625, 242.66534423828125, 248.1262969970703, 150.89056396484375, 951.2828369140625, 324.14208984375, 204.1300048828125, 307.8885192871094, 374.6387939453125, 403.8471374511719, 113.83746337890625, 111.63478088378906, 164.10350036621094, 207.17645263671875, 222.02664184570312, 215.88534545898438, 139.76959228515625, 162.80844116210938, 191.3567657470703, 150.59561157226562, 150.7644805908203, 113.59322357177734, 38.855403900146484, 33.95248794555664, 32.122108459472656, 29.8240909576416, 39.64734649658203, 23.020389556884766, 22.06808090209961, 20.343204498291016, 19.329700469970703, 18.682458877563477, 18.077577590942383, 17.60820198059082, 17.289323806762695, 16.56165885925293, 15.531527519226074, 15.479021072387695, 14.801279067993164, 14.425748825073242, 13.577433586120605, 13.57406997680664, 12.508808135986328, 12.46044635772705, 12.277425765991211, 12.193225860595703, 12.118369102478027, 10.750568389892578, 10.714851379394531, 10.703018188476562, 10.590510368347168, 21.58349609375, 327.6944274902344, 94.3642807006836, 52.181640625, 226.6929473876953, 2014.1134033203125, 384.85858154296875, 391.8839416503906, 1134.5914306640625, 1286.873046875, 167.8451690673828, 1979.9332275390625, 1603.1680908203125, 515.2969360351562, 144.26458740234375, 969.1776733398438, 1955.690673828125, 230.33285522460938, 1448.126708984375, 1712.4586181640625, 703.6278686523438, 340.12701416015625, 252.2581787109375, 401.63568115234375, 318.98834228515625, 323.7690734863281, 354.6306457519531, 1980.1248779296875, 1250.3433837890625, 390.736572265625, 401.91705322265625, 562.7792358398438, 763.578857421875, 651.8851928710938, 463.3898620605469, 1166.363037109375, 383.1037292480469, 308.7718811035156, 372.9154052734375, 99.81793212890625, 61.94966125488281, 45.26219177246094, 35.45311737060547, 20.08587646484375, 19.72486114501953, 19.705392837524414, 16.436161041259766, 13.862898826599121, 13.724993705749512, 12.612918853759766, 12.557618141174316, 12.091465950012207, 11.679697036743164, 11.607321739196777, 11.229561805725098, 10.57336711883545, 10.442564010620117, 10.16810131072998, 9.98942756652832, 9.874029159545898, 8.996291160583496, 8.66874885559082, 8.441112518310547, 8.301054000854492, 8.235315322875977, 8.150729179382324, 8.100068092346191, 8.095354080200195, 7.62922477722168, 16.158552169799805, 11.894065856933594, 9.751420974731445, 12.429048538208008, 13.037406921386719, 15.42551326751709, 22.758750915527344, 13.694366455078125, 27.42150115966797, 11.272234916687012, 27.870460510253906, 12.215738296508789, 86.81842803955078, 69.4753646850586, 64.04122924804688, 59.6187858581543, 49.869384765625, 39.43558883666992, 33.11863327026367, 31.669172286987305, 30.29026222229004, 29.270776748657227, 28.971233367919922, 27.943368911743164, 26.948474884033203, 26.236452102661133, 26.193397521972656, 25.74786376953125, 25.64952278137207, 25.502710342407227, 35.433719635009766, 24.50079917907715, 24.155012130737305, 23.520872116088867, 23.136194229125977, 23.109905242919922, 22.999814987182617, 22.93645668029785, 22.43243980407715, 22.047653198242188, 21.598112106323242, 21.538150787353516, 47.87819290161133, 180.78787231445312, 100.02601623535156, 41.7564582824707, 120.09984588623047, 801.4837036132812, 213.61888122558594, 729.8411254882812, 139.80003356933594, 94.85865020751953, 72.27368927001953, 582.5752563476562, 84.49982452392578, 307.342529296875, 74.16644287109375, 42.861419677734375, 242.986328125, 74.26758575439453, 675.966552734375, 311.6727600097656, 117.08132934570312, 1028.3331298828125, 551.9022216796875, 224.96424865722656, 112.12672424316406, 1176.095947265625, 1241.4571533203125, 431.764892578125, 391.0397644042969, 299.5011901855469, 1167.2388916015625, 794.6992797851562, 528.3231811523438, 201.9289093017578, 373.17840576171875, 814.4741821289062, 410.3761291503906, 254.6945343017578, 517.00830078125, 264.9613952636719, 182.6332244873047, 240.5793914794922, 400.5617370605469, 371.0716857910156, 272.7943115234375, 317.3108215332031, 269.68597412109375, 212.51235961914062, 520.39208984375, 149.1472625732422, 133.2802276611328, 118.54962158203125, 107.70301818847656, 100.36317443847656, 81.33903503417969, 79.5538558959961, 74.16765594482422, 69.25108337402344, 63.7373161315918, 37.078887939453125, 51.829917907714844, 35.294246673583984, 33.87950897216797, 153.3485565185547, 29.44771385192871, 26.77545738220215, 23.976102828979492, 23.883750915527344, 22.530261993408203, 22.261024475097656, 21.807310104370117, 21.21550178527832, 20.59699821472168, 19.97657012939453, 18.275611877441406, 18.192655563354492, 17.46974754333496, 52.84584426879883, 242.1303253173828, 164.36460876464844, 56.69668960571289, 108.83768463134766, 144.08416748046875, 76.94669342041016, 39.418582916259766, 103.36930084228516, 92.32534790039062, 33.954071044921875, 170.02764892578125, 81.9549331665039, 154.4160614013672, 86.59685516357422, 124.98733520507812, 87.84503173828125, 185.64389038085938, 308.4918212890625, 261.3331298828125, 146.5114288330078, 241.6002197265625, 205.42234802246094, 164.9738006591797, 127.96939849853516, 131.96588134765625, 259.4194030761719, 211.37034606933594, 100.2095718383789, 99.81529998779297, 110.32394409179688, 111.6978988647461, 109.7877426147461, 104.79412841796875, 242.2355194091797, 97.65673065185547, 60.0058708190918, 44.5034065246582, 42.09187316894531, 33.658626556396484, 27.783111572265625, 23.784151077270508, 22.51169204711914, 19.85176658630371, 19.81629180908203, 19.29004669189453, 18.741243362426758, 22.375173568725586, 17.805896759033203, 15.84992504119873, 15.773065567016602, 53.321868896484375, 14.774234771728516, 13.766952514648438, 13.517576217651367, 12.981148719787598, 12.977423667907715, 12.802456855773926, 12.167065620422363, 11.859512329101562, 11.839829444885254, 11.820664405822754, 42.53260040283203, 11.612821578979492, 489.30828857421875, 102.11155700683594, 54.14148712158203, 188.48912048339844, 30.89000701904297, 50.9587516784668, 40.638397216796875, 102.19879150390625, 100.32887268066406, 45.774478912353516, 154.01858520507812, 169.37771606445312, 78.40202331542969, 50.22623825073242, 120.8644027709961, 250.47384643554688, 545.2359008789062, 130.8092803955078, 48.727352142333984, 142.4355010986328, 97.22333526611328, 166.03294372558594, 119.40618896484375, 176.3631134033203, 149.71630859375, 80.0939712524414, 170.6529083251953, 363.1572570800781, 98.89744567871094, 348.9844665527344, 124.22279357910156, 353.431396484375, 135.67845153808594, 118.98709106445312, 165.64671325683594, 117.74249267578125, 141.99302673339844, 177.31869506835938, 142.22119140625, 132.58070373535156, 118.68355560302734, 108.20706176757812, 104.26265716552734, 146.07864379882812, 100.84359741210938, 84.38385009765625, 84.29371643066406, 455.8255920410156, 54.80460739135742, 44.203636169433594, 43.80809020996094, 42.38508987426758, 40.06938552856445, 37.61227798461914, 36.60578918457031, 35.93014907836914, 32.342124938964844, 31.453794479370117, 31.266719818115234, 31.118236541748047, 30.980520248413086, 29.550264358520508, 28.121646881103516, 26.861661911010742, 26.425861358642578, 25.597200393676758, 25.066892623901367, 25.21771812438965, 24.670434951782227, 24.504133224487305, 23.395870208740234, 22.81527328491211, 22.45107650756836, 341.34454345703125, 76.5211181640625, 95.270263671875, 433.55328369140625, 120.9102783203125, 68.81481170654297, 105.20586395263672, 83.75753784179688, 57.32896041870117, 180.634033203125, 114.12590789794922, 117.29297637939453, 213.6300048828125, 342.5668640136719, 122.73421478271484, 100.91651916503906, 78.20987701416016, 313.4190368652344, 80.8957290649414, 315.93865966796875, 131.06588745117188, 291.1758117675781, 600.7672119140625, 384.12750244140625, 189.43394470214844, 1076.3922119140625, 136.67127990722656, 1607.5845947265625, 172.76837158203125, 204.51150512695312, 247.95220947265625, 537.62646484375, 217.86752319335938, 421.2500915527344, 542.5065307617188, 398.230712890625, 290.1519470214844, 789.3601684570312, 243.04824829101562, 609.6956787109375, 476.1123046875, 384.99755859375, 275.5592041015625, 311.0373229980469, 486.6788635253906, 290.8910217285156, 261.1054992675781, 300.7838134765625, 307.75042724609375, 285.05889892578125, 249.57614135742188], \"Term\": [\"room\", \"breakfast\", \"staff\", \"good\", \"clean\", \"great\", \"not\", \"nice\", \"friendly\", \"thank\", \"location\", \"us\", \"comfortable\", \"bed\", \"stayed\", \"inn\", \"desk\", \"no\", \"hotel\", \"place\", \"service\", \"stay\", \"front\", \"bathroom\", \"helpful\", \"shower\", \"coffee\", \"time\", \"back\", \"best\", \"lodge\", \"en\", \"curtains\", \"storm\", \"es\", \"muy\", \"colorado\", \"description\", \"und\", \"damp\", \"del\", \"drunk\", \"los\", \"der\", \"se\", \"availability\", \"para\", \"clerks\", \"supper\", \"bien\", \"initial\", \"300\", \"te\", \"starts\", \"ist\", \"carrollton\", \"motorcycle\", \"77\", \"era\", \"antonio\", \"appliances\", \"u\", \"e\", \"la\", \"heavy\", \"el\", \"stain\", \"un\", \"add\", \"n\", \"'\", \"shut\", \"rain\", \"smells\", \"per\", \"hotel\", \"dirty\", \"smell\", \"smelled\", \"smoking\", \"carpet\", \"sheets\", \"worst\", \"ac\", \"smoke\", \"wall\", \"broken\", \"charged\", \"horrible\", \"hallway\", \"bugs\", \"chair\", \"mold\", \"expedia\", \"stains\", \"refund\", \"thin\", \"conditioning\", \"worse\", \"stained\", \"trash\", \"cigarette\", \"musty\", \"filthy\", \"woke\", \"lock\", \"said\", \"walls\", \"doors\", \"loud\", \"told\", \"moved\", \"non\", \"terrible\", \"air\", \"not\", \"door\", \"called\", \"noisy\", \"room\", \"booked\", \"no\", \"floor\", \"night\", \"paid\", \"got\", \"could\", \"asked\", \"one\", \"noise\", \"another\", \"bad\", \"like\", \"would\", \"never\", \"get\", \"checked\", \"work\", \"desk\", \"hotel\", \"first\", \"front\", \"bed\", \"bathroom\", \"rooms\", \"us\", \"check\", \"stay\", \"back\", \"even\", \"stayed\", \"good\", \"virginia\", \"santa\", \"plaza\", \"monica\", \"row\", \"march\", \"kai\", \"honua\", \"mixed\", \"hollywood\", \"chains\", \"suited\", \"crown\", \"fishing\", \"tuesday\", \"church\", \"festival\", \"nite\", \"austin\", \"electrical\", \"scenery\", \"ruby\", \"video\", \"kansas\", \"brewery\", \"fl\", \"steve\", \"baymont\", \"friendliest\", \"perfection\", \"summer\", \"boise\", \"coast\", \"heading\", \"season\", \"cancelled\", \"place\", \"years\", \"vacation\", \"best\", \"pricey\", \"ago\", \"trip\", \"group\", \"town\", \"home\", \"family\", \"hyatt\", \"one\", \"fun\", \"stayed\", \"many\", \"far\", \"looking\", \"microwave\", \"fridge\", \"refrigerator\", \"sofa\", \"maker\", \"couch\", \"soft\", \"pressure\", \"washington\", \"dryer\", \"pot\", \"apartment\", \"stove\", \"faucet\", \"lumpy\", \"ft\", \"balconies\", \"dry\", \"frig\", \"boiled\", \"lamp\", \"vanity\", \"bothered\", \"negatives\", \"home2\", \"body\", \"beverages\", \"washer\", \"bedrooms\", \"basketball\", \"screen\", \"flat\", \"queen\", \"bath\", \"coffee\", \"firm\", \"size\", \"living\", \"shower\", \"tv\", \"pillows\", \"water\", \"tub\", \"kitchen\", \"separate\", \"bathroom\", \"bed\", \"king\", \"hot\", \"large\", \"beds\", \"small\", \"suite\", \"room\", \"no\", \"2\", \"comfortable\", \"nice\", \"clean\", \"full\", \"wifi\", \"free\", \"rooms\", \"good\", \"breakfast\", \"two\", \"stayed\", \"not\", \"pool\", \"area\", \"dc\", \"exercise\", \"national\", \"foods\", \"inner\", \"starbucks\", \"bricktown\", \"frills\", \"bwi\", \"exploring\", \"field\", \"falls\", \"football\", \"gatlinburg\", \"donuts\", \"pub\", \"arena\", \"springfield\", \"alright\", \"dells\", \"boats\", \"pittsburgh\", \"linen\", \"theatre\", \"neighboring\", \"bbq\", \"resturants\", \"lacked\", \"okc\", \"path\", \"accomodating\", \"convenient\", \"fast\", \"stores\", \"value\", \"good\", \"easy\", \"quiet\", \"location\", \"friendly\", \"access\", \"clean\", \"breakfast\", \"close\", \"metro\", \"comfortable\", \"staff\", \"distance\", \"nice\", \"great\", \"helpful\", \"restaurants\", \"walking\", \"price\", \"recommend\", \"definitely\", \"excellent\", \"hotel\", \"stay\", \"free\", \"bad\", \"area\", \"rooms\", \"would\", \"well\", \"room\", \"place\", \"everything\", \"not\", \"\\u201e\", \"aria\", \"anaheim\", \"stadium\", \"et\", \"smelly\", \"towneplace\", \"maingate\", \"surroundings\", \"grandson\", \"moldy\", \"nous\", \"das\", \"bites\", \"war\", \"des\", \"obvious\", \"edgar\", \"tremendous\", \"burns\", \"que\", \"oklahoma\", \"\\u00e5\\u00f3\", \"chambre\", \"tres\", \"belle\", \"il\", \"individual\", \"di\", \"avons\", \"angel\", \"die\", \"specifically\", \"baseball\", \"winter\", \"continue\", \"la\", \"shared\", \"suites\", \"deliver\", \"hotel\", \"whenever\", \"owner\", \"sausage\", \"questions\", \"driver\", \"toast\", \"odor\", \"attendant\", \"handled\", \"handicap\", \"holes\", \"question\", \"embassy\", \"spoke\", \"assigned\", \"monday\", \"cooked\", \"fare\", \"updates\", \"girls\", \"showers\", \"wireless\", \"forgot\", \"desired\", \"bug\", \"milk\", \"theme\", \"picky\", \"pastries\", \"required\", \"biscuits\", \"encountered\", \"help\", \"items\", \"tasty\", \"eggs\", \"desk\", \"early\", \"front\", \"housekeeping\", \"job\", \"flight\", \"check\", \"order\", \"morning\", \"waffles\", \"information\", \"make\", \"member\", \"us\", \"made\", \"wait\", \"breakfast\", \"service\", \"shuttle\", \"care\", \"staff\", \"not\", \"helpful\", \"could\", \"day\", \"hotel\", \"stay\", \"friendly\", \"every\", \"time\", \"room\", \"would\", \"really\", \"clean\", \"get\", \"needed\", \"also\", \"great\", \"good\", \"well\", \"nice\", \"one\", \"hope\", \"thank\", \"team\", \"appreciate\", \"feedback\", \"interstate\", \"dear\", \"share\", \"sincerely\", \"de\", \"york\", \"regis\", \"words\", \"regards\", \"nyc\", \"wash\", \"forward\", \"reunion\", \"director\", \"dixie\", \"sarah\", \"octavia\", \"le\", \"krauss\", \"roaches\", \"staffed\", \"operations\", \"grateful\", \"butler\", \"margineanhotel\", \"tripadvisor\", \"review\", \"soon\", \"delighted\", \"please\", \"taking\", \"comments\", \"choosing\", \"recent\", \"st\", \"sharing\", \"guest\", \"napa\", \"look\", \"future\", \"hear\", \"glad\", \"experience\", \"us\", \"service\", \"visit\", \"time\", \"back\", \"new\", \"manager\", \"see\", \"hotel\", \"stay\", \"customer\", \"city\", \"enjoyed\", \"next\", \"best\", \"much\", \"hampton\", \"holiday\", \"anniversary\", \"dogs\", \"blankets\", \"baltimore\", \"dead\", \"port\", \"gracious\", \"graduation\", \"frequent\", \"roach\", \"mine\", \"personable\", \"slamming\", \"columbus\", \"13\", \"express\", \"oxford\", \"honors\", \"drinking\", \"excited\", \"ill\", \"celebrating\", \"stopover\", \"starwood\", \"louis\", \"hubby\", \"florida\", \"22\", \"inn\", \"hilton\", \"birthday\", \"years\", \"drury\", \"pleasantly\", \"welcomed\", \"comfort\", \"wedding\", \"friend\", \"year\", \"weekend\", \"surprised\", \"chain\", \"'ve\", \"always\", \"stayed\", \"suites\", \"cozy\", \"times\", \"travel\", \"hotels\", \"last\", \"family\", \"'s\", \"wife\", \"best\", \"stay\", \"several\", \"staff\", \"trip\", \"hotel\", \"first\", \"wonderful\", \"us\", \"new\", \"time\", \"room\", \"friendly\", \"one\", \"comfortable\", \"place\", \"experience\", \"ocean\", \"mall\", \"outdoor\", \"blocks\", \"beach\", \"pools\", \"pets\", \"needle\", \"golf\", \"pier\", \"fireplace\", \"overlooking\", \"cabins\", \"mountains\", \"unique\", \"cabin\", \"boardwalk\", \"miami\", \"bike\", \"mills\", \"pizza\", \"bourbon\", \"romantic\", \"hidden\", \"cook\", \"union\", \"buildings\", \"gardens\", \"california\", \"greatly\", \"street\", \"ride\", \"vegas\", \"view\", \"river\", \"historic\", \"lake\", \"block\", \"heart\", \"resort\", \"views\", \"balcony\", \"across\", \"walk\", \"fun\", \"strip\", \"west\", \"beautiful\", \"shops\", \"away\", \"main\", \"located\", \"pool\", \"right\", \"kids\", \"great\", \"minute\", \"hotel\", \"park\", \"downtown\", \"perfect\", \"location\", \"loved\", \"place\", \"rooms\", \"area\", \"parking\", \"not\", \"restaurants\", \"stay\", \"nice\", \"stayed\", \"also\", \"well\", \"room\", \"time\", \"back\", \"would\", \"staff\", \"clean\", \"get\"], \"Total\": [6369.0, 2893.0, 3875.0, 3072.0, 3461.0, 3355.0, 5810.0, 2760.0, 2110.0, 522.0, 1792.0, 1583.0, 1691.0, 1136.0, 1773.0, 533.0, 1232.0, 1488.0, 6477.0, 1396.0, 1298.0, 3679.0, 1160.0, 650.0, 1282.0, 462.0, 441.0, 1361.0, 951.0, 771.0, 34.518001556396484, 30.17274284362793, 29.828330993652344, 20.923913955688477, 18.08522605895996, 18.024982452392578, 18.016263961791992, 17.277206420898438, 17.087745666503906, 16.576038360595703, 14.793128967285156, 14.713047981262207, 14.514921188354492, 11.79045581817627, 11.743393898010254, 11.385391235351562, 10.555968284606934, 10.493109703063965, 10.448348999023438, 10.360649108886719, 10.312417984008789, 10.084105491638184, 10.007265090942383, 9.722125053405762, 9.558490753173828, 9.210941314697266, 9.07332706451416, 9.040139198303223, 8.994012832641602, 8.555890083312988, 11.69541072845459, 37.690494537353516, 37.73971939086914, 82.18292999267578, 24.572099685668945, 21.199411392211914, 17.608064651489258, 25.020286560058594, 27.15557098388672, 30.914297103881836, 101.03233337402344, 23.156864166259766, 18.128814697265625, 23.78125, 101.10731506347656, 6477.53271484375, 297.3375244140625, 171.23532104492188, 159.99940490722656, 154.01666259765625, 146.7584686279297, 130.65455627441406, 121.3212661743164, 115.07642364501953, 108.2022933959961, 107.6375503540039, 100.90008544921875, 92.36540985107422, 83.16033172607422, 82.07452392578125, 74.68053436279297, 63.81013488769531, 63.146915435791016, 60.116153717041016, 57.40978240966797, 55.432891845703125, 74.23778533935547, 55.29726028442383, 53.44160079956055, 52.38681411743164, 52.13636779785156, 51.47806930541992, 49.71766662597656, 49.71266555786133, 44.35493469238281, 42.47305679321289, 273.9377136230469, 106.43777465820312, 100.52484130859375, 193.28811645507812, 339.1466369628906, 66.21599578857422, 122.69920349121094, 101.70984649658203, 211.9542694091797, 5810.04736328125, 510.7266845703125, 244.6222381591797, 150.35340881347656, 6369.91162109375, 444.31268310546875, 1488.578369140625, 556.5914306640625, 1425.6651611328125, 165.24319458007812, 525.6265869140625, 1114.552734375, 230.39031982421875, 1479.6680908203125, 265.7216796875, 321.4604797363281, 873.1669311523438, 1012.6842041015625, 2071.16455078125, 379.4551086425781, 1076.367431640625, 349.5373840332031, 417.4471130371094, 1232.7589111328125, 6477.53271484375, 688.954833984375, 1160.7225341796875, 1136.81103515625, 650.558837890625, 2230.95947265625, 1583.368896484375, 1009.6889038085938, 3679.5634765625, 951.955322265625, 727.37060546875, 1773.597900390625, 3072.42431640625, 36.69974136352539, 33.7924690246582, 28.442190170288086, 25.453798294067383, 25.390710830688477, 23.60230255126953, 22.3510799407959, 21.055217742919922, 19.623384475708008, 18.578535079956055, 17.353363037109375, 15.812934875488281, 14.762714385986328, 13.837929725646973, 12.996397018432617, 12.706815719604492, 11.803604125976562, 10.786032676696777, 10.706384658813477, 10.600818634033203, 10.396827697753906, 10.074989318847656, 10.032258987426758, 9.973677635192871, 9.773932456970215, 9.515210151672363, 9.43691635131836, 9.12559986114502, 8.993104934692383, 8.956491470336914, 45.66230010986328, 12.365628242492676, 34.99542236328125, 20.555438995361328, 36.055755615234375, 17.90688705444336, 1396.8140869140625, 225.4715118408203, 105.40396118164062, 771.7965698242188, 52.087398529052734, 76.22577667236328, 495.23797607421875, 98.40750885009766, 372.9253234863281, 282.80810546875, 639.989501953125, 110.58226013183594, 1479.6680908203125, 147.6299285888672, 1773.597900390625, 471.2986755371094, 234.7422637939453, 300.0987854003906, 230.578125, 195.49180603027344, 112.36244201660156, 73.67840576171875, 64.9311752319336, 64.73334503173828, 63.90237808227539, 55.85303497314453, 52.23075866699219, 35.622535705566406, 30.614803314208984, 29.49720001220703, 21.917400360107422, 21.513078689575195, 20.258197784423828, 19.35556411743164, 19.21605682373047, 18.44077491760254, 17.871017456054688, 18.31195831298828, 16.817289352416992, 16.716167449951172, 16.073469161987305, 14.695343971252441, 14.657144546508789, 14.636659622192383, 14.454001426696777, 14.33166790008545, 14.178670883178711, 14.001803398132324, 52.369903564453125, 57.10819625854492, 123.90863800048828, 110.17569732666016, 441.3106689453125, 24.586957931518555, 251.05288696289062, 88.43147277832031, 462.2870788574219, 295.6917724609375, 199.73814392089844, 461.8199768066406, 287.675537109375, 190.3438720703125, 74.24193572998047, 650.558837890625, 1136.81103515625, 240.3339385986328, 524.4976196289062, 381.2484130859375, 663.4190063476562, 691.9459838867188, 336.70587158203125, 6369.91162109375, 1488.578369140625, 683.1024780273438, 1691.643798828125, 2760.46484375, 3461.220947265625, 248.17567443847656, 270.44769287109375, 816.7908935546875, 2230.95947265625, 3072.42431640625, 2893.609130859375, 630.6058959960938, 1773.597900390625, 5810.04736328125, 1138.879150390625, 1369.173828125, 114.4665298461914, 39.74284744262695, 34.82585525512695, 32.99539566040039, 30.697280883789062, 41.0684700012207, 23.893766403198242, 22.941316604614258, 21.216421127319336, 20.2031192779541, 19.555747985839844, 18.950841903686523, 18.48150634765625, 18.162654876708984, 17.43504524230957, 16.40476417541504, 16.352258682250977, 15.674569129943848, 15.299331665039062, 14.450702667236328, 14.44784927368164, 13.382129669189453, 13.333855628967285, 13.150740623474121, 13.067182540893555, 12.991911888122559, 11.623830795288086, 11.588284492492676, 11.576302528381348, 11.4638090133667, 23.99431037902832, 417.15447998046875, 112.79036712646484, 61.2615852355957, 288.5926208496094, 3072.42431640625, 523.846435546875, 554.1077270507812, 1792.4119873046875, 2110.3134765625, 225.41172790527344, 3461.220947265625, 2893.609130859375, 815.3821411132812, 198.8614501953125, 1691.643798828125, 3875.436279296875, 341.5118408203125, 2760.46484375, 3355.11962890625, 1282.92333984375, 583.94482421875, 423.89373779296875, 741.7891845703125, 566.703857421875, 600.0557250976562, 673.5814208984375, 6477.53271484375, 3679.5634765625, 816.7908935546875, 873.1669311523438, 1369.173828125, 2230.95947265625, 2071.16455078125, 1270.8070068359375, 6369.91162109375, 1396.8140869140625, 789.9562377929688, 5810.04736328125, 100.69725799560547, 62.82908248901367, 46.1415901184082, 36.33253860473633, 20.9652042388916, 20.60431480407715, 20.58476448059082, 17.315526962280273, 14.742375373840332, 14.60444164276123, 13.49238395690918, 13.4369478225708, 12.970796585083008, 12.559233665466309, 12.48669147491455, 12.10892391204834, 11.452813148498535, 11.321918487548828, 11.047564506530762, 10.868922233581543, 10.753807067871094, 9.875869750976562, 9.548074722290039, 9.320444107055664, 9.180397987365723, 9.114757537841797, 9.030258178710938, 8.979482650756836, 8.974701881408691, 8.508553504943848, 21.743818283081055, 17.253278732299805, 12.424087524414062, 19.551311492919922, 22.17787742614746, 33.72555160522461, 82.18292999267578, 29.127294540405273, 261.2778015136719, 23.580791473388672, 6477.53271484375, 46.033390045166016, 87.68630981445312, 70.34292602539062, 64.9088363647461, 60.48634338378906, 50.73698043823242, 40.30332565307617, 33.98625564575195, 32.53678894042969, 31.15797996520996, 30.138586044311523, 29.83884620666504, 28.8110294342041, 27.81604766845703, 27.104196548461914, 27.06102752685547, 26.615501403808594, 26.518829345703125, 26.370351791381836, 36.68009567260742, 25.368757247924805, 25.022619247436523, 24.388484954833984, 24.003786087036133, 23.977705001831055, 23.867406845092773, 23.804197311401367, 23.30023193359375, 22.915231704711914, 22.465709686279297, 22.405717849731445, 51.28043746948242, 213.79010009765625, 120.2032241821289, 46.107601165771484, 149.28269958496094, 1232.7589111328125, 288.7749328613281, 1160.7225341796875, 184.0093994140625, 119.23564147949219, 87.53241729736328, 1009.6889038085938, 108.78984832763672, 527.1600952148438, 95.12140655517578, 49.577125549316406, 426.3426818847656, 98.32595825195312, 1583.368896484375, 607.51904296875, 175.33587646484375, 2893.609130859375, 1298.7841796875, 410.8050537109375, 167.12606811523438, 3875.436279296875, 5810.04736328125, 1282.92333984375, 1114.552734375, 769.909912109375, 6477.53271484375, 3679.5634765625, 2110.3134765625, 473.55548095703125, 1361.03662109375, 6369.91162109375, 2071.16455078125, 828.2742919921875, 3461.220947265625, 1076.367431640625, 463.1858825683594, 868.5725708007812, 3355.11962890625, 3072.42431640625, 1270.8070068359375, 2760.46484375, 1479.6680908203125, 213.36892700195312, 522.5274047851562, 149.99801635742188, 134.13026428222656, 119.39958190917969, 108.55329895019531, 101.21311950683594, 82.18921661376953, 80.40381622314453, 75.01922607421875, 70.10102081298828, 64.58724212646484, 37.92887496948242, 53.02547073364258, 36.14426803588867, 34.729774475097656, 157.4984130859375, 30.29787254333496, 27.625411987304688, 24.826045989990234, 24.733692169189453, 23.38018798828125, 23.112272262573242, 22.65725326538086, 22.065628051757812, 21.447154998779297, 20.826541900634766, 19.125595092773438, 19.0425968170166, 18.319673538208008, 55.69279861450195, 281.17205810546875, 194.3584442138672, 63.828617095947266, 130.49586486816406, 178.45460510253906, 90.50603485107422, 43.69805908203125, 130.25914001464844, 118.80854034423828, 37.33283996582031, 267.20025634765625, 110.7798843383789, 280.8824462890625, 129.05267333984375, 233.20285034179688, 141.7809295654297, 597.9336547851562, 1583.368896484375, 1298.7841796875, 412.112060546875, 1361.03662109375, 951.955322265625, 594.4152221679688, 334.1576843261719, 443.07965087890625, 6477.53271484375, 3679.5634765625, 251.8773193359375, 294.368896484375, 550.4771118164062, 760.3272094726562, 771.7965698242188, 599.3823852539062, 243.11026000976562, 98.53148651123047, 60.88063049316406, 45.37818145751953, 42.96685791015625, 34.533729553222656, 28.65802574157715, 24.65927505493164, 23.38652801513672, 20.726524353027344, 20.691144943237305, 20.164955139160156, 19.616104125976562, 23.470155715942383, 18.68069076538086, 16.724699020385742, 16.647825241088867, 56.314937591552734, 15.648951530456543, 14.641664505004883, 14.392556190490723, 13.855944633483887, 13.852241516113281, 13.6771821975708, 13.041963577270508, 12.734270095825195, 12.714614868164062, 12.695439338684082, 45.68844223022461, 12.48763370513916, 533.343994140625, 110.37975311279297, 59.95358657836914, 225.4715118408203, 34.47751998901367, 62.925071716308594, 49.17848205566406, 142.63970947265625, 144.54161071777344, 61.67687225341797, 266.0823669433594, 319.0200500488281, 125.19232940673828, 71.6130599975586, 228.69033813476562, 616.5801391601562, 1773.597900390625, 261.2778015136719, 69.5706558227539, 337.2196044921875, 194.1117401123047, 529.3470458984375, 327.05963134765625, 639.989501953125, 579.29541015625, 179.33712768554688, 771.7965698242188, 3679.5634765625, 274.8897705078125, 3875.436279296875, 495.23797607421875, 6477.53271484375, 688.954833984375, 512.9300537109375, 1583.368896484375, 594.4152221679688, 1361.03662109375, 6369.91162109375, 2110.3134765625, 1479.6680908203125, 1691.643798828125, 1396.8140869140625, 597.9336547851562, 146.96710205078125, 101.70942687988281, 85.24971771240234, 85.20185852050781, 462.98162841796875, 55.67041015625, 45.06962585449219, 44.67388916015625, 43.25090789794922, 40.935184478759766, 38.47834777832031, 37.47160339355469, 36.79602813720703, 33.207942962646484, 32.323097229003906, 32.132591247558594, 31.984039306640625, 31.8464298248291, 30.416061401367188, 28.987510681152344, 27.727596282958984, 27.29172134399414, 26.463029861450195, 25.93272590637207, 26.10066795349121, 25.536361694335938, 25.369964599609375, 24.26169776916504, 23.681171417236328, 23.317155838012695, 357.6220703125, 80.95440673828125, 102.69635772705078, 498.06927490234375, 131.80885314941406, 73.95378875732422, 116.61407470703125, 91.88743591308594, 62.17105484008789, 213.54222106933594, 130.70126342773438, 139.17271423339844, 270.97320556640625, 464.2569885253906, 147.6299285888672, 118.63872528076172, 89.47026824951172, 435.68341064453125, 94.78069305419922, 471.3487548828125, 167.96859741210938, 447.94158935546875, 1138.879150390625, 693.32373046875, 284.43829345703125, 3355.11962890625, 196.23646545410156, 6477.53271484375, 276.7709655761719, 369.3858642578125, 502.6068115234375, 1792.4119873046875, 431.7078552246094, 1396.8140869140625, 2230.95947265625, 1369.173828125, 775.717041015625, 5810.04736328125, 583.94482421875, 3679.5634765625, 2760.46484375, 1773.597900390625, 868.5725708007812, 1270.8070068359375, 6369.91162109375, 1361.03662109375, 951.955322265625, 2071.16455078125, 3875.436279296875, 3461.220947265625, 1076.367431640625], \"loglift\": [30.0, 29.0, 28.0, 27.0, 26.0, 25.0, 24.0, 23.0, 22.0, 21.0, 20.0, 19.0, 18.0, 17.0, 16.0, 15.0, 14.0, 13.0, 12.0, 11.0, 10.0, 9.0, 8.0, 7.0, 6.0, 5.0, 4.0, 3.0, 2.0, 1.0, 4.3292999267578125, 4.3256001472473145, 4.325200080871582, 4.312099933624268, 4.305200099945068, 4.304999828338623, 4.304999828338623, 4.302800178527832, 4.302199840545654, 4.30049991607666, 4.293700218200684, 4.293300151824951, 4.292500019073486, 4.277299880981445, 4.2769999504089355, 4.274499893188477, 4.2677998542785645, 4.267300128936768, 4.266900062561035, 4.26609992980957, 4.265699863433838, 4.2631001472473145, 4.262800216674805, 4.260000228881836, 4.258200168609619, 4.25439977645874, 4.252799987792969, 4.252399921417236, 4.251800060272217, 4.246200084686279, 4.245699882507324, 4.225599765777588, 4.088099956512451, 3.861999988555908, 4.075799942016602, 4.078800201416016, 3.9988999366760254, 3.8352999687194824, 3.6905999183654785, 3.5339999198913574, 2.7183001041412354, 3.6559998989105225, 3.837899923324585, 3.575000047683716, 2.326200008392334, -1.4457000494003296, 1.549399971961975, 1.5472999811172485, 1.5469000339508057, 1.5467000007629395, 1.5463999509811401, 1.545699954032898, 1.5450999736785889, 1.544800043106079, 1.5442999601364136, 1.5441999435424805, 1.5436999797821045, 1.5428999662399292, 1.5418000221252441, 1.541700005531311, 1.5405999422073364, 1.538599967956543, 1.5384999513626099, 1.5377999544143677, 1.5370999574661255, 1.5364999771118164, 1.5364999771118164, 1.5364999771118164, 1.5358999967575073, 1.535599946975708, 1.5355000495910645, 1.5353000164031982, 1.5347000360488892, 1.5347000360488892, 1.5325000286102295, 1.531599998474121, 1.482200026512146, 1.5104999542236328, 1.5108000040054321, 1.4735000133514404, 1.4431999921798706, 1.5185999870300293, 1.4686000347137451, 1.4763000011444092, 1.3896000385284424, 0.9495999813079834, 1.2549999952316284, 1.3167999982833862, 1.3877999782562256, 0.7208999991416931, 1.1901999711990356, 0.9656000137329102, 1.1333999633789062, 0.8970000147819519, 1.3664000034332275, 1.0861999988555908, 0.7404000163078308, 1.2441999912261963, 0.6100999712944031, 1.1829999685287476, 1.1095000505447388, 0.7250000238418579, 0.6596999764442444, 0.36629998683929443, 1.0397000312805176, 0.6119999885559082, 1.0723999738693237, 0.9973999857902527, 0.5002999901771545, -0.2632000148296356, 0.7419999837875366, 0.48590001463890076, 0.4318000078201294, 0.7311999797821045, -0.16290000081062317, 0.041099999099969864, 0.3273000121116638, -0.6004999876022339, 0.3562999963760376, 0.5210999846458435, -0.225600004196167, -0.8492000102996826, 3.9674999713897705, 3.965399980545044, 3.9602999687194824, 3.9565000534057617, 3.9565000534057617, 3.953700065612793, 3.9514999389648438, 3.9489998817443848, 3.9458000659942627, 3.9430999755859375, 3.9395999908447266, 3.9344000816345215, 3.9300999641418457, 3.9258999824523926, 3.9214000701904297, 3.919800043106079, 3.9140000343322754, 3.906399965286255, 3.9056999683380127, 3.9047999382019043, 3.9030001163482666, 3.900099992752075, 3.899600028991699, 3.8991000652313232, 3.8970999717712402, 3.894399881362915, 3.8935000896453857, 3.890000104904175, 3.888400077819824, 3.888000011444092, 3.587899923324585, 3.771199941635132, 3.3297998905181885, 3.5483999252319336, 3.248300075531006, 3.582900047302246, 1.1346999406814575, 2.141200065612793, 2.5213000774383545, 1.0913000106811523, 2.805999994277954, 2.5239999294281006, 1.1926000118255615, 2.3189001083374023, 1.3523000478744507, 1.4703999757766724, 0.7621999979019165, 2.15939998626709, -0.053199999034404755, 1.8622000217437744, -0.39160001277923584, 0.751800000667572, 1.3920999765396118, 1.13510000705719, 2.6122000217437744, 2.6115000247955322, 2.608099937438965, 2.6040000915527344, 2.602400064468384, 2.602400064468384, 2.6022000312805176, 2.6001999378204346, 2.599100112915039, 2.591099977493286, 2.5869998931884766, 2.585900068283081, 2.5752999782562256, 2.57450008392334, 2.5717999935150146, 2.569700002670288, 2.5694000720977783, 2.5673999786376953, 2.5657999515533447, 2.5632998943328857, 2.5625998973846436, 2.562000036239624, 2.559999942779541, 2.5546000003814697, 2.554500102996826, 2.5543999671936035, 2.5536000728607178, 2.552999973297119, 2.552299976348877, 2.551500082015991, 2.5448999404907227, 2.5220000743865967, 2.427299976348877, 2.3729000091552734, 2.2460999488830566, 2.505199909210205, 2.264899969100952, 2.3719000816345215, 2.1624999046325684, 2.201200008392334, 2.2297000885009766, 2.0653998851776123, 2.1282999515533447, 2.1452999114990234, 2.3059000968933105, 1.8356000185012817, 1.6657999753952026, 2.0209999084472656, 1.823099970817566, 1.8287999629974365, 1.610200047492981, 1.590399980545044, 1.8133000135421753, 0.7143999934196472, 1.091599941253662, 1.4081000089645386, 0.9122999906539917, 0.6187999844551086, 0.4675999879837036, 1.8365999460220337, 1.7310999631881714, 1.0111000537872314, 0.2393999993801117, -0.011500000022351742, 0.020500000566244125, 1.1093000173568726, 0.22779999673366547, -0.7972000241279602, 0.5928000211715698, 0.4097000062465668, 1.773300051689148, 1.7583999633789062, 1.7555999755859375, 1.7541999816894531, 1.7520999908447266, 1.7458000183105469, 1.7437000274658203, 1.7422000169754028, 1.7389999628067017, 1.736799955368042, 1.7352999448776245, 1.7338000535964966, 1.7325999736785889, 1.7316999435424805, 1.729599952697754, 1.7263000011444092, 1.726099967956543, 1.7237000465393066, 1.7222000360488892, 1.7186000347137451, 1.7186000347137451, 1.7135000228881836, 1.7131999731063843, 1.7122999429702759, 1.7117999792099, 1.711400032043457, 1.7029000520706177, 1.7026000022888184, 1.7024999856948853, 1.70169997215271, 1.6750999689102173, 1.5396000146865845, 1.6025999784469604, 1.6205999851226807, 1.5396000146865845, 1.3587000370025635, 1.4726999998092651, 1.4345999956130981, 1.323699951171875, 1.2863999605178833, 1.4860999584197998, 1.2223999500274658, 1.190500020980835, 1.322100043296814, 1.4600000381469727, 1.2239999771118164, 1.097100019454956, 1.3870999813079834, 1.1359000205993652, 1.1083999872207642, 1.180299997329712, 1.2404999732971191, 1.2619999647140503, 1.1675000190734863, 1.2063000202178955, 1.1640000343322754, 1.1394000053405762, 0.59579998254776, 0.7016000151634216, 1.0435999631881714, 1.0051000118255615, 0.8919000029563904, 0.7088000178337097, 0.625, 0.7720999717712402, 0.08330000191926956, 0.48730000853538513, 0.8416000008583069, -0.9649999737739563, 4.249199867248535, 4.243899822235107, 4.238800048828125, 4.233500003814697, 4.215099811553955, 4.214399814605713, 4.214300155639648, 4.205900192260742, 4.196499824523926, 4.195899963378906, 4.1905999183654785, 4.190299987792969, 4.18779993057251, 4.185400009155273, 4.184999942779541, 4.182600021362305, 4.178100109100342, 4.17710018157959, 4.175000190734863, 4.173600196838379, 4.172599792480469, 4.164700031280518, 4.161399841308594, 4.158899784088135, 4.157299995422363, 4.156499862670898, 4.1554999351501465, 4.154900074005127, 4.154900074005127, 4.148900032043457, 3.9611001014709473, 3.885999917984009, 4.0157999992370605, 3.805000066757202, 3.7267000675201416, 3.475800037384033, 2.9739999771118164, 3.5032999515533447, 2.003700017929077, 3.51990008354187, -1.190500020980835, 2.9314000606536865, 1.681399941444397, 1.6790000200271606, 1.677899956703186, 1.676900029182434, 1.6741000413894653, 1.669600009918213, 1.6655000448226929, 1.6642999649047852, 1.663100004196167, 1.6621999740600586, 1.6619000434875488, 1.6607999801635742, 1.6597000360488892, 1.6588000059127808, 1.6588000059127808, 1.6582000255584717, 1.6579999923706055, 1.6578999757766724, 1.6568000316619873, 1.656599998474121, 1.6561000347137451, 1.6550999879837036, 1.6546000242233276, 1.6545000076293945, 1.6542999744415283, 1.6541999578475952, 1.65339994430542, 1.6527999639511108, 1.6519999504089355, 1.651900053024292, 1.6226999759674072, 1.5236999988555908, 1.507599949836731, 1.5922000408172607, 1.4738999605178833, 1.2608000040054321, 1.3898999691009521, 1.2273999452590942, 1.416599988937378, 1.4627000093460083, 1.4997999668121338, 1.1413999795913696, 1.4386999607086182, 1.1518000364303589, 1.4424999952316284, 1.545799970626831, 1.12909996509552, 1.4107999801635742, 0.8402000069618225, 1.023900032043457, 1.287500023841858, 0.6567999720573425, 0.8356000185012817, 1.0892000198364258, 1.292199969291687, 0.49889999628067017, 0.14810000360012054, 0.602400004863739, 0.6439999938011169, 0.7472000122070312, -0.022299999371170998, 0.15880000591278076, 0.30649998784065247, 0.8389999866485596, 0.39739999175071716, -0.3653999865055084, 0.07259999960660934, 0.5120999813079834, -0.20990000665187836, 0.2896000146865845, 0.760699987411499, 0.4075999855995178, -0.4339999854564667, -0.42250001430511475, 0.1527000069618225, -0.47189998626708984, -0.010900000110268593, 2.865799903869629, 2.865799903869629, 2.8642001152038574, 2.8635001182556152, 2.8626999855041504, 2.861999988555908, 2.8613998889923096, 2.859499931335449, 2.8592000007629395, 2.8584001064300537, 2.8577001094818115, 2.856600046157837, 2.8471999168395996, 2.8469998836517334, 2.846100091934204, 2.845099925994873, 2.843100070953369, 2.841399908065796, 2.838599920272827, 2.8350000381469727, 2.83489990234375, 2.8327999114990234, 2.8322999477386475, 2.8315999507904053, 2.8306000232696533, 2.829400062561035, 2.828200101852417, 2.824399948120117, 2.824199914932251, 2.8222999572753906, 2.8173999786376953, 2.720400094985962, 2.702199935913086, 2.7513999938964844, 2.6884000301361084, 2.655900001525879, 2.7074999809265137, 2.7667999267578125, 2.6386001110076904, 2.6177000999450684, 2.7750000953674316, 2.417799949645996, 2.56850004196167, 2.2716000080108643, 2.470900058746338, 2.2462000846862793, 2.3910999298095703, 1.7001999616622925, 1.2342000007629395, 1.2664999961853027, 1.8357000350952148, 1.1411000490188599, 1.336400032043457, 1.5880999565124512, 1.909999966621399, 1.6585999727249146, -0.34779998660087585, 0.012900000438094139, 1.948199987411499, 1.7883000373840332, 1.2625000476837158, 0.9519000053405762, 0.919700026512146, 1.1259000301361084, 2.584399938583374, 2.5790998935699463, 2.573499917984009, 2.56850004196167, 2.5673999786376953, 2.562299966812134, 2.556999921798706, 2.551800012588501, 2.5499000549316406, 2.5448999404907227, 2.544800043106079, 2.543600082397461, 2.5423998832702637, 2.5401999950408936, 2.5399999618530273, 2.5343000888824463, 2.5339999198913574, 2.533400058746338, 2.5304999351501465, 2.526400089263916, 2.5253000259399414, 2.5227999687194824, 2.522700071334839, 2.521899938583374, 2.5185000896453857, 2.5167999267578125, 2.516700029373169, 2.5165998935699463, 2.516400098800659, 2.5153000354766846, 2.501800060272217, 2.5100998878479004, 2.4860000610351562, 2.408799886703491, 2.478100061416626, 2.377000093460083, 2.397200107574463, 2.2546000480651855, 2.222899913787842, 2.289799928665161, 2.0411999225616455, 1.9549000263214111, 2.119999885559082, 2.2332000732421875, 1.9502999782562256, 1.6871000528335571, 1.408400058746338, 1.8961000442504883, 2.2318999767303467, 1.726099967956543, 1.8966000080108643, 1.4285000562667847, 1.580399990081787, 1.2991000413894653, 1.2348999977111816, 1.7819000482559204, 1.0788999795913696, 0.27230000495910645, 1.5657000541687012, 0.18060000240802765, 1.2050000429153442, -0.3203999996185303, 0.963100016117096, 1.1268999576568604, 0.3305000066757202, 0.9689000248908997, 0.3278000056743622, -0.993399977684021, -0.10920000076293945, 0.17560000717639923, -0.0689999982714653, 0.03009999915957451, 0.8414000272750854, 1.680899977684021, 1.6784000396728516, 1.6766999959945679, 1.676200032234192, 1.6713999509811401, 1.6713000535964966, 1.6676000356674194, 1.6674000024795532, 1.666700005531311, 1.6655999422073364, 1.664199948310852, 1.663599967956543, 1.663100004196167, 1.6605000495910645, 1.6597000360488892, 1.659600019454956, 1.659500002861023, 1.6593999862670898, 1.6581000089645386, 1.656599998474121, 1.6552000045776367, 1.6547000408172607, 1.6536999940872192, 1.652999997138977, 1.652500033378601, 1.652500033378601, 1.6521999835968018, 1.6505999565124512, 1.6497000455856323, 1.6490999460220337, 1.6404000520706177, 1.6305999755859375, 1.611899971961975, 1.548200011253357, 1.6007000207901, 1.61489999294281, 1.5839999914169312, 1.5943000316619873, 1.6059000492095947, 1.5196000337600708, 1.551300048828125, 1.5159000158309937, 1.4492000341415405, 1.3830000162124634, 1.5023000240325928, 1.5252000093460083, 1.55239999294281, 1.3575999736785889, 1.5285999774932861, 1.2869000434875488, 1.4388999938964844, 1.2561999559402466, 1.0473999977111816, 1.0964000225067139, 1.280500054359436, 0.5501000285148621, 1.3251999616622925, 0.29339998960494995, 1.2157000303268433, 1.0957000255584717, 0.980400025844574, 0.4828000068664551, 1.003100037574768, 0.48820000886917114, 0.27300000190734863, 0.4519999921321869, 0.7035999894142151, -0.3091999888420105, 0.8104000091552734, -0.11060000211000443, -0.07050000131130219, 0.15940000116825104, 0.5389000177383423, 0.27950000762939453, -0.8848000168800354, 0.14390000700950623, 0.39340001344680786, -0.24250000715255737, -0.8461999893188477, -0.8097000122070312, 0.22540000081062317], \"logprob\": [30.0, 29.0, 28.0, 27.0, 26.0, 25.0, 24.0, 23.0, 22.0, 21.0, 20.0, 19.0, 18.0, 17.0, 16.0, 15.0, 14.0, 13.0, 12.0, 11.0, 10.0, 9.0, 8.0, 7.0, 6.0, 5.0, 4.0, 3.0, 2.0, 1.0, -4.796299934387207, -4.934599876403809, -4.946400165557861, -5.3140997886657715, -5.466800212860107, -5.470300197601318, -5.470900058746338, -5.514900207519531, -5.526599884033203, -5.558700084686279, -5.679299831390381, -5.684999942779541, -5.69950008392334, -5.922500133514404, -5.926799774169922, -5.960299968719482, -6.042600154876709, -6.049099922180176, -6.053800106048584, -6.063000202178955, -6.0680999755859375, -6.0929999351501465, -6.10099983215332, -6.132699966430664, -6.151400089263916, -6.192299842834473, -6.209000110626221, -6.2129998207092285, -6.218699932098389, -6.274199962615967, -5.962200164794922, -4.812099933624268, -4.948299884796143, -4.396100044250488, -5.389699935913086, -5.534299850463867, -5.799900054931641, -5.612100124359131, -5.674900054931641, -5.701900005340576, -5.333399772644043, -5.868800163269043, -5.931700229644775, -5.9232001304626465, -5.724699974060059, -5.336699962615967, -5.422800064086914, -5.976799964904785, -6.045000076293945, -6.083399772644043, -6.131899833679199, -6.248899936676025, -6.323500156402588, -6.376800060272217, -6.438799858093262, -6.4440999031066895, -6.509300231933594, -6.598499774932861, -6.704500198364258, -6.717800140380859, -6.813300132751465, -6.972599983215332, -6.9832000732421875, -7.033100128173828, -7.079800128936768, -7.1153998374938965, -6.823299884796143, -7.1178998947143555, -7.152599811553955, -7.172900199890137, -7.177700042724609, -7.190700054168701, -7.226099967956543, -7.226200103759766, -7.342400074005127, -7.386600017547607, -5.572000026702881, -6.488999843597412, -6.545899868011475, -5.9293999671936035, -5.39739990234375, -6.955599784851074, -6.388800144195557, -6.568699836730957, -5.92110013961792, -3.0501999855041504, -5.176199913024902, -5.850599765777588, -6.266300201416016, -3.1868999004364014, -5.38040018081665, -4.395899772644043, -5.211900234222412, -4.507699966430664, -6.193299770355225, -5.316299915313721, -4.9105000495910645, -5.983099937438965, -4.757500171661377, -5.901599884033203, -5.784800052642822, -5.170000076293945, -5.086999893188477, -4.664899826049805, -5.688700199127197, -5.073699951171875, -5.738100051879883, -5.6356000900268555, -5.049799919128418, -4.154200077056885, -5.389999866485596, -5.1244001388549805, -5.1992998123168945, -5.458099842071533, -5.119800090789795, -5.258699893951416, -5.422399997711182, -5.05709981918335, -5.452300071716309, -5.556600093841553, -5.4120001792907715, -5.486100196838379, -5.096799850463867, -5.18149995803833, -5.35890007019043, -5.473700046539307, -5.47629976272583, -5.552000045776367, -5.608699798583984, -5.671000003814697, -5.74459981918335, -5.802000045776367, -5.873700141906738, -5.97189998626709, -6.044899940490723, -6.113800048828125, -6.181000232696533, -6.2052001953125, -6.2846999168396, -6.382500171661377, -6.390500068664551, -6.401400089263916, -6.422599792480469, -6.456999778747559, -6.461699962615967, -6.468100070953369, -6.490300178527832, -6.519800186157227, -6.528900146484375, -6.565999984741211, -6.582200050354004, -6.5868000984191895, -5.257900238037109, -6.38100004196167, -5.782100200653076, -6.095600128173828, -5.833700180053711, -6.198999881744385, -4.290500164031982, -5.107699871063232, -5.48799991607666, -4.92710018157959, -5.908199787139893, -5.8094000816345215, -5.269400119781494, -5.759099960327148, -5.393400192260742, -5.5518999099731445, -5.44350004196167, -5.802000045776367, -5.42080020904541, -5.810200214385986, -5.577899932861328, -5.759799957275391, -5.816500186920166, -5.827899932861328, -4.614299774169922, -4.780099868774414, -5.337200164794922, -5.763400077819824, -5.89139986038208, -5.894499778747559, -5.907599925994873, -6.0441999435424805, -6.112400054931641, -6.502999782562256, -6.658599853515625, -6.696899890899658, -7.0046000480651855, -7.02400016784668, -7.086699962615967, -7.134399890899658, -7.142000198364258, -7.185200214385986, -7.218100070953369, -7.196199893951416, -7.282100200653076, -7.288700103759766, -7.329899787902832, -7.425000190734863, -7.427700042724609, -7.429200172424316, -7.442599773406982, -7.451600074768066, -7.4629998207092285, -7.476399898529053, -6.163899898529053, -6.100100040435791, -5.420300006866455, -5.592199802398682, -4.331299781799316, -6.959700107574463, -4.8765997886657715, -5.813000202178955, -4.3684000968933105, -4.776599884033203, -5.140399932861328, -4.4664998054504395, -4.876999855041504, -5.2729997634887695, -6.053899765014648, -4.353700160980225, -3.965399980545044, -5.164100170135498, -4.581600189208984, -4.894899845123291, -4.559500217437744, -4.537199974060059, -5.034599781036377, -3.1933000087738037, -4.269999980926514, -4.732399940490723, -4.321400165557861, -4.125199794769287, -4.050099849700928, -5.316400051116943, -5.335899829864502, -4.9506001472473145, -4.717599868774414, -4.6483001708984375, -4.676400184631348, -5.111100196838379, -4.958600044250488, -4.796999931335449, -5.036499977111816, -5.035399913787842, -6.153500080108643, -7.22629976272583, -7.361199855804443, -7.416600227355957, -7.490799903869629, -7.206099987030029, -7.74970006942749, -7.791999816894531, -7.8734002113342285, -7.924499988555908, -7.958499908447266, -7.991499900817871, -8.017800331115723, -8.03600025177002, -8.079000473022461, -8.14330005645752, -8.146599769592285, -8.191399574279785, -8.217100143432617, -8.277700424194336, -8.277999877929688, -8.359700202941895, -8.36359977722168, -8.378399848937988, -8.385199546813965, -8.391400337219238, -8.511199951171875, -8.51449966430664, -8.515600204467773, -8.526200294494629, -7.814199924468994, -5.093999862670898, -6.339000225067139, -6.931399822235107, -5.462500095367432, -3.2781999111175537, -4.933300018310547, -4.915200233459473, -3.852099895477295, -3.7262001037597656, -5.7631001472473145, -3.295300006866455, -3.5064001083374023, -4.64139986038208, -5.9145002365112305, -4.009699821472168, -3.3076000213623047, -5.446599960327148, -3.608099937438965, -3.4403998851776123, -4.329899787902832, -5.05679988861084, -5.3557000160217285, -4.890600204467773, -5.120999813079834, -5.106100082397461, -5.014999866485596, -3.2952001094818115, -3.755000114440918, -4.918099880218506, -4.889900207519531, -4.553199768066406, -4.2480998039245605, -4.406300067901611, -4.747600078582764, -3.82450008392334, -4.93779993057251, -5.153500080108643, -4.964799880981445, -3.805799961090088, -4.282800197601318, -4.59660005569458, -4.84089994430542, -5.40910005569458, -5.427199840545654, -5.428199768066406, -5.609600067138672, -5.779900074005127, -5.789899826049805, -5.8744001388549805, -5.878799915313721, -5.916600227355957, -5.951300144195557, -5.957499980926514, -5.990600109100342, -6.05079984664917, -6.063199996948242, -6.089900016784668, -6.107600212097168, -6.119200229644775, -6.212299823760986, -6.2494001388549805, -6.276000022888184, -6.292699813842773, -6.3007001876831055, -6.310999870300293, -6.317200183868408, -6.317800045013428, -6.377099990844727, -5.626699924468994, -5.93310022354126, -6.131700038909912, -5.889100074768066, -5.841300010681152, -5.673099994659424, -5.284200191497803, -5.792099952697754, -5.097799777984619, -5.986800193786621, -5.081500053405762, -5.906400203704834, -6.511899948120117, -6.734799861907959, -6.816199779510498, -6.887800216674805, -7.066299915313721, -7.30109977722168, -7.475599765777588, -7.520400047302246, -7.564899921417236, -7.599100112915039, -7.609399795532227, -7.645599842071533, -7.68179988861084, -7.708600044250488, -7.71019983291626, -7.727399826049805, -7.731200218200684, -7.736999988555908, -7.408100128173828, -7.7769999504089355, -7.791200160980225, -7.817800045013428, -7.8343000411987305, -7.8354997634887695, -7.8403000831604, -7.8429999351501465, -7.865200042724609, -7.882500171661377, -7.90310001373291, -7.905900001525879, -7.107100009918213, -5.77839994430542, -6.370299816131592, -7.243899822235107, -6.187399864196777, -4.289299964904785, -5.611499786376953, -4.382900238037109, -6.0355000495910645, -6.423299789428711, -6.695300102233887, -4.60830020904541, -6.539000034332275, -5.247799873352051, -6.669400215148926, -7.217800140380859, -5.482699871063232, -6.668099880218506, -4.45959997177124, -5.233799934387207, -6.212900161743164, -4.039999961853027, -4.662399768829346, -5.559800148010254, -6.256100177764893, -3.9058001041412354, -3.8517000675201416, -4.907899856567383, -5.006899833679199, -5.273600101470947, -3.913300037384033, -4.297800064086914, -4.705999851226807, -5.667799949645996, -5.053699970245361, -4.273200035095215, -4.958700180053711, -5.435699939727783, -4.727700233459473, -5.396200180053711, -5.7683000564575195, -5.492700099945068, -4.982900142669678, -5.059299945831299, -5.367000102996826, -5.21589994430542, -5.378499984741211, -4.438300132751465, -3.5427000522613525, -4.792300224304199, -4.904799938201904, -5.021900177001953, -5.1178998947143555, -5.188499927520752, -5.398600101470947, -5.42080020904541, -5.490900039672852, -5.559500217437744, -5.642499923706055, -6.184199810028076, -5.849299907684326, -6.233500003814697, -6.274400234222412, -4.764500141143799, -6.414599895477295, -6.509799957275391, -6.620200157165527, -6.624100208282471, -6.682400226593018, -6.694399833679199, -6.715000152587891, -6.742499828338623, -6.77209997177124, -6.802700042724609, -6.89169979095459, -6.896200180053711, -6.936800003051758, -5.829899787902832, -4.307799816131592, -4.695199966430664, -5.759500026702881, -5.107399940490723, -4.826900005340576, -5.454100131988525, -6.123000144958496, -5.158899784088135, -5.271900177001953, -6.272200107574463, -4.661300182342529, -5.39109992980957, -4.757599830627441, -5.335999965667725, -4.968999862670898, -5.321700096130371, -4.573400020599365, -4.0655999183654785, -4.231500148773193, -4.810200214385986, -4.309999942779541, -4.4721999168396, -4.691500186920166, -4.945499897003174, -4.914700031280518, -4.238800048828125, -4.443600177764893, -5.190000057220459, -5.193900108337402, -5.093800067901611, -5.081500053405762, -5.098700046539307, -5.145299911499023, -4.589200019836426, -5.497700214385986, -5.9847002029418945, -6.283599853515625, -6.339300155639648, -6.562900066375732, -6.754700183868408, -6.910099983215332, -6.965099811553955, -7.090799808502197, -7.092599868774414, -7.119500160217285, -7.148399829864502, -6.971199989318848, -7.1996002197265625, -7.315999984741211, -7.320799827575684, -6.102799892425537, -7.386199951171875, -7.456900119781494, -7.475100040435791, -7.515600204467773, -7.515900135040283, -7.5295000076293945, -7.580399990081787, -7.605999946594238, -7.607699871063232, -7.609300136566162, -6.32889986038208, -7.626999855041504, -3.8861000537872314, -5.453100204467773, -6.087500095367432, -4.840099811553955, -6.64870023727417, -6.148099899291992, -6.3744001388549805, -5.452199935913086, -5.470699787139893, -6.25540018081665, -5.042099952697754, -4.947000026702881, -5.717299938201904, -6.162600040435791, -5.2845001220703125, -4.555799961090088, -3.777899980545044, -5.205399990081787, -6.19290018081665, -5.120200157165527, -5.502099990844727, -4.966899871826172, -5.296599864959717, -4.906599998474121, -5.070400238037109, -5.695899963378906, -4.939499855041504, -4.184299945831299, -5.485000133514404, -4.224100112915039, -5.2571001052856445, -4.211400032043457, -5.168799877166748, -5.300099849700928, -4.969299793243408, -5.3105998039245605, -5.1234002113342285, -4.901199817657471, -5.121699810028076, -5.19189977645874, -5.302700042724609, -5.395100116729736, -5.432199954986572, -5.995999813079834, -6.366600036621094, -6.5447998046875, -6.54580020904541, -4.857999801635742, -6.976399898529053, -7.191299915313721, -7.200300216674805, -7.233399868011475, -7.2895002365112305, -7.352799892425537, -7.379899978637695, -7.398600101470947, -7.503799915313721, -7.531599998474121, -7.537600040435791, -7.542399883270264, -7.546800136566162, -7.594099998474121, -7.643599987030029, -7.6894001960754395, -7.7058000564575195, -7.73769998550415, -7.758600234985352, -7.752600193023682, -7.774499893188477, -7.781300067901611, -7.827600002288818, -7.852700233459473, -7.868800163269043, -5.147299766540527, -6.642600059509277, -6.423399925231934, -4.908100128173828, -6.185100078582764, -6.748700141906738, -6.32420015335083, -6.552199840545654, -6.931300163269043, -5.783699989318848, -6.242800235748291, -6.2154998779296875, -5.615900039672852, -5.143700122833252, -6.170100212097168, -6.365900039672852, -6.620800018310547, -5.232600212097168, -6.586999893188477, -5.224599838256836, -6.104400157928467, -5.30620002746582, -4.581900119781494, -5.029200077056885, -5.736100196838379, -3.998800039291382, -6.062600135803223, -3.5977001190185547, -5.828199863433838, -5.6595001220703125, -5.466899871826172, -4.692999839782715, -5.59630012512207, -4.9369001388549805, -4.683899879455566, -4.993100166320801, -5.309700012207031, -4.308899879455566, -5.4868998527526855, -4.567200183868408, -4.814499855041504, -5.026899814605713, -5.361299991607666, -5.240200042724609, -4.792500019073486, -5.307199954986572, -5.415200233459473, -5.273799896240234, -5.250899791717529, -5.327499866485596, -5.460400104522705]}, \"token.table\": {\"Topic\": [1, 2, 7, 8, 9, 10, 2, 3, 4, 5, 6, 7, 8, 9, 10, 2, 7, 8, 9, 9, 2, 4, 7, 9, 10, 9, 1, 1, 2, 5, 10, 4, 5, 2, 5, 9, 10, 1, 7, 2, 3, 9, 2, 5, 7, 10, 5, 2, 4, 5, 7, 9, 10, 3, 5, 7, 8, 9, 10, 6, 6, 8, 9, 2, 3, 7, 8, 9, 10, 1, 4, 1, 8, 2, 4, 5, 7, 9, 10, 5, 6, 2, 7, 7, 7, 3, 1, 6, 2, 3, 7, 8, 9, 10, 2, 7, 8, 9, 10, 2, 4, 5, 7, 10, 4, 2, 9, 10, 9, 5, 6, 4, 2, 4, 2, 4, 5, 3, 5, 3, 10, 5, 7, 8, 9, 10, 2, 4, 5, 7, 9, 4, 2, 4, 5, 9, 10, 6, 2, 3, 5, 7, 8, 9, 10, 4, 1, 10, 7, 8, 9, 7, 6, 9, 5, 7, 10, 10, 10, 5, 4, 4, 3, 8, 2, 7, 9, 10, 4, 10, 2, 4, 5, 7, 9, 10, 3, 5, 2, 7, 2, 10, 6, 8, 5, 10, 10, 10, 2, 7, 1, 3, 2, 7, 8, 2, 1, 9, 4, 5, 7, 9, 3, 2, 6, 2, 2, 5, 7, 9, 10, 2, 7, 9, 8, 9, 3, 2, 3, 5, 7, 8, 9, 10, 2, 4, 5, 7, 9, 10, 1, 2, 5, 10, 3, 10, 4, 5, 7, 1, 9, 5, 7, 9, 10, 4, 5, 7, 9, 10, 7, 8, 9, 2, 6, 7, 10, 5, 10, 10, 7, 4, 2, 4, 5, 7, 10, 9, 10, 3, 1, 2, 7, 8, 9, 1, 6, 2, 3, 5, 7, 9, 10, 5, 8, 9, 8, 2, 4, 5, 7, 8, 9, 10, 1, 8, 9, 10, 2, 6, 7, 9, 5, 1, 6, 1, 7, 2, 7, 6, 6, 7, 8, 2, 5, 10, 8, 9, 5, 2, 4, 5, 7, 9, 10, 2, 5, 5, 8, 10, 9, 7, 1, 7, 9, 4, 4, 1, 7, 2, 7, 5, 7, 10, 6, 4, 7, 1, 3, 3, 7, 1, 5, 7, 5, 7, 8, 9, 10, 1, 1, 6, 2, 4, 5, 7, 9, 10, 2, 5, 7, 8, 9, 10, 2, 4, 5, 7, 8, 9, 10, 4, 5, 7, 8, 9, 10, 9, 5, 2, 2, 5, 7, 8, 9, 10, 5, 4, 9, 5, 2, 3, 5, 7, 8, 9, 10, 2, 3, 5, 7, 8, 10, 7, 2, 4, 5, 6, 7, 10, 4, 8, 3, 5, 2, 10, 4, 9, 2, 3, 4, 7, 8, 9, 10, 3, 3, 2, 4, 2, 7, 10, 2, 4, 5, 7, 8, 10, 8, 9, 5, 5, 7, 8, 9, 10, 4, 5, 7, 10, 9, 4, 2, 7, 9, 3, 4, 5, 7, 9, 10, 4, 5, 2, 7, 10, 4, 2, 4, 7, 9, 10, 3, 9, 10, 7, 8, 10, 10, 5, 2, 5, 7, 8, 9, 10, 7, 2, 5, 7, 8, 9, 10, 10, 2, 4, 5, 7, 10, 2, 3, 4, 5, 7, 8, 10, 9, 9, 6, 8, 4, 5, 7, 8, 9, 10, 10, 2, 3, 5, 7, 9, 10, 2, 7, 8, 2, 9, 7, 7, 3, 10, 2, 5, 8, 10, 9, 10, 1, 10, 2, 7, 9, 10, 5, 7, 9, 10, 10, 7, 9, 1, 10, 7, 9, 3, 2, 3, 4, 7, 8, 9, 10, 4, 9, 3, 8, 2, 2, 4, 5, 7, 10, 1, 2, 3, 4, 5, 6, 7, 8, 9, 10, 2, 4, 5, 7, 8, 9, 10, 2, 4, 7, 9, 3, 8, 10, 6, 9, 6, 2, 7, 1, 9, 10, 5, 8, 1, 4, 7, 2, 5, 7, 9, 3, 3, 2, 3, 4, 7, 10, 2, 4, 8, 9, 4, 10, 8, 1, 6, 8, 5, 5, 10, 4, 2, 4, 5, 10, 2, 3, 4, 7, 8, 9, 10, 8, 2, 4, 5, 7, 8, 9, 10, 5, 2, 4, 10, 5, 10, 2, 5, 7, 8, 9, 10, 2, 1, 2, 4, 5, 8, 9, 10, 2, 3, 4, 5, 7, 8, 9, 10, 1, 2, 10, 9, 4, 5, 7, 9, 10, 4, 2, 3, 7, 8, 9, 10, 2, 5, 7, 9, 10, 6, 2, 3, 5, 7, 8, 9, 10, 4, 10, 2, 7, 8, 2, 3, 4, 5, 7, 8, 9, 10, 3, 8, 7, 8, 9, 1, 5, 7, 10, 4, 7, 10, 9, 3, 7, 10, 3, 2, 6, 7, 3, 2, 5, 7, 9, 10, 1, 10, 2, 9, 2, 4, 5, 7, 8, 9, 10, 2, 1, 1, 2, 7, 5, 8, 9, 10, 5, 2, 3, 4, 5, 7, 10, 10, 4, 5, 2, 3, 7, 8, 9, 10, 2, 4, 5, 7, 8, 9, 10, 2, 5, 7, 8, 9, 10, 2, 4, 5, 7, 9, 10, 2, 3, 4, 5, 7, 9, 10, 3, 1, 2, 4, 5, 7, 8, 10, 2, 5, 10, 2, 5, 2, 4, 6, 2, 4, 5, 7, 8, 9, 10, 6, 8, 6, 10, 8, 7, 5, 6, 2, 3, 4, 5, 7, 8, 9, 10, 8, 2, 7, 9, 10, 10, 7, 9, 2, 4, 7, 8, 1, 2, 3, 4, 5, 7, 10, 2, 4, 5, 7, 10, 7, 5, 1, 2, 4, 7, 10, 5, 7, 8, 9, 10, 3, 9, 10, 7, 10, 2, 4, 5, 5, 10, 2, 3, 4, 5, 7, 8, 9, 10, 3, 4, 9, 2, 7, 8, 2, 4, 5, 7, 10, 10, 9, 4, 4, 2, 4, 5, 7, 10, 3, 4, 5, 7, 5, 6, 2, 4, 10, 7, 7, 4, 5, 7, 10, 1, 2, 2, 3, 4, 5, 7, 9, 10, 8, 9, 2, 5, 7, 8, 9, 10, 4, 2, 8, 8, 7, 3, 4, 9, 10, 5, 10, 5, 8, 7, 8, 9, 10, 1, 8, 10, 2, 3, 5, 7, 9, 10, 5, 10, 9, 8, 10, 2, 4, 5, 7, 9, 10, 2, 4, 5, 7, 8, 9, 10, 3, 3, 2, 7, 3, 8, 7, 3, 2, 4, 1, 3, 9, 2, 3, 5, 7, 8, 10, 2, 4, 7, 9, 10, 2, 5, 6, 7, 8, 9, 10, 2, 3, 5, 7, 9, 10, 8, 6, 8, 4, 8, 2, 5, 10, 2, 4, 7, 1, 7, 1, 5, 7, 10, 8, 2, 4, 5, 10, 9, 2, 4, 5, 7, 10, 2, 2, 1, 7, 6, 2, 2, 4, 4, 2, 8, 9, 5, 6, 7, 5, 8, 9, 10, 6, 2, 5, 7, 8, 9, 10, 8, 1, 7, 2, 2, 5, 10, 1, 9, 2, 3, 4, 5, 7, 8, 9, 10, 2, 3, 4, 5, 7, 9, 10, 3, 9, 5, 10, 1, 4, 2, 10, 5, 10, 2, 4, 7, 9, 10, 3, 4, 5, 6, 7, 8, 9, 10, 3, 9, 1, 4, 7, 9, 10, 6, 2, 7, 8, 9, 7, 8, 1, 8, 2, 4, 7, 8, 5, 7, 2, 2, 3, 4, 5, 7, 8, 9, 10, 2, 3, 4, 7, 9, 10, 7, 2, 7, 2, 3, 5, 7, 9, 10, 6, 2, 3, 5, 7, 8, 9, 10, 6, 6, 2, 3, 5, 7, 8, 9, 10, 1, 8, 2, 4, 10, 3, 2, 4, 2, 3, 4, 7, 9, 10, 1, 8, 1, 6, 1, 10, 10, 7, 2, 7, 8, 9, 10, 3, 7, 9, 10, 4, 5, 8, 10, 4, 6, 10, 3, 2, 4, 5, 8, 10, 5, 10, 3, 3, 5, 7, 8, 9, 10, 4, 7, 2, 7, 8, 9, 10, 2, 3, 5, 10, 2, 5, 10, 2, 2, 5, 6, 8, 4, 4, 2, 4, 10, 2, 8, 9, 10, 2, 3, 5, 7, 9, 10, 8, 9, 2, 4, 5, 7, 9, 10, 3, 10, 3, 6, 7, 9, 10, 2, 3, 8, 9, 10, 2, 4, 5, 7, 10, 2, 6, 7, 2, 5, 7, 8, 9, 10, 8, 2, 4, 5, 7, 9, 10, 2, 2, 2, 4, 5, 7, 8, 9, 10, 2, 3, 7, 9, 10, 3, 4, 9, 8, 6, 6], \"Freq\": [0.19795642793178558, 0.2078542560338974, 0.17816078662872314, 0.029693463817238808, 0.07918257266283035, 0.3068324625492096, 0.09149045497179031, 0.025893524289131165, 0.05869198963046074, 0.17434974014759064, 0.005178704857826233, 0.12428891658782959, 0.08113304525613785, 0.25893524289131165, 0.17952844500541687, 0.34544527530670166, 0.09182722866535187, 0.030609076842665672, 0.5290997624397278, 0.9610865116119385, 0.32498782873153687, 0.2986374795436859, 0.07905109971761703, 0.05562854930758476, 0.24008110165596008, 0.9609506726264954, 0.8924936652183533, 0.8849421143531799, 0.9906460046768188, 0.7453028559684753, 0.2528706192970276, 0.08335309475660324, 0.9168840050697327, 0.136544868350029, 0.03690401837229729, 0.03690401837229729, 0.7897459864616394, 0.5155479907989502, 0.44189828634262085, 0.20990274846553802, 0.23614059388637543, 0.5509946942329407, 0.8492397665977478, 0.06133398413658142, 0.00943599734455347, 0.07548797875642776, 0.9150726795196533, 0.14851954579353333, 0.0656249150633812, 0.1692432016134262, 0.277466744184494, 0.020723657682538033, 0.31776273250579834, 0.014596642926335335, 0.1686723232269287, 0.24814292788505554, 0.02919328585267067, 0.4054622948169708, 0.13136978447437286, 0.975259006023407, 0.7358413338661194, 0.229950413107872, 0.9855351448059082, 0.6408252716064453, 0.012443209066987038, 0.055994439870119095, 0.11821048706769943, 0.03732962906360626, 0.13376450538635254, 0.9350283741950989, 0.9831441640853882, 0.8550362586975098, 0.9915733933448792, 0.04820425063371658, 0.11028548330068588, 0.41119688749313354, 0.11174622178077698, 0.027753964066505432, 0.2906862497329712, 0.9173044562339783, 0.986804187297821, 0.7335377931594849, 0.2604275941848755, 0.9592610597610474, 0.9709807634353638, 0.9340221285820007, 0.9661504030227661, 0.9402303099632263, 0.13153742253780365, 0.014850999228656292, 0.09971385449171066, 0.05303928256034851, 0.029701998457312584, 0.670416533946991, 0.30253520607948303, 0.10609741508960724, 0.21534624695777893, 0.10084506869316101, 0.2741725444793701, 0.437487930059433, 0.06413435935974121, 0.4603930711746216, 0.034357693046331406, 0.0034357691183686256, 0.936716616153717, 0.12215038388967514, 0.028741266578435898, 0.8406820297241211, 0.9845446944236755, 0.3068847954273224, 0.6137695908546448, 0.9284518361091614, 0.20875747501850128, 0.7805714011192322, 0.43962204456329346, 0.45806771516799927, 0.10145124047994614, 0.8766546845436096, 0.9236515760421753, 0.012959477491676807, 0.9849202632904053, 0.08721929788589478, 0.06197160482406616, 0.05049538239836693, 0.08033356070518494, 0.7184115648269653, 0.326351523399353, 0.3870476186275482, 0.22870995104312897, 0.023750649765133858, 0.034306492656469345, 0.9168701171875, 0.14621226489543915, 0.3662843406200409, 0.43863680958747864, 0.027132174000144005, 0.022610144689679146, 0.8776975274085999, 0.00777406943961978, 0.05441848561167717, 0.3057800531387329, 0.13215917348861694, 0.1425246000289917, 0.22156096994876862, 0.13604621589183807, 0.9685899019241333, 0.8686714172363281, 0.986320972442627, 0.06671828031539917, 0.016679570078849792, 0.9006967544555664, 0.9818922281265259, 0.9554722905158997, 0.9774975776672363, 0.021765761077404022, 0.054414402693510056, 0.9141619801521301, 0.985893964767456, 0.9692334532737732, 0.969002366065979, 0.956502377986908, 0.9283550977706909, 0.8086932301521301, 0.16173864901065826, 0.6954562067985535, 0.018005337566137314, 0.22956806421279907, 0.05626668035984039, 0.9332148432731628, 0.9526698589324951, 0.0017279458697885275, 0.07464726269245148, 0.5539794564247131, 0.35526567697525024, 0.0020735349971801043, 0.012095620855689049, 0.9208166599273682, 0.9625941514968872, 0.9910794496536255, 0.9592244029045105, 0.9908874034881592, 0.9854172468185425, 0.9200544357299805, 0.9452492594718933, 0.9426660537719727, 0.9647525548934937, 0.978366494178772, 0.9712357521057129, 0.7889716029167175, 0.2084847241640091, 0.27922219038009644, 0.6701332330703735, 0.14958767592906952, 0.6701527833938599, 0.17950521409511566, 0.9948318600654602, 0.8685322999954224, 0.9504881501197815, 0.04189179837703705, 0.09774753451347351, 0.13963933289051056, 0.6981966495513916, 0.9220114946365356, 0.9873039722442627, 0.8583282232284546, 0.9852173328399658, 0.2941499948501587, 0.05843384191393852, 0.577405571937561, 0.04952020198106766, 0.020798485726118088, 0.6179596781730652, 0.3032579720020294, 0.07724495977163315, 0.8924881815910339, 0.091537244617939, 0.9443750977516174, 0.9907131195068359, 0.0033970980439335108, 0.24798814952373505, 0.0033970980439335108, 0.3397098183631897, 0.08153035491704941, 0.322724312543869, 0.05691633000969887, 0.11672181636095047, 0.5720524787902832, 0.1493692547082901, 0.022535400465130806, 0.08234088867902756, 0.9530063271522522, 0.09075499325990677, 0.6316056847572327, 0.27717065811157227, 0.5143529772758484, 0.45720264315605164, 0.6911231279373169, 0.04531954973936081, 0.26285338401794434, 0.943591833114624, 0.9566689133644104, 0.056085363030433655, 0.12619206309318542, 0.7150883674621582, 0.0981493890285492, 0.18207143247127533, 0.5728155970573425, 0.1123167872428894, 0.07034578174352646, 0.06206980347633362, 0.07734290510416031, 0.8507720232009888, 0.06629392504692078, 0.9765402674674988, 0.444766640663147, 0.35581329464912415, 0.17790664732456207, 0.7862794399261475, 0.21335022151470184, 0.9578298926353455, 0.9768743515014648, 0.9886713027954102, 0.44412434101104736, 0.0035888836719095707, 0.05203881114721298, 0.3508133590221405, 0.14893867075443268, 0.704319953918457, 0.2874775230884552, 0.9483351111412048, 0.972230076789856, 0.07543355226516724, 0.48039260506629944, 0.3970186710357666, 0.047642242163419724, 0.965248703956604, 0.9251552224159241, 0.32601216435432434, 0.007793119642883539, 0.0012988533126190305, 0.3896559774875641, 0.03636788949370384, 0.23769015073776245, 0.9959242939949036, 0.9864137768745422, 0.9770386815071106, 0.9880142211914062, 0.014998607337474823, 0.01666511967778206, 0.5399498343467712, 0.10332373529672623, 0.00833255983889103, 0.08999164402484894, 0.22831213474273682, 0.9463853240013123, 0.8930163979530334, 0.031333908438682556, 0.07833477109670639, 0.2544443905353546, 0.46648138761520386, 0.1272221952676773, 0.1272221952676773, 0.96881103515625, 0.9329580068588257, 0.9084209203720093, 0.9260756373405457, 0.958182156085968, 0.34962230920791626, 0.6497620940208435, 0.8913944959640503, 0.6955199837684631, 0.2897999882698059, 0.9773609638214111, 0.9955016374588013, 0.6734759211540222, 0.32209718227386475, 0.9667266607284546, 0.9916660189628601, 0.9750476479530334, 0.7420799136161804, 0.007831977680325508, 0.12335364520549774, 0.12139565497636795, 0.001957994420081377, 0.001957994420081377, 0.9549878239631653, 0.029843369498848915, 0.4087866246700287, 0.03790074586868286, 0.5549752116203308, 0.9727250337600708, 0.9919594526290894, 0.9515363574028015, 0.08701322227716446, 0.8991366028785706, 0.976097822189331, 0.9825240969657898, 0.7684211730957031, 0.2119782567024231, 0.2562549412250519, 0.7410615682601929, 0.7349482178688049, 0.09162990748882294, 0.1737150251865387, 0.8832425475120544, 0.18756359815597534, 0.8038439750671387, 0.754737913608551, 0.18868447840213776, 0.9433233737945557, 0.9718500375747681, 0.9611323475837708, 0.05850183963775635, 0.9360294342041016, 0.2779407203197479, 0.12171260267496109, 0.1998266577720642, 0.0526815727353096, 0.3469717502593994, 0.8894805908203125, 0.9399937987327576, 0.9539616107940674, 0.35607707500457764, 0.01787259429693222, 0.04811852425336838, 0.29421040415763855, 0.08111408352851868, 0.20072299242019653, 0.06335055083036423, 0.04645707085728645, 0.4265603721141815, 0.02956358902156353, 0.18160490691661835, 0.2534022033214569, 0.11899393051862717, 0.02405196614563465, 0.39116090536117554, 0.17216143012046814, 0.031647324562072754, 0.043040357530117035, 0.21773357689380646, 0.007423007395118475, 0.5270335674285889, 0.19151359796524048, 0.031176632270216942, 0.07719928026199341, 0.16479076445102692, 0.9382254481315613, 0.98130863904953, 0.9814333915710449, 0.12041469663381577, 0.10034558176994324, 0.2224327027797699, 0.3110713064670563, 0.17393234372138977, 0.07024190574884415, 0.9404488205909729, 0.035514555871486664, 0.9411357045173645, 0.9498258829116821, 0.042188193649053574, 0.039063140749931335, 0.1281270980834961, 0.16562771797180176, 0.04375071823596954, 0.275004506111145, 0.30469250679016113, 0.16187967360019684, 0.07241985201835632, 0.25985947251319885, 0.1320597231388092, 0.03407993167638779, 0.3322793245315552, 0.9804354310035706, 0.062062036246061325, 0.008866005577147007, 0.8334044814109802, 0.017732011154294014, 0.07092804461717606, 0.008866005577147007, 0.976150393486023, 0.9966533780097961, 0.931918740272522, 0.9715813398361206, 0.9856643080711365, 0.9875683784484863, 0.8947833180427551, 0.08134394139051437, 0.44415104389190674, 0.0029029478318989277, 0.0014514739159494638, 0.2380417287349701, 0.01886916160583496, 0.19740046560764313, 0.09870023280382156, 0.9394468665122986, 0.9458540678024292, 0.07004248350858688, 0.9105523228645325, 0.13709206879138947, 0.8225523829460144, 0.02284867689013481, 0.6575738787651062, 0.12576550245285034, 0.007186600007116795, 0.08803585171699524, 0.0035933000035583973, 0.11678224802017212, 0.04377474635839462, 0.9411570429801941, 0.9698323011398315, 0.9739465713500977, 0.9840709567070007, 0.9714383482933044, 0.012698540464043617, 0.012698540464043617, 0.2007857859134674, 0.47870269417762756, 0.21670173108577728, 0.10284149646759033, 0.9665970802307129, 0.9974842667579651, 0.2107759267091751, 0.03242706507444382, 0.7458224892616272, 0.889570415019989, 0.0023693162947893143, 0.6098620295524597, 0.2501997947692871, 0.0672885850071907, 0.07013176381587982, 0.9512608647346497, 0.9589685201644897, 0.3446129262447357, 0.6289185881614685, 0.025845970958471298, 0.9299651384353638, 0.1450585424900055, 0.4593520164489746, 0.14102913439273834, 0.04432344064116478, 0.20952899754047394, 0.12192649394273758, 0.04741585999727249, 0.833164393901825, 0.06973896920681, 0.6741433143615723, 0.25570952892303467, 0.9479963183403015, 0.9359865188598633, 0.3902013301849365, 0.11706040054559708, 0.24619846045970917, 0.007432406302541494, 0.006503355223685503, 0.23226270079612732, 0.9541959762573242, 0.07053134590387344, 0.028212539851665497, 0.056425079703330994, 0.6206758618354797, 0.16222210228443146, 0.06347820907831192, 0.9710778594017029, 0.09048229455947876, 0.07225564122200012, 0.6555083990097046, 0.12075155228376389, 0.06053851172327995, 0.6278221011161804, 0.007609965279698372, 0.015219930559396744, 0.005707473959773779, 0.22259147465229034, 0.009512456133961678, 0.11034449189901352, 0.9834721684455872, 0.9649471044540405, 0.9586125016212463, 0.9411472082138062, 0.011325974948704243, 0.5102649927139282, 0.11951883882284164, 0.008345454931259155, 0.029805196449160576, 0.32070392370224, 0.9435113072395325, 0.10161826014518738, 0.18291287124156952, 0.04064730554819107, 0.20323652029037476, 0.21339835226535797, 0.24388383328914642, 0.11601785570383072, 0.24326324462890625, 0.6362269520759583, 0.986907958984375, 0.9954330921173096, 0.9628351926803589, 0.9835020899772644, 0.6324360370635986, 0.3405424654483795, 0.37735387682914734, 0.0343048982322216, 0.5360140204429626, 0.04716923460364342, 0.06433862447738647, 0.9168253540992737, 0.7732346653938293, 0.20348282158374786, 0.10758215934038162, 0.8466247916221619, 0.023387424647808075, 0.01870994083583355, 0.5487467646598816, 0.33673095703125, 0.049106597900390625, 0.0654754638671875, 0.9640328884124756, 0.06341742724180222, 0.9240825176239014, 0.05408782884478569, 0.9330150485038757, 0.962221622467041, 0.9946058988571167, 0.9688600301742554, 0.038895633071660995, 0.08132722973823547, 0.0565754659473896, 0.17679832875728607, 0.16619043052196503, 0.3005571663379669, 0.17679832875728607, 0.9551655650138855, 0.9561754465103149, 0.9498833417892456, 0.9982709288597107, 0.9860470294952393, 0.09151614457368851, 0.4518609642982483, 0.1944718062877655, 0.16587300598621368, 0.09342273324728012, 0.0030875953380018473, 0.16271626949310303, 0.0001543797698104754, 0.001080658403225243, 0.30567193031311035, 0.004322633612900972, 0.18016119301319122, 0.039984360337257385, 0.05449605733156204, 0.24824266135692596, 0.22669437527656555, 0.007556479424238205, 0.17568814754486084, 0.09445599466562271, 0.018891198560595512, 0.31359389424324036, 0.16435343027114868, 0.20651118457317352, 0.027172524482011795, 0.7608307003974915, 0.9452213048934937, 0.16277475655078888, 0.4250229597091675, 0.41597992181777954, 0.8859104514122009, 0.9384762644767761, 0.8909199237823486, 0.12102355808019638, 0.8673354983329773, 0.8727341890335083, 0.9168566465377808, 0.08062338829040527, 0.9772852659225464, 0.9949029684066772, 0.9415712356567383, 0.15806564688682556, 0.8319244384765625, 0.05032052472233772, 0.04193377122282982, 0.7967416644096375, 0.11741455644369125, 0.9395518898963928, 0.9023752808570862, 0.1160181313753128, 0.007031402084976435, 0.1371123343706131, 0.07031401991844177, 0.6644675135612488, 0.2246873676776886, 0.5533966422080994, 0.0707349106669426, 0.14979158341884613, 0.6251842975616455, 0.3730091154575348, 0.9709914922714233, 0.6083988547325134, 0.27986347675323486, 0.10951179265975952, 0.9492345452308655, 0.09432823956012726, 0.9004058837890625, 0.9514018297195435, 0.002622961765155196, 0.45639532804489136, 0.2229517549276352, 0.31737837195396423, 0.2690640687942505, 0.02140282467007637, 0.006115092895925045, 0.13758958876132965, 0.0030575464479625225, 0.3638480305671692, 0.19568297266960144, 0.9518752694129944, 0.40980198979377747, 0.08492282032966614, 0.06912322342395782, 0.14417129755020142, 0.06221090257167816, 0.04641130939126015, 0.1836702823638916, 0.8999647498130798, 0.05654095485806465, 0.780265212059021, 0.14700648188591003, 0.34825968742370605, 0.649638295173645, 0.005021166987717152, 0.6332249641418457, 0.032916538417339325, 0.0189688540995121, 0.010042333975434303, 0.3001542091369629, 0.9888622164726257, 0.9849932789802551, 0.117486871778965, 0.09256541728973389, 0.032041873782873154, 0.5482720732688904, 0.024921458214521408, 0.1815706193447113, 0.15994733572006226, 0.05664801225066185, 0.05331577733159065, 0.14995062351226807, 0.07330919057130814, 0.026657888665795326, 0.029990125447511673, 0.4498518705368042, 0.9645246863365173, 0.9260786771774292, 0.07243072986602783, 0.9437958002090454, 0.06717506051063538, 0.2895476520061493, 0.04169486463069916, 0.09728801250457764, 0.5049711465835571, 0.9378919005393982, 0.20904694497585297, 0.0032920779194682837, 0.5135641694068909, 0.055965323001146317, 0.14814350008964539, 0.06913363188505173, 0.029767468571662903, 0.023813975974917412, 0.07144192606210709, 0.09525590389966965, 0.7799077033996582, 0.9240261912345886, 0.07505699247121811, 0.028146373108029366, 0.011727655306458473, 0.5699640512466431, 0.11727654933929443, 0.06332933902740479, 0.13369527459144592, 0.9856590628623962, 0.9930249452590942, 0.17057815194129944, 0.44290468096733093, 0.38305267691612244, 0.0785064771771431, 0.03819234296679497, 0.025461561977863312, 0.24400663375854492, 0.016974374651908875, 0.06577569991350174, 0.17398732900619507, 0.35646185278892517, 0.9744812250137329, 0.9279641509056091, 0.7525988221168518, 0.06102152541279793, 0.18306457996368408, 0.04525763913989067, 0.7241222262382507, 0.22125957906246185, 0.9734215140342712, 0.9974927306175232, 0.9636572599411011, 0.9659332633018494, 0.9685919284820557, 0.010191786102950573, 0.2904658913612366, 0.6981373429298401, 0.9682325720787048, 0.9818373322486877, 0.9635065197944641, 0.960791289806366, 0.9821717143058777, 0.22384092211723328, 0.11192046105861664, 0.5823657512664795, 0.0018969569355249405, 0.0796721950173378, 0.8817052245140076, 0.963624894618988, 0.9665338397026062, 0.015102091245353222, 0.1568281054496765, 0.06840374320745468, 0.09509789198637009, 0.1935325413942337, 0.1751803159713745, 0.0016683840658515692, 0.3103194236755371, 0.985565185546875, 0.9431354403495789, 0.4528648853302002, 0.29112744331359863, 0.25877994298934937, 0.027080729603767395, 0.7402065992355347, 0.036107636988162994, 0.18956510722637177, 0.9762861728668213, 0.2504394054412842, 0.002158960560336709, 0.06908673793077469, 0.18782955408096313, 0.3950897753238678, 0.09499426186084747, 0.9849153757095337, 0.9526826739311218, 0.9183310866355896, 0.5982262492179871, 0.005270715802907944, 0.12649717926979065, 0.047436442226171494, 0.1317678987979889, 0.09223752468824387, 0.18000884354114532, 0.09421023726463318, 0.11439814418554306, 0.050469771027565, 0.2775837481021881, 0.1985144317150116, 0.08579861372709274, 0.2919795513153076, 0.16834856569766998, 0.2406858503818512, 0.14730499684810638, 0.021043570712208748, 0.12889187037944794, 0.03731255605816841, 0.13584668934345245, 0.5245493650436401, 0.11483573168516159, 0.014490312896668911, 0.1724347323179245, 0.519055962562561, 0.0007014269940555096, 0.021042808890342712, 0.12765970826148987, 0.13958397507667542, 0.05330844968557358, 0.13818112015724182, 0.9271249771118164, 0.007389600854367018, 0.5562354326248169, 0.21765732765197754, 0.0893469899892807, 0.11017223447561264, 0.001343563781119883, 0.018138110637664795, 0.6924538612365723, 0.20698349177837372, 0.09784673899412155, 0.8513275384902954, 0.14632192254066467, 0.9209513664245605, 0.05705008655786514, 0.016300024464726448, 0.5473276972770691, 0.03287408500909805, 0.06419913470745087, 0.21359550952911377, 0.0034423128236085176, 0.0025817344430834055, 0.13579924404621124, 0.9674816131591797, 0.9683416485786438, 0.9604626893997192, 0.9934195876121521, 0.983738899230957, 0.9676620960235596, 0.950217068195343, 0.9113121628761292, 0.38995230197906494, 0.01757150888442993, 0.08447840809822083, 0.08380258083343506, 0.18247336149215698, 0.010813236236572266, 0.08988502621650696, 0.14124789834022522, 0.9603130221366882, 0.17464864253997803, 0.7721308469772339, 0.03676813840866089, 0.9853405356407166, 0.9874143600463867, 0.9921731352806091, 0.9585306644439697, 0.8290810585021973, 0.04841349273920059, 0.09682698547840118, 0.018155058845877647, 0.9473313689231873, 0.12284525483846664, 0.01083928719162941, 0.04335714876651764, 0.16258931159973145, 0.036130957305431366, 0.6250655651092529, 0.24751293659210205, 0.019336948171257973, 0.3557998538017273, 0.002578259678557515, 0.3738476634025574, 0.9600601196289062, 0.9595414400100708, 0.12857624888420105, 0.46485263109207153, 0.1582476943731308, 0.06923336535692215, 0.16813817620277405, 0.29048553109169006, 0.033823657780885696, 0.08356432616710663, 0.09749171137809753, 0.49342745542526245, 0.8932068943977356, 0.9373606443405151, 0.9762672781944275, 0.9441965818405151, 0.9771544933319092, 0.10013110190629959, 0.6808914542198181, 0.21528185904026031, 0.9714447855949402, 0.973759114742279, 0.1718195676803589, 0.05727319046854973, 0.040807150304317474, 0.2741954028606415, 0.06658008694648743, 0.01002280879765749, 0.07731880992650986, 0.30140015482902527, 0.984453022480011, 0.17481108009815216, 0.8104877471923828, 0.08429385721683502, 0.07663077861070633, 0.8352755308151245, 0.09746424853801727, 0.1325864940881729, 0.1993187814950943, 0.043024759739637375, 0.527711808681488, 0.9879575371742249, 0.9732646346092224, 0.9799181222915649, 0.984727144241333, 0.18199241161346436, 0.10649926215410233, 0.5419329404830933, 0.04313893988728523, 0.1267206370830536, 0.30717602372169495, 0.03839700296521187, 0.5183595418930054, 0.1343895047903061, 0.975326418876648, 0.9299032092094421, 0.016140924766659737, 0.8312576413154602, 0.15333878993988037, 0.971887469291687, 0.985998272895813, 0.07760223746299744, 0.7074436545372009, 0.0270705483853817, 0.1894938349723816, 0.6067688465118408, 0.3861256241798401, 0.09054971486330032, 0.0012073295656591654, 0.07726909220218658, 0.22456328570842743, 0.307869017124176, 0.024146590381860733, 0.2728564739227295, 0.7907314896583557, 0.19960211217403412, 0.015881311148405075, 0.5629042387008667, 0.16234228014945984, 0.02117508091032505, 0.026468850672245026, 0.20998622477054596, 0.9878745675086975, 0.9921907186508179, 0.9806607961654663, 0.9909077882766724, 0.9792702198028564, 0.06087788939476013, 0.03278040140867233, 0.0561949759721756, 0.8476075530052185, 0.5822467803955078, 0.41613519191741943, 0.9463317394256592, 0.9571629166603088, 0.07468736171722412, 0.8606829643249512, 0.05690465867519379, 0.0035565411671996117, 0.02470526471734047, 0.02470526471734047, 0.9511526823043823, 0.14279043674468994, 0.0028846552595496178, 0.2408687174320221, 0.05192379653453827, 0.0057693105190992355, 0.5538538098335266, 0.0758674368262291, 0.9179959893226624, 0.9422287344932556, 0.9517064094543457, 0.9825027585029602, 0.4353278577327728, 0.1492956280708313, 0.1830480694770813, 0.12778827548027039, 0.02778688445687294, 0.07645317912101746, 0.17974328994750977, 0.09278518706560135, 0.3424535393714905, 0.09009576588869095, 0.021515406668186188, 0.030031921342015266, 0.24339303374290466, 0.9846120476722717, 0.8933011889457703, 0.9308685660362244, 0.06205790117383003, 0.976548969745636, 0.9703363180160522, 0.9809088706970215, 0.9618318676948547, 0.05728480964899063, 0.9356518983840942, 0.9366968274116516, 0.4714919924736023, 0.49922680854797363, 0.20538067817687988, 0.01579851470887661, 0.033853959292173386, 0.19635295867919922, 0.2979148328304291, 0.24826236069202423, 0.013469476252794266, 0.727351725101471, 0.13469476997852325, 0.02693895250558853, 0.0808168575167656, 0.0007699508569203317, 0.23175521194934845, 0.0023098525125533342, 0.42501288652420044, 0.20095717906951904, 0.054666511714458466, 0.08392464369535446, 0.13823722302913666, 0.0036378218792378902, 0.12368594110012054, 0.1309615820646286, 0.36014434695243835, 0.24373406171798706, 0.9855307340621948, 0.48064881563186646, 0.5149809122085571, 0.08035820722579956, 0.9107263088226318, 0.9949901700019836, 0.13715873658657074, 0.8546044230461121, 0.3634105324745178, 0.6359684467315674, 0.9854640960693359, 0.5182048678398132, 0.4750211536884308, 0.014605468139052391, 0.31888604164123535, 0.5477050542831421, 0.11927798390388489, 0.9949776530265808, 0.027882570400834084, 0.7050307393074036, 0.2549263536930084, 0.011949673295021057, 0.9635617733001709, 0.19221153855323792, 0.35840949416160583, 0.17342394590377808, 0.007225997745990753, 0.2688071131706238, 0.9927858114242554, 0.9937536716461182, 0.46254926919937134, 0.5045992136001587, 0.9706704616546631, 0.9888884425163269, 0.9933990240097046, 0.9907923340797424, 0.9858788251876831, 0.10804779082536697, 0.8438017964363098, 0.04116106033325195, 0.16097761690616608, 0.8048880696296692, 0.9706627130508423, 0.9569640755653381, 0.7743551135063171, 0.10100284218788147, 0.11783664673566818, 0.9633238315582275, 0.017030341550707817, 0.5047173500061035, 0.30344972014427185, 0.005418744869530201, 0.09005437791347504, 0.07947492599487305, 0.9791508316993713, 0.6815059185028076, 0.22716863453388214, 0.9926161766052246, 0.9928621649742126, 0.9739832282066345, 0.024349579587578773, 0.9257235527038574, 0.9423390626907349, 0.11604637652635574, 0.004620113410055637, 0.0016306282486766577, 0.3397141993045807, 0.21605823934078217, 0.05734375864267349, 0.09865300357341766, 0.16578052937984467, 0.16914770007133484, 0.012404164299368858, 0.09190358221530914, 0.12460546940565109, 0.0772441178560257, 0.30728498101234436, 0.21707287430763245, 0.953701376914978, 0.920106828212738, 0.8488190174102783, 0.13058754801750183, 0.9558441042900085, 0.9581428170204163, 0.044739969074726105, 0.9535205960273743, 0.14329217374324799, 0.8513240218162537, 0.026729561388492584, 0.4484626352787018, 0.09800838679075241, 0.1722571700811386, 0.25541579723358154, 0.9485905170440674, 0.09568359702825546, 0.04975546896457672, 0.10333828628063202, 0.13395704329013824, 0.02296406403183937, 0.501382052898407, 0.09185625612735748, 0.6569971442222595, 0.3065986633300781, 0.9570890069007874, 0.1996927410364151, 0.10384022444486618, 0.6230413913726807, 0.06390167772769928, 0.9496434330940247, 0.08405499160289764, 0.0952623188495636, 0.8069279193878174, 0.011207331903278828, 0.9109126925468445, 0.08675359189510345, 0.8993465900421143, 0.9933464527130127, 0.9241976141929626, 0.06882322579622269, 0.0019137752242386341, 0.9951631426811218, 0.9124961495399475, 0.9662161469459534, 0.9833267331123352, 0.1719277799129486, 0.0014694682322442532, 0.0014694682322442532, 0.055839791893959045, 0.2740558087825775, 0.17780564725399017, 0.10433223843574524, 0.213807612657547, 0.201649010181427, 0.011861706152558327, 0.008896280080080032, 0.16606388986110687, 0.42109057307243347, 0.18682187795639038, 0.9854744672775269, 0.8963674306869507, 0.10025162249803543, 0.04022252932190895, 0.07240055501461029, 0.458536833524704, 0.02145201526582241, 0.11262308061122894, 0.29228371381759644, 0.971592366695404, 0.9782039523124695, 0.06182006374001503, 0.05151671916246414, 0.28849363327026367, 0.0875784233212471, 0.49971216917037964, 0.010303343646228313, 0.9051768779754639, 0.8714219331741333, 0.02221154421567917, 0.06057693809270859, 0.10298079252243042, 0.27259621024131775, 0.05855770781636238, 0.25038468837738037, 0.2301923632621765, 0.035911284387111664, 0.9516490697860718, 0.23290127515792847, 0.6152765154838562, 0.15295009315013885, 0.9233328104019165, 0.3381899893283844, 0.6594704985618591, 0.323498398065567, 0.007928882725536823, 0.22200870513916016, 0.1205190122127533, 0.07453149557113647, 0.2505526840686798, 0.8755522966384888, 0.1061275526881218, 0.5995135307312012, 0.35970810055732727, 0.9363435506820679, 0.9789961576461792, 0.9590665102005005, 0.9859557747840881, 0.2204160988330841, 0.4269377887248993, 0.1945219486951828, 0.1048397496342659, 0.05241987481713295, 0.22769542038440704, 0.0948730930685997, 0.24667005240917206, 0.42692893743515015, 0.0277207363396883, 0.7865759134292603, 0.04504619538784027, 0.13860368728637695, 0.9571571946144104, 0.06816210597753525, 0.9250571727752686, 0.8971060514450073, 0.01806977577507496, 0.028108539059758186, 0.050193820148706436, 0.03212404623627663, 0.8713647127151489, 0.12241657078266144, 0.8722180128097534, 0.9809333682060242, 0.03397134318947792, 0.13345885276794434, 0.03397134318947792, 0.3566991090774536, 0.2086811065673828, 0.23294635117053986, 0.2102576196193695, 0.7779531478881836, 0.17680351436138153, 0.6672906875610352, 0.01711001805961132, 0.01711001805961132, 0.12547346949577332, 0.08615917712450027, 0.002153979381546378, 0.17231835424900055, 0.7388149499893188, 0.04482255503535271, 0.5944886207580566, 0.35858044028282166, 0.9940769076347351, 0.9583063721656799, 0.037580642849206924, 0.961023211479187, 0.9789870381355286, 0.9070821404457092, 0.9764361381530762, 0.32480189204216003, 0.5759820342063904, 0.09744056314229965, 0.06918422877788544, 0.1591237336397171, 0.6918423175811768, 0.07610265165567398, 0.05015358701348305, 0.012538396753370762, 0.03761519119143486, 0.07836498320102692, 0.5297472476959229, 0.2883831262588501, 0.16267277300357819, 0.8336979746818542, 0.06846043467521667, 0.0480009950697422, 0.36433541774749756, 0.2148241251707077, 0.059017617255449295, 0.24472637474536896, 0.11176897585391998, 0.8717979788780212, 0.10861681401729584, 0.26068034768104553, 0.19551025331020355, 0.2389569878578186, 0.17378689348697662, 0.1449783444404602, 0.05576090142130852, 0.005576090421527624, 0.44608721137046814, 0.34014150500297546, 0.12571747601032257, 0.4141281545162201, 0.3956402838230133, 0.01848786324262619, 0.0443708710372448, 0.36071982979774475, 0.5861697196960449, 0.959132194519043, 0.969452440738678, 0.20470626652240753, 0.17351293563842773, 0.08383209258317947, 0.2320004403591156, 0.30608463287353516, 0.9755100607872009, 0.5749231576919556, 0.031141668558120728, 0.11019360274076462, 0.18205899000167847, 0.031141668558120728, 0.0694698765873909, 0.9917367696762085, 0.9891093373298645, 0.30562517046928406, 0.0033797412179410458, 0.3147987425327301, 0.19795626401901245, 0.014484604820609093, 0.01834716647863388, 0.14532886445522308, 0.04885705187916756, 0.05637352168560028, 0.07516469806432724, 0.5787681341171265, 0.23676879703998566, 0.15523025393486023, 0.0044351499527692795, 0.8338082432746887, 0.9842938184738159, 0.9425984025001526, 0.9930757284164429], \"Term\": [\"'\", \"'\", \"'\", \"'\", \"'\", \"'\", \"'s\", \"'s\", \"'s\", \"'s\", \"'s\", \"'s\", \"'s\", \"'s\", \"'s\", \"'ve\", \"'ve\", \"'ve\", \"'ve\", \"13\", \"2\", \"2\", \"2\", \"2\", \"2\", \"22\", \"300\", \"77\", \"ac\", \"access\", \"access\", \"accomodating\", \"accomodating\", \"across\", \"across\", \"across\", \"across\", \"add\", \"add\", \"ago\", \"ago\", \"ago\", \"air\", \"air\", \"air\", \"air\", \"alright\", \"also\", \"also\", \"also\", \"also\", \"also\", \"also\", \"always\", \"always\", \"always\", \"always\", \"always\", \"always\", \"anaheim\", \"angel\", \"angel\", \"anniversary\", \"another\", \"another\", \"another\", \"another\", \"another\", \"another\", \"antonio\", \"apartment\", \"appliances\", \"appreciate\", \"area\", \"area\", \"area\", \"area\", \"area\", \"area\", \"arena\", \"aria\", \"asked\", \"asked\", \"assigned\", \"attendant\", \"austin\", \"availability\", \"avons\", \"away\", \"away\", \"away\", \"away\", \"away\", \"away\", \"back\", \"back\", \"back\", \"back\", \"back\", \"bad\", \"bad\", \"bad\", \"bad\", \"bad\", \"balconies\", \"balcony\", \"balcony\", \"balcony\", \"baltimore\", \"baseball\", \"baseball\", \"basketball\", \"bath\", \"bath\", \"bathroom\", \"bathroom\", \"bathroom\", \"baymont\", \"bbq\", \"beach\", \"beach\", \"beautiful\", \"beautiful\", \"beautiful\", \"beautiful\", \"beautiful\", \"bed\", \"bed\", \"bed\", \"bed\", \"bed\", \"bedrooms\", \"beds\", \"beds\", \"beds\", \"beds\", \"beds\", \"belle\", \"best\", \"best\", \"best\", \"best\", \"best\", \"best\", \"best\", \"beverages\", \"bien\", \"bike\", \"birthday\", \"birthday\", \"birthday\", \"biscuits\", \"bites\", \"blankets\", \"block\", \"block\", \"block\", \"blocks\", \"boardwalk\", \"boats\", \"body\", \"boiled\", \"boise\", \"boise\", \"booked\", \"booked\", \"booked\", \"booked\", \"bothered\", \"bourbon\", \"breakfast\", \"breakfast\", \"breakfast\", \"breakfast\", \"breakfast\", \"breakfast\", \"brewery\", \"bricktown\", \"broken\", \"bug\", \"bugs\", \"buildings\", \"burns\", \"butler\", \"bwi\", \"cabin\", \"cabins\", \"california\", \"called\", \"called\", \"cancelled\", \"cancelled\", \"care\", \"care\", \"care\", \"carpet\", \"carrollton\", \"celebrating\", \"chain\", \"chain\", \"chain\", \"chain\", \"chains\", \"chair\", \"chambre\", \"charged\", \"check\", \"check\", \"check\", \"check\", \"check\", \"checked\", \"checked\", \"checked\", \"choosing\", \"choosing\", \"church\", \"cigarette\", \"city\", \"city\", \"city\", \"city\", \"city\", \"city\", \"clean\", \"clean\", \"clean\", \"clean\", \"clean\", \"clean\", \"clerks\", \"close\", \"close\", \"close\", \"coast\", \"coast\", \"coffee\", \"coffee\", \"coffee\", \"colorado\", \"columbus\", \"comfort\", \"comfort\", \"comfort\", \"comfort\", \"comfortable\", \"comfortable\", \"comfortable\", \"comfortable\", \"comfortable\", \"comments\", \"comments\", \"comments\", \"conditioning\", \"continue\", \"continue\", \"continue\", \"convenient\", \"convenient\", \"cook\", \"cooked\", \"couch\", \"could\", \"could\", \"could\", \"could\", \"could\", \"cozy\", \"cozy\", \"crown\", \"curtains\", \"customer\", \"customer\", \"customer\", \"customer\", \"damp\", \"das\", \"day\", \"day\", \"day\", \"day\", \"day\", \"day\", \"dc\", \"de\", \"dead\", \"dear\", \"definitely\", \"definitely\", \"definitely\", \"definitely\", \"definitely\", \"definitely\", \"definitely\", \"del\", \"delighted\", \"delighted\", \"delighted\", \"deliver\", \"deliver\", \"deliver\", \"deliver\", \"dells\", \"der\", \"des\", \"description\", \"desired\", \"desk\", \"desk\", \"di\", \"die\", \"die\", \"director\", \"dirty\", \"distance\", \"distance\", \"dixie\", \"dogs\", \"donuts\", \"door\", \"door\", \"door\", \"door\", \"door\", \"door\", \"doors\", \"doors\", \"downtown\", \"downtown\", \"downtown\", \"drinking\", \"driver\", \"drunk\", \"drury\", \"drury\", \"dry\", \"dryer\", \"e\", \"e\", \"early\", \"early\", \"easy\", \"easy\", \"easy\", \"edgar\", \"eggs\", \"eggs\", \"el\", \"el\", \"electrical\", \"embassy\", \"en\", \"encountered\", \"encountered\", \"enjoyed\", \"enjoyed\", \"enjoyed\", \"enjoyed\", \"enjoyed\", \"era\", \"es\", \"et\", \"even\", \"even\", \"even\", \"even\", \"even\", \"even\", \"every\", \"every\", \"every\", \"every\", \"every\", \"every\", \"everything\", \"everything\", \"everything\", \"everything\", \"everything\", \"everything\", \"everything\", \"excellent\", \"excellent\", \"excellent\", \"excellent\", \"excellent\", \"excellent\", \"excited\", \"exercise\", \"expedia\", \"experience\", \"experience\", \"experience\", \"experience\", \"experience\", \"experience\", \"exploring\", \"express\", \"express\", \"falls\", \"family\", \"family\", \"family\", \"family\", \"family\", \"family\", \"family\", \"far\", \"far\", \"far\", \"far\", \"far\", \"far\", \"fare\", \"fast\", \"fast\", \"fast\", \"fast\", \"fast\", \"fast\", \"faucet\", \"feedback\", \"festival\", \"field\", \"filthy\", \"fireplace\", \"firm\", \"firm\", \"first\", \"first\", \"first\", \"first\", \"first\", \"first\", \"first\", \"fishing\", \"fl\", \"flat\", \"flat\", \"flight\", \"flight\", \"flight\", \"floor\", \"floor\", \"floor\", \"floor\", \"floor\", \"floor\", \"florida\", \"florida\", \"foods\", \"football\", \"forgot\", \"forward\", \"forward\", \"forward\", \"free\", \"free\", \"free\", \"free\", \"frequent\", \"fridge\", \"friend\", \"friend\", \"friend\", \"friendliest\", \"friendly\", \"friendly\", \"friendly\", \"friendly\", \"friendly\", \"frig\", \"frills\", \"front\", \"front\", \"front\", \"ft\", \"full\", \"full\", \"full\", \"full\", \"full\", \"fun\", \"fun\", \"fun\", \"future\", \"future\", \"future\", \"gardens\", \"gatlinburg\", \"get\", \"get\", \"get\", \"get\", \"get\", \"get\", \"girls\", \"glad\", \"glad\", \"glad\", \"glad\", \"glad\", \"glad\", \"golf\", \"good\", \"good\", \"good\", \"good\", \"good\", \"got\", \"got\", \"got\", \"got\", \"got\", \"got\", \"got\", \"gracious\", \"graduation\", \"grandson\", \"grateful\", \"great\", \"great\", \"great\", \"great\", \"great\", \"great\", \"greatly\", \"group\", \"group\", \"group\", \"group\", \"group\", \"group\", \"guest\", \"guest\", \"guest\", \"hallway\", \"hampton\", \"handicap\", \"handled\", \"heading\", \"heading\", \"hear\", \"hear\", \"hear\", \"hear\", \"heart\", \"heart\", \"heavy\", \"heavy\", \"help\", \"help\", \"help\", \"help\", \"helpful\", \"helpful\", \"helpful\", \"helpful\", \"hidden\", \"hilton\", \"hilton\", \"historic\", \"historic\", \"holes\", \"holiday\", \"hollywood\", \"home\", \"home\", \"home\", \"home\", \"home\", \"home\", \"home\", \"home2\", \"honors\", \"honua\", \"hope\", \"horrible\", \"hot\", \"hot\", \"hot\", \"hot\", \"hot\", \"hotel\", \"hotel\", \"hotel\", \"hotel\", \"hotel\", \"hotel\", \"hotel\", \"hotel\", \"hotel\", \"hotel\", \"hotels\", \"hotels\", \"hotels\", \"hotels\", \"hotels\", \"hotels\", \"hotels\", \"housekeeping\", \"housekeeping\", \"housekeeping\", \"hubby\", \"hyatt\", \"hyatt\", \"hyatt\", \"il\", \"ill\", \"individual\", \"information\", \"information\", \"initial\", \"inn\", \"inn\", \"inner\", \"interstate\", \"ist\", \"items\", \"items\", \"job\", \"job\", \"job\", \"job\", \"kai\", \"kansas\", \"kids\", \"kids\", \"kids\", \"kids\", \"kids\", \"king\", \"king\", \"king\", \"king\", \"kitchen\", \"kitchen\", \"krauss\", \"la\", \"la\", \"la\", \"lacked\", \"lake\", \"lake\", \"lamp\", \"large\", \"large\", \"large\", \"large\", \"last\", \"last\", \"last\", \"last\", \"last\", \"last\", \"last\", \"le\", \"like\", \"like\", \"like\", \"like\", \"like\", \"like\", \"like\", \"linen\", \"living\", \"living\", \"living\", \"located\", \"located\", \"location\", \"location\", \"location\", \"location\", \"location\", \"location\", \"lock\", \"lodge\", \"look\", \"look\", \"look\", \"look\", \"look\", \"look\", \"looking\", \"looking\", \"looking\", \"looking\", \"looking\", \"looking\", \"looking\", \"looking\", \"los\", \"loud\", \"loud\", \"louis\", \"loved\", \"loved\", \"loved\", \"loved\", \"loved\", \"lumpy\", \"made\", \"made\", \"made\", \"made\", \"made\", \"made\", \"main\", \"main\", \"main\", \"main\", \"main\", \"maingate\", \"make\", \"make\", \"make\", \"make\", \"make\", \"make\", \"make\", \"maker\", \"mall\", \"manager\", \"manager\", \"manager\", \"many\", \"many\", \"many\", \"many\", \"many\", \"many\", \"many\", \"many\", \"march\", \"margineanhotel\", \"member\", \"member\", \"member\", \"metro\", \"metro\", \"metro\", \"miami\", \"microwave\", \"milk\", \"mills\", \"mine\", \"minute\", \"minute\", \"minute\", \"mixed\", \"mold\", \"moldy\", \"monday\", \"monica\", \"morning\", \"morning\", \"morning\", \"morning\", \"morning\", \"motorcycle\", \"mountains\", \"moved\", \"moved\", \"much\", \"much\", \"much\", \"much\", \"much\", \"much\", \"much\", \"musty\", \"muy\", \"n\", \"n\", \"n\", \"napa\", \"napa\", \"napa\", \"napa\", \"national\", \"needed\", \"needed\", \"needed\", \"needed\", \"needed\", \"needed\", \"needle\", \"negatives\", \"neighboring\", \"never\", \"never\", \"never\", \"never\", \"never\", \"never\", \"new\", \"new\", \"new\", \"new\", \"new\", \"new\", \"new\", \"next\", \"next\", \"next\", \"next\", \"next\", \"next\", \"nice\", \"nice\", \"nice\", \"nice\", \"nice\", \"nice\", \"night\", \"night\", \"night\", \"night\", \"night\", \"night\", \"night\", \"nite\", \"no\", \"no\", \"no\", \"no\", \"no\", \"no\", \"no\", \"noise\", \"noise\", \"noise\", \"noisy\", \"noisy\", \"non\", \"non\", \"non\", \"not\", \"not\", \"not\", \"not\", \"not\", \"not\", \"not\", \"nous\", \"nyc\", \"obvious\", \"ocean\", \"octavia\", \"odor\", \"okc\", \"oklahoma\", \"one\", \"one\", \"one\", \"one\", \"one\", \"one\", \"one\", \"one\", \"operations\", \"order\", \"order\", \"order\", \"outdoor\", \"overlooking\", \"owner\", \"oxford\", \"paid\", \"paid\", \"paid\", \"paid\", \"para\", \"park\", \"park\", \"park\", \"park\", \"park\", \"park\", \"parking\", \"parking\", \"parking\", \"parking\", \"parking\", \"pastries\", \"path\", \"per\", \"per\", \"per\", \"per\", \"per\", \"perfect\", \"perfect\", \"perfect\", \"perfect\", \"perfect\", \"perfection\", \"personable\", \"pets\", \"picky\", \"pier\", \"pillows\", \"pillows\", \"pillows\", \"pittsburgh\", \"pizza\", \"place\", \"place\", \"place\", \"place\", \"place\", \"place\", \"place\", \"place\", \"plaza\", \"pleasantly\", \"pleasantly\", \"please\", \"please\", \"please\", \"pool\", \"pool\", \"pool\", \"pool\", \"pool\", \"pools\", \"port\", \"pot\", \"pressure\", \"price\", \"price\", \"price\", \"price\", \"price\", \"pricey\", \"pricey\", \"pricey\", \"pricey\", \"pub\", \"que\", \"queen\", \"queen\", \"queen\", \"question\", \"questions\", \"quiet\", \"quiet\", \"quiet\", \"quiet\", \"rain\", \"rain\", \"really\", \"really\", \"really\", \"really\", \"really\", \"really\", \"really\", \"recent\", \"recent\", \"recommend\", \"recommend\", \"recommend\", \"recommend\", \"recommend\", \"recommend\", \"refrigerator\", \"refund\", \"regards\", \"regis\", \"required\", \"resort\", \"resort\", \"resort\", \"resort\", \"restaurants\", \"restaurants\", \"resturants\", \"reunion\", \"review\", \"review\", \"review\", \"review\", \"ride\", \"ride\", \"ride\", \"right\", \"right\", \"right\", \"right\", \"right\", \"right\", \"river\", \"river\", \"roach\", \"roaches\", \"romantic\", \"room\", \"room\", \"room\", \"room\", \"room\", \"room\", \"rooms\", \"rooms\", \"rooms\", \"rooms\", \"rooms\", \"rooms\", \"rooms\", \"row\", \"ruby\", \"said\", \"said\", \"santa\", \"sarah\", \"sausage\", \"scenery\", \"screen\", \"screen\", \"se\", \"season\", \"season\", \"see\", \"see\", \"see\", \"see\", \"see\", \"see\", \"separate\", \"separate\", \"separate\", \"separate\", \"separate\", \"service\", \"service\", \"service\", \"service\", \"service\", \"service\", \"service\", \"several\", \"several\", \"several\", \"several\", \"several\", \"several\", \"share\", \"shared\", \"shared\", \"sharing\", \"sharing\", \"sheets\", \"shops\", \"shops\", \"shower\", \"shower\", \"showers\", \"shut\", \"shut\", \"shuttle\", \"shuttle\", \"shuttle\", \"shuttle\", \"sincerely\", \"size\", \"size\", \"size\", \"size\", \"slamming\", \"small\", \"small\", \"small\", \"small\", \"small\", \"smell\", \"smelled\", \"smells\", \"smells\", \"smelly\", \"smoke\", \"smoking\", \"sofa\", \"soft\", \"soon\", \"soon\", \"soon\", \"specifically\", \"specifically\", \"spoke\", \"springfield\", \"st\", \"st\", \"st\", \"stadium\", \"staff\", \"staff\", \"staff\", \"staff\", \"staff\", \"staff\", \"staffed\", \"stain\", \"stain\", \"stained\", \"stains\", \"starbucks\", \"starbucks\", \"starts\", \"starwood\", \"stay\", \"stay\", \"stay\", \"stay\", \"stay\", \"stay\", \"stay\", \"stay\", \"stayed\", \"stayed\", \"stayed\", \"stayed\", \"stayed\", \"stayed\", \"stayed\", \"steve\", \"stopover\", \"stores\", \"stores\", \"storm\", \"stove\", \"street\", \"street\", \"strip\", \"strip\", \"suite\", \"suite\", \"suite\", \"suite\", \"suite\", \"suited\", \"suites\", \"suites\", \"suites\", \"suites\", \"suites\", \"suites\", \"suites\", \"summer\", \"summer\", \"supper\", \"surprised\", \"surprised\", \"surprised\", \"surprised\", \"surroundings\", \"taking\", \"taking\", \"taking\", \"taking\", \"tasty\", \"tasty\", \"te\", \"team\", \"terrible\", \"terrible\", \"thank\", \"thank\", \"theatre\", \"theme\", \"thin\", \"time\", \"time\", \"time\", \"time\", \"time\", \"time\", \"time\", \"time\", \"times\", \"times\", \"times\", \"times\", \"times\", \"times\", \"toast\", \"told\", \"told\", \"town\", \"town\", \"town\", \"town\", \"town\", \"town\", \"towneplace\", \"trash\", \"travel\", \"travel\", \"travel\", \"travel\", \"travel\", \"travel\", \"tremendous\", \"tres\", \"trip\", \"trip\", \"trip\", \"trip\", \"trip\", \"trip\", \"trip\", \"tripadvisor\", \"tripadvisor\", \"tub\", \"tub\", \"tub\", \"tuesday\", \"tv\", \"tv\", \"two\", \"two\", \"two\", \"two\", \"two\", \"two\", \"u\", \"u\", \"un\", \"un\", \"und\", \"union\", \"unique\", \"updates\", \"us\", \"us\", \"us\", \"us\", \"us\", \"vacation\", \"vacation\", \"vacation\", \"vacation\", \"value\", \"value\", \"value\", \"value\", \"vanity\", \"vegas\", \"vegas\", \"video\", \"view\", \"view\", \"view\", \"view\", \"view\", \"views\", \"views\", \"virginia\", \"visit\", \"visit\", \"visit\", \"visit\", \"visit\", \"visit\", \"waffles\", \"waffles\", \"wait\", \"wait\", \"wait\", \"wait\", \"wait\", \"walk\", \"walk\", \"walk\", \"walk\", \"walking\", \"walking\", \"walking\", \"wall\", \"walls\", \"walls\", \"war\", \"wash\", \"washer\", \"washington\", \"water\", \"water\", \"water\", \"wedding\", \"wedding\", \"wedding\", \"wedding\", \"weekend\", \"weekend\", \"weekend\", \"weekend\", \"weekend\", \"weekend\", \"welcomed\", \"welcomed\", \"well\", \"well\", \"well\", \"well\", \"well\", \"well\", \"west\", \"west\", \"whenever\", \"whenever\", \"whenever\", \"whenever\", \"whenever\", \"wife\", \"wife\", \"wife\", \"wife\", \"wife\", \"wifi\", \"wifi\", \"wifi\", \"wifi\", \"wifi\", \"winter\", \"winter\", \"wireless\", \"woke\", \"wonderful\", \"wonderful\", \"wonderful\", \"wonderful\", \"wonderful\", \"words\", \"work\", \"work\", \"work\", \"work\", \"work\", \"work\", \"worse\", \"worst\", \"would\", \"would\", \"would\", \"would\", \"would\", \"would\", \"would\", \"year\", \"year\", \"year\", \"year\", \"year\", \"years\", \"years\", \"years\", \"york\", \"\\u00e5\\u00f3\", \"\\u201e\"]}, \"R\": 30, \"lambda.step\": 0.01, \"plot.opts\": {\"xlab\": \"PC1\", \"ylab\": \"PC2\"}, \"topic.order\": [1, 2, 3, 4, 5, 6, 7, 8, 9, 10]};\n",
       "\n",
       "function LDAvis_load_lib(url, callback){\n",
       "  var s = document.createElement('script');\n",
       "  s.src = url;\n",
       "  s.async = true;\n",
       "  s.onreadystatechange = s.onload = callback;\n",
       "  s.onerror = function(){console.warn(\"failed to load library \" + url);};\n",
       "  document.getElementsByTagName(\"head\")[0].appendChild(s);\n",
       "}\n",
       "\n",
       "if(typeof(LDAvis) !== \"undefined\"){\n",
       "   // already loaded: just create the visualization\n",
       "   !function(LDAvis){\n",
       "       new LDAvis(\"#\" + \"ldavis_el2072422613287229441241456484\", ldavis_el2072422613287229441241456484_data);\n",
       "   }(LDAvis);\n",
       "}else if(typeof define === \"function\" && define.amd){\n",
       "   // require.js is available: use it to load d3/LDAvis\n",
       "   require.config({paths: {d3: \"https://cdnjs.cloudflare.com/ajax/libs/d3/3.5.5/d3.min\"}});\n",
       "   require([\"d3\"], function(d3){\n",
       "      window.d3 = d3;\n",
       "      LDAvis_load_lib(\"https://cdn.rawgit.com/bmabey/pyLDAvis/files/ldavis.v1.0.0.js\", function(){\n",
       "        new LDAvis(\"#\" + \"ldavis_el2072422613287229441241456484\", ldavis_el2072422613287229441241456484_data);\n",
       "      });\n",
       "    });\n",
       "}else{\n",
       "    // require.js not available: dynamically load d3 & LDAvis\n",
       "    LDAvis_load_lib(\"https://cdnjs.cloudflare.com/ajax/libs/d3/3.5.5/d3.min.js\", function(){\n",
       "         LDAvis_load_lib(\"https://cdn.rawgit.com/bmabey/pyLDAvis/files/ldavis.v1.0.0.js\", function(){\n",
       "                 new LDAvis(\"#\" + \"ldavis_el2072422613287229441241456484\", ldavis_el2072422613287229441241456484_data);\n",
       "            })\n",
       "         });\n",
       "}\n",
       "</script>"
      ],
      "text/plain": [
       "<IPython.core.display.HTML object>"
      ]
     },
     "execution_count": 48,
     "metadata": {},
     "output_type": "execute_result"
    }
   ],
   "source": [
    "pyLDAvis.display(lda_display)"
   ]
  },
  {
   "cell_type": "markdown",
   "metadata": {},
   "source": [
    "### Assigning Comments to Topics"
   ]
  },
  {
   "cell_type": "markdown",
   "metadata": {},
   "source": [
    "Based on the visualization, the topics generated become a lot more clear. Now, to finish off the algorithm, we want to label the topics and map them to each comment."
   ]
  },
  {
   "cell_type": "code",
   "execution_count": 49,
   "metadata": {},
   "outputs": [],
   "source": [
    "# Example of labelling topics for the Hotel sample dataset\n",
    "\n",
    "# Define your topic categories based on topic model analysis above\n",
    "topic_cats = {0:'Spanish Reviews',\n",
    "              1:'Dirty/Noisy Room',\n",
    "              2:'Location',\n",
    "              3:'Room Utilities',\n",
    "              4:'Good Experience',\n",
    "              5:'Anaheim Stadium',\n",
    "              6:'Front Desk',\n",
    "              7:'Thank You',\n",
    "              8:'Hotel Stay',\n",
    "              9:'Scenery'}\n",
    "\n",
    "\n",
    "# Get topic numbers from LDA model for each review\n",
    "corpus_topics = list(ldamodel.get_document_topics(corpus))\n",
    "\n",
    "\n",
    "# Map topic label numbers to topic category names\n",
    "topic_labels = []\n",
    "for comment in corpus_topics:\n",
    "    probs = {k:v for k, v in comment}\n",
    "    best_topic = max(probs, key=lambda key: probs[key])\n",
    "    topic_labels.append(topic_cats[best_topic])"
   ]
  },
  {
   "cell_type": "markdown",
   "metadata": {},
   "source": [
    "Finally, we add a column for the topic labels to the dataset. "
   ]
  },
  {
   "cell_type": "code",
   "execution_count": 50,
   "metadata": {},
   "outputs": [
    {
     "data": {
      "text/html": [
       "<div>\n",
       "<style scoped>\n",
       "    .dataframe tbody tr th:only-of-type {\n",
       "        vertical-align: middle;\n",
       "    }\n",
       "\n",
       "    .dataframe tbody tr th {\n",
       "        vertical-align: top;\n",
       "    }\n",
       "\n",
       "    .dataframe thead th {\n",
       "        text-align: right;\n",
       "    }\n",
       "</style>\n",
       "<table border=\"1\" class=\"dataframe\">\n",
       "  <thead>\n",
       "    <tr style=\"text-align: right;\">\n",
       "      <th></th>\n",
       "      <th>reviews.text</th>\n",
       "      <th>topic</th>\n",
       "    </tr>\n",
       "  </thead>\n",
       "  <tbody>\n",
       "    <tr>\n",
       "      <th>0</th>\n",
       "      <td>Our experience at Rancho Valencia was absolutely perfect from beginning to end!!!! We felt special and very happy du...</td>\n",
       "      <td>Scenery</td>\n",
       "    </tr>\n",
       "    <tr>\n",
       "      <th>1</th>\n",
       "      <td>Amazing place. Everyone was extremely warm and welcoming. We've stayed at some top notch places and this is definite...</td>\n",
       "      <td>Front Desk</td>\n",
       "    </tr>\n",
       "    <tr>\n",
       "      <th>2</th>\n",
       "      <td>We booked a 3 night stay at Rancho Valencia to play some tennis, since it is one of the highest rated tennis resorts...</td>\n",
       "      <td>Scenery</td>\n",
       "    </tr>\n",
       "    <tr>\n",
       "      <th>3</th>\n",
       "      <td>Currently in bed writing this for the past hr 1/2 there have been dogs barking and squealing call the front desk to ...</td>\n",
       "      <td>Dirty/Noisy Room</td>\n",
       "    </tr>\n",
       "    <tr>\n",
       "      <th>4</th>\n",
       "      <td>I live in Md and the Aloft is my Home away from home...we stayed 1 night 7-7-16 ...Staff is great ! Especially Olivi...</td>\n",
       "      <td>Hotel Stay</td>\n",
       "    </tr>\n",
       "    <tr>\n",
       "      <th>5</th>\n",
       "      <td>I stayed here with my family for my daughters wedding. It had a very accommodating staff, Olivia was excellent. The ...</td>\n",
       "      <td>Hotel Stay</td>\n",
       "    </tr>\n",
       "    <tr>\n",
       "      <th>6</th>\n",
       "      <td>Beautiful rooms and the nicest people working there. The front desk lady, Olivia, was extremely patient and helpful....</td>\n",
       "      <td>Front Desk</td>\n",
       "    </tr>\n",
       "    <tr>\n",
       "      <th>7</th>\n",
       "      <td>We stayed here while visiting Maryland Live!. Cute hotel in a great location. Clean, with a very modern look, upgrad...</td>\n",
       "      <td>Good Experience</td>\n",
       "    </tr>\n",
       "    <tr>\n",
       "      <th>8</th>\n",
       "      <td>I travel a lot with my job, so I'm constantly staying at hotels. When my co-workers and I arrived late last night at...</td>\n",
       "      <td>Front Desk</td>\n",
       "    </tr>\n",
       "    <tr>\n",
       "      <th>9</th>\n",
       "      <td>In my line of work, I use meeting space in hotels often. In my 15+ years of doing this work, this is the first time ...</td>\n",
       "      <td>Dirty/Noisy Room</td>\n",
       "    </tr>\n",
       "  </tbody>\n",
       "</table>\n",
       "</div>"
      ],
      "text/plain": [
       "                                                                                                              reviews.text  \\\n",
       "0  Our experience at Rancho Valencia was absolutely perfect from beginning to end!!!! We felt special and very happy du...   \n",
       "1  Amazing place. Everyone was extremely warm and welcoming. We've stayed at some top notch places and this is definite...   \n",
       "2  We booked a 3 night stay at Rancho Valencia to play some tennis, since it is one of the highest rated tennis resorts...   \n",
       "3  Currently in bed writing this for the past hr 1/2 there have been dogs barking and squealing call the front desk to ...   \n",
       "4  I live in Md and the Aloft is my Home away from home...we stayed 1 night 7-7-16 ...Staff is great ! Especially Olivi...   \n",
       "5  I stayed here with my family for my daughters wedding. It had a very accommodating staff, Olivia was excellent. The ...   \n",
       "6  Beautiful rooms and the nicest people working there. The front desk lady, Olivia, was extremely patient and helpful....   \n",
       "7  We stayed here while visiting Maryland Live!. Cute hotel in a great location. Clean, with a very modern look, upgrad...   \n",
       "8  I travel a lot with my job, so I'm constantly staying at hotels. When my co-workers and I arrived late last night at...   \n",
       "9  In my line of work, I use meeting space in hotels often. In my 15+ years of doing this work, this is the first time ...   \n",
       "\n",
       "              topic  \n",
       "0           Scenery  \n",
       "1        Front Desk  \n",
       "2           Scenery  \n",
       "3  Dirty/Noisy Room  \n",
       "4        Hotel Stay  \n",
       "5        Hotel Stay  \n",
       "6        Front Desk  \n",
       "7   Good Experience  \n",
       "8        Front Desk  \n",
       "9  Dirty/Noisy Room  "
      ]
     },
     "metadata": {},
     "output_type": "display_data"
    }
   ],
   "source": [
    "# Add topic label column to dataset\n",
    "data['topic'] = topic_labels\n",
    "\n",
    "pd.set_option('max_colwidth', 120)\n",
    "display(data[['reviews.text', 'topic']].head(10))"
   ]
  },
  {
   "cell_type": "markdown",
   "metadata": {},
   "source": [
    "## Rule Based Categorization"
   ]
  },
  {
   "cell_type": "markdown",
   "metadata": {},
   "source": [
    "While using an unsupervised approach such as topic modelling can be effective in some business cases, other business cases may required a more targeted approach. Perhaps the business user has specific categories in mind that they would like to explore in the data. In this case, a more brute force rule based application may be more desired."
   ]
  },
  {
   "cell_type": "markdown",
   "metadata": {},
   "source": [
    "### Tagging Basics"
   ]
  },
  {
   "cell_type": "markdown",
   "metadata": {},
   "source": [
    "The following section will cover some basic strategies for rule based tagging. Namely, single tagging and bigram tagging."
   ]
  },
  {
   "cell_type": "markdown",
   "metadata": {},
   "source": [
    "#### Single Tagging\n",
    "\n",
    "*How does it work?* Compare each individual word with a dictionary of words associated with a category"
   ]
  },
  {
   "cell_type": "code",
   "execution_count": 51,
   "metadata": {},
   "outputs": [
    {
     "name": "stdout",
     "output_type": "stream",
     "text": [
      "Is \"Love\" in ['fast', 'quick', 'speedy', 'prompt']??\t----> No, keep going\n",
      "Is \"product\" in ['fast', 'quick', 'speedy', 'prompt']??\t----> No, keep going\n",
      "Is \".\" in ['fast', 'quick', 'speedy', 'prompt']??\t----> No, keep going\n",
      "Is \"Communication\" in ['fast', 'quick', 'speedy', 'prompt']??\t----> No, keep going\n",
      "Is \"great\" in ['fast', 'quick', 'speedy', 'prompt']??\t----> No, keep going\n",
      "Is \"delivery\" in ['fast', 'quick', 'speedy', 'prompt']??\t----> No, keep going\n",
      "Is \"fast\" in ['fast', 'quick', 'speedy', 'prompt']??\t----> Yes! Tag this comment as \"Fast Delivery\".\n"
     ]
    }
   ],
   "source": [
    "# Toy Example\n",
    "comment = 'Love the product. Communication was great and delivery was fast! Thanks!'\n",
    "\n",
    "# Tokenized comment from cell above ('Love the shoes. Communication was great and delivery was fast! Thanks!')\n",
    "tokenized_text = tokenize(comment)\n",
    "\n",
    "# Words associated with the category, 'Fast Delivery' (NOTE: not full list)\n",
    "fast_delivery_words = ['fast','quick','speedy','prompt']\n",
    "\n",
    "# Loop through each word in tokenized comment. If word is in fast_delivery_words, then tag\n",
    "for word in tokenized_text:\n",
    "    print('Is \"{}\" in {}??'.format(word, fast_delivery_words), end='\\t----> ', flush=True)\n",
    "    if word in fast_delivery_words:\n",
    "        print('Yes! Tag this comment as \"Fast Delivery\".')\n",
    "        break\n",
    "    else:\n",
    "        print('No, keep going')"
   ]
  },
  {
   "cell_type": "markdown",
   "metadata": {},
   "source": [
    "#### Bigram Tagging\n",
    "\n",
    "*How does it work?* Same as with single tagging but in this case we are comparing *pairs* of words with a word dictionary of *paired* words"
   ]
  },
  {
   "cell_type": "code",
   "execution_count": 52,
   "metadata": {},
   "outputs": [
    {
     "name": "stdout",
     "output_type": "stream",
     "text": [
      "Bigrams: [('I', 'never'), ('never', 'got'), ('got', 'hat'), ('hat', '!'), ('!', 'It'), ('It', 'said'), ('said', 'delivered'), ('delivered', '6am'), ('6am', 'Saturday'), ('Saturday', 'I'), ('I', 'would'), ('would', '’'), ('’', 'home'), ('home', 'I'), ('I', 'never'), ('never', 'heard'), ('heard', 'knock'), ('knock', '('), ('(', 'also'), ('also', 'delivers'), ('delivers', 'packages'), ('packages', '6am'), ('6am', '?'), ('?', ')'), (')', '.'), ('.', 'I'), ('I', 'want'), ('want', 'hat'), ('hat', ':'), (':', '('), ('(', 'I'), ('I', 'sad'), ('sad', 'without'), ('without', 'hat'), ('hat', ':'), (':', '('), ('(', 'Please'), ('Please', 'send'), ('send', 'new'), ('new', 'hat'), ('hat', 'work'), ('work', 'address'), ('address', 'I'), ('I', 'hat'), ('hat', ':'), (':', '(')]\n",
      "\n",
      "Loop through comment:\n",
      "Is \"('I', 'never')\" in (('not', 'received'), ('never', 'got'))??\t----> No, keep going\n",
      "Is \"('never', 'got')\" in (('not', 'received'), ('never', 'got'))??\t----> Yes! Tag this comment as \"Not Received\".\n"
     ]
    }
   ],
   "source": [
    "# Toy Example - Sad hat guy (real comment)\n",
    "\n",
    "comment = '''I never got my hat! It said t was delivered at 6am on a Saturday but I would’ve been home \n",
    "then and I never heard a knock (also who delivers packages at 6am?). I want my hat :( I am sad without \n",
    "my hat :( Please send a new hat to my work address so I can have a hat :('''\n",
    "\n",
    "# Tokenize\n",
    "tokenized_text = tokenize(comment)\n",
    "\n",
    "# Extract pairs of words. Can be done using nltk.bigrams (text must be tokenized first)\n",
    "text_bigrams = nltk.bigrams(tokenized_text)\n",
    "\n",
    "print('Bigrams: {}\\n'.format(list(text_bigrams)))\n",
    "\n",
    "# Words associated with the category, 'Not Received' (NOTE: not full list)\n",
    "not_received_pairs = (('not', 'received'), ('never', 'got'))\n",
    "\n",
    "print('Loop through comment:')\n",
    "# Loop through each word pair. If word pair (or it's reversed pair) is in not_received_words, then tag\n",
    "for bigram in nltk.bigrams(tokenized_text):\n",
    "    print('Is \"{}\" in {}??'.format(bigram, not_received_pairs), end='\\t----> ', flush=True)\n",
    "    # Need to check reverse of pair as well because order matters when checking pairs\n",
    "    if bigram in not_received_pairs or tuple(reversed(bigram)) in not_received_pairs:\n",
    "        print('Yes! Tag this comment as \"Not Received\".')\n",
    "        break\n",
    "    else:\n",
    "        print('No, keep going')"
   ]
  },
  {
   "cell_type": "markdown",
   "metadata": {},
   "source": [
    "### Negation and Secondary Terms"
   ]
  },
  {
   "cell_type": "markdown",
   "metadata": {},
   "source": [
    "Tagging by individual words and pairs of words can be effective for basic tagging, but there are some scenarios where this approach can misclassify comments due to words that reverse sentence meaning or because there isn't enough context."
   ]
  },
  {
   "cell_type": "markdown",
   "metadata": {},
   "source": [
    "#### But wait, NO (checking for negation terms)"
   ]
  },
  {
   "cell_type": "markdown",
   "metadata": {},
   "source": [
    "Sometimes, you don't want to tag a comment, even though the word appears in the word dictionary. The reason is that the customer may be expressing a reverse sentiment from what the category implies.\n",
    "\n",
    "**EXAMPLE:** ```'The packaging and shipping was good as usual since there was NO damages to the box and the product came on time.'```\n",
    "\n",
    "In the above case, you do NOT want to tag this as damage to the box. So, we must in some cases check the surrounding words before tagging.\n",
    "\n",
    "First, we define a way to look at words surrounding a word that appears in the word dictionary"
   ]
  },
  {
   "cell_type": "code",
   "execution_count": 53,
   "metadata": {},
   "outputs": [],
   "source": [
    "'''\n",
    "- INPUT:\n",
    "    1. tokenized_text - Text in tokenized form (can use token_simple function or any other tokenizer)\n",
    "    2. index - Index of the comment word that appears in the word dictionary (the word that you are checking around \n",
    "    to see if there is a negation term)\n",
    "    3. check_type - Where you want to be checking. Do you want to look at the words that came BEFORE the comment \n",
    "    word, AFTER the comment word, or BOTH?\n",
    "    4. ctr - HOW MANY words nearest to the comment word you want to look at (default is 3)\n",
    "\n",
    "- OUTPUT:\n",
    "    Tokenized list showing only words you want around the comment word\n",
    "'''\n",
    "def surrounding_words(tokenized_text, index, check_type='backward', ctr=None):\n",
    "\n",
    "    # Check how many words before and/or after the word that you want to check\n",
    "    if ctr is None:\n",
    "        ctr = 3\n",
    "    else:\n",
    "        assert type(ctr) is int, 'ctr is not an int'\n",
    "    \n",
    "    # Get words that occur BEFORE the given index \n",
    "    # (number of words equal to ctr OR the number available words before index)\n",
    "    if check_type == 'backward':\n",
    "        if index - ctr < 0:\n",
    "            word_check = tokenized_text[0:index]\n",
    "            if len(word_check) == 0:\n",
    "                return tokenized_text\n",
    "        else:\n",
    "            word_check = tokenized_text[index-ctr:index]\n",
    "    \n",
    "    # Get words that occur AFTER the given index \n",
    "    # (number of words equal to ctr OR the number available words after index)         \n",
    "    elif check_type == 'forward':\n",
    "        if index + ctr >= len(tokenized_text):\n",
    "            word_check = tokenized_text[index:len(tokenized_text)]\n",
    "            if len(word_check) == 0:\n",
    "                return tokenized_text\n",
    "        else:\n",
    "            word_check = tokenized_text[index:index+ctr+1]\n",
    "    \n",
    "    # Get words that occur before AND after the given index \n",
    "    # (number of words before and after equal to ctr OR the number available words before and after index)\n",
    "    elif check_type == 'both':\n",
    "        if index - ctr < 0 and index + ctr < len(tokenized_text):\n",
    "            word_check = tokenized_text[0:index+ctr+1]\n",
    "        elif index - ctr > 0 and index + ctr >= len(tokenized_text):\n",
    "            word_check = tokenized_text[index-ctr:len(tokenized_text)]\n",
    "        elif index - ctr < 0 and index + ctr >= len(tokenized_text):\n",
    "            word_check = tokenized_text[:]\n",
    "        else:\n",
    "            word_check = tokenized_text[index-ctr:index+ctr+1]\n",
    "        if len(word_check) == 0:\n",
    "            return tokenized_text\n",
    "\n",
    "    # Return list of surrounding words\n",
    "    return word_check"
   ]
  },
  {
   "cell_type": "code",
   "execution_count": 54,
   "metadata": {},
   "outputs": [
    {
     "name": "stdout",
     "output_type": "stream",
     "text": [
      "Here are the words surrounding the occurance of the word \"damages\":\n",
      "['usual', 'since', 'NO', 'damages', 'box', 'product', 'came']\n"
     ]
    }
   ],
   "source": [
    "# Example comment\n",
    "comment = 'The packaging and shipping was good as usual since there was NO damages to the box and the product came on time.'\n",
    "\n",
    "# Tokenize\n",
    "tokenized_text = tokenize(comment)\n",
    "\n",
    "# Let's say we are looking for comments refering to damage, and we find an occurance of damage at a particular index\n",
    "damage_index = tokenized_text.index('damages')\n",
    "\n",
    "# Now, we can use the surrounding_words function to find the words surrounding the word 'damages'\n",
    "print('Here are the words surrounding the occurance of the word \"damages\":')\n",
    "print(surrounding_words(tokenized_text, damage_index, check_type='both'))"
   ]
  },
  {
   "cell_type": "markdown",
   "metadata": {},
   "source": [
    "So, how do we use this to determine if we should tag a comment or not? Basically, we need to check the surrounding words against a second word dictionary containing negation terms. In addition, we need to integrate this check into the previous steps. Below is an example of how you would combine single tagging with negation terms: "
   ]
  },
  {
   "cell_type": "code",
   "execution_count": 55,
   "metadata": {},
   "outputs": [
    {
     "name": "stdout",
     "output_type": "stream",
     "text": [
      "Is \"The\" in ['damage', 'damages']??\t----> No, keep going\n",
      "Is \"packaging\" in ['damage', 'damages']??\t----> No, keep going\n",
      "Is \"shipping\" in ['damage', 'damages']??\t----> No, keep going\n",
      "Is \"good\" in ['damage', 'damages']??\t----> No, keep going\n",
      "Is \"usual\" in ['damage', 'damages']??\t----> No, keep going\n",
      "Is \"since\" in ['damage', 'damages']??\t----> No, keep going\n",
      "Is \"no\" in ['damage', 'damages']??\t----> No, keep going\n",
      "Is \"damages\" in ['damage', 'damages']??\t----> Yes! But wait, lets check if there is a negation term\n",
      "\n",
      "surrounding words: ['usual', 'since', 'no', 'damages', 'box', 'product', 'came']\n",
      "\n",
      "Is \"usual\" in ['no', 'not', 'wasnt']??\t----> Still okay, no negations\n",
      "Is \"since\" in ['no', 'not', 'wasnt']??\t----> Still okay, no negations\n",
      "Is \"no\" in ['no', 'not', 'wasnt']??\t----> Oh no! A negation term! DO NOT TAG\n"
     ]
    }
   ],
   "source": [
    "# Example comment\n",
    "comment = 'The packaging and shipping was good as usual since there was no damages to the box and the product came on time.'\n",
    "\n",
    "# Tokenize\n",
    "tokenized_text = tokenize(comment)\n",
    "\n",
    "# Words associated with the category, 'Damage' (NOTE: not full list)\n",
    "damage_words = ['damage','damages']\n",
    "\n",
    "# We need a second dictionary of negation terms to check against (NOTE: not full list)\n",
    "negation_words = ['no', 'not', 'wasnt']\n",
    "\n",
    "# Define a flag to indicate if negation term found\n",
    "flg = 0\n",
    "\n",
    "# Loop through each word in tokenized comment. \n",
    "# We use enumerate here to keep track of which index we are on in the tokenized comment\n",
    "for index, word in enumerate(tokenized_text):\n",
    "    if flg == 1:\n",
    "        break\n",
    "    print('Is \"{}\" in {}??'.format(word, damage_words), end='\\t----> ', flush=True)\n",
    "    if word in damage_words:\n",
    "        print('Yes! But wait, lets check if there is a negation term')\n",
    "        # Define the surrounding words space\n",
    "        surrounding = surrounding_words(tokenized_text, index, check_type='both')\n",
    "        print('\\nsurrounding words: {}\\n'.format(surrounding))\n",
    "        for w in surrounding:\n",
    "            print('Is \"{}\" in {}??'.format(w, negation_words), end='\\t----> ', flush=True)\n",
    "            if w in negation_words:\n",
    "                print('Oh no! A negation term! DO NOT TAG')\n",
    "                flg += 1\n",
    "                break\n",
    "            else:\n",
    "                print('Still okay, no negations')\n",
    "    else:\n",
    "        print('No, keep going')"
   ]
  },
  {
   "cell_type": "markdown",
   "metadata": {},
   "source": [
    "#### But wait, YES (using surrounding words to confirm a tag)\n",
    "\n",
    "Sometimes, instead of wanting to NOT tag a comment where there is a negation term nearby, you want to tag ONLY WHEN there is a secondary term near the first term.\n",
    "\n",
    "For example, say you want to tag a comment as \"damage box\" and you have the following comment:\n",
    "\n",
    "```my package showed up as if ace ventura was the delivery guy. my package showed up as if the UPS guy kicked a field goal with the box before he dropped it off, the box is completely wrecked, and i usually like to keep them. luckily, the product itself is fine, but i’m very disappointed with how they showed up```\n",
    "\n",
    "(*Note:* Real Comment)\n",
    "\n",
    "In this comment, we know that the comment has to do with damage, because on the second line it says: \"...the shoe box is completely **wrecked**...\", but we can't tag it as damage to the box without getting the second key word in the phrase: \"...the **box** is completely wrecked\". Fortunately, we can use our surrounding words function to get the second key word."
   ]
  },
  {
   "cell_type": "code",
   "execution_count": 56,
   "metadata": {},
   "outputs": [
    {
     "name": "stdout",
     "output_type": "stream",
     "text": [
      "Is \"The\" in ['damage', 'damages', 'wrecked']??\t----> No, keep going\n",
      "Is \"box\" in ['damage', 'damages', 'wrecked']??\t----> No, keep going\n",
      "Is \"completely\" in ['damage', 'damages', 'wrecked']??\t----> No, keep going\n",
      "Is \"wrecked\" in ['damage', 'damages', 'wrecked']??\t----> Yes! But wait, lets check if we have the second term\n",
      "\n",
      "surrounding words: ['The', 'box', 'completely', 'wrecked', ',', 'usually', 'like', 'keep', '.']\n",
      "\n",
      "Is \"The\" in ['box', 'package']??\t----> Still no second term...\n",
      "Is \"box\" in ['box', 'package']??\t----> Yes! A second term! TAG TAG TAG\n"
     ]
    }
   ],
   "source": [
    "# Example comment\n",
    "comment = '''\n",
    "The box is completely wrecked, and i usually like to keep them. luckily, the product itself\n",
    "is fine, but i’m very disappointed with how they showed up\n",
    "'''\n",
    "\n",
    "# Tokenize\n",
    "tokenized_text = tokenize(comment)\n",
    "\n",
    "# Words associated with the category, 'Damage' (NOTE: not full list)\n",
    "damage_words = ['damage','damages', 'wrecked']\n",
    "\n",
    "# Second dictionary of words associated with boxes (NOTE: not full list)\n",
    "package_words = ['box', 'package']\n",
    "\n",
    "# Define a flag to indicate if second term found\n",
    "flg = 0\n",
    "\n",
    "# Loop through each word in tokenized comment. \n",
    "# We use enumerate here to keep track of which index we are on in the tokenized comment\n",
    "for index, word in enumerate(tokenized_text):\n",
    "    if flg == 1:\n",
    "        break\n",
    "    print('Is \"{}\" in {}??'.format(word, damage_words), end='\\t----> ', flush=True)\n",
    "    if word in damage_words:\n",
    "        print('Yes! But wait, lets check if we have the second term')\n",
    "        # Define the surrounding words space\n",
    "        surrounding = surrounding_words(tokenized_text, index, check_type='both', ctr=5)\n",
    "        print('\\nsurrounding words: {}\\n'.format(surrounding))\n",
    "        for w in surrounding:\n",
    "            print('Is \"{}\" in {}??'.format(w, package_words), end='\\t----> ', flush=True)\n",
    "            if w in package_words:\n",
    "                print('Yes! A second term! TAG TAG TAG')\n",
    "                flg += 1\n",
    "                break\n",
    "            else:\n",
    "                print('Still no second term...')\n",
    "    else:\n",
    "        print('No, keep going')"
   ]
  },
  {
   "cell_type": "markdown",
   "metadata": {},
   "source": [
    "### Applying Tags"
   ]
  },
  {
   "cell_type": "markdown",
   "metadata": {},
   "source": [
    "Based on the above tagging approaches, we can mix and match to further improve our tagging accuracy:\n",
    "1. Single tag, no negation, no second term\n",
    "2. Single tag, check negation (single words), no second term\n",
    "3. Single tag, no negation, check second term (single words)\n",
    "4. Single tag, check negation (bigrams), no second term\n",
    "5. Single tag, no negation, check second term (bigrams)\n",
    "6. Bigram tag, no negation, no second term\n",
    "7. Bigram tag, check negation (single words), no second term\n",
    "8. Bigram tag, no negation, check second term (single words)\n",
    "9. Bigram tag, check negation (bigrams), no second term\n",
    "10. Bigram tag, no negation, check second term (bigrams)"
   ]
  },
  {
   "cell_type": "markdown",
   "metadata": {},
   "source": [
    "The following function below allows you to tag your comments based on one of the 10 scenarios highlighted above"
   ]
  },
  {
   "cell_type": "code",
   "execution_count": 57,
   "metadata": {},
   "outputs": [],
   "source": [
    "def tag_data(df, review_col, tag_col, word_list, check=False, check_type='backward', ctr=3, terms=None, negation=False):\n",
    "    result = df.copy().reset_index()\n",
    "    indexes = []\n",
    "    for index, comment in enumerate(result[review_col]):\n",
    "        # Ignore surveys that don't have a comment\n",
    "        if type(comment) == float:\n",
    "            continue\n",
    "\n",
    "        # Tokenize comment\n",
    "        tokenized_comment = tokenize(comment)\n",
    "\n",
    "        # One word check if word dictionary is list (scenarios 1-5)\n",
    "        if type(word_list) == list:\n",
    "            if check == False:\n",
    "                if any(x in tokenized_comment for x in word_list):\n",
    "                    indexes.append(index)\n",
    "            elif check == True:\n",
    "                for item, word in enumerate(tokenized_comment):\n",
    "                    if word in word_list:\n",
    "                        if type(terms) == list:\n",
    "                            if any(x in surrounding_words(tokenized_comment, item, \n",
    "                                                          check_type=check_type, ctr=ctr) for x in terms):\n",
    "                                if negation == False:\n",
    "                                    indexes.append(index)\n",
    "                                    break\n",
    "                                elif negation == True:\n",
    "                                    break\n",
    "                            else:\n",
    "                                if negation == False:\n",
    "                                    break\n",
    "                                if negation == True:\n",
    "                                    indexes.append(index)\n",
    "                                    break\n",
    "                        elif type(terms) == tuple:\n",
    "                            surrounding = surrounding_words(tokenized_comment, item, check_type=check_type, ctr=ctr)\n",
    "                            for ind, bigram in enumerate(nltk.bigrams(surrounding)):\n",
    "                                if bigram in terms or tuple(reversed(bigram)) in terms:\n",
    "                                    if negation == False:\n",
    "                                        indexes.append(index)\n",
    "                                        break\n",
    "                                    elif negation == True:\n",
    "                                        break\n",
    "                                else:\n",
    "                                    if ind == (len(list(nltk.bigrams(surrounding))) - 1):\n",
    "                                        if negation == False:\n",
    "                                            break\n",
    "                                        elif negation == True:\n",
    "                                            indexes.append(index)\n",
    "                                            break\n",
    "                                    else:\n",
    "                                        continue  \n",
    "        \n",
    "        # Bigram check if word dictionary is tuple (scenarios 6-10)\n",
    "        elif type(word_list) == tuple:\n",
    "            if check == False:\n",
    "                for word in nltk.bigrams(tokenized_comment):\n",
    "                    if word in word_list or tuple(reversed(word)) in word_list:\n",
    "                        indexes.append(index)\n",
    "                        break\n",
    "            elif check == True:\n",
    "                for item, word in enumerate(nltk.bigrams(tokenized_comment)):\n",
    "                    if word in word_list or tuple(reversed(word)) in word_list:\n",
    "                        if type(terms) == list:\n",
    "                            if any(x in surrounding_words(tokenized_comment, item,\n",
    "                                                          check_type=check_type, ctr=ctr) for x in terms):\n",
    "                                if negation == False:\n",
    "                                    indexes.append(index)\n",
    "                                    break\n",
    "                                elif negation == True:\n",
    "                                    break\n",
    "                            else:\n",
    "                                if negation == False:\n",
    "                                    break\n",
    "                                if negation == True:\n",
    "                                    indexes.append(index)\n",
    "                                    break\n",
    "                        if type(terms) == tuple:\n",
    "                            surrounding = surrounding_words(tokenized_comment, item, check_type=check_type, ctr=ctr)\n",
    "                            for ind, bigram in enumerate(nltk.bigrams(surrounding)):\n",
    "                                if bigram in terms or tuple(reversed(bigram)) in terms:\n",
    "                                    if negation == False:\n",
    "                                        indexes.append(index)\n",
    "                                        break\n",
    "                                    elif negation == True:\n",
    "                                        break\n",
    "                                else:\n",
    "                                    if ind == (len(list(nltk.bigrams(surrounding))) - 1):\n",
    "                                        if negation == False:\n",
    "                                            break\n",
    "                                        elif negation == True:\n",
    "                                            indexes.append(index)\n",
    "                                            break\n",
    "                                    else:\n",
    "                                        continue\n",
    "    \n",
    "    tag_rows = result[result.index.isin(indexes)]\n",
    "    tag_row_comments = tag_rows[review_col].unique()\n",
    "    \n",
    "    result[tag_col] = result.apply(lambda x: 1 if x[review_col] in tag_row_comments else 0, axis=1)\n",
    "    \n",
    "    return result"
   ]
  },
  {
   "cell_type": "markdown",
   "metadata": {},
   "source": [
    "To close, here are some examples of rule based tagging in action. Here, we have three examples: *good experience (with negation check)*, *food*, and *front desk*. There are two steps to the analysis:\n",
    "\n",
    "1. Define the dictionary of terms you want to match to\n",
    "2. Run the tag data function, applying the appropriate tag scenario"
   ]
  },
  {
   "cell_type": "code",
   "execution_count": 58,
   "metadata": {},
   "outputs": [],
   "source": [
    "# Step 1 - Define Dictionary of terms\n",
    "\n",
    "# Good Experience\n",
    "good_experience = ['great', 'nice', 'good', 'awesome', 'wonderful', 'amazing', 'perfect']\n",
    "negation = ['no', 'not', 'wasnt']\n",
    "\n",
    "# Food\n",
    "food = ['food', 'breakfast', 'lunch', 'dinner']\n",
    "\n",
    "# Front Desk\n",
    "front_desk = ('front', 'desk')"
   ]
  },
  {
   "cell_type": "code",
   "execution_count": 59,
   "metadata": {},
   "outputs": [],
   "source": [
    "# Step 2 - Run Tag Data Function with appropriate tag scenario\n",
    "\n",
    "good_experience_tag = tag_data(data, 'reviews.text', 'good experience', good_experience, \n",
    "                               check=True, check_type='backward', ctr=3, terms=negation, negation=True)\n",
    "\n",
    "food_tag = tag_data(data, 'reviews.text', 'food', food)\n",
    "\n",
    "front_desk_tag = tag_data(data, 'reviews.text', 'front_desk', front_desk)"
   ]
  },
  {
   "cell_type": "code",
   "execution_count": 60,
   "metadata": {},
   "outputs": [
    {
     "data": {
      "text/html": [
       "<div>\n",
       "<style scoped>\n",
       "    .dataframe tbody tr th:only-of-type {\n",
       "        vertical-align: middle;\n",
       "    }\n",
       "\n",
       "    .dataframe tbody tr th {\n",
       "        vertical-align: top;\n",
       "    }\n",
       "\n",
       "    .dataframe thead th {\n",
       "        text-align: right;\n",
       "    }\n",
       "</style>\n",
       "<table border=\"1\" class=\"dataframe\">\n",
       "  <thead>\n",
       "    <tr style=\"text-align: right;\">\n",
       "      <th></th>\n",
       "      <th>reviews.text</th>\n",
       "      <th>good experience</th>\n",
       "    </tr>\n",
       "  </thead>\n",
       "  <tbody>\n",
       "    <tr>\n",
       "      <th>0</th>\n",
       "      <td>Our experience at Rancho Valencia was absolutely perfect from beginning to end!!!! We felt special and very happy du...</td>\n",
       "      <td>1</td>\n",
       "    </tr>\n",
       "    <tr>\n",
       "      <th>2</th>\n",
       "      <td>We booked a 3 night stay at Rancho Valencia to play some tennis, since it is one of the highest rated tennis resorts...</td>\n",
       "      <td>1</td>\n",
       "    </tr>\n",
       "    <tr>\n",
       "      <th>4</th>\n",
       "      <td>I live in Md and the Aloft is my Home away from home...we stayed 1 night 7-7-16 ...Staff is great ! Especially Olivi...</td>\n",
       "      <td>1</td>\n",
       "    </tr>\n",
       "    <tr>\n",
       "      <th>7</th>\n",
       "      <td>We stayed here while visiting Maryland Live!. Cute hotel in a great location. Clean, with a very modern look, upgrad...</td>\n",
       "      <td>1</td>\n",
       "    </tr>\n",
       "    <tr>\n",
       "      <th>10</th>\n",
       "      <td>The staff is very friendly and helpful. The rooms are large and nicely furnished. Feels new, as if we were the first...</td>\n",
       "      <td>1</td>\n",
       "    </tr>\n",
       "    <tr>\n",
       "      <th>11</th>\n",
       "      <td>Very friendly staff, great free breakfast items each morning, room and facilities very clean, staff superb! We had a...</td>\n",
       "      <td>1</td>\n",
       "    </tr>\n",
       "    <tr>\n",
       "      <th>13</th>\n",
       "      <td>This is a nice hotel with great staff. I have young children and the entire staff from the front desk staff to the b...</td>\n",
       "      <td>1</td>\n",
       "    </tr>\n",
       "    <tr>\n",
       "      <th>20</th>\n",
       "      <td>Everything was sold out in State College for Garth's concerts and the Inn came up as available...what an amazing fin...</td>\n",
       "      <td>1</td>\n",
       "    </tr>\n",
       "    <tr>\n",
       "      <th>21</th>\n",
       "      <td>I work here in Perry about 6 days out of the week. The People here are very friendly and willing to make your stay b...</td>\n",
       "      <td>1</td>\n",
       "    </tr>\n",
       "    <tr>\n",
       "      <th>22</th>\n",
       "      <td>The hotel is just one of many that are on this new trend of firmer pillows and mattresses. This is the third hotel I...</td>\n",
       "      <td>1</td>\n",
       "    </tr>\n",
       "  </tbody>\n",
       "</table>\n",
       "</div>"
      ],
      "text/plain": [
       "                                                                                                               reviews.text  \\\n",
       "0   Our experience at Rancho Valencia was absolutely perfect from beginning to end!!!! We felt special and very happy du...   \n",
       "2   We booked a 3 night stay at Rancho Valencia to play some tennis, since it is one of the highest rated tennis resorts...   \n",
       "4   I live in Md and the Aloft is my Home away from home...we stayed 1 night 7-7-16 ...Staff is great ! Especially Olivi...   \n",
       "7   We stayed here while visiting Maryland Live!. Cute hotel in a great location. Clean, with a very modern look, upgrad...   \n",
       "10  The staff is very friendly and helpful. The rooms are large and nicely furnished. Feels new, as if we were the first...   \n",
       "11  Very friendly staff, great free breakfast items each morning, room and facilities very clean, staff superb! We had a...   \n",
       "13  This is a nice hotel with great staff. I have young children and the entire staff from the front desk staff to the b...   \n",
       "20  Everything was sold out in State College for Garth's concerts and the Inn came up as available...what an amazing fin...   \n",
       "21  I work here in Perry about 6 days out of the week. The People here are very friendly and willing to make your stay b...   \n",
       "22  The hotel is just one of many that are on this new trend of firmer pillows and mattresses. This is the third hotel I...   \n",
       "\n",
       "    good experience  \n",
       "0                 1  \n",
       "2                 1  \n",
       "4                 1  \n",
       "7                 1  \n",
       "10                1  \n",
       "11                1  \n",
       "13                1  \n",
       "20                1  \n",
       "21                1  \n",
       "22                1  "
      ]
     },
     "execution_count": 60,
     "metadata": {},
     "output_type": "execute_result"
    }
   ],
   "source": [
    "# Example of comments tagged as good experience\n",
    "\n",
    "good_experience_tag[good_experience_tag['good experience'] == 1][['reviews.text', 'good experience']].iloc[0:10]"
   ]
  },
  {
   "cell_type": "markdown",
   "metadata": {},
   "source": [
    "## Closing Remarks"
   ]
  },
  {
   "cell_type": "markdown",
   "metadata": {},
   "source": [
    "Thank you for going through this tutorial notebook on text analytics in Python! If you have any questions on any of the material covered, please feel free to reach out at **michaeljcho29@gmail.com**"
   ]
  },
  {
   "cell_type": "markdown",
   "metadata": {},
   "source": [
    "## Appendix"
   ]
  },
  {
   "cell_type": "markdown",
   "metadata": {},
   "source": [
    "### Sources:\n",
    "\n",
    "NLTK Online Textbook\n",
    "1. http://www.nltk.org/book/\n",
    "\n",
    "Stemming and Lemmatization \n",
    "1. https://towardsdatascience.com/stemming-lemmatization-what-ba782b7c0bd8\n",
    "2. https://www.datacamp.com/community/tutorials/stemming-lemmatization-python\n",
    "3. https://nlp.stanford.edu/IR-book/html/htmledition/stemming-and-lemmatization-1.html\n",
    "\n",
    "Topic Modelling with Gensm\n",
    "1. https://towardsdatascience.com/topic-modelling-in-python-with-nltk-and-gensim-4ef03213cd21\n",
    "\n",
    "Pickle\n",
    "1. https://docs.python.org/3/library/pickle.html\n",
    "2. https://www.geeksforgeeks.org/understanding-python-pickling-example/\n",
    "\n",
    "pyLDAvis\n",
    "1. https://nlp.stanford.edu/events/illvi2014/papers/sievert-illvi2014.pdf"
   ]
  }
 ],
 "metadata": {
  "kernelspec": {
   "display_name": "virt_test",
   "language": "python",
   "name": "virt_test"
  },
  "language_info": {
   "codemirror_mode": {
    "name": "ipython",
    "version": 3
   },
   "file_extension": ".py",
   "mimetype": "text/x-python",
   "name": "python",
   "nbconvert_exporter": "python",
   "pygments_lexer": "ipython3",
   "version": "3.6.4"
  }
 },
 "nbformat": 4,
 "nbformat_minor": 2
}
