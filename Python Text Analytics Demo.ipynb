{
 "cells": [
  {
   "cell_type": "markdown",
   "metadata": {},
   "source": [
    "# Text Analytics in Python Using NLTK and Gensim\n",
    "\n",
    "The purpose of this notebook is to show some Text Analytics strategies that you can use with the NLTK and Gensim packages in python. In addition, the notebook was written with a plug and play application is mind. What this means is that if you have another dataset that you want to use with this notebook, you only need to change a few code cells to run the same analysis (the csv file being read in, the name of the column that contains the reviews, and the word dictionaries if doing Rule Based Categorization). Below is the table of contents for this notebook. \n",
    "\n",
    "### Introduction\n",
    "1. Reading in the Data\n",
    "\n",
    "### Pre-analysis Definitions\n",
    "1. Stemming\n",
    "2. Lemmatization\n",
    "3. Tokenization\n",
    "4. Stop Words\n",
    "\n",
    "### Data Preprocessing\n",
    "1. Preparing data for tokenization\n",
    "2. Tokenizing, Stemming/Lemmatizing, and Removing Stop Words\n",
    "3. Word Frequencies\n",
    "4. N-grams\n",
    "\n",
    "### Topic Modelling with Gensim\n",
    "1. Topic Modelling\n",
    "2. Assigning Comments to Topics\n",
    "\n",
    "### Rule Based Categorization\n",
    "1. Creating Dictionaries\n",
    "2. Tagging Comments"
   ]
  },
  {
   "cell_type": "markdown",
   "metadata": {},
   "source": [
    "## Introduction"
   ]
  },
  {
   "cell_type": "markdown",
   "metadata": {},
   "source": [
    "To show off the functionailty of NTLK and Gensim, we will use a sample Hotel's dataset from kaggle (https://www.kaggle.com/datafiniti/hotel-reviews/). It is a list of 1,000 hotels and their reviews provided by Datafiniti's Business Database. The dataset includes hotel location, name, rating, review data, title, and username, among other fields.  "
   ]
  },
  {
   "cell_type": "markdown",
   "metadata": {},
   "source": [
    "### Reading in the Data"
   ]
  },
  {
   "cell_type": "markdown",
   "metadata": {},
   "source": [
    "To start, we need to import the dictionaries we need and read in the dataset."
   ]
  },
  {
   "cell_type": "code",
   "execution_count": 58,
   "metadata": {},
   "outputs": [],
   "source": [
    "import pandas as pd\n",
    "import string\n",
    "import nltk\n",
    "import warnings\n",
    "import time\n",
    "start = time.time()\n",
    "warnings.filterwarnings('ignore')\n",
    "\n",
    "data = pd.read_csv('Datafiniti_Hotel_Reviews.csv') \n",
    "data = data.dropna(subset=['reviews.text'])"
   ]
  },
  {
   "cell_type": "markdown",
   "metadata": {},
   "source": [
    "To get a sense of what the reviews look like, we print out the first three comments in the dataset"
   ]
  },
  {
   "cell_type": "code",
   "execution_count": 59,
   "metadata": {},
   "outputs": [
    {
     "name": "stdout",
     "output_type": "stream",
     "text": [
      "Number of reviews: 9999\n",
      "\n",
      "Example reviews: \n",
      "\n",
      "Our experience at Rancho Valencia was absolutely perfect from beginning to end!!!! We felt special and very happy during our stayed. I would come back in a heart beat!!!\n",
      "\n",
      "\n",
      "Amazing place. Everyone was extremely warm and welcoming. We've stayed at some top notch places and this is definitely in our top 2. Great for a romantic getaway or take the kids along as we did. Had a couple stuffed animals waiting for our girls upon arrival. Can't wait to go back.\n",
      "\n",
      "\n",
      "We booked a 3 night stay at Rancho Valencia to play some tennis, since it is one of the highest rated tennis resorts in America. This place is really over the top from a luxury standpoint and overall experience. The villas are really perfect, the staff is great, attention to details (includes fresh squeezed orange juice each morning), restaurants, bar and room service amazing, and the tennis program was really impressive as well. We will want to come back here again.\n",
      "\n",
      "\n"
     ]
    }
   ],
   "source": [
    "print('Number of reviews: {}\\n'.format(len(data)))\n",
    "print('Example reviews: \\n')\n",
    "for i in data['reviews.text'].iloc[0:3]:\n",
    "    print(i)\n",
    "    print('\\n')"
   ]
  },
  {
   "cell_type": "markdown",
   "metadata": {},
   "source": [
    "## Pre-Analysis Definitions"
   ]
  },
  {
   "cell_type": "markdown",
   "metadata": {},
   "source": [
    "Before diving into the analysis, we must first define the following terms: **Stemming**, **Lemmatization**, and **Tokenization**"
   ]
  },
  {
   "cell_type": "markdown",
   "metadata": {},
   "source": [
    "### Stemming"
   ]
  },
  {
   "cell_type": "markdown",
   "metadata": {},
   "source": [
    "Stemming is the process by which a word is reduced to its word stem. The purpose of stemming (and also lemmatization) is to reduce a word to its core root. Reducing a word to its core root allows a text analytics algorithm to group words with similar meaning together in order to improve accuracy."
   ]
  },
  {
   "cell_type": "markdown",
   "metadata": {},
   "source": [
    "In ```NLTK```, there are multiple stemming algorithms available to use. For this notebook, we will be showing ```PorterStemmer``` and ```LancasterStemmer```. First, we define a stem object for both Porter and Lancaster stemming:"
   ]
  },
  {
   "cell_type": "code",
   "execution_count": 60,
   "metadata": {},
   "outputs": [],
   "source": [
    "from nltk.stem import PorterStemmer\n",
    "from nltk.stem import LancasterStemmer\n",
    "\n",
    "porter = PorterStemmer()\n",
    "lancaster = LancasterStemmer()"
   ]
  },
  {
   "cell_type": "markdown",
   "metadata": {},
   "source": [
    "Below is an example of how the ```PorterStemmer``` takes an example word, **stay**, and its various ending combinations, and simplifes them to the core word **stay**"
   ]
  },
  {
   "cell_type": "code",
   "execution_count": 61,
   "metadata": {},
   "outputs": [
    {
     "name": "stdout",
     "output_type": "stream",
     "text": [
      "stay\n",
      "stay\n",
      "stay\n",
      "stay\n"
     ]
    }
   ],
   "source": [
    "print(porter.stem(\"stay\"))\n",
    "print(porter.stem(\"stayed\"))\n",
    "print(porter.stem(\"stays\"))\n",
    "print(porter.stem(\"staying\"))"
   ]
  },
  {
   "cell_type": "markdown",
   "metadata": {},
   "source": [
    "The ```PorterStemmer``` is known for it's speed and simplicity, and is typically used in Information Retrieval Environments where fast recall and fetching of search queries is important. On the other hand, the Lancaster stemmer is more aggressive in stemming words."
   ]
  },
  {
   "cell_type": "code",
   "execution_count": 62,
   "metadata": {},
   "outputs": [
    {
     "name": "stdout",
     "output_type": "stream",
     "text": [
      "destabil\n",
      "destabil\n",
      "destabil\n",
      "destabil\n"
     ]
    }
   ],
   "source": [
    "print(porter.stem(\"destabilized\"))\n",
    "print(porter.stem(\"destabilize\"))\n",
    "print(porter.stem(\"destabilizing\"))\n",
    "print(porter.stem(\"destabilizes\"))"
   ]
  },
  {
   "cell_type": "markdown",
   "metadata": {},
   "source": [
    "Lancaster here stems the word destabilize to **dest**"
   ]
  },
  {
   "cell_type": "code",
   "execution_count": 63,
   "metadata": {},
   "outputs": [
    {
     "name": "stdout",
     "output_type": "stream",
     "text": [
      "Lancaster Stemming Example with \"destabilize\"\n",
      "destabilized --> dest\n",
      "destabilize --> dest\n",
      "destabilizing --> dest\n",
      "destabilizes --> dest\n"
     ]
    }
   ],
   "source": [
    "print('Lancaster Stemming Example with \"destabilize\"')\n",
    "print('destabilized --> {}'.format(lancaster.stem(\"destabilized\")))\n",
    "print('destabilize --> {}'.format(lancaster.stem(\"destabilize\")))\n",
    "print('destabilizing --> {}'.format(lancaster.stem(\"destabilizing\")))\n",
    "print('destabilizes --> {}'.format(lancaster.stem(\"destabilizes\")))"
   ]
  },
  {
   "cell_type": "markdown",
   "metadata": {},
   "source": [
    "The **PorterStemmer** and **LancasterStemmer** has disadvantages, namely that \n",
    "\n",
    "1. The words sometimes do not stem to actual words\n",
    "2. Linguistic meaning can sometimes be lost\n",
    "\n",
    "The example below with **university** and **universe** illustrates this point"
   ]
  },
  {
   "cell_type": "code",
   "execution_count": 64,
   "metadata": {},
   "outputs": [
    {
     "name": "stdout",
     "output_type": "stream",
     "text": [
      "univers\n",
      "univers\n",
      "univers\n",
      "univers\n"
     ]
    }
   ],
   "source": [
    "print(porter.stem(\"university\"))\n",
    "print(porter.stem(\"universal\"))\n",
    "print(porter.stem(\"universities\"))\n",
    "print(porter.stem(\"universe\"))"
   ]
  },
  {
   "cell_type": "code",
   "execution_count": 65,
   "metadata": {},
   "outputs": [
    {
     "name": "stdout",
     "output_type": "stream",
     "text": [
      "univers\n",
      "univers\n",
      "univers\n",
      "univers\n"
     ]
    }
   ],
   "source": [
    "print(lancaster.stem(\"university\"))\n",
    "print(lancaster.stem(\"universal\"))\n",
    "print(lancaster.stem(\"universities\"))\n",
    "print(lancaster.stem(\"universe\"))"
   ]
  },
  {
   "cell_type": "markdown",
   "metadata": {},
   "source": [
    "As you can see above, the words university and universe simplify to *univers*, and difference in meaning between the two words is lost. One way to remedy this problem is with Lemmatization "
   ]
  },
  {
   "cell_type": "markdown",
   "metadata": {},
   "source": [
    "### Lemmatization"
   ]
  },
  {
   "cell_type": "markdown",
   "metadata": {},
   "source": [
    "Sometimes, instead of getting the stem of a word, which might not be an actual word, we can lemmetize our words to make sure that the words are grouped into an actual language word. Whereas the word **\"pictures\"** might stem to something like **\"pictur\"**, in lemmatization it would shorten to **\"picture\"**. This grouping is useful for keeping the full linguistic context of a word as opposed to just keeping the root of a word."
   ]
  },
  {
   "cell_type": "markdown",
   "metadata": {},
   "source": [
    "In the ```NLTK``` package we can use ```WordNetLemmatizer``` to lemmatize our words"
   ]
  },
  {
   "cell_type": "code",
   "execution_count": 66,
   "metadata": {},
   "outputs": [],
   "source": [
    "from nltk.stem import WordNetLemmatizer   \n",
    "lemmatizer = WordNetLemmatizer() "
   ]
  },
  {
   "cell_type": "markdown",
   "metadata": {},
   "source": [
    "Going back to the example of university and universe, we see that Lemmatization ensures that we retain linguistic meaning while still grouping words where possible"
   ]
  },
  {
   "cell_type": "code",
   "execution_count": 67,
   "metadata": {},
   "outputs": [
    {
     "name": "stdout",
     "output_type": "stream",
     "text": [
      "university\n",
      "universal\n",
      "university\n",
      "universe\n"
     ]
    }
   ],
   "source": [
    "print(lemmatizer.lemmatize(\"university\"))\n",
    "print(lemmatizer.lemmatize(\"universal\"))\n",
    "print(lemmatizer.lemmatize(\"universities\"))\n",
    "print(lemmatizer.lemmatize(\"universe\"))"
   ]
  },
  {
   "cell_type": "markdown",
   "metadata": {},
   "source": [
    "So how do we decide which strategy to use when grouping similar words? When is stemming more advantagous to use when compared with lemmatization? The answer depends your application, and the importance of retaining linguistic meaning vs. having more simplified word groupings and reducing the number of features in your algorithm. If you cut off too much of the ending of a word (**overstemming**) you may have more nonsensical terms in your output and/or lose linguistic meaning. If you cut off too little from the ending of a word (**understemming**), then you may not be grouping enough similar words together and thus open your model up to potential overfitting."
   ]
  },
  {
   "cell_type": "markdown",
   "metadata": {},
   "source": [
    "### Tokenization"
   ]
  },
  {
   "cell_type": "markdown",
   "metadata": {},
   "source": [
    "*What is tokenization?*\n",
    "* Tokenization is when you take a string of text, and make each word an item in a list so each word can be analyzed individually\n",
    "* **EXAMPLE:** ```\"Our experience at Rancho Valencia was absolutely perfect from beginning to end!!!!\" --> ['our','experience','at','rancho','valencia','was', 'absolutely','perfect','from', 'beginning', 'to', 'end']```\n",
    "\n",
    "*Why do we use tokenization?*\n",
    "* It is the general format used for many text analysis techniques in NTLK, including Frequency Distribution and  N-Grams, among other techniques"
   ]
  },
  {
   "cell_type": "markdown",
   "metadata": {},
   "source": [
    "In ```NTLK```, you can tokenize a string of text using ```word_tokenize```"
   ]
  },
  {
   "cell_type": "code",
   "execution_count": 68,
   "metadata": {},
   "outputs": [
    {
     "name": "stdout",
     "output_type": "stream",
     "text": [
      "Raw Comment: \"Our experience at Rancho Valencia was absolutely perfect from beginning to end\"\n",
      "Cleaned Comment: ['our', 'experience', 'at', 'rancho', 'valencia', 'was', 'absolutely', 'perfect', 'from', 'beginning', 'to', 'end']\n"
     ]
    }
   ],
   "source": [
    "sample_string = 'Our experience at Rancho Valencia was absolutely perfect from beginning to end'\n",
    "sample_token = nltk.word_tokenize(sample_string.lower())\n",
    "\n",
    "print('Raw Comment: \"Our experience at Rancho Valencia was absolutely perfect from beginning to end\"')\n",
    "print('Cleaned Comment: {}'.format(sample_token))"
   ]
  },
  {
   "cell_type": "markdown",
   "metadata": {},
   "source": [
    "### Stop Words"
   ]
  },
  {
   "cell_type": "markdown",
   "metadata": {},
   "source": [
    "One issue that adds a lot of noise to a text analytics model are common words that appear in many comments but often add little contextual meaning. Examples of common words are \"the\", \"at\", \"a\", \"an\". These words are known as **stop words**. Fortunately, ```NTLK``` has a pre-defined corpus of stop words, ```nltk.corpus.stopwords.words('english')```, which you can you to filter out these common words from your text data. Below is a subset of words within the ```NLTK``` stop words corpus"
   ]
  },
  {
   "cell_type": "code",
   "execution_count": 69,
   "metadata": {},
   "outputs": [
    {
     "name": "stdout",
     "output_type": "stream",
     "text": [
      "First 10 stop words in the NLTK Stop Words Corpus (English):\n",
      "['i', 'me', 'my', 'myself', 'we', 'our', 'ours', 'ourselves', 'you', \"you're\"]\n"
     ]
    }
   ],
   "source": [
    "print('First 10 stop words in the NLTK Stop Words Corpus (English):')\n",
    "print(nltk.corpus.stopwords.words('english')[0:10])"
   ]
  },
  {
   "cell_type": "markdown",
   "metadata": {},
   "source": [
    "Here is an example of applying ```nltk.corpus.stopwords.words('english')``` to your tokenized text"
   ]
  },
  {
   "cell_type": "code",
   "execution_count": 70,
   "metadata": {},
   "outputs": [
    {
     "name": "stdout",
     "output_type": "stream",
     "text": [
      "Raw Comment: \"Our experience at Rancho Valencia was absolutely perfect from beginning to end\"\n",
      "Tokenized Comment: ['our', 'experience', 'at', 'rancho', 'valencia', 'was', 'absolutely', 'perfect', 'from', 'beginning', 'to', 'end']\n",
      "Tokenized Comment After Removing Stop Words: ['experience', 'rancho', 'valencia', 'absolutely', 'perfect', 'beginning', 'end']\n"
     ]
    }
   ],
   "source": [
    "sample_string = 'Our experience at Rancho Valencia was absolutely perfect from beginning to end'\n",
    "sample_token = nltk.word_tokenize(sample_string.lower())   # <----- Original Tokenized Text\n",
    "\n",
    "stop_words = nltk.corpus.stopwords.words('english')\n",
    "sample_token_no_stop = [word for word in sample_token if word not in stop_words] # <-- Removing Stop Words\n",
    "\n",
    "print('Raw Comment: \"Our experience at Rancho Valencia was absolutely perfect from beginning to end\"')\n",
    "print('Tokenized Comment: {}'.format(sample_token))\n",
    "print('Tokenized Comment After Removing Stop Words: {}'.format(sample_token_no_stop))"
   ]
  },
  {
   "cell_type": "markdown",
   "metadata": {},
   "source": [
    "## Data Preprocessing"
   ]
  },
  {
   "cell_type": "markdown",
   "metadata": {},
   "source": [
    "Now that we have some NLP preprocessing techniques defined, let's use them in practice on a real dataset"
   ]
  },
  {
   "cell_type": "markdown",
   "metadata": {},
   "source": [
    "### Preparing the Reviews for Tokenization"
   ]
  },
  {
   "cell_type": "markdown",
   "metadata": {},
   "source": [
    "The first step in the analysis to clean up the reviews so that they can be easily tokenized. There are two parts of the review that need to be cleaned:\n",
    "\n",
    "1. Remove punctuation\n",
    "2. Expand contraction words (i.e. don't --> do not)"
   ]
  },
  {
   "cell_type": "markdown",
   "metadata": {},
   "source": [
    "#### Removing Punctuation"
   ]
  },
  {
   "cell_type": "markdown",
   "metadata": {},
   "source": [
    "To remove punctuation, we define a function, ```remove_punctuation```, that utilizes the ```string``` library to look for and remove any symbols related to punctuation, with the exception of apostrophes (needed for expanding contraction words). The ```string``` library is a default library in Python"
   ]
  },
  {
   "cell_type": "code",
   "execution_count": 71,
   "metadata": {},
   "outputs": [
    {
     "name": "stdout",
     "output_type": "stream",
     "text": [
      "Raw Comment: here: a sentence - alibeit convoluted - with lots(!) of random $%^ punctuation?\n",
      "Cleaned Comment: here  a sentence   alibeit convoluted   with lots    of random     punctuation \n"
     ]
    }
   ],
   "source": [
    "def remove_punctuation(text):\n",
    "    nopunc = []\n",
    "    # Looks for and removes punctuations from string\n",
    "    for char in text:\n",
    "        if char == '’' or char == \"'\":\n",
    "            nopunc.append(\"'\")\n",
    "        # Punctuation in string.punctuation: '!\"#$%&\\'()*+,-./:;<=>?@[\\\\]^_`{|}~'\n",
    "        elif char in string.punctuation and char != \"'\":\n",
    "            nopunc.append(' ')\n",
    "        else:\n",
    "            nopunc.append(char)\n",
    "    # After removing punctuation, join string back together\n",
    "    output = ''.join(nopunc)\n",
    "    \n",
    "    return output\n",
    "\n",
    "sample_sentence_one = 'here: a sentence - alibeit convoluted - with lots(!) of random $%^ punctuation?'\n",
    "\n",
    "print('Raw Comment: {}'.format(sample_sentence_one))\n",
    "print('Cleaned Comment: {}'.format(remove_punctuation(sample_sentence_one)))"
   ]
  },
  {
   "cell_type": "markdown",
   "metadata": {},
   "source": [
    "#### Expanding Contraction Words"
   ]
  },
  {
   "cell_type": "markdown",
   "metadata": {},
   "source": [
    "To expand contraction words, we must first define a mapping of a contraction word to its expanded form. Fortunately, someone on the internet has already done this (https://stackoverflow.com/questions/19790188/expanding-english-language-contractions-in-python). To avoid adding extra space to this notebook, the dictionary of contraction word mappings was placed in ```contractions_v2.py```, then called into this notebook using ```import```. The code cell below shows how the contraction word mappings are brought into the notebook, as well as a print of 10 terms within the contraction word mapping dictionary "
   ]
  },
  {
   "cell_type": "code",
   "execution_count": 72,
   "metadata": {},
   "outputs": [
    {
     "name": "stdout",
     "output_type": "stream",
     "text": [
      "Example of items in the contraction word list dictionary:\n"
     ]
    },
    {
     "data": {
      "text/plain": [
       "{\"'cause\": 'because',\n",
       " \"ain't\": 'am not',\n",
       " \"aren't\": 'are not',\n",
       " \"can't\": 'cannot',\n",
       " \"can't've\": 'cannot have',\n",
       " \"could've\": 'could have',\n",
       " \"couldn't\": 'could not',\n",
       " \"couldn't've\": 'could not have',\n",
       " \"didn't\": 'did not',\n",
       " \"doesn't\": 'does not'}"
      ]
     },
     "execution_count": 72,
     "metadata": {},
     "output_type": "execute_result"
    }
   ],
   "source": [
    "# Get a dictionary of english language contractions\n",
    "from contractions_v2 import get_word_contractions\n",
    "contract_list = get_word_contractions()\n",
    "\n",
    "print('Example of items in the contraction word list dictionary:')\n",
    "dict(list(contract_list.items())[0:10])"
   ]
  },
  {
   "cell_type": "markdown",
   "metadata": {},
   "source": [
    "Now that the mapping has been added, we can define a function, ```expand_contraction_words```, that looks at each word in the review and expands a contraction word if it exists."
   ]
  },
  {
   "cell_type": "code",
   "execution_count": 73,
   "metadata": {},
   "outputs": [
    {
     "name": "stdout",
     "output_type": "stream",
     "text": [
      "Example input/output of expand_contraction_words function:\n",
      "Input: ['we', \"aren't\", 'he', \"didn't\", 'she', \"wouldn't\"]\n",
      "Output: ['we', 'are not', 'he', 'did not', 'she', 'would not']\n"
     ]
    }
   ],
   "source": [
    "def expand_contraction_words(lst, contraction_list):\n",
    "    final_output = []\n",
    "    for item in lst:\n",
    "        if item.lower() in contraction_list.keys():\n",
    "            final_output.append(contraction_list[item.lower()])\n",
    "        else:\n",
    "            final_output.append(item)\n",
    "            \n",
    "    return final_output\n",
    "            \n",
    "print('Example input/output of expand_contraction_words function:')\n",
    "print('Input: {}'.format([\"we\", \"aren't\", \"he\", \"didn't\", \"she\", \"wouldn't\"]))\n",
    "print('Output: {}'.format(expand_contraction_words([\"we\", \"aren't\", \"he\", \"didn't\", \"she\", \"wouldn't\"], contract_list)))"
   ]
  },
  {
   "cell_type": "markdown",
   "metadata": {},
   "source": [
    "Putting the ```remove_punctuation``` and ```expand_contraction_words``` functions together, we can define a new function, ```clean_review``` which takes a review with punctuations and contraction words and returns a review with punctuation removed, and contraction words expanded."
   ]
  },
  {
   "cell_type": "code",
   "execution_count": 74,
   "metadata": {},
   "outputs": [
    {
     "name": "stdout",
     "output_type": "stream",
     "text": [
      "Here is an example of a cleaned comment:\n",
      "Raw Comment: WHOA! I DON'T THINK SENTENCE(?) is cleaned*...or maybe it's clean NOW\n",
      "Cleaned Comment: whoa  i do not think sentence    is cleaned    or maybe it is clean now\n"
     ]
    }
   ],
   "source": [
    "# Function that removes punctuation and expands contraction words\n",
    "def clean_review(text, contraction_list):\n",
    "    # Remove Punctuation\n",
    "    nopunc = remove_punctuation(text).split(' ')\n",
    "    \n",
    "    # Expand contraction words\n",
    "    final_output = expand_contraction_words(nopunc, contraction_list)\n",
    "            \n",
    "    return ' '.join(final_output).lower()\n",
    "\n",
    "sample_sentence_two = \"WHOA! I DON'T THINK SENTENCE(?) is cleaned*...or maybe it's clean NOW\"\n",
    "\n",
    "print('Here is an example of a cleaned comment:')\n",
    "print('Raw Comment: {}'.format(sample_sentence_two))\n",
    "print('Cleaned Comment: {}'.format(clean_review(sample_sentence_two, contract_list)))"
   ]
  },
  {
   "cell_type": "markdown",
   "metadata": {},
   "source": [
    "### Tokenizing, Stemming/Lemmatizing, and Removing Stop Words"
   ]
  },
  {
   "cell_type": "markdown",
   "metadata": {},
   "source": [
    "Next, we get the reviews in a format that can be used for text analysis. This step involves removing stopwords, tokenizing the review, and stemming / lemmatizing words within the review. The function below does all of the above steps. "
   ]
  },
  {
   "cell_type": "code",
   "execution_count": 75,
   "metadata": {},
   "outputs": [],
   "source": [
    "def tokenize(text, stemmer=None):\n",
    "    stop_words = set([i for i in nltk.corpus.stopwords.words('english') if i not in ['no','not']])\n",
    "    tokenized_text = nltk.word_tokenize(text)\n",
    "    \n",
    "    if stemmer == None:\n",
    "        return [word for word in tokenized_text if word not in stop_words]\n",
    "    elif stemmer == 'Porter':\n",
    "        return [porter.stem(word) for word in tokenized_text if word not in stop_words]\n",
    "    elif stemmer == 'Lancaster':\n",
    "        return [lancaster.stem(word) for word in tokenized_text if word not in stop_words]\n",
    "    elif stemmer == 'Lemmatize':\n",
    "        return [lemmatizer.lemmatize(word) for word in tokenized_text if word not in stop_words]"
   ]
  },
  {
   "cell_type": "markdown",
   "metadata": {},
   "source": [
    "The code cell below applies the above function to the dataset, and puts all reviews together in list of lists (i.e. a corpus of reviews). As an example, there is a variable defined below for each potential stemming/lemmatizing scenario discussed (No Stemming/Lemmatization, Porter, Lancaster, and Lemmatize). However, **moving forward in this notebook, we will use the scenario where all reviews are Lemmatized (i.e. corp_lemma)**"
   ]
  },
  {
   "cell_type": "code",
   "execution_count": 76,
   "metadata": {},
   "outputs": [],
   "source": [
    "corp_norm = [tokenize(clean_review(comment, contract_list)) for comment in data['reviews.text']]\n",
    "corp_lancaster = [tokenize(clean_review(comment, contract_list), stemmer='Lancaster') for comment in data['reviews.text']]\n",
    "corp_lemma = [tokenize(clean_review(comment, contract_list), stemmer='Lemmatize') for comment in data['reviews.text']]\n",
    "corp_porter = [tokenize(clean_review(comment, contract_list), stemmer='Porter') for comment in data['reviews.text']]"
   ]
  },
  {
   "cell_type": "markdown",
   "metadata": {},
   "source": [
    "### Word Frequencies"
   ]
  },
  {
   "cell_type": "markdown",
   "metadata": {},
   "source": [
    "Now that our comments are tokenized, we can start to use more functionality within ```NLTK```. The first function to show is ```FreqDist```, which can allow you to see the most common words within the reviews. To do this, we must first flatten out the corpus of reviews (go from list of lists to one long list with all the words from all the reviews). Then we can use ```FreqDist``` and ```plot``` to show the words with the highest frequency. In addition to the plot, we can do some additional processing to get the word frequencies in a tabular (DataFrame) format."
   ]
  },
  {
   "cell_type": "code",
   "execution_count": 77,
   "metadata": {},
   "outputs": [
    {
     "data": {
      "image/png": "[encoded data removed]",
      "text/plain": [
       "<Figure size 432x288 with 1 Axes>"
      ]
     },
     "metadata": {},
     "output_type": "display_data"
    },
    {
     "data": {
      "text/html": [
       "<div>\n",
       "<style scoped>\n",
       "    .dataframe tbody tr th:only-of-type {\n",
       "        vertical-align: middle;\n",
       "    }\n",
       "\n",
       "    .dataframe tbody tr th {\n",
       "        vertical-align: top;\n",
       "    }\n",
       "\n",
       "    .dataframe thead th {\n",
       "        text-align: right;\n",
       "    }\n",
       "</style>\n",
       "<table border=\"1\" class=\"dataframe\">\n",
       "  <thead>\n",
       "    <tr style=\"text-align: right;\">\n",
       "      <th></th>\n",
       "      <th>word</th>\n",
       "      <th>frequency</th>\n",
       "    </tr>\n",
       "  </thead>\n",
       "  <tbody>\n",
       "    <tr>\n",
       "      <th>70</th>\n",
       "      <td>room</td>\n",
       "      <td>8928</td>\n",
       "    </tr>\n",
       "    <tr>\n",
       "      <th>122</th>\n",
       "      <td>hotel</td>\n",
       "      <td>7314</td>\n",
       "    </tr>\n",
       "    <tr>\n",
       "      <th>39</th>\n",
       "      <td>not</td>\n",
       "      <td>6085</td>\n",
       "    </tr>\n",
       "    <tr>\n",
       "      <th>59</th>\n",
       "      <td>staff</td>\n",
       "      <td>4046</td>\n",
       "    </tr>\n",
       "    <tr>\n",
       "      <th>45</th>\n",
       "      <td>stay</td>\n",
       "      <td>3827</td>\n",
       "    </tr>\n",
       "    <tr>\n",
       "      <th>26</th>\n",
       "      <td>great</td>\n",
       "      <td>3520</td>\n",
       "    </tr>\n",
       "    <tr>\n",
       "      <th>202</th>\n",
       "      <td>good</td>\n",
       "      <td>3518</td>\n",
       "    </tr>\n",
       "    <tr>\n",
       "      <th>150</th>\n",
       "      <td>clean</td>\n",
       "      <td>3370</td>\n",
       "    </tr>\n",
       "    <tr>\n",
       "      <th>143</th>\n",
       "      <td>breakfast</td>\n",
       "      <td>2974</td>\n",
       "    </tr>\n",
       "    <tr>\n",
       "      <th>156</th>\n",
       "      <td>nice</td>\n",
       "      <td>2813</td>\n",
       "    </tr>\n",
       "  </tbody>\n",
       "</table>\n",
       "</div>"
      ],
      "text/plain": [
       "          word  frequency\n",
       "70        room       8928\n",
       "122      hotel       7314\n",
       "39         not       6085\n",
       "59       staff       4046\n",
       "45        stay       3827\n",
       "26       great       3520\n",
       "202       good       3518\n",
       "150      clean       3370\n",
       "143  breakfast       2974\n",
       "156       nice       2813"
      ]
     },
     "execution_count": 77,
     "metadata": {},
     "output_type": "execute_result"
    }
   ],
   "source": [
    "# Use NLTK FreqDist to get the most common words in the review\n",
    "word_frequency = nltk.FreqDist([item for sublist in corp_lemma for item in sublist])\n",
    "word_frequency.plot(10)\n",
    "\n",
    "word_frequency_df = pd.DataFrame.from_dict(word_frequency, orient='index', columns=['frequency'])\n",
    "word_frequency_df.reset_index(level=0, inplace=True)\n",
    "word_frequency_df = word_frequency_df.rename(columns={'index': 'word'})\n",
    "word_frequency_df.sort_values(by=['frequency'], ascending=False).iloc[0:10]"
   ]
  },
  {
   "cell_type": "markdown",
   "metadata": {},
   "source": [
    "### N-Grams"
   ]
  },
  {
   "cell_type": "markdown",
   "metadata": {},
   "source": [
    "N-Grams refers to the  “contiguous sequence of N items from a given sample of text or speech”. The frequency distribution shown above is an example of **unigrams** or 1-grams. ```NLTK``` allows you to look at as many continuous sequence lengths as desired given tokenized text data and the function ```ngrams```. Below are examples of what 2-grams (or **bigrams**) and 3-grams (or **tri-grams**) look like:"
   ]
  },
  {
   "cell_type": "code",
   "execution_count": 78,
   "metadata": {},
   "outputs": [
    {
     "name": "stdout",
     "output_type": "stream",
     "text": [
      "Tokenized Comment: ['experience', 'rancho', 'valencia', 'absolutely', 'perfect', 'beginning', 'end', 'felt', 'special', 'happy', 'stayed', 'would', 'come', 'back', 'heart', 'beat']\n",
      "Example Bigrams: (('experience', 'rancho'), ('rancho', 'valencia'), ('valencia', 'absolutely'), ('absolutely', 'perfect'), ('perfect', 'beginning'), ('beginning', 'end'), ('end', 'felt'), ('felt', 'special'), ('special', 'happy'), ('happy', 'stayed'), ('stayed', 'would'), ('would', 'come'), ('come', 'back'), ('back', 'heart'), ('heart', 'beat'))\n",
      "Example Trigrams: (('experience', 'rancho', 'valencia'), ('rancho', 'valencia', 'absolutely'), ('valencia', 'absolutely', 'perfect'), ('absolutely', 'perfect', 'beginning'), ('perfect', 'beginning', 'end'), ('beginning', 'end', 'felt'), ('end', 'felt', 'special'), ('felt', 'special', 'happy'), ('special', 'happy', 'stayed'), ('happy', 'stayed', 'would'), ('stayed', 'would', 'come'), ('would', 'come', 'back'), ('come', 'back', 'heart'), ('back', 'heart', 'beat'))\n"
     ]
    }
   ],
   "source": [
    "from nltk.util import ngrams\n",
    "\n",
    "print('Tokenized Comment: {}'.format(corp_lemma[0]))\n",
    "\n",
    "corp_lemma_bigrams = [tuple(ngrams(comment, 2)) for comment in corp_lemma]\n",
    "print('Example Bigrams: {}'.format(corp_lemma_bigrams[0]))\n",
    "\n",
    "corp_lemma_trigrams = [tuple(ngrams(comment, 3)) for comment in corp_lemma]\n",
    "print('Example Trigrams: {}'.format(corp_lemma_trigrams[0]))"
   ]
  },
  {
   "cell_type": "markdown",
   "metadata": {},
   "source": [
    "We can also still use the ```FreqDist``` function in ```NLTK``` to see the frequency of particular bigrams or trigrams within our corpus of text data:"
   ]
  },
  {
   "cell_type": "code",
   "execution_count": 79,
   "metadata": {},
   "outputs": [
    {
     "name": "stdout",
     "output_type": "stream",
     "text": [
      "Bigrams Frequency Distribution\n"
     ]
    },
    {
     "data": {
      "image/png": "[encoded data removed]",
      "text/plain": [
       "<Figure size 432x288 with 1 Axes>"
      ]
     },
     "metadata": {},
     "output_type": "display_data"
    }
   ],
   "source": [
    "print('Bigrams Frequency Distribution')\n",
    "nltk.FreqDist([item for sublist in corp_lemma_bigrams for item in sublist]).plot(10)"
   ]
  },
  {
   "cell_type": "code",
   "execution_count": 80,
   "metadata": {},
   "outputs": [
    {
     "name": "stdout",
     "output_type": "stream",
     "text": [
      "Trigrams Frequency Distribution\n"
     ]
    },
    {
     "data": {
      "image/png": "[encoded data removed]",
      "text/plain": [
       "<Figure size 432x288 with 1 Axes>"
      ]
     },
     "metadata": {},
     "output_type": "display_data"
    }
   ],
   "source": [
    "print('Trigrams Frequency Distribution')\n",
    "nltk.FreqDist([item for sublist in corp_lemma_trigrams for item in sublist]).plot(10)"
   ]
  },
  {
   "cell_type": "markdown",
   "metadata": {},
   "source": [
    "#### Skipgrams"
   ]
  },
  {
   "cell_type": "markdown",
   "metadata": {},
   "source": [
    "One variation on N-grams are **skipgrams**. Skipgrams are similar to N-grams in that you are looking for items in your text that are of the same number of words (i.e. for bigrams, all items were two word pairs). However, the key difference is that you are allowed to \"skip\" words that appear in between. Skipgrams gets all N-word combinations of a review given the allowed number of words you can skip. Note that for skipgrams you need at least a two-gram (because there are no words between a single word!). Here is an example to better illustrate what skipgrams does.   "
   ]
  },
  {
   "cell_type": "code",
   "execution_count": 81,
   "metadata": {},
   "outputs": [
    {
     "name": "stdout",
     "output_type": "stream",
     "text": [
      "Tokenized comment: ['hello', 'welcome', 'informs', 'meetup', 'something', 'nltk']\n",
      "Example Bigrams: [('hello', 'welcome'), ('welcome', 'informs'), ('informs', 'meetup'), ('meetup', 'something'), ('something', 'nltk')]\n",
      "Example Trigrams with 2 word skip: [('hello', 'welcome'), ('hello', 'informs'), ('hello', 'meetup'), ('welcome', 'informs'), ('welcome', 'meetup'), ('welcome', 'something'), ('informs', 'meetup'), ('informs', 'something'), ('informs', 'nltk'), ('meetup', 'something'), ('meetup', 'nltk'), ('something', 'nltk')]\n"
     ]
    }
   ],
   "source": [
    "from nltk.util import skipgrams\n",
    "\n",
    "sample_text = ['hello', 'welcome', 'informs', 'meetup', 'something', 'nltk']\n",
    "bigram_sample = list(ngrams(sample_text, 2))\n",
    "bigram_skip_sample = list(skipgrams(sample_text, 2, 2))\n",
    "\n",
    "print('Tokenized comment: {}'.format(sample_text))\n",
    "print('Example Bigrams: {}'.format(bigram_sample))\n",
    "print('Example Trigrams with 2 word skip: {}'.format(bigram_skip_sample))"
   ]
  },
  {
   "cell_type": "markdown",
   "metadata": {},
   "source": [
    "Notice that the number of \"grams\" in your list will grow exponentially as your N or number of allowed skips between words increases. Here is an example from our dataset when looking at trigrams and allowed 3 word skip:"
   ]
  },
  {
   "cell_type": "code",
   "execution_count": 82,
   "metadata": {},
   "outputs": [
    {
     "name": "stdout",
     "output_type": "stream",
     "text": [
      "Tokenized Comment (length 16): ['experience', 'rancho', 'valencia', 'absolutely', 'perfect', 'beginning', 'end', 'felt', 'special', 'happy', 'stayed', 'would', 'come', 'back', 'heart', 'beat']\n",
      "Example Trigrams (length 14): (('experience', 'rancho', 'valencia'), ('rancho', 'valencia', 'absolutely'), ('valencia', 'absolutely', 'perfect'), ('absolutely', 'perfect', 'beginning'), ('perfect', 'beginning', 'end'), ('beginning', 'end', 'felt'), ('end', 'felt', 'special'), ('felt', 'special', 'happy'), ('special', 'happy', 'stayed'), ('happy', 'stayed', 'would'), ('stayed', 'would', 'come'), ('would', 'come', 'back'), ('come', 'back', 'heart'), ('back', 'heart', 'beat'))\n",
      "\n",
      "Example Trigrams with allowed 3 word skip (length 120):\n",
      " (('experience', 'rancho', 'valencia'), ('experience', 'rancho', 'absolutely'), ('experience', 'rancho', 'perfect'), ('experience', 'rancho', 'beginning'), ('experience', 'valencia', 'absolutely'), ('experience', 'valencia', 'perfect'), ('experience', 'valencia', 'beginning'), ('experience', 'absolutely', 'perfect'), ('experience', 'absolutely', 'beginning'), ('experience', 'perfect', 'beginning'), ('rancho', 'valencia', 'absolutely'), ('rancho', 'valencia', 'perfect'), ('rancho', 'valencia', 'beginning'), ('rancho', 'valencia', 'end'), ('rancho', 'absolutely', 'perfect'), ('rancho', 'absolutely', 'beginning'), ('rancho', 'absolutely', 'end'), ('rancho', 'perfect', 'beginning'), ('rancho', 'perfect', 'end'), ('rancho', 'beginning', 'end'), ('valencia', 'absolutely', 'perfect'), ('valencia', 'absolutely', 'beginning'), ('valencia', 'absolutely', 'end'), ('valencia', 'absolutely', 'felt'), ('valencia', 'perfect', 'beginning'), ('valencia', 'perfect', 'end'), ('valencia', 'perfect', 'felt'), ('valencia', 'beginning', 'end'), ('valencia', 'beginning', 'felt'), ('valencia', 'end', 'felt'), ('absolutely', 'perfect', 'beginning'), ('absolutely', 'perfect', 'end'), ('absolutely', 'perfect', 'felt'), ('absolutely', 'perfect', 'special'), ('absolutely', 'beginning', 'end'), ('absolutely', 'beginning', 'felt'), ('absolutely', 'beginning', 'special'), ('absolutely', 'end', 'felt'), ('absolutely', 'end', 'special'), ('absolutely', 'felt', 'special'), ('perfect', 'beginning', 'end'), ('perfect', 'beginning', 'felt'), ('perfect', 'beginning', 'special'), ('perfect', 'beginning', 'happy'), ('perfect', 'end', 'felt'), ('perfect', 'end', 'special'), ('perfect', 'end', 'happy'), ('perfect', 'felt', 'special'), ('perfect', 'felt', 'happy'), ('perfect', 'special', 'happy'), ('beginning', 'end', 'felt'), ('beginning', 'end', 'special'), ('beginning', 'end', 'happy'), ('beginning', 'end', 'stayed'), ('beginning', 'felt', 'special'), ('beginning', 'felt', 'happy'), ('beginning', 'felt', 'stayed'), ('beginning', 'special', 'happy'), ('beginning', 'special', 'stayed'), ('beginning', 'happy', 'stayed'), ('end', 'felt', 'special'), ('end', 'felt', 'happy'), ('end', 'felt', 'stayed'), ('end', 'felt', 'would'), ('end', 'special', 'happy'), ('end', 'special', 'stayed'), ('end', 'special', 'would'), ('end', 'happy', 'stayed'), ('end', 'happy', 'would'), ('end', 'stayed', 'would'), ('felt', 'special', 'happy'), ('felt', 'special', 'stayed'), ('felt', 'special', 'would'), ('felt', 'special', 'come'), ('felt', 'happy', 'stayed'), ('felt', 'happy', 'would'), ('felt', 'happy', 'come'), ('felt', 'stayed', 'would'), ('felt', 'stayed', 'come'), ('felt', 'would', 'come'), ('special', 'happy', 'stayed'), ('special', 'happy', 'would'), ('special', 'happy', 'come'), ('special', 'happy', 'back'), ('special', 'stayed', 'would'), ('special', 'stayed', 'come'), ('special', 'stayed', 'back'), ('special', 'would', 'come'), ('special', 'would', 'back'), ('special', 'come', 'back'), ('happy', 'stayed', 'would'), ('happy', 'stayed', 'come'), ('happy', 'stayed', 'back'), ('happy', 'stayed', 'heart'), ('happy', 'would', 'come'), ('happy', 'would', 'back'), ('happy', 'would', 'heart'), ('happy', 'come', 'back'), ('happy', 'come', 'heart'), ('happy', 'back', 'heart'), ('stayed', 'would', 'come'), ('stayed', 'would', 'back'), ('stayed', 'would', 'heart'), ('stayed', 'would', 'beat'), ('stayed', 'come', 'back'), ('stayed', 'come', 'heart'), ('stayed', 'come', 'beat'), ('stayed', 'back', 'heart'), ('stayed', 'back', 'beat'), ('stayed', 'heart', 'beat'), ('would', 'come', 'back'), ('would', 'come', 'heart'), ('would', 'come', 'beat'), ('would', 'back', 'heart'), ('would', 'back', 'beat'), ('would', 'heart', 'beat'), ('come', 'back', 'heart'), ('come', 'back', 'beat'), ('come', 'heart', 'beat'), ('back', 'heart', 'beat'))\n"
     ]
    }
   ],
   "source": [
    "print('Tokenized Comment (length {}): {}'.format(len(corp_lemma[0]), corp_lemma[0]))\n",
    "print('Example Trigrams (length {}): {}'.format(len(corp_lemma_trigrams[0]), corp_lemma_trigrams[0]))\n",
    "\n",
    "corp_lemma_skipgrams = [tuple(skipgrams(comment, 3, 3)) for comment in corp_lemma]\n",
    "print('\\nExample Trigrams with allowed 3 word skip (length {}):\\n {}'.format(len(corp_lemma_skipgrams[0]), corp_lemma_skipgrams[0]))"
   ]
  },
  {
   "cell_type": "markdown",
   "metadata": {},
   "source": [
    "Like with N-grams, you can also use ```FreqDist``` with skipgrams"
   ]
  },
  {
   "cell_type": "code",
   "execution_count": 83,
   "metadata": {},
   "outputs": [
    {
     "data": {
      "image/png": "[encoded data removed]",
      "text/plain": [
       "<Figure size 432x288 with 1 Axes>"
      ]
     },
     "metadata": {},
     "output_type": "display_data"
    }
   ],
   "source": [
    "nltk.FreqDist([item for sublist in corp_lemma_skipgrams for item in sublist]).plot(10)"
   ]
  },
  {
   "cell_type": "markdown",
   "metadata": {},
   "source": [
    "## Topic Modelling with Gensim"
   ]
  },
  {
   "cell_type": "markdown",
   "metadata": {},
   "source": [
    "After all the definitions and data processing work, we can finally get to our model! "
   ]
  },
  {
   "cell_type": "markdown",
   "metadata": {},
   "source": [
    "### Topic Modelling"
   ]
  },
  {
   "cell_type": "markdown",
   "metadata": {},
   "source": [
    "For topic modelling, we can use the package ```gensim```, which does topic modelling using a technique called Latent Dirichlet Allocation (https://en.wikipedia.org/wiki/Latent_Dirichlet_allocation). At a high level, Latent Dirichlet Allocation is a statistical model that assigns probabilities of words being in a topic based on words in the review itself and words in all of the reviews. \n",
    "\n",
    "To get started with topic modelling, we first have to create corpus objects within Gensim so that it can run the analysis. To do this, we use the one of the corpus list of lists we defined earlier in the notebook. For the purposes of the analysis, we will use the ```corp_lemma``` variable as our corpus "
   ]
  },
  {
   "cell_type": "code",
   "execution_count": 84,
   "metadata": {},
   "outputs": [],
   "source": [
    "from gensim import corpora\n",
    "dictionary = corpora.Dictionary(corp_norm)\n",
    "corpus = [dictionary.doc2bow(text) for text in corp_norm]"
   ]
  },
  {
   "cell_type": "markdown",
   "metadata": {},
   "source": [
    "Next, we will save the corpus in a format that can be used for a later visualization of results. To do this, we use the ```pickle``` package in python, which allows you to serialize or deserialize a Python object for later use (for more information on pickle, see the appendix)."
   ]
  },
  {
   "cell_type": "code",
   "execution_count": 85,
   "metadata": {},
   "outputs": [],
   "source": [
    "import pickle\n",
    "pickle.dump(corpus, open('corpus.pkl', 'wb'))\n",
    "dictionary.save('dictionary.gensim')"
   ]
  },
  {
   "cell_type": "markdown",
   "metadata": {},
   "source": [
    "Next, we define the number of topics we want the model to output, set parameters for the model, and run the model using the corpus and dictionary variables defined above."
   ]
  },
  {
   "cell_type": "code",
   "execution_count": 86,
   "metadata": {},
   "outputs": [],
   "source": [
    "import gensim\n",
    "NUM_TOPICS = 10\n",
    "ldamodel = gensim.models.ldamodel.LdaModel(corpus, num_topics = NUM_TOPICS,\n",
    "                                           id2word=dictionary, passes=20, random_state=12)\n",
    "ldamodel.save('model.gensim')"
   ]
  },
  {
   "cell_type": "markdown",
   "metadata": {},
   "source": [
    "Unfortunately, there is no set way to decide how to choose the number of topics. This part of the analysis is where domain knowledge and trial-and-error come into play. One way in ```gensim``` to interpret the topic modelling results is to print out the highest probability words within each topic"
   ]
  },
  {
   "cell_type": "code",
   "execution_count": 87,
   "metadata": {},
   "outputs": [
    {
     "name": "stdout",
     "output_type": "stream",
     "text": [
      "(0, '0.012*\"la\" + 0.008*\"lodge\" + 0.008*\"u\" + 0.007*\"en\" + 0.007*\"curtains\"')\n",
      "(1, '0.047*\"not\" + 0.041*\"room\" + 0.016*\"hotel\" + 0.012*\"no\" + 0.011*\"night\"')\n",
      "(2, '0.014*\"place\" + 0.007*\"best\" + 0.006*\"virginia\" + 0.006*\"years\" + 0.006*\"santa\"')\n",
      "(3, '0.041*\"room\" + 0.019*\"bed\" + 0.017*\"clean\" + 0.016*\"nice\" + 0.014*\"no\"')\n",
      "(4, '0.038*\"good\" + 0.037*\"hotel\" + 0.037*\"clean\" + 0.037*\"staff\" + 0.032*\"great\"')\n",
      "(5, '0.022*\"„\" + 0.014*\"aria\" + 0.010*\"anaheim\" + 0.008*\"stadium\" + 0.006*\"hotel\"')\n",
      "(6, '0.021*\"not\" + 0.020*\"staff\" + 0.020*\"hotel\" + 0.018*\"breakfast\" + 0.014*\"room\"')\n",
      "(7, '0.029*\"thank\" + 0.017*\"us\" + 0.015*\"service\" + 0.014*\"hotel\" + 0.013*\"review\"')\n",
      "(8, '0.023*\"stayed\" + 0.021*\"inn\" + 0.015*\"stay\" + 0.015*\"hotel\" + 0.015*\"staff\"')\n",
      "(9, '0.027*\"hotel\" + 0.018*\"great\" + 0.013*\"not\" + 0.010*\"stay\" + 0.010*\"pool\"')\n"
     ]
    }
   ],
   "source": [
    "topics = ldamodel.print_topics(num_words=5)\n",
    "for topic in topics:\n",
    "    print(topic)"
   ]
  },
  {
   "cell_type": "markdown",
   "metadata": {},
   "source": [
    "Another handy way to interpret the topic modelling results is by utilizing ```pyLDAvis```, a topic modelling visualization package that is supplemental to ```gensim```.  The ```pyLDAvis``` package takes the results from your gensim model to create the visualization."
   ]
  },
  {
   "cell_type": "code",
   "execution_count": 88,
   "metadata": {},
   "outputs": [],
   "source": [
    "# Use pyLDA to visualize topics\n",
    "dictionary = gensim.corpora.Dictionary.load('dictionary.gensim')\n",
    "corpus = pickle.load(open('corpus.pkl', 'rb'))\n",
    "lda = gensim.models.ldamodel.LdaModel.load('model.gensim')\n",
    "\n",
    "import pyLDAvis.gensim\n",
    "lda_display = pyLDAvis.gensim.prepare(lda, corpus, dictionary, sort_topics=False)"
   ]
  },
  {
   "cell_type": "markdown",
   "metadata": {},
   "source": [
    "Below is a visualization of the topic modeling results. The visualization has several helpful features to understand the topics generated by the model.\n",
    "\n",
    "1. On the left side, there is a distance map that shows how close in similarity each topic is relative to one another, as well as the size of the topic relative to the entire corpus of comments\n",
    "2. Based on the topic you hover over/select on the left side, the right side updates with a bar chart of the top 30 words within that topic. The bar chart has a blue bar that shows the overall term frequency, and a red bar that shows the estimated term frequency within the selected topic. \n",
    "    a. Note that when no topic is selected, the bar chart on the right only shows overall term frequencies\n",
    "3. On the top right, there is a slider that can be used to adjust how much weight the visualization places on how relevent a given word is to the selected topic vs. the overall term frequency. A lower value of $\\lambda$ means that more weight is placed on the topic relevancy of words. For example, if a word in the topic only appears in the selected topic, it will be given more weight over a word that appears with a high frequency in the corpus. "
   ]
  },
  {
   "cell_type": "code",
   "execution_count": 92,
   "metadata": {},
   "outputs": [
    {
     "data": {
      "text/html": [
       "\n",
       "<link rel=\"stylesheet\" type=\"text/css\" href=\"https://cdn.rawgit.com/bmabey/pyLDAvis/files/ldavis.v1.0.0.css\">\n",
       "\n",
       "\n",
       "<div id=\"ldavis_el203362590285919360400218974\"></div>\n",
       "<script type=\"text/javascript\">\n",
       "\n",
       "var ldavis_el203362590285919360400218974_data = {\"mdsDat\": {\"x\": [-0.29611124378991477, 0.15533148132310962, -0.20901360883879816, 0.10846278104704143, 0.21134207161745966, -0.2931306530583901, 0.16300936314948652, -0.06905360767557225, 0.06612364186722994, 0.16303977435834868], \"y\": [0.08770403777820568, 0.06255869653472511, -0.02395264173714095, 0.23939011292389717, 0.038503890846726556, 0.063831294714145, -0.04159997253985042, -0.2503233929116469, -0.14511108196735742, -0.03100094364170404], \"topics\": [1, 2, 3, 4, 5, 6, 7, 8, 9, 10], \"cluster\": [1, 1, 1, 1, 1, 1, 1, 1, 1, 1], \"Freq\": [1.2838668823242188, 21.174768447875977, 1.8464654684066772, 7.309661865234375, 16.847497940063477, 1.4150638580322266, 18.426673889160156, 5.67073917388916, 7.517250061035156, 18.508012771606445]}, \"tinfo\": {\"Category\": [\"Default\", \"Default\", \"Default\", \"Default\", \"Default\", \"Default\", \"Default\", \"Default\", \"Default\", \"Default\", \"Default\", \"Default\", \"Default\", \"Default\", \"Default\", \"Default\", \"Default\", \"Default\", \"Default\", \"Default\", \"Default\", \"Default\", \"Default\", \"Default\", \"Default\", \"Default\", \"Default\", \"Default\", \"Default\", \"Default\", \"Topic1\", \"Topic1\", \"Topic1\", \"Topic1\", \"Topic1\", \"Topic1\", \"Topic1\", \"Topic1\", \"Topic1\", \"Topic1\", \"Topic1\", \"Topic1\", \"Topic1\", \"Topic1\", \"Topic1\", \"Topic1\", \"Topic1\", \"Topic1\", \"Topic1\", \"Topic1\", \"Topic1\", \"Topic1\", \"Topic1\", \"Topic1\", \"Topic1\", \"Topic1\", \"Topic1\", \"Topic1\", \"Topic1\", \"Topic1\", \"Topic1\", \"Topic1\", \"Topic1\", \"Topic1\", \"Topic1\", \"Topic1\", \"Topic1\", \"Topic1\", \"Topic1\", \"Topic1\", \"Topic1\", \"Topic1\", \"Topic1\", \"Topic1\", \"Topic1\", \"Topic1\", \"Topic2\", \"Topic2\", \"Topic2\", \"Topic2\", \"Topic2\", \"Topic2\", \"Topic2\", \"Topic2\", \"Topic2\", \"Topic2\", \"Topic2\", \"Topic2\", \"Topic2\", \"Topic2\", \"Topic2\", \"Topic2\", \"Topic2\", \"Topic2\", \"Topic2\", \"Topic2\", \"Topic2\", \"Topic2\", \"Topic2\", \"Topic2\", \"Topic2\", \"Topic2\", \"Topic2\", \"Topic2\", \"Topic2\", \"Topic2\", \"Topic2\", \"Topic2\", \"Topic2\", \"Topic2\", \"Topic2\", \"Topic2\", \"Topic2\", \"Topic2\", \"Topic2\", \"Topic2\", \"Topic2\", \"Topic2\", \"Topic2\", \"Topic2\", \"Topic2\", \"Topic2\", \"Topic2\", \"Topic2\", \"Topic2\", \"Topic2\", \"Topic2\", \"Topic2\", \"Topic2\", \"Topic2\", \"Topic2\", \"Topic2\", \"Topic2\", \"Topic2\", \"Topic2\", \"Topic2\", \"Topic2\", \"Topic2\", \"Topic2\", \"Topic2\", \"Topic2\", \"Topic2\", \"Topic2\", \"Topic2\", \"Topic2\", \"Topic2\", \"Topic2\", \"Topic2\", \"Topic2\", \"Topic2\", \"Topic2\", \"Topic2\", \"Topic3\", \"Topic3\", \"Topic3\", \"Topic3\", \"Topic3\", \"Topic3\", \"Topic3\", \"Topic3\", \"Topic3\", \"Topic3\", \"Topic3\", \"Topic3\", \"Topic3\", \"Topic3\", \"Topic3\", \"Topic3\", \"Topic3\", \"Topic3\", \"Topic3\", \"Topic3\", \"Topic3\", \"Topic3\", \"Topic3\", \"Topic3\", \"Topic3\", \"Topic3\", \"Topic3\", \"Topic3\", \"Topic3\", \"Topic3\", \"Topic3\", \"Topic3\", \"Topic3\", \"Topic3\", \"Topic3\", \"Topic3\", \"Topic3\", \"Topic3\", \"Topic3\", \"Topic3\", \"Topic3\", \"Topic3\", \"Topic3\", \"Topic3\", \"Topic3\", \"Topic3\", \"Topic3\", \"Topic3\", \"Topic3\", \"Topic3\", \"Topic3\", \"Topic3\", \"Topic3\", \"Topic3\", \"Topic4\", \"Topic4\", \"Topic4\", \"Topic4\", \"Topic4\", \"Topic4\", \"Topic4\", \"Topic4\", \"Topic4\", \"Topic4\", \"Topic4\", \"Topic4\", \"Topic4\", \"Topic4\", \"Topic4\", \"Topic4\", \"Topic4\", \"Topic4\", \"Topic4\", \"Topic4\", \"Topic4\", \"Topic4\", \"Topic4\", \"Topic4\", \"Topic4\", \"Topic4\", \"Topic4\", \"Topic4\", \"Topic4\", \"Topic4\", \"Topic4\", \"Topic4\", \"Topic4\", \"Topic4\", \"Topic4\", \"Topic4\", \"Topic4\", \"Topic4\", \"Topic4\", \"Topic4\", \"Topic4\", \"Topic4\", \"Topic4\", \"Topic4\", \"Topic4\", \"Topic4\", \"Topic4\", \"Topic4\", \"Topic4\", \"Topic4\", \"Topic4\", \"Topic4\", \"Topic4\", \"Topic4\", \"Topic4\", \"Topic4\", \"Topic4\", \"Topic4\", \"Topic4\", \"Topic4\", \"Topic4\", \"Topic4\", \"Topic4\", \"Topic4\", \"Topic4\", \"Topic4\", \"Topic4\", \"Topic4\", \"Topic4\", \"Topic4\", \"Topic5\", \"Topic5\", \"Topic5\", \"Topic5\", \"Topic5\", \"Topic5\", \"Topic5\", \"Topic5\", \"Topic5\", \"Topic5\", \"Topic5\", \"Topic5\", \"Topic5\", \"Topic5\", \"Topic5\", \"Topic5\", \"Topic5\", \"Topic5\", \"Topic5\", \"Topic5\", \"Topic5\", \"Topic5\", \"Topic5\", \"Topic5\", \"Topic5\", \"Topic5\", \"Topic5\", \"Topic5\", \"Topic5\", \"Topic5\", \"Topic5\", \"Topic5\", \"Topic5\", \"Topic5\", \"Topic5\", \"Topic5\", \"Topic5\", \"Topic5\", \"Topic5\", \"Topic5\", \"Topic5\", \"Topic5\", \"Topic5\", \"Topic5\", \"Topic5\", \"Topic5\", \"Topic5\", \"Topic5\", \"Topic5\", \"Topic5\", \"Topic5\", \"Topic5\", \"Topic5\", \"Topic5\", \"Topic5\", \"Topic5\", \"Topic5\", \"Topic5\", \"Topic5\", \"Topic5\", \"Topic5\", \"Topic5\", \"Topic5\", \"Topic5\", \"Topic5\", \"Topic5\", \"Topic5\", \"Topic5\", \"Topic5\", \"Topic6\", \"Topic6\", \"Topic6\", \"Topic6\", \"Topic6\", \"Topic6\", \"Topic6\", \"Topic6\", \"Topic6\", \"Topic6\", \"Topic6\", \"Topic6\", \"Topic6\", \"Topic6\", \"Topic6\", \"Topic6\", \"Topic6\", \"Topic6\", \"Topic6\", \"Topic6\", \"Topic6\", \"Topic6\", \"Topic6\", \"Topic6\", \"Topic6\", \"Topic6\", \"Topic6\", \"Topic6\", \"Topic6\", \"Topic6\", \"Topic6\", \"Topic6\", \"Topic6\", \"Topic6\", \"Topic6\", \"Topic6\", \"Topic6\", \"Topic6\", \"Topic6\", \"Topic6\", \"Topic6\", \"Topic6\", \"Topic7\", \"Topic7\", \"Topic7\", \"Topic7\", \"Topic7\", \"Topic7\", \"Topic7\", \"Topic7\", \"Topic7\", \"Topic7\", \"Topic7\", \"Topic7\", \"Topic7\", \"Topic7\", \"Topic7\", \"Topic7\", \"Topic7\", \"Topic7\", \"Topic7\", \"Topic7\", \"Topic7\", \"Topic7\", \"Topic7\", \"Topic7\", \"Topic7\", \"Topic7\", \"Topic7\", \"Topic7\", \"Topic7\", \"Topic7\", \"Topic7\", \"Topic7\", \"Topic7\", \"Topic7\", \"Topic7\", \"Topic7\", \"Topic7\", \"Topic7\", \"Topic7\", \"Topic7\", \"Topic7\", \"Topic7\", \"Topic7\", \"Topic7\", \"Topic7\", \"Topic7\", \"Topic7\", \"Topic7\", \"Topic7\", \"Topic7\", \"Topic7\", \"Topic7\", \"Topic7\", \"Topic7\", \"Topic7\", \"Topic7\", \"Topic7\", \"Topic7\", \"Topic7\", \"Topic7\", \"Topic7\", \"Topic7\", \"Topic7\", \"Topic7\", \"Topic7\", \"Topic7\", \"Topic7\", \"Topic7\", \"Topic7\", \"Topic7\", \"Topic7\", \"Topic7\", \"Topic7\", \"Topic7\", \"Topic7\", \"Topic7\", \"Topic7\", \"Topic8\", \"Topic8\", \"Topic8\", \"Topic8\", \"Topic8\", \"Topic8\", \"Topic8\", \"Topic8\", \"Topic8\", \"Topic8\", \"Topic8\", \"Topic8\", \"Topic8\", \"Topic8\", \"Topic8\", \"Topic8\", \"Topic8\", \"Topic8\", \"Topic8\", \"Topic8\", \"Topic8\", \"Topic8\", \"Topic8\", \"Topic8\", \"Topic8\", \"Topic8\", \"Topic8\", \"Topic8\", \"Topic8\", \"Topic8\", \"Topic8\", \"Topic8\", \"Topic8\", \"Topic8\", \"Topic8\", \"Topic8\", \"Topic8\", \"Topic8\", \"Topic8\", \"Topic8\", \"Topic8\", \"Topic8\", \"Topic8\", \"Topic8\", \"Topic8\", \"Topic8\", \"Topic8\", \"Topic8\", \"Topic8\", \"Topic8\", \"Topic8\", \"Topic8\", \"Topic8\", \"Topic8\", \"Topic8\", \"Topic8\", \"Topic8\", \"Topic8\", \"Topic8\", \"Topic8\", \"Topic8\", \"Topic8\", \"Topic8\", \"Topic8\", \"Topic9\", \"Topic9\", \"Topic9\", \"Topic9\", \"Topic9\", \"Topic9\", \"Topic9\", \"Topic9\", \"Topic9\", \"Topic9\", \"Topic9\", \"Topic9\", \"Topic9\", \"Topic9\", \"Topic9\", \"Topic9\", \"Topic9\", \"Topic9\", \"Topic9\", \"Topic9\", \"Topic9\", \"Topic9\", \"Topic9\", \"Topic9\", \"Topic9\", \"Topic9\", \"Topic9\", \"Topic9\", \"Topic9\", \"Topic9\", \"Topic9\", \"Topic9\", \"Topic9\", \"Topic9\", \"Topic9\", \"Topic9\", \"Topic9\", \"Topic9\", \"Topic9\", \"Topic9\", \"Topic9\", \"Topic9\", \"Topic9\", \"Topic9\", \"Topic9\", \"Topic9\", \"Topic9\", \"Topic9\", \"Topic9\", \"Topic9\", \"Topic9\", \"Topic9\", \"Topic9\", \"Topic9\", \"Topic9\", \"Topic9\", \"Topic9\", \"Topic9\", \"Topic9\", \"Topic9\", \"Topic9\", \"Topic9\", \"Topic9\", \"Topic9\", \"Topic9\", \"Topic9\", \"Topic9\", \"Topic9\", \"Topic9\", \"Topic9\", \"Topic9\", \"Topic9\", \"Topic9\", \"Topic10\", \"Topic10\", \"Topic10\", \"Topic10\", \"Topic10\", \"Topic10\", \"Topic10\", \"Topic10\", \"Topic10\", \"Topic10\", \"Topic10\", \"Topic10\", \"Topic10\", \"Topic10\", \"Topic10\", \"Topic10\", \"Topic10\", \"Topic10\", \"Topic10\", \"Topic10\", \"Topic10\", \"Topic10\", \"Topic10\", \"Topic10\", \"Topic10\", \"Topic10\", \"Topic10\", \"Topic10\", \"Topic10\", \"Topic10\", \"Topic10\", \"Topic10\", \"Topic10\", \"Topic10\", \"Topic10\", \"Topic10\", \"Topic10\", \"Topic10\", \"Topic10\", \"Topic10\", \"Topic10\", \"Topic10\", \"Topic10\", \"Topic10\", \"Topic10\", \"Topic10\", \"Topic10\", \"Topic10\", \"Topic10\", \"Topic10\", \"Topic10\", \"Topic10\", \"Topic10\", \"Topic10\", \"Topic10\", \"Topic10\", \"Topic10\", \"Topic10\", \"Topic10\", \"Topic10\", \"Topic10\", \"Topic10\", \"Topic10\", \"Topic10\", \"Topic10\", \"Topic10\", \"Topic10\", \"Topic10\", \"Topic10\", \"Topic10\", \"Topic10\", \"Topic10\", \"Topic10\", \"Topic10\", \"Topic10\", \"Topic10\", \"Topic10\", \"Topic10\", \"Topic10\", \"Topic10\", \"Topic10\"], \"Freq\": [6369.0, 2893.0, 3875.0, 3072.0, 3461.0, 3355.0, 5810.0, 2760.0, 2110.0, 522.0, 1792.0, 1583.0, 1691.0, 1136.0, 1773.0, 533.0, 1232.0, 1488.0, 6477.0, 1396.0, 1298.0, 3679.0, 1160.0, 650.0, 1282.0, 462.0, 441.0, 1361.0, 951.0, 771.0, 33.63399124145508, 29.288728713989258, 28.94432258605957, 20.03989028930664, 17.201318740844727, 17.141115188598633, 17.132177352905273, 16.393220901489258, 16.20366859436035, 15.692071914672852, 13.9092378616333, 13.829100608825684, 13.630998611450195, 10.906245231628418, 10.859294891357422, 10.50130844116211, 9.672021865844727, 9.609129905700684, 9.564383506774902, 9.476532936096191, 9.428476333618164, 9.196405410766602, 9.123218536376953, 8.838157653808594, 8.674430847167969, 8.326976776123047, 8.18921947479248, 8.156121253967285, 8.110084533691406, 7.6719584465026855, 10.481725692749023, 33.10719299316406, 28.891094207763672, 50.1838493347168, 18.581064224243164, 16.07906723022461, 12.32879638671875, 14.875391006469727, 13.970053672790527, 13.597692489624023, 19.656917572021484, 11.507222175598145, 10.806010246276855, 10.898458480834961, 13.29138469696045, 19.5925350189209, 296.4660949707031, 170.36383056640625, 159.12789916992188, 153.14511108398438, 145.8869171142578, 129.78289794921875, 120.44963836669922, 114.20478057861328, 107.3307113647461, 106.76588439941406, 100.02845764160156, 91.49376678466797, 82.28868865966797, 81.20287322998047, 73.80884552001953, 62.93836212158203, 62.275245666503906, 59.24448776245117, 56.53813171386719, 54.56123733520508, 73.06908416748047, 54.42555236816406, 52.569889068603516, 51.51515579223633, 51.26467514038086, 50.60642623901367, 48.84599304199219, 48.84098434448242, 43.483211517333984, 41.601318359375, 255.3952178955078, 102.07625579833984, 96.43726348876953, 178.62716674804688, 304.0858459472656, 64.01737976074219, 112.83757781982422, 94.2623519897461, 180.11978149414062, 3179.71337890625, 379.3747253417969, 193.2774658203125, 127.54357147216797, 2773.41357421875, 309.3041076660156, 827.8283081054688, 366.07958984375, 740.2977905273438, 137.2079620361328, 329.7795715332031, 494.8402404785156, 169.29141235351562, 576.677978515625, 183.6705322265625, 206.4326629638672, 381.743896484375, 414.7760925292969, 632.5894775390625, 227.25511169433594, 420.3216552734375, 216.29823303222656, 239.64453125, 430.4936218261719, 1054.240234375, 306.3647766113281, 399.5392761230469, 370.7288513183594, 286.1858215332031, 401.39251708984375, 349.3335266113281, 296.58355712890625, 427.36431884765625, 287.8499450683594, 259.3450927734375, 299.6968688964844, 278.27252197265625, 35.81569290161133, 32.90846633911133, 27.558147430419922, 24.569782257080078, 24.506633758544922, 22.718276977539062, 21.467090606689453, 20.171236038208008, 18.739267349243164, 17.694440841674805, 16.469287872314453, 14.92882251739502, 13.878602027893066, 12.953882217407227, 12.112296104431152, 11.822685241699219, 10.91955280303955, 9.90200138092041, 9.82239818572998, 9.716806411743164, 9.512768745422363, 9.190869331359863, 9.148173332214355, 9.089531898498535, 8.889893531799316, 8.631163597106934, 8.552924156188965, 8.241521835327148, 8.109078407287598, 8.072436332702637, 30.486478805541992, 9.916766166687012, 18.0495548248291, 13.19230842590332, 17.140737533569336, 11.895991325378418, 80.21551513671875, 35.427860260009766, 24.220130920410156, 42.442142486572266, 15.910492897033691, 17.563379287719727, 30.13702964782715, 18.47064208984375, 26.624692916870117, 22.721363067626953, 25.32395362854004, 17.694110870361328, 25.905658721923828, 17.548540115356445, 22.137134552001953, 18.456680297851562, 17.438560485839844, 17.24224090576172, 229.7036895751953, 194.61749267578125, 111.48676300048828, 72.79875946044922, 64.05683135986328, 63.85903549194336, 63.02798080444336, 54.978721618652344, 51.355438232421875, 34.748199462890625, 29.740478515625, 28.622873306274414, 21.043075561523438, 20.638776779174805, 19.3837890625, 18.480880737304688, 18.34166717529297, 17.56637191772461, 16.99672508239746, 17.372724533081055, 15.942925453186035, 15.837868690490723, 15.199016571044922, 13.820758819580078, 13.782792091369629, 13.762301445007324, 13.579606056213379, 13.457358360290527, 13.3043794631958, 13.12734603881836, 48.777286529541016, 51.98716354370117, 102.6014404296875, 86.40016174316406, 304.87103271484375, 22.0091495513916, 176.71653747558594, 69.28089904785156, 293.7415771484375, 195.30824279785156, 135.74545288085938, 266.29864501953125, 176.65567016601562, 118.88665008544922, 54.446807861328125, 298.1142883300781, 439.55523681640625, 132.5592498779297, 237.36488342285156, 173.5173797607422, 242.65884399414062, 248.12586975097656, 150.88201904296875, 951.2767944335938, 324.142333984375, 204.11866760253906, 307.88507080078125, 374.6416931152344, 403.84527587890625, 113.83724212646484, 111.63562774658203, 164.10861206054688, 207.1704864501953, 222.0269012451172, 215.8885040283203, 139.7683563232422, 162.8035430908203, 191.35675048828125, 150.5901641845703, 150.76319885253906, 113.59378814697266, 38.85559844970703, 33.95266342163086, 32.12227249145508, 29.824241638183594, 39.64718246459961, 23.020503997802734, 22.068191528320312, 20.343305587768555, 19.32979965209961, 18.682552337646484, 18.077669143676758, 17.60828971862793, 17.289409637451172, 16.561742782592773, 15.53160572052002, 15.479098320007324, 14.801352500915527, 14.425822257995605, 13.57750129699707, 13.574138641357422, 12.508871078491211, 12.460509300231934, 12.277488708496094, 12.193286895751953, 12.118428230285645, 10.750622749328613, 10.71490478515625, 10.703072547912598, 10.590564727783203, 21.583515167236328, 327.6973876953125, 94.36772918701172, 52.18195343017578, 226.69366455078125, 2014.1341552734375, 384.8945617675781, 391.885986328125, 1134.6702880859375, 1286.8782958984375, 167.84605407714844, 1979.944091796875, 1603.1856689453125, 515.2974243164062, 144.2647705078125, 969.19140625, 1955.6998291015625, 230.3347625732422, 1448.1416015625, 1712.5103759765625, 703.6304321289062, 340.12884521484375, 252.26043701171875, 401.6371765136719, 318.98931884765625, 323.77044677734375, 354.6315612792969, 1980.13818359375, 1250.3524169921875, 390.73773193359375, 401.9187316894531, 562.7868041992188, 763.5888061523438, 651.8881225585938, 463.39080810546875, 1166.3729248046875, 383.1068420410156, 308.77899169921875, 372.92034912109375, 99.8177490234375, 61.949546813964844, 45.26210403442383, 35.45304870605469, 20.085840225219727, 19.724824905395508, 19.705354690551758, 16.43613052368164, 13.862873077392578, 13.724967956542969, 12.612895965576172, 12.557594299316406, 12.091445922851562, 11.679675102233887, 11.6072998046875, 11.229540824890137, 10.573347091674805, 10.442544937133789, 10.168084144592285, 9.989410400390625, 9.874009132385254, 8.996275901794434, 8.668731689453125, 8.441097259521484, 8.30103874206543, 8.23530101776123, 8.150714874267578, 8.100053787231445, 8.095338821411133, 7.629210472106934, 16.15852165222168, 11.894046783447266, 9.751413345336914, 12.429031372070312, 13.037290573120117, 15.425400733947754, 22.75870132446289, 13.694334030151367, 27.421396255493164, 11.272195816040039, 27.87035369873047, 12.215714454650879, 86.8184585571289, 69.47539520263672, 64.041259765625, 59.618804931640625, 49.869407653808594, 39.43560791015625, 33.118648529052734, 31.669189453125, 30.29027557373047, 29.270788192749023, 28.97124481201172, 27.943378448486328, 26.948484420776367, 26.236465454101562, 26.19340705871582, 25.747873306274414, 25.6495304107666, 25.502717971801758, 35.433902740478516, 24.50080680847168, 24.15502166748047, 23.52088165283203, 23.13620376586914, 23.109914779663086, 22.999820709228516, 22.936466217041016, 22.432445526123047, 22.047657012939453, 21.598119735717773, 21.538158416748047, 47.87801742553711, 180.78915405273438, 100.02550506591797, 41.75645065307617, 120.09770965576172, 801.4921875, 213.6184844970703, 729.8486328125, 139.8013153076172, 94.8571548461914, 72.27188110351562, 582.5776977539062, 84.49987030029297, 307.3410339355469, 74.16584777832031, 42.861446380615234, 242.9851531982422, 74.26795196533203, 675.9654541015625, 311.6733703613281, 117.0827865600586, 1028.3189697265625, 551.8955688476562, 224.96458435058594, 112.12683868408203, 1176.084716796875, 1241.473388671875, 431.7617492675781, 391.0408020019531, 299.50439453125, 1167.2435302734375, 794.6941528320312, 528.3171997070312, 201.9306640625, 373.17572021484375, 814.4710083007812, 410.37548828125, 254.686767578125, 517.010498046875, 264.96258544921875, 182.63375854492188, 240.57791137695312, 400.5447998046875, 371.06292724609375, 272.79620361328125, 317.30767822265625, 269.6865539550781, 212.51205444335938, 520.3915405273438, 149.14710998535156, 133.2801055908203, 118.54947662353516, 107.7029037475586, 100.36305236816406, 81.33895111083984, 79.55377960205078, 74.16759490966797, 69.25101470947266, 63.737266540527344, 37.07884979248047, 51.829952239990234, 35.294219970703125, 33.87947082519531, 153.3480682373047, 29.447681427001953, 26.775426864624023, 23.97608184814453, 23.88372230529785, 22.530237197875977, 22.261001586914062, 21.807292938232422, 21.215478897094727, 20.59697723388672, 19.976552963256836, 18.27559471130371, 18.192636489868164, 17.469728469848633, 52.84579086303711, 242.13011169433594, 164.3641357421875, 56.69668960571289, 108.8375015258789, 144.08413696289062, 76.94660949707031, 39.41853332519531, 103.36925506591797, 92.32511901855469, 33.95403289794922, 170.026123046875, 81.95559692382812, 154.414794921875, 86.59637451171875, 124.98692321777344, 87.84716796875, 185.64288330078125, 308.49139404296875, 261.33294677734375, 146.5118865966797, 241.59963989257812, 205.42225646972656, 164.97402954101562, 127.96888732910156, 131.96517944335938, 259.4187316894531, 211.37127685546875, 100.20924377441406, 99.81502532958984, 110.32359313964844, 111.69783020019531, 109.7875747680664, 104.79277038574219, 242.2357940673828, 97.65684509277344, 60.00594711303711, 44.503456115722656, 42.091922760009766, 33.65866470336914, 27.78314208984375, 23.784177780151367, 22.511716842651367, 19.851789474487305, 19.816312789916992, 19.290069580078125, 18.74126434326172, 22.375022888183594, 17.805917739868164, 15.849945068359375, 15.773080825805664, 53.321922302246094, 14.774251937866211, 13.766966819763184, 13.51759147644043, 12.981164932250977, 12.977438926696777, 12.802469253540039, 12.16707992553711, 11.859525680541992, 11.83984375, 11.820676803588867, 42.53269577026367, 11.612836837768555, 489.3086242675781, 102.11182403564453, 54.141231536865234, 188.4903106689453, 30.89011001586914, 50.95856857299805, 40.6384391784668, 102.19978332519531, 100.32430267333984, 45.77464294433594, 154.01913452148438, 169.3790740966797, 78.4016342163086, 50.22646713256836, 120.86613464355469, 250.47695922851562, 545.2476196289062, 130.80941772460938, 48.727378845214844, 142.43756103515625, 97.22311401367188, 166.0344696044922, 119.40715789794922, 176.36196899414062, 149.71749877929688, 80.09393310546875, 170.6591796875, 363.164306640625, 98.8978271484375, 348.9858703613281, 124.22533416748047, 353.4303283691406, 135.68251037597656, 118.98782348632812, 165.65457153320312, 117.74217224121094, 141.9989013671875, 177.3218536376953, 142.22109985351562, 132.58595275878906, 118.68234252929688, 108.20817565917969, 104.25995635986328, 146.07789611816406, 100.84307861328125, 84.38341522216797, 84.29326629638672, 455.823486328125, 54.804325103759766, 44.20340347290039, 43.807865142822266, 42.38486862182617, 40.06917953491211, 37.612083435058594, 36.60559844970703, 35.929962158203125, 32.341957092285156, 31.4558048248291, 31.266557693481445, 31.11807632446289, 30.98036003112793, 29.550111770629883, 28.12150764465332, 26.86152458190918, 26.42572593688965, 25.59706687927246, 25.066762924194336, 25.217594146728516, 24.67030906677246, 24.50400733947754, 23.395750045776367, 22.815156936645508, 22.450960159301758, 341.3428649902344, 76.52066802978516, 95.26973724365234, 433.5478820800781, 120.90922546386719, 68.81443786621094, 105.20521545410156, 83.75702667236328, 57.328765869140625, 180.63320922851562, 114.12580871582031, 117.29022979736328, 213.62899780273438, 342.5654296875, 122.73392486572266, 100.91612243652344, 78.20906829833984, 313.417724609375, 80.89442443847656, 315.9367370605469, 131.06539916992188, 291.1756591796875, 600.7304077148438, 384.1255798339844, 189.43296813964844, 1076.3634033203125, 136.67027282714844, 1607.5755615234375, 172.76698303222656, 204.51205444335938, 247.94912719726562, 537.5557250976562, 217.87026977539062, 421.24725341796875, 542.5114135742188, 398.2269592285156, 290.14971923828125, 789.3533325195312, 243.04690551757812, 609.6909790039062, 476.102783203125, 384.99383544921875, 275.5596008300781, 311.04229736328125, 486.6839294433594, 290.8872375488281, 261.1056213378906, 300.78350830078125, 307.76025390625, 285.05596923828125, 249.57220458984375], \"Term\": [\"room\", \"breakfast\", \"staff\", \"good\", \"clean\", \"great\", \"not\", \"nice\", \"friendly\", \"thank\", \"location\", \"us\", \"comfortable\", \"bed\", \"stayed\", \"inn\", \"desk\", \"no\", \"hotel\", \"place\", \"service\", \"stay\", \"front\", \"bathroom\", \"helpful\", \"shower\", \"coffee\", \"time\", \"back\", \"best\", \"lodge\", \"en\", \"curtains\", \"storm\", \"es\", \"muy\", \"colorado\", \"description\", \"und\", \"damp\", \"del\", \"drunk\", \"los\", \"der\", \"se\", \"availability\", \"para\", \"clerks\", \"supper\", \"bien\", \"initial\", \"300\", \"te\", \"starts\", \"ist\", \"carrollton\", \"motorcycle\", \"77\", \"era\", \"antonio\", \"appliances\", \"u\", \"e\", \"la\", \"heavy\", \"el\", \"stain\", \"un\", \"add\", \"n\", \"'\", \"shut\", \"rain\", \"smells\", \"per\", \"hotel\", \"dirty\", \"smell\", \"smelled\", \"smoking\", \"carpet\", \"sheets\", \"worst\", \"ac\", \"smoke\", \"wall\", \"broken\", \"charged\", \"horrible\", \"hallway\", \"bugs\", \"chair\", \"mold\", \"expedia\", \"stains\", \"refund\", \"thin\", \"conditioning\", \"worse\", \"stained\", \"trash\", \"cigarette\", \"musty\", \"filthy\", \"woke\", \"lock\", \"said\", \"walls\", \"doors\", \"loud\", \"told\", \"moved\", \"non\", \"terrible\", \"air\", \"not\", \"door\", \"called\", \"noisy\", \"room\", \"booked\", \"no\", \"floor\", \"night\", \"paid\", \"got\", \"could\", \"asked\", \"one\", \"noise\", \"another\", \"bad\", \"like\", \"would\", \"never\", \"get\", \"checked\", \"work\", \"desk\", \"hotel\", \"first\", \"front\", \"bed\", \"bathroom\", \"rooms\", \"us\", \"check\", \"stay\", \"back\", \"even\", \"stayed\", \"good\", \"virginia\", \"santa\", \"plaza\", \"monica\", \"row\", \"march\", \"kai\", \"honua\", \"mixed\", \"hollywood\", \"chains\", \"suited\", \"crown\", \"fishing\", \"tuesday\", \"church\", \"festival\", \"nite\", \"austin\", \"electrical\", \"scenery\", \"ruby\", \"video\", \"kansas\", \"brewery\", \"fl\", \"steve\", \"baymont\", \"friendliest\", \"perfection\", \"summer\", \"boise\", \"coast\", \"heading\", \"season\", \"cancelled\", \"place\", \"years\", \"vacation\", \"best\", \"pricey\", \"ago\", \"trip\", \"group\", \"town\", \"home\", \"family\", \"hyatt\", \"one\", \"fun\", \"stayed\", \"many\", \"far\", \"looking\", \"microwave\", \"fridge\", \"refrigerator\", \"sofa\", \"maker\", \"couch\", \"soft\", \"pressure\", \"washington\", \"dryer\", \"pot\", \"apartment\", \"stove\", \"faucet\", \"lumpy\", \"ft\", \"balconies\", \"dry\", \"frig\", \"boiled\", \"lamp\", \"vanity\", \"bothered\", \"negatives\", \"home2\", \"body\", \"beverages\", \"washer\", \"bedrooms\", \"basketball\", \"screen\", \"flat\", \"queen\", \"bath\", \"coffee\", \"firm\", \"size\", \"living\", \"shower\", \"tv\", \"pillows\", \"water\", \"tub\", \"kitchen\", \"separate\", \"bathroom\", \"bed\", \"king\", \"hot\", \"large\", \"beds\", \"small\", \"suite\", \"room\", \"no\", \"2\", \"comfortable\", \"nice\", \"clean\", \"full\", \"wifi\", \"free\", \"rooms\", \"good\", \"breakfast\", \"two\", \"stayed\", \"not\", \"pool\", \"area\", \"dc\", \"exercise\", \"national\", \"foods\", \"inner\", \"starbucks\", \"bricktown\", \"frills\", \"bwi\", \"exploring\", \"field\", \"falls\", \"football\", \"gatlinburg\", \"donuts\", \"pub\", \"arena\", \"springfield\", \"alright\", \"dells\", \"boats\", \"pittsburgh\", \"linen\", \"theatre\", \"neighboring\", \"bbq\", \"resturants\", \"lacked\", \"okc\", \"path\", \"accomodating\", \"convenient\", \"fast\", \"stores\", \"value\", \"good\", \"easy\", \"quiet\", \"location\", \"friendly\", \"access\", \"clean\", \"breakfast\", \"close\", \"metro\", \"comfortable\", \"staff\", \"distance\", \"nice\", \"great\", \"helpful\", \"restaurants\", \"walking\", \"price\", \"recommend\", \"definitely\", \"excellent\", \"hotel\", \"stay\", \"free\", \"bad\", \"area\", \"rooms\", \"would\", \"well\", \"room\", \"place\", \"everything\", \"not\", \"\\u201e\", \"aria\", \"anaheim\", \"stadium\", \"et\", \"smelly\", \"towneplace\", \"maingate\", \"surroundings\", \"grandson\", \"moldy\", \"nous\", \"das\", \"bites\", \"war\", \"des\", \"obvious\", \"edgar\", \"tremendous\", \"burns\", \"que\", \"oklahoma\", \"\\u00e5\\u00f3\", \"chambre\", \"tres\", \"belle\", \"il\", \"individual\", \"di\", \"avons\", \"angel\", \"die\", \"specifically\", \"baseball\", \"winter\", \"continue\", \"la\", \"shared\", \"suites\", \"deliver\", \"hotel\", \"whenever\", \"owner\", \"sausage\", \"questions\", \"driver\", \"toast\", \"odor\", \"attendant\", \"handled\", \"handicap\", \"holes\", \"question\", \"embassy\", \"spoke\", \"assigned\", \"monday\", \"cooked\", \"fare\", \"updates\", \"girls\", \"showers\", \"wireless\", \"forgot\", \"desired\", \"bug\", \"milk\", \"theme\", \"picky\", \"pastries\", \"required\", \"biscuits\", \"encountered\", \"help\", \"items\", \"tasty\", \"eggs\", \"desk\", \"early\", \"front\", \"housekeeping\", \"job\", \"flight\", \"check\", \"order\", \"morning\", \"waffles\", \"information\", \"make\", \"member\", \"us\", \"made\", \"wait\", \"breakfast\", \"service\", \"shuttle\", \"care\", \"staff\", \"not\", \"helpful\", \"could\", \"day\", \"hotel\", \"stay\", \"friendly\", \"every\", \"time\", \"room\", \"would\", \"really\", \"clean\", \"get\", \"needed\", \"also\", \"great\", \"good\", \"well\", \"nice\", \"one\", \"hope\", \"thank\", \"team\", \"appreciate\", \"feedback\", \"interstate\", \"dear\", \"share\", \"sincerely\", \"de\", \"york\", \"regis\", \"words\", \"regards\", \"nyc\", \"wash\", \"forward\", \"reunion\", \"director\", \"dixie\", \"sarah\", \"octavia\", \"le\", \"krauss\", \"roaches\", \"staffed\", \"operations\", \"grateful\", \"butler\", \"margineanhotel\", \"tripadvisor\", \"review\", \"soon\", \"delighted\", \"please\", \"taking\", \"comments\", \"choosing\", \"recent\", \"st\", \"sharing\", \"guest\", \"napa\", \"look\", \"future\", \"hear\", \"glad\", \"experience\", \"us\", \"service\", \"visit\", \"time\", \"back\", \"new\", \"manager\", \"see\", \"hotel\", \"stay\", \"customer\", \"city\", \"enjoyed\", \"next\", \"best\", \"much\", \"hampton\", \"holiday\", \"anniversary\", \"dogs\", \"blankets\", \"baltimore\", \"dead\", \"port\", \"gracious\", \"graduation\", \"frequent\", \"roach\", \"mine\", \"personable\", \"slamming\", \"columbus\", \"13\", \"express\", \"oxford\", \"honors\", \"drinking\", \"excited\", \"ill\", \"celebrating\", \"stopover\", \"starwood\", \"louis\", \"hubby\", \"florida\", \"22\", \"inn\", \"hilton\", \"birthday\", \"years\", \"drury\", \"pleasantly\", \"welcomed\", \"comfort\", \"wedding\", \"friend\", \"year\", \"weekend\", \"surprised\", \"chain\", \"'ve\", \"always\", \"stayed\", \"suites\", \"cozy\", \"times\", \"travel\", \"hotels\", \"last\", \"family\", \"'s\", \"wife\", \"best\", \"stay\", \"several\", \"staff\", \"trip\", \"hotel\", \"first\", \"wonderful\", \"us\", \"new\", \"time\", \"room\", \"friendly\", \"one\", \"comfortable\", \"place\", \"experience\", \"ocean\", \"mall\", \"outdoor\", \"blocks\", \"beach\", \"pools\", \"pets\", \"needle\", \"golf\", \"pier\", \"fireplace\", \"overlooking\", \"cabins\", \"mountains\", \"unique\", \"cabin\", \"boardwalk\", \"miami\", \"bike\", \"mills\", \"pizza\", \"bourbon\", \"romantic\", \"hidden\", \"cook\", \"union\", \"buildings\", \"gardens\", \"california\", \"greatly\", \"street\", \"ride\", \"vegas\", \"view\", \"river\", \"historic\", \"lake\", \"block\", \"heart\", \"resort\", \"views\", \"balcony\", \"across\", \"walk\", \"fun\", \"strip\", \"west\", \"beautiful\", \"shops\", \"away\", \"main\", \"located\", \"pool\", \"right\", \"kids\", \"great\", \"minute\", \"hotel\", \"park\", \"downtown\", \"perfect\", \"location\", \"loved\", \"place\", \"rooms\", \"area\", \"parking\", \"not\", \"restaurants\", \"stay\", \"nice\", \"stayed\", \"also\", \"well\", \"room\", \"time\", \"back\", \"would\", \"staff\", \"clean\", \"get\"], \"Total\": [6369.0, 2893.0, 3875.0, 3072.0, 3461.0, 3355.0, 5810.0, 2760.0, 2110.0, 522.0, 1792.0, 1583.0, 1691.0, 1136.0, 1773.0, 533.0, 1232.0, 1488.0, 6477.0, 1396.0, 1298.0, 3679.0, 1160.0, 650.0, 1282.0, 462.0, 441.0, 1361.0, 951.0, 771.0, 34.51798629760742, 30.172725677490234, 29.828319549560547, 20.923904418945312, 18.085220336914062, 18.024978637695312, 18.01625633239746, 17.277196884155273, 17.087743759155273, 16.576030731201172, 14.793123245239258, 14.713042259216309, 14.514914512634277, 11.790451049804688, 11.743389129638672, 11.385385513305664, 10.555963516235352, 10.493106842041016, 10.448344230651855, 10.360644340515137, 10.31241226196289, 10.084101676940918, 10.007261276245117, 9.722122192382812, 9.558486938476562, 9.210936546325684, 9.073323249816895, 9.040135383605957, 8.994009017944336, 8.555886268615723, 11.69540023803711, 37.69047546386719, 37.739723205566406, 82.18285369873047, 24.572067260742188, 21.199405670166016, 17.608060836791992, 25.020263671875, 27.155567169189453, 30.914358139038086, 101.03208923339844, 23.15686798095703, 18.12881851196289, 23.781246185302734, 101.10729217529297, 6477.53564453125, 297.3378601074219, 171.23561096191406, 159.99966430664062, 154.01687622070312, 146.75868225097656, 130.6547393798828, 121.32141876220703, 115.07659149169922, 108.20245361328125, 107.63771057128906, 100.90023040771484, 92.36553955078125, 83.16045379638672, 82.07464599609375, 74.68062591552734, 63.810218811035156, 63.147003173828125, 60.116241455078125, 57.40985870361328, 55.43296813964844, 74.23788452148438, 55.297340393066406, 53.44166946411133, 52.38688278198242, 52.13644790649414, 51.478145599365234, 49.71773910522461, 49.712730407714844, 44.35499954223633, 42.47311782836914, 273.9376220703125, 106.43792724609375, 100.52500915527344, 193.28831481933594, 339.1470031738281, 66.21609497070312, 122.6993637084961, 101.70999145507812, 211.9545135498047, 5810.05078125, 510.7275390625, 244.62255859375, 150.3536834716797, 6369.9208984375, 444.31317138671875, 1488.579833984375, 556.5917358398438, 1425.665771484375, 165.243408203125, 525.6267700195312, 1114.5531005859375, 230.39059448242188, 1479.668212890625, 265.72210693359375, 321.4604797363281, 873.1694946289062, 1012.6841430664062, 2071.167236328125, 379.4552307128906, 1076.3673095703125, 349.5377197265625, 417.44732666015625, 1232.7601318359375, 6477.53564453125, 688.9550170898438, 1160.7235107421875, 1136.8125, 650.5595092773438, 2230.9619140625, 1583.3685302734375, 1009.68994140625, 3679.567626953125, 951.954345703125, 727.3704833984375, 1773.59765625, 3072.43310546875, 36.699710845947266, 33.79244613647461, 28.442169189453125, 25.453786849975586, 25.390697479248047, 23.602283477783203, 22.351064682006836, 21.055204391479492, 19.623374938964844, 18.578519821166992, 17.353349685668945, 15.81292724609375, 14.762707710266113, 13.837922096252441, 12.996389389038086, 12.706809043884277, 11.803597450256348, 10.786026000976562, 10.706377029418945, 10.600810050964355, 10.396820068359375, 10.074983596801758, 10.032254219055176, 9.97367000579834, 9.77392578125, 9.515204429626465, 9.436908721923828, 9.125594139099121, 8.9931001663208, 8.956485748291016, 45.66231155395508, 12.365617752075195, 34.99533462524414, 20.555389404296875, 36.05576705932617, 17.906875610351562, 1396.81396484375, 225.47169494628906, 105.4041976928711, 771.7969360351562, 52.087520599365234, 76.225830078125, 495.2376403808594, 98.4072494506836, 372.9248962402344, 282.80767822265625, 639.9892578125, 110.58201599121094, 1479.668212890625, 147.6293182373047, 1773.59765625, 471.2987060546875, 234.74234008789062, 300.09796142578125, 230.57798767089844, 195.49180603027344, 112.36241912841797, 73.67841339111328, 64.93115234375, 64.73334503173828, 63.902366638183594, 55.853031158447266, 52.23075866699219, 35.62252426147461, 30.614805221557617, 29.4971981048584, 21.91739845275879, 21.513076782226562, 20.258195877075195, 19.355562210083008, 19.21605682373047, 18.44077491760254, 17.87101173400879, 18.311948776245117, 16.817289352416992, 16.71616554260254, 16.073469161987305, 14.695343017578125, 14.657144546508789, 14.636655807495117, 14.453998565673828, 14.331668853759766, 14.178668975830078, 14.001802444458008, 52.369911193847656, 57.10820007324219, 123.90853118896484, 110.17572021484375, 441.3106689453125, 24.586959838867188, 251.05319213867188, 88.43143463134766, 462.2872314453125, 295.69189453125, 199.73837280273438, 461.8199157714844, 287.675048828125, 190.34356689453125, 74.24197387695312, 650.5595092773438, 1136.8125, 240.333984375, 524.49755859375, 381.24822998046875, 663.4208374023438, 691.9458618164062, 336.7057189941406, 6369.9208984375, 1488.579833984375, 683.1025390625, 1691.6483154296875, 2760.468505859375, 3461.2294921875, 248.17550659179688, 270.4482116699219, 816.7920532226562, 2230.9619140625, 3072.43310546875, 2893.615966796875, 630.6053466796875, 1773.59765625, 5810.05078125, 1138.875244140625, 1369.17431640625, 114.46709442138672, 39.743038177490234, 34.82603073120117, 32.99555969238281, 30.697431564331055, 41.068687438964844, 23.893878936767578, 22.941425323486328, 21.216522216796875, 20.203218460083008, 19.55584144592285, 18.9509334564209, 18.481592178344727, 18.16274070739746, 17.435129165649414, 16.404842376708984, 16.352333068847656, 15.674641609191895, 15.29940414428711, 14.450770378112793, 14.447917938232422, 13.38219165802002, 13.333916664123535, 13.150802612304688, 13.067242622375488, 12.99197006225586, 11.623886108398438, 11.588336944580078, 11.576355934143066, 11.463862419128418, 23.994415283203125, 417.15557861328125, 112.79084014892578, 61.26180648803711, 288.5935974121094, 3072.43310546875, 523.845458984375, 554.1092529296875, 1792.40966796875, 2110.319580078125, 225.41226196289062, 3461.2294921875, 2893.615966796875, 815.3839111328125, 198.8622283935547, 1691.6483154296875, 3875.445556640625, 341.51239013671875, 2760.468505859375, 3355.12060546875, 1282.926513671875, 583.9453125, 423.89422607421875, 741.7906494140625, 566.7052001953125, 600.0565795898438, 673.582763671875, 6477.53564453125, 3679.567626953125, 816.7920532226562, 873.1694946289062, 1369.17431640625, 2230.9619140625, 2071.167236328125, 1270.80859375, 6369.9208984375, 1396.81396484375, 789.9566040039062, 5810.05078125, 100.69707489013672, 62.8289680480957, 46.14149856567383, 36.33246994018555, 20.96516990661621, 20.604280471801758, 20.58473014831543, 17.31549644470215, 14.742348670959473, 14.604415893554688, 13.492362022399902, 13.43692398071289, 12.97077751159668, 12.559209823608398, 12.486668586730957, 12.108902931213379, 11.45279312133789, 11.321900367736816, 11.04754638671875, 10.868905067443848, 10.75378704071045, 9.8758544921875, 9.548057556152344, 9.320429801940918, 9.18038272857666, 9.114741325378418, 9.030242919921875, 8.97946834564209, 8.974687576293945, 8.508540153503418, 21.743783950805664, 17.253257751464844, 12.424076080322266, 19.55131721496582, 22.177871704101562, 33.72549057006836, 82.18285369873047, 29.12725257873535, 261.2778625488281, 23.58079719543457, 6477.53564453125, 46.03328323364258, 87.68634033203125, 70.34295654296875, 64.90886688232422, 60.48636245727539, 50.737003326416016, 40.3033447265625, 33.98626708984375, 32.53680419921875, 31.157991409301758, 30.13859748840332, 29.838855743408203, 28.811038970947266, 27.816055297851562, 27.104209899902344, 27.061037063598633, 26.61551284790039, 26.518835067749023, 26.370357513427734, 36.68008041381836, 25.368764877319336, 25.022626876831055, 24.388492584228516, 24.003793716430664, 23.977712631225586, 23.867412567138672, 23.8042049407959, 23.30023956298828, 22.91523551940918, 22.465717315673828, 22.40572738647461, 51.280460357666016, 213.79019165039062, 120.2032241821289, 46.10761642456055, 149.28262329101562, 1232.7601318359375, 288.7751159667969, 1160.7235107421875, 184.00958251953125, 119.235595703125, 87.53238677978516, 1009.68994140625, 108.7898941040039, 527.160400390625, 95.12139129638672, 49.57715606689453, 426.34246826171875, 98.32605743408203, 1583.3685302734375, 607.51953125, 175.33595275878906, 2893.615966796875, 1298.78466796875, 410.8055419921875, 167.12608337402344, 3875.445556640625, 5810.05078125, 1282.926513671875, 1114.5531005859375, 769.909423828125, 6477.53564453125, 3679.567626953125, 2110.319580078125, 473.55523681640625, 1361.035400390625, 6369.9208984375, 2071.167236328125, 828.2738037109375, 3461.2294921875, 1076.3673095703125, 463.1861572265625, 868.572265625, 3355.12060546875, 3072.43310546875, 1270.80859375, 2760.468505859375, 1479.668212890625, 213.3686065673828, 522.52685546875, 149.99786376953125, 134.130126953125, 119.3994369506836, 108.55318450927734, 101.21299743652344, 82.18913269042969, 80.40373992919922, 75.01915740966797, 70.1009521484375, 64.58719635009766, 37.928836822509766, 53.02542495727539, 36.14424133300781, 34.729740142822266, 157.49818420410156, 30.297840118408203, 27.625381469726562, 24.82602310180664, 24.73366355895996, 23.38016128540039, 23.11224937438965, 22.657236099243164, 22.06560707092285, 21.447134017944336, 20.826522827148438, 19.125577926635742, 19.042577743530273, 18.319652557373047, 55.6927490234375, 281.17181396484375, 194.3582763671875, 63.82854080200195, 130.49574279785156, 178.4545135498047, 90.50596618652344, 43.69801330566406, 130.2591094970703, 118.80838012695312, 37.332801818847656, 267.2001037597656, 110.77981567382812, 280.88189697265625, 129.0523681640625, 233.2026824951172, 141.78111267089844, 597.93408203125, 1583.3685302734375, 1298.78466796875, 412.11181640625, 1361.035400390625, 951.954345703125, 594.4155883789062, 334.1576843261719, 443.0791015625, 6477.53564453125, 3679.567626953125, 251.87725830078125, 294.36859130859375, 550.4769897460938, 760.3274536132812, 771.7969360351562, 599.3817138671875, 243.11053466796875, 98.53160095214844, 60.880706787109375, 45.378231048583984, 42.9669075012207, 34.53377151489258, 28.658056259155273, 24.659299850463867, 23.386550903320312, 20.726547241210938, 20.691165924072266, 20.164976119995117, 19.61612319946289, 23.470199584960938, 18.680709838867188, 16.724720001220703, 16.647838592529297, 56.31499099731445, 15.648969650268555, 14.641677856445312, 14.392571449279785, 13.855960845947266, 13.852256774902344, 13.677193641662598, 13.041976928710938, 12.734282493591309, 12.714629173278809, 12.695451736450195, 45.6884765625, 12.487648963928223, 533.344482421875, 110.3798599243164, 59.953712463378906, 225.47169494628906, 34.477542877197266, 62.92512512207031, 49.17851257324219, 142.63970947265625, 144.54296875, 61.676937103271484, 266.08221435546875, 319.019775390625, 125.1924057006836, 71.6131591796875, 228.69061279296875, 616.5803833007812, 1773.59765625, 261.2778625488281, 69.57061767578125, 337.219482421875, 194.11192321777344, 529.3463745117188, 327.05938720703125, 639.9892578125, 579.2958374023438, 179.33700561523438, 771.7969360351562, 3679.567626953125, 274.8897705078125, 3875.445556640625, 495.2376403808594, 6477.53564453125, 688.9550170898438, 512.9298095703125, 1583.3685302734375, 594.4155883789062, 1361.035400390625, 6369.9208984375, 2110.319580078125, 1479.668212890625, 1691.6483154296875, 1396.81396484375, 597.93408203125, 146.9663543701172, 101.70890808105469, 85.24928283691406, 85.20142364501953, 462.979248046875, 55.670127868652344, 45.069393157958984, 44.67366409301758, 43.25068664550781, 40.93497848510742, 38.478153228759766, 37.471412658691406, 36.795841217041016, 33.2077751159668, 32.323123931884766, 32.13243103027344, 31.98387908935547, 31.846269607543945, 30.415908813476562, 28.98737144470215, 27.727458953857422, 27.29158592224121, 26.46289825439453, 25.93259620666504, 26.100543975830078, 25.536235809326172, 25.36983871459961, 24.261577606201172, 23.681055068969727, 23.317039489746094, 357.62030029296875, 80.95401763916016, 102.69584655761719, 498.06695556640625, 131.80824279785156, 73.95342254638672, 116.61357116699219, 91.88701629638672, 62.17076873779297, 213.54135131835938, 130.70077514648438, 139.17193603515625, 270.97222900390625, 464.255615234375, 147.6293182373047, 118.63829040527344, 89.46981048583984, 435.6823425292969, 94.7802734375, 471.3470458984375, 167.96800231933594, 447.9409484863281, 1138.875244140625, 693.32275390625, 284.4374084472656, 3355.12060546875, 196.235595703125, 6477.53564453125, 276.7702941894531, 369.38555908203125, 502.60614013671875, 1792.40966796875, 431.7076721191406, 1396.81396484375, 2230.9619140625, 1369.17431640625, 775.717041015625, 5810.05078125, 583.9453125, 3679.567626953125, 2760.468505859375, 1773.59765625, 868.572265625, 1270.80859375, 6369.9208984375, 1361.035400390625, 951.954345703125, 2071.167236328125, 3875.445556640625, 3461.2294921875, 1076.3673095703125], \"loglift\": [30.0, 29.0, 28.0, 27.0, 26.0, 25.0, 24.0, 23.0, 22.0, 21.0, 20.0, 19.0, 18.0, 17.0, 16.0, 15.0, 14.0, 13.0, 12.0, 11.0, 10.0, 9.0, 8.0, 7.0, 6.0, 5.0, 4.0, 3.0, 2.0, 1.0, 4.329400062561035, 4.3256001472473145, 4.325200080871582, 4.312099933624268, 4.305200099945068, 4.304999828338623, 4.304999828338623, 4.302800178527832, 4.302199840545654, 4.30049991607666, 4.293700218200684, 4.293300151824951, 4.292500019073486, 4.277299880981445, 4.2769999504089355, 4.274499893188477, 4.2677998542785645, 4.267300128936768, 4.266900062561035, 4.26609992980957, 4.265699863433838, 4.2631001472473145, 4.262800216674805, 4.260000228881836, 4.258200168609619, 4.25439977645874, 4.252799987792969, 4.252399921417236, 4.251800060272217, 4.246200084686279, 4.245699882507324, 4.225599765777588, 4.088099956512451, 3.861999988555908, 4.075799942016602, 4.078800201416016, 3.9988999366760254, 3.8352999687194824, 3.6905999183654785, 3.5339999198913574, 2.7183001041412354, 3.6559998989105225, 3.837899923324585, 3.575000047683716, 2.326200008392334, -1.4457000494003296, 1.549399971961975, 1.5472999811172485, 1.5469000339508057, 1.5467000007629395, 1.5463999509811401, 1.545699954032898, 1.5450999736785889, 1.544800043106079, 1.5442999601364136, 1.5441999435424805, 1.5436999797821045, 1.5428999662399292, 1.5418000221252441, 1.541700005531311, 1.5405999422073364, 1.538599967956543, 1.5384999513626099, 1.5377999544143677, 1.5370999574661255, 1.5364999771118164, 1.5364999771118164, 1.5364999771118164, 1.5358999967575073, 1.535599946975708, 1.5355000495910645, 1.5353000164031982, 1.5347000360488892, 1.5347000360488892, 1.5325000286102295, 1.531599998474121, 1.482300043106079, 1.5104999542236328, 1.5108000040054321, 1.4735000133514404, 1.4431999921798706, 1.5185999870300293, 1.4686000347137451, 1.4763000011444092, 1.3896000385284424, 0.9495999813079834, 1.2549999952316284, 1.3167999982833862, 1.3877999782562256, 0.7208999991416931, 1.1901999711990356, 0.9656000137329102, 1.1333999633789062, 0.8970000147819519, 1.3664000034332275, 1.0861999988555908, 0.7404000163078308, 1.2441999912261963, 0.6100999712944031, 1.1830999851226807, 1.1095000505447388, 0.7250000238418579, 0.6596999764442444, 0.36629998683929443, 1.0397000312805176, 0.6119999885559082, 1.0723999738693237, 0.9973999857902527, 0.5002999901771545, -0.2632000148296356, 0.7419999837875366, 0.48590001463890076, 0.4318000078201294, 0.7311999797821045, -0.16290000081062317, 0.041099999099969864, 0.3273000121116638, -0.600600004196167, 0.3562999963760376, 0.5210999846458435, -0.225600004196167, -0.8493000268936157, 3.9674999713897705, 3.965399980545044, 3.9602999687194824, 3.9565999507904053, 3.9565000534057617, 3.953700065612793, 3.9514999389648438, 3.9489998817443848, 3.9458000659942627, 3.9430999755859375, 3.9395999908447266, 3.9344000816345215, 3.9300999641418457, 3.9258999824523926, 3.9214000701904297, 3.919800043106079, 3.9140000343322754, 3.906399965286255, 3.9056999683380127, 3.9047999382019043, 3.9030001163482666, 3.900099992752075, 3.899600028991699, 3.8991000652313232, 3.8970999717712402, 3.894399881362915, 3.8935000896453857, 3.890000104904175, 3.888400077819824, 3.888000011444092, 3.587899923324585, 3.771199941635132, 3.3297998905181885, 3.5483999252319336, 3.248300075531006, 3.582900047302246, 1.1346999406814575, 2.141200065612793, 2.5213000774383545, 1.0913000106811523, 2.805999994277954, 2.5239999294281006, 1.1926000118255615, 2.319000005722046, 1.3523999452590942, 1.4703999757766724, 0.7621999979019165, 2.15939998626709, -0.053199999034404755, 1.8622000217437744, -0.39160001277923584, 0.751800000667572, 1.3920999765396118, 1.135200023651123, 2.6122000217437744, 2.6115000247955322, 2.608099937438965, 2.6040000915527344, 2.602400064468384, 2.602400064468384, 2.6022000312805176, 2.6001999378204346, 2.599100112915039, 2.591099977493286, 2.5869998931884766, 2.585900068283081, 2.5752999782562256, 2.57450008392334, 2.571899890899658, 2.569700002670288, 2.5694000720977783, 2.5673999786376953, 2.5657999515533447, 2.5632998943328857, 2.5625998973846436, 2.562000036239624, 2.559999942779541, 2.5546000003814697, 2.554500102996826, 2.5543999671936035, 2.5536000728607178, 2.552999973297119, 2.552299976348877, 2.551500082015991, 2.5448999404907227, 2.5220000743865967, 2.427299976348877, 2.3729000091552734, 2.2460999488830566, 2.505199909210205, 2.264899969100952, 2.3719000816345215, 2.1624999046325684, 2.201200008392334, 2.2297000885009766, 2.0653998851776123, 2.1282999515533447, 2.1452999114990234, 2.3059000968933105, 1.8356000185012817, 1.6657999753952026, 2.0209999084472656, 1.823099970817566, 1.8287999629974365, 1.610200047492981, 1.590399980545044, 1.8133000135421753, 0.7143999934196472, 1.091599941253662, 1.4079999923706055, 0.9121999740600586, 0.6187999844551086, 0.4675999879837036, 1.8365999460220337, 1.7310999631881714, 1.0111000537872314, 0.23929999768733978, -0.011500000022351742, 0.020500000566244125, 1.1093000173568726, 0.22779999673366547, -0.7972000241279602, 0.5927000045776367, 0.4097000062465668, 1.773300051689148, 1.7583999633789062, 1.7555999755859375, 1.75409996509552, 1.7520999908447266, 1.7457000017166138, 1.7437000274658203, 1.7422000169754028, 1.7388999462127686, 1.736799955368042, 1.7352999448776245, 1.7338000535964966, 1.7325999736785889, 1.7316999435424805, 1.729599952697754, 1.7263000011444092, 1.726099967956543, 1.7236000299453735, 1.7222000360488892, 1.7186000347137451, 1.7186000347137451, 1.7135000228881836, 1.7131999731063843, 1.7122999429702759, 1.7116999626159668, 1.711400032043457, 1.7029000520706177, 1.7026000022888184, 1.7024999856948853, 1.70169997215271, 1.6750999689102173, 1.5396000146865845, 1.6025999784469604, 1.6204999685287476, 1.5394999980926514, 1.3587000370025635, 1.4726999998092651, 1.4345999956130981, 1.323699951171875, 1.2862999439239502, 1.4860999584197998, 1.2223999500274658, 1.190500020980835, 1.322100043296814, 1.4600000381469727, 1.2239999771118164, 1.097100019454956, 1.3870999813079834, 1.1358000040054321, 1.1083999872207642, 1.180299997329712, 1.2404999732971191, 1.2618999481201172, 1.1675000190734863, 1.2063000202178955, 1.1640000343322754, 1.1394000053405762, 0.59579998254776, 0.7016000151634216, 1.0435999631881714, 1.0051000118255615, 0.8919000029563904, 0.7088000178337097, 0.625, 0.7720999717712402, 0.08330000191926956, 0.48730000853538513, 0.8416000008583069, -0.9649999737739563, 4.249199867248535, 4.243899822235107, 4.238800048828125, 4.233500003814697, 4.215099811553955, 4.214399814605713, 4.214300155639648, 4.205900192260742, 4.196499824523926, 4.195899963378906, 4.1905999183654785, 4.190299987792969, 4.18779993057251, 4.185400009155273, 4.184999942779541, 4.182600021362305, 4.178100109100342, 4.17710018157959, 4.175000190734863, 4.173600196838379, 4.172599792480469, 4.164700031280518, 4.161399841308594, 4.158899784088135, 4.157299995422363, 4.156499862670898, 4.1554999351501465, 4.154900074005127, 4.154900074005127, 4.148900032043457, 3.9611001014709473, 3.885999917984009, 4.0157999992370605, 3.805000066757202, 3.7267000675201416, 3.475800037384033, 2.9739999771118164, 3.5032999515533447, 2.003700017929077, 3.51990008354187, -1.190500020980835, 2.9314000606536865, 1.681399941444397, 1.6790000200271606, 1.677899956703186, 1.676900029182434, 1.6741000413894653, 1.669600009918213, 1.6655000448226929, 1.6642999649047852, 1.663100004196167, 1.6621999740600586, 1.6619000434875488, 1.6607999801635742, 1.6597000360488892, 1.6588000059127808, 1.6588000059127808, 1.6582000255584717, 1.6579999923706055, 1.6578999757766724, 1.6568000316619873, 1.656599998474121, 1.6561000347137451, 1.6550999879837036, 1.6546000242233276, 1.6545000076293945, 1.6542999744415283, 1.6541999578475952, 1.65339994430542, 1.6527999639511108, 1.6519999504089355, 1.651900053024292, 1.6226999759674072, 1.5236999988555908, 1.507599949836731, 1.5922000408172607, 1.4737999439239502, 1.2608000040054321, 1.3898999691009521, 1.2273999452590942, 1.416599988937378, 1.4625999927520752, 1.4997999668121338, 1.1413999795913696, 1.4386999607086182, 1.1518000364303589, 1.4424999952316284, 1.545799970626831, 1.12909996509552, 1.4107999801635742, 0.8402000069618225, 1.023900032043457, 1.287500023841858, 0.6567999720573425, 0.8355000019073486, 1.0892000198364258, 1.2922999858856201, 0.49889999628067017, 0.14810000360012054, 0.6022999882698059, 0.6439999938011169, 0.7472000122070312, -0.022299999371170998, 0.15880000591278076, 0.30649998784065247, 0.8389999866485596, 0.39739999175071716, -0.3653999865055084, 0.07259999960660934, 0.5120999813079834, -0.20990000665187836, 0.2896000146865845, 0.760699987411499, 0.4075999855995178, -0.4339999854564667, -0.42250001430511475, 0.1527000069618225, -0.47189998626708984, -0.010900000110268593, 2.865799903869629, 2.865799903869629, 2.8642001152038574, 2.8635001182556152, 2.8626999855041504, 2.861999988555908, 2.8613998889923096, 2.859499931335449, 2.8592000007629395, 2.8584001064300537, 2.8577001094818115, 2.856600046157837, 2.8471999168395996, 2.8469998836517334, 2.846100091934204, 2.845099925994873, 2.843100070953369, 2.841399908065796, 2.838599920272827, 2.8350000381469727, 2.83489990234375, 2.8327999114990234, 2.8322999477386475, 2.8315999507904053, 2.8306000232696533, 2.829400062561035, 2.828200101852417, 2.824399948120117, 2.824199914932251, 2.8222999572753906, 2.8173999786376953, 2.720400094985962, 2.702199935913086, 2.7513999938964844, 2.6884000301361084, 2.655900001525879, 2.7074999809265137, 2.7667999267578125, 2.6386001110076904, 2.6177000999450684, 2.7750000953674316, 2.417799949645996, 2.56850004196167, 2.2716000080108643, 2.470900058746338, 2.2462000846862793, 2.391200065612793, 1.7001999616622925, 1.2342000007629395, 1.2664999961853027, 1.8357000350952148, 1.1411000490188599, 1.336400032043457, 1.5880999565124512, 1.909999966621399, 1.6585999727249146, -0.34779998660087585, 0.012900000438094139, 1.948199987411499, 1.7883000373840332, 1.2625000476837158, 0.9519000053405762, 0.919700026512146, 1.1259000301361084, 2.584399938583374, 2.5790998935699463, 2.573499917984009, 2.56850004196167, 2.5673999786376953, 2.562299966812134, 2.556999921798706, 2.551800012588501, 2.549799919128418, 2.544800043106079, 2.544800043106079, 2.543600082397461, 2.54229998588562, 2.5401999950408936, 2.5399999618530273, 2.5341999530792236, 2.5339999198913574, 2.533400058746338, 2.5304999351501465, 2.526400089263916, 2.5251998901367188, 2.5227999687194824, 2.522700071334839, 2.521899938583374, 2.5185000896453857, 2.5167999267578125, 2.516700029373169, 2.5165998935699463, 2.516400098800659, 2.5153000354766846, 2.501800060272217, 2.5100998878479004, 2.4860000610351562, 2.408799886703491, 2.478100061416626, 2.377000093460083, 2.397200107574463, 2.2546000480651855, 2.2228000164031982, 2.289799928665161, 2.0411999225616455, 1.9549000263214111, 2.119999885559082, 2.2332000732421875, 1.9502999782562256, 1.6871000528335571, 1.408400058746338, 1.8961000442504883, 2.2318999767303467, 1.726099967956543, 1.8964999914169312, 1.4285000562667847, 1.580399990081787, 1.2991000413894653, 1.2348999977111816, 1.7819000482559204, 1.0788999795913696, 0.27230000495910645, 1.5657000541687012, 0.18060000240802765, 1.2050000429153442, -0.3203999996185303, 0.963100016117096, 1.1268999576568604, 0.33059999346733093, 0.9689000248908997, 0.3278000056743622, -0.993399977684021, -0.10920000076293945, 0.17560000717639923, -0.0689999982714653, 0.03009999915957451, 0.8414000272750854, 1.680899977684021, 1.6784000396728516, 1.676800012588501, 1.676300048828125, 1.6713999509811401, 1.6713000535964966, 1.6676000356674194, 1.6674000024795532, 1.666700005531311, 1.6655999422073364, 1.664199948310852, 1.663599967956543, 1.6632000207901, 1.6605000495910645, 1.6598000526428223, 1.659600019454956, 1.659500002861023, 1.6593999862670898, 1.6581000089645386, 1.656599998474121, 1.6552000045776367, 1.6547000408172607, 1.6536999940872192, 1.652999997138977, 1.6526000499725342, 1.652500033378601, 1.6521999835968018, 1.6505999565124512, 1.6497000455856323, 1.6490999460220337, 1.6404000520706177, 1.6305999755859375, 1.611899971961975, 1.548200011253357, 1.6007000207901, 1.61489999294281, 1.5839999914169312, 1.5943000316619873, 1.6059000492095947, 1.5196000337600708, 1.5513999462127686, 1.5159000158309937, 1.4492000341415405, 1.3830000162124634, 1.5023000240325928, 1.5252000093460083, 1.5525000095367432, 1.3575999736785889, 1.5285999774932861, 1.2869000434875488, 1.4388999938964844, 1.2561999559402466, 1.0472999811172485, 1.0964000225067139, 1.280500054359436, 0.5501000285148621, 1.3251999616622925, 0.29339998960494995, 1.2157000303268433, 1.0958000421524048, 0.980400025844574, 0.482699990272522, 1.003100037574768, 0.48820000886917114, 0.27300000190734863, 0.4519999921321869, 0.7035999894142151, -0.3091999888420105, 0.8104000091552734, -0.11060000211000443, -0.0706000030040741, 0.15940000116825104, 0.5389000177383423, 0.27950000762939453, -0.8848000168800354, 0.14390000700950623, 0.39340001344680786, -0.24250000715255737, -0.8460999727249146, -0.8097000122070312, 0.22540000081062317], \"logprob\": [30.0, 29.0, 28.0, 27.0, 26.0, 25.0, 24.0, 23.0, 22.0, 21.0, 20.0, 19.0, 18.0, 17.0, 16.0, 15.0, 14.0, 13.0, 12.0, 11.0, 10.0, 9.0, 8.0, 7.0, 6.0, 5.0, 4.0, 3.0, 2.0, 1.0, -4.796299934387207, -4.934599876403809, -4.946400165557861, -5.3140997886657715, -5.466800212860107, -5.470300197601318, -5.470900058746338, -5.514900207519531, -5.526599884033203, -5.558700084686279, -5.679299831390381, -5.684999942779541, -5.69950008392334, -5.922500133514404, -5.926799774169922, -5.960299968719482, -6.042600154876709, -6.049099922180176, -6.053800106048584, -6.063000202178955, -6.0680999755859375, -6.0929999351501465, -6.10099983215332, -6.132699966430664, -6.151400089263916, -6.192299842834473, -6.209000110626221, -6.2129998207092285, -6.218699932098389, -6.274199962615967, -5.962200164794922, -4.812099933624268, -4.948299884796143, -4.396100044250488, -5.389699935913086, -5.534299850463867, -5.799900054931641, -5.612100124359131, -5.674900054931641, -5.701900005340576, -5.333399772644043, -5.868800163269043, -5.931700229644775, -5.9232001304626465, -5.724699974060059, -5.336699962615967, -5.422800064086914, -5.976799964904785, -6.045000076293945, -6.083399772644043, -6.131899833679199, -6.248899936676025, -6.323500156402588, -6.376800060272217, -6.438799858093262, -6.4440999031066895, -6.509300231933594, -6.598499774932861, -6.704500198364258, -6.717800140380859, -6.813300132751465, -6.972599983215332, -6.9832000732421875, -7.033100128173828, -7.079800128936768, -7.1153998374938965, -6.823299884796143, -7.1178998947143555, -7.152599811553955, -7.172900199890137, -7.177700042724609, -7.190700054168701, -7.226099967956543, -7.226200103759766, -7.342400074005127, -7.386600017547607, -5.571899890899658, -6.488999843597412, -6.545899868011475, -5.9293999671936035, -5.39739990234375, -6.955599784851074, -6.388800144195557, -6.568699836730957, -5.92110013961792, -3.0501999855041504, -5.176199913024902, -5.850599765777588, -6.266300201416016, -3.1868999004364014, -5.38040018081665, -4.395899772644043, -5.211900234222412, -4.507699966430664, -6.19320011138916, -5.316299915313721, -4.9105000495910645, -5.983099937438965, -4.757500171661377, -5.901599884033203, -5.784800052642822, -5.170000076293945, -5.086999893188477, -4.664899826049805, -5.688700199127197, -5.073699951171875, -5.738100051879883, -5.6356000900268555, -5.049799919128418, -4.154200077056885, -5.389999866485596, -5.1244001388549805, -5.1992998123168945, -5.458099842071533, -5.119800090789795, -5.258699893951416, -5.422399997711182, -5.05709981918335, -5.452300071716309, -5.556600093841553, -5.4120001792907715, -5.486100196838379, -5.096799850463867, -5.18149995803833, -5.35890007019043, -5.473700046539307, -5.47629976272583, -5.552000045776367, -5.608699798583984, -5.671000003814697, -5.74459981918335, -5.802000045776367, -5.873700141906738, -5.97189998626709, -6.044899940490723, -6.113800048828125, -6.181000232696533, -6.2052001953125, -6.2846999168396, -6.382500171661377, -6.390500068664551, -6.401400089263916, -6.422599792480469, -6.456999778747559, -6.461699962615967, -6.468100070953369, -6.490300178527832, -6.519800186157227, -6.528900146484375, -6.565999984741211, -6.582200050354004, -6.5868000984191895, -5.257900238037109, -6.38100004196167, -5.782100200653076, -6.095600128173828, -5.833799839019775, -6.198999881744385, -4.290500164031982, -5.107699871063232, -5.48799991607666, -4.92710018157959, -5.908199787139893, -5.8094000816345215, -5.269499778747559, -5.758999824523926, -5.393400192260742, -5.5518999099731445, -5.44350004196167, -5.802000045776367, -5.4207000732421875, -5.810200214385986, -5.578000068664551, -5.759799957275391, -5.816500186920166, -5.8277997970581055, -4.614299774169922, -4.780099868774414, -5.337200164794922, -5.763400077819824, -5.89139986038208, -5.894499778747559, -5.907599925994873, -6.0441999435424805, -6.112400054931641, -6.502999782562256, -6.658599853515625, -6.696899890899658, -7.0046000480651855, -7.02400016784668, -7.086699962615967, -7.134399890899658, -7.142000198364258, -7.185100078582764, -7.218100070953369, -7.196199893951416, -7.282100200653076, -7.288700103759766, -7.329899787902832, -7.425000190734863, -7.427700042724609, -7.429200172424316, -7.442599773406982, -7.451600074768066, -7.4629998207092285, -7.476399898529053, -6.163899898529053, -6.100100040435791, -5.420300006866455, -5.592100143432617, -4.331200122833252, -6.959700107574463, -4.8765997886657715, -5.813000202178955, -4.3684000968933105, -4.776599884033203, -5.140399932861328, -4.4664998054504395, -4.8769001960754395, -5.2729997634887695, -6.053899765014648, -4.353700160980225, -3.965399980545044, -5.164100170135498, -4.581500053405762, -4.894899845123291, -4.559500217437744, -4.537199974060059, -5.034599781036377, -3.1933000087738037, -4.269999980926514, -4.732399940490723, -4.321400165557861, -4.125199794769287, -4.050099849700928, -5.316400051116943, -5.335899829864502, -4.9506001472473145, -4.717599868774414, -4.6483001708984375, -4.676400184631348, -5.111100196838379, -4.958600044250488, -4.796999931335449, -5.036600112915039, -5.035399913787842, -6.153500080108643, -7.22629976272583, -7.361199855804443, -7.416600227355957, -7.490799903869629, -7.206099987030029, -7.749800205230713, -7.791999816894531, -7.8734002113342285, -7.924499988555908, -7.958499908447266, -7.991499900817871, -8.017800331115723, -8.03600025177002, -8.079000473022461, -8.14330005645752, -8.146599769592285, -8.191399574279785, -8.217100143432617, -8.277700424194336, -8.277999877929688, -8.359700202941895, -8.36359977722168, -8.378399848937988, -8.385299682617188, -8.391400337219238, -8.511199951171875, -8.51449966430664, -8.515600204467773, -8.526200294494629, -7.814199924468994, -5.093999862670898, -6.338900089263916, -6.931399822235107, -5.462500095367432, -3.2781999111175537, -4.933199882507324, -4.915200233459473, -3.8519999980926514, -3.7262001037597656, -5.7631001472473145, -3.295300006866455, -3.5064001083374023, -4.64139986038208, -5.9145002365112305, -4.009699821472168, -3.3076000213623047, -5.446599960327148, -3.608099937438965, -3.4403998851776123, -4.329899787902832, -5.05679988861084, -5.3557000160217285, -4.890600204467773, -5.120999813079834, -5.106100082397461, -5.015100002288818, -3.2952001094818115, -3.755000114440918, -4.918099880218506, -4.889900207519531, -4.553199768066406, -4.2480998039245605, -4.406300067901611, -4.747600078582764, -3.82450008392334, -4.93779993057251, -5.153500080108643, -4.964799880981445, -3.805799961090088, -4.282800197601318, -4.59660005569458, -4.84089994430542, -5.40910005569458, -5.427199840545654, -5.428199768066406, -5.609600067138672, -5.779900074005127, -5.789899826049805, -5.8744001388549805, -5.878799915313721, -5.916600227355957, -5.951300144195557, -5.957499980926514, -5.990600109100342, -6.05079984664917, -6.063199996948242, -6.089900016784668, -6.107600212097168, -6.119200229644775, -6.212299823760986, -6.2494001388549805, -6.276000022888184, -6.292699813842773, -6.3007001876831055, -6.310999870300293, -6.317200183868408, -6.317800045013428, -6.377099990844727, -5.626699924468994, -5.93310022354126, -6.131700038909912, -5.889100074768066, -5.841300010681152, -5.673099994659424, -5.284200191497803, -5.792099952697754, -5.097799777984619, -5.986800193786621, -5.081500053405762, -5.906400203704834, -6.511899948120117, -6.734799861907959, -6.816199779510498, -6.887800216674805, -7.066299915313721, -7.30109977722168, -7.475599765777588, -7.520400047302246, -7.564899921417236, -7.599100112915039, -7.609399795532227, -7.645599842071533, -7.68179988861084, -7.708600044250488, -7.71019983291626, -7.727399826049805, -7.731200218200684, -7.736999988555908, -7.408100128173828, -7.7769999504089355, -7.791200160980225, -7.817800045013428, -7.8343000411987305, -7.8354997634887695, -7.840199947357178, -7.8429999351501465, -7.865200042724609, -7.882500171661377, -7.90310001373291, -7.905900001525879, -7.107100009918213, -5.77839994430542, -6.370299816131592, -7.243899822235107, -6.187399864196777, -4.289299964904785, -5.611499786376953, -4.382900238037109, -6.0355000495910645, -6.423399925231934, -6.695300102233887, -4.60830020904541, -6.539000034332275, -5.247799873352051, -6.669400215148926, -7.217800140380859, -5.482699871063232, -6.668099880218506, -4.45959997177124, -5.233799934387207, -6.212900161743164, -4.04010009765625, -4.662399768829346, -5.559800148010254, -6.256100177764893, -3.9058001041412354, -3.8517000675201416, -4.907899856567383, -5.006899833679199, -5.273600101470947, -3.913300037384033, -4.297800064086914, -4.705999851226807, -5.667799949645996, -5.053699970245361, -4.273200035095215, -4.958700180053711, -5.435699939727783, -4.727700233459473, -5.396100044250488, -5.7683000564575195, -5.492700099945068, -4.982900142669678, -5.0594000816345215, -5.367000102996826, -5.21589994430542, -5.378499984741211, -4.438300132751465, -3.5427000522613525, -4.792300224304199, -4.904799938201904, -5.021900177001953, -5.1178998947143555, -5.188499927520752, -5.398600101470947, -5.42080020904541, -5.490900039672852, -5.559500217437744, -5.642499923706055, -6.184199810028076, -5.849299907684326, -6.233500003814697, -6.274400234222412, -4.764500141143799, -6.414599895477295, -6.509799957275391, -6.620200157165527, -6.624100208282471, -6.682400226593018, -6.694399833679199, -6.715000152587891, -6.742499828338623, -6.77209997177124, -6.802700042724609, -6.89169979095459, -6.896200180053711, -6.936800003051758, -5.829899787902832, -4.307799816131592, -4.695199966430664, -5.759500026702881, -5.107399940490723, -4.826900005340576, -5.454100131988525, -6.123000144958496, -5.158899784088135, -5.271900177001953, -6.272200107574463, -4.661300182342529, -5.39109992980957, -4.757599830627441, -5.335999965667725, -4.968999862670898, -5.321700096130371, -4.573400020599365, -4.0655999183654785, -4.231500148773193, -4.810100078582764, -4.309999942779541, -4.4721999168396, -4.691500186920166, -4.945499897003174, -4.914700031280518, -4.238800048828125, -4.443600177764893, -5.190000057220459, -5.193900108337402, -5.093800067901611, -5.081500053405762, -5.098700046539307, -5.145299911499023, -4.589200019836426, -5.497700214385986, -5.9847002029418945, -6.283599853515625, -6.339300155639648, -6.562900066375732, -6.754700183868408, -6.910099983215332, -6.965099811553955, -7.090799808502197, -7.092599868774414, -7.119500160217285, -7.148399829864502, -6.971199989318848, -7.1996002197265625, -7.315999984741211, -7.320799827575684, -6.102799892425537, -7.386300086975098, -7.456900119781494, -7.475100040435791, -7.515600204467773, -7.515900135040283, -7.5295000076293945, -7.580399990081787, -7.605999946594238, -7.607699871063232, -7.609300136566162, -6.32889986038208, -7.626999855041504, -3.8861000537872314, -5.453100204467773, -6.087500095367432, -4.840099811553955, -6.64870023727417, -6.148099899291992, -6.3744001388549805, -5.452199935913086, -5.470699787139893, -6.25540018081665, -5.042099952697754, -4.947000026702881, -5.717299938201904, -6.162600040435791, -5.2845001220703125, -4.555799961090088, -3.777899980545044, -5.205399990081787, -6.19290018081665, -5.120200157165527, -5.502099990844727, -4.966899871826172, -5.296599864959717, -4.906599998474121, -5.070400238037109, -5.695899963378906, -4.939499855041504, -4.184299945831299, -5.485000133514404, -4.224100112915039, -5.256999969482422, -4.211400032043457, -5.168799877166748, -5.300099849700928, -4.969200134277344, -5.3105998039245605, -5.123300075531006, -4.901199817657471, -5.121799945831299, -5.19189977645874, -5.302700042724609, -5.395100116729736, -5.432199954986572, -5.995999813079834, -6.366600036621094, -6.5447998046875, -6.54580020904541, -4.857999801635742, -6.976399898529053, -7.191299915313721, -7.200300216674805, -7.23330020904541, -7.2895002365112305, -7.352799892425537, -7.379899978637695, -7.398600101470947, -7.503799915313721, -7.531599998474121, -7.537600040435791, -7.542399883270264, -7.546800136566162, -7.594099998474121, -7.643599987030029, -7.6894001960754395, -7.7058000564575195, -7.73769998550415, -7.758600234985352, -7.752600193023682, -7.774499893188477, -7.781300067901611, -7.827600002288818, -7.852700233459473, -7.868800163269043, -5.147299766540527, -6.642600059509277, -6.423399925231934, -4.908100128173828, -6.185100078582764, -6.748700141906738, -6.32420015335083, -6.552199840545654, -6.931300163269043, -5.783699989318848, -6.242800235748291, -6.2154998779296875, -5.615900039672852, -5.143700122833252, -6.170100212097168, -6.365900039672852, -6.620800018310547, -5.232600212097168, -6.586999893188477, -5.224599838256836, -6.104400157928467, -5.30620002746582, -4.581999778747559, -5.029200077056885, -5.736100196838379, -3.998800039291382, -6.062600135803223, -3.5977001190185547, -5.828199863433838, -5.6595001220703125, -5.466899871826172, -4.6930999755859375, -5.596199989318848, -4.9369001388549805, -4.683899879455566, -4.993100166320801, -5.309700012207031, -4.308899879455566, -5.4868998527526855, -4.567200183868408, -4.814499855041504, -5.026899814605713, -5.361299991607666, -5.240200042724609, -4.792500019073486, -5.307199954986572, -5.415200233459473, -5.27370023727417, -5.250800132751465, -5.327499866485596, -5.460400104522705]}, \"token.table\": {\"Topic\": [1, 2, 7, 8, 9, 10, 2, 3, 4, 5, 6, 7, 8, 9, 10, 2, 7, 8, 9, 9, 2, 4, 7, 9, 10, 9, 1, 1, 2, 5, 10, 4, 5, 2, 5, 9, 10, 1, 7, 2, 3, 9, 2, 5, 7, 10, 5, 2, 4, 5, 7, 9, 10, 3, 5, 7, 8, 9, 10, 6, 6, 8, 9, 2, 3, 7, 8, 9, 10, 1, 4, 1, 8, 2, 4, 5, 7, 9, 10, 5, 6, 2, 7, 7, 7, 3, 1, 6, 2, 3, 7, 8, 9, 10, 2, 7, 8, 9, 10, 2, 4, 5, 7, 10, 4, 2, 9, 10, 9, 5, 6, 4, 2, 4, 2, 4, 5, 3, 5, 3, 10, 5, 7, 8, 9, 10, 2, 4, 5, 7, 9, 4, 2, 4, 5, 9, 10, 6, 2, 3, 5, 7, 8, 9, 10, 4, 1, 10, 7, 8, 9, 7, 6, 9, 5, 7, 10, 10, 10, 5, 4, 4, 3, 8, 2, 7, 9, 10, 4, 10, 2, 4, 5, 7, 9, 10, 3, 5, 2, 7, 2, 10, 6, 8, 5, 10, 10, 10, 2, 7, 1, 3, 2, 7, 8, 2, 1, 9, 4, 5, 7, 9, 3, 2, 6, 2, 2, 5, 7, 9, 10, 2, 7, 9, 8, 9, 3, 2, 3, 5, 7, 8, 9, 10, 2, 4, 5, 7, 9, 10, 1, 2, 5, 10, 3, 10, 4, 5, 7, 1, 9, 5, 7, 9, 10, 4, 5, 7, 9, 10, 7, 8, 9, 2, 6, 7, 10, 5, 10, 10, 7, 4, 2, 4, 5, 7, 10, 9, 10, 3, 1, 2, 7, 8, 9, 1, 6, 2, 3, 5, 7, 9, 10, 5, 8, 9, 8, 2, 4, 5, 7, 8, 9, 10, 1, 8, 9, 10, 2, 6, 7, 9, 5, 1, 6, 1, 7, 2, 7, 6, 6, 7, 8, 2, 5, 10, 8, 9, 5, 2, 4, 5, 7, 9, 10, 2, 5, 5, 8, 10, 9, 7, 1, 7, 9, 4, 4, 1, 7, 2, 7, 5, 7, 10, 6, 4, 7, 1, 3, 3, 7, 1, 5, 7, 5, 7, 8, 9, 10, 1, 1, 6, 2, 4, 5, 7, 9, 10, 2, 5, 7, 8, 9, 10, 2, 4, 5, 7, 8, 9, 10, 4, 5, 7, 8, 9, 10, 9, 5, 2, 2, 5, 7, 8, 9, 10, 5, 4, 9, 5, 2, 3, 5, 7, 8, 9, 10, 2, 3, 5, 7, 8, 10, 7, 2, 4, 5, 6, 7, 10, 4, 8, 3, 5, 2, 10, 4, 9, 2, 3, 4, 7, 8, 9, 10, 3, 3, 2, 4, 2, 7, 10, 2, 4, 5, 7, 8, 10, 8, 9, 5, 5, 7, 8, 9, 10, 4, 5, 7, 10, 9, 4, 2, 7, 9, 3, 4, 5, 7, 9, 10, 4, 5, 2, 7, 10, 4, 2, 4, 7, 9, 10, 3, 9, 10, 7, 8, 10, 10, 5, 2, 5, 7, 8, 9, 10, 7, 2, 5, 7, 8, 9, 10, 10, 2, 4, 5, 7, 10, 2, 3, 4, 5, 7, 8, 10, 9, 9, 6, 8, 4, 5, 7, 8, 9, 10, 10, 2, 3, 5, 7, 9, 10, 2, 7, 8, 2, 9, 7, 7, 3, 10, 2, 5, 8, 10, 9, 10, 1, 10, 2, 7, 9, 10, 5, 7, 9, 10, 10, 7, 9, 1, 10, 7, 9, 3, 2, 3, 4, 7, 8, 9, 10, 4, 9, 3, 8, 2, 2, 4, 5, 7, 10, 1, 2, 3, 4, 5, 6, 7, 8, 9, 10, 2, 4, 5, 7, 8, 9, 10, 2, 4, 7, 9, 3, 8, 10, 6, 9, 6, 2, 7, 1, 9, 10, 5, 8, 1, 4, 7, 2, 5, 7, 9, 3, 3, 2, 3, 4, 7, 10, 2, 4, 8, 9, 4, 10, 8, 1, 6, 8, 5, 5, 10, 4, 2, 4, 5, 10, 2, 3, 4, 7, 8, 9, 10, 8, 2, 4, 5, 7, 8, 9, 10, 5, 2, 4, 10, 5, 10, 2, 5, 7, 8, 9, 10, 2, 1, 2, 4, 5, 8, 9, 10, 2, 3, 4, 5, 7, 8, 9, 10, 1, 2, 10, 9, 4, 5, 7, 9, 10, 4, 2, 3, 7, 8, 9, 10, 2, 5, 7, 9, 10, 6, 2, 3, 5, 7, 8, 9, 10, 4, 10, 2, 7, 8, 2, 3, 4, 5, 7, 8, 9, 10, 3, 8, 7, 8, 9, 1, 5, 7, 10, 4, 7, 10, 9, 3, 7, 10, 3, 2, 6, 7, 3, 2, 5, 7, 9, 10, 1, 10, 2, 9, 2, 4, 5, 7, 8, 9, 10, 2, 1, 1, 2, 7, 5, 8, 9, 10, 5, 2, 3, 4, 5, 7, 10, 10, 4, 5, 2, 3, 7, 8, 9, 10, 2, 4, 5, 7, 8, 9, 10, 2, 5, 7, 8, 9, 10, 2, 4, 5, 7, 9, 10, 2, 3, 4, 5, 7, 9, 10, 3, 1, 2, 4, 5, 7, 8, 10, 2, 5, 10, 2, 5, 2, 4, 6, 2, 4, 5, 7, 8, 9, 10, 6, 8, 6, 10, 8, 7, 5, 6, 2, 3, 4, 5, 7, 8, 9, 10, 8, 2, 7, 9, 10, 10, 7, 9, 2, 4, 7, 8, 1, 2, 3, 4, 5, 7, 10, 2, 4, 5, 7, 10, 7, 5, 1, 2, 4, 7, 10, 5, 7, 8, 9, 10, 3, 9, 10, 7, 10, 2, 4, 5, 5, 10, 2, 3, 4, 5, 7, 8, 9, 10, 3, 4, 9, 2, 7, 8, 2, 4, 5, 7, 10, 10, 9, 4, 4, 2, 4, 5, 7, 10, 3, 4, 5, 7, 5, 6, 2, 4, 10, 7, 7, 4, 5, 7, 10, 1, 2, 2, 3, 4, 5, 7, 9, 10, 8, 9, 2, 5, 7, 8, 9, 10, 4, 2, 8, 8, 7, 3, 4, 9, 10, 5, 10, 5, 8, 7, 8, 9, 10, 1, 8, 10, 2, 3, 5, 7, 9, 10, 5, 10, 9, 8, 10, 2, 4, 5, 7, 9, 10, 2, 4, 5, 7, 8, 9, 10, 3, 3, 2, 7, 3, 8, 7, 3, 2, 4, 1, 3, 9, 2, 3, 5, 7, 8, 10, 2, 4, 7, 9, 10, 2, 5, 6, 7, 8, 9, 10, 2, 3, 5, 7, 9, 10, 8, 6, 8, 4, 8, 2, 5, 10, 2, 4, 7, 1, 7, 1, 5, 7, 10, 8, 2, 4, 5, 10, 9, 2, 4, 5, 7, 10, 2, 2, 1, 7, 6, 2, 2, 4, 4, 2, 8, 9, 5, 6, 7, 5, 8, 9, 10, 6, 2, 5, 7, 8, 9, 10, 8, 1, 7, 2, 2, 5, 10, 1, 9, 2, 3, 4, 5, 7, 8, 9, 10, 2, 3, 4, 5, 7, 9, 10, 3, 9, 5, 10, 1, 4, 2, 10, 5, 10, 2, 4, 7, 9, 10, 3, 4, 5, 6, 7, 8, 9, 10, 3, 9, 1, 4, 7, 9, 10, 6, 2, 7, 8, 9, 7, 8, 1, 8, 2, 4, 7, 8, 5, 7, 2, 2, 3, 4, 5, 7, 8, 9, 10, 2, 3, 4, 7, 9, 10, 7, 2, 7, 2, 3, 5, 7, 9, 10, 6, 2, 3, 5, 7, 8, 9, 10, 6, 6, 2, 3, 5, 7, 8, 9, 10, 1, 8, 2, 4, 10, 3, 2, 4, 2, 3, 4, 7, 9, 10, 1, 8, 1, 6, 1, 10, 10, 7, 2, 7, 8, 9, 10, 3, 7, 9, 10, 4, 5, 8, 10, 4, 6, 10, 3, 2, 4, 5, 8, 10, 5, 10, 3, 3, 5, 7, 8, 9, 10, 4, 7, 2, 7, 8, 9, 10, 2, 3, 5, 10, 2, 5, 10, 2, 2, 5, 6, 8, 4, 4, 2, 4, 10, 2, 8, 9, 10, 2, 3, 5, 7, 9, 10, 8, 9, 2, 4, 5, 7, 9, 10, 3, 10, 3, 6, 7, 9, 10, 2, 3, 8, 9, 10, 2, 4, 5, 7, 10, 2, 6, 7, 2, 5, 7, 8, 9, 10, 8, 2, 4, 5, 7, 9, 10, 2, 2, 2, 4, 5, 7, 8, 9, 10, 2, 3, 7, 9, 10, 3, 4, 9, 8, 6, 6], \"Freq\": [0.1979569047689438, 0.2078547477722168, 0.17816121876239777, 0.029693536460399628, 0.07918276637792587, 0.3068332076072693, 0.09149038791656494, 0.025893505662679672, 0.05869194492697716, 0.1743496060371399, 0.0051787011325359344, 0.12428882718086243, 0.08113298565149307, 0.2589350640773773, 0.17952831089496613, 0.3454448878765106, 0.09182711690664291, 0.030609039589762688, 0.5290991067886353, 0.9610857367515564, 0.3249877989292145, 0.2986374497413635, 0.07905109226703644, 0.055628545582294464, 0.2400810867547989, 0.9609494805335999, 0.8924939632415771, 0.8849424719810486, 0.9906445741653442, 0.7453010678291321, 0.25286999344825745, 0.08335272967815399, 0.9168800115585327, 0.1365453600883484, 0.03690415248274803, 0.03690415248274803, 0.7897488474845886, 0.515548050403595, 0.4418983459472656, 0.2099025994539261, 0.2361404299736023, 0.550994336605072, 0.8492388129234314, 0.06133391335606575, 0.00943598710000515, 0.0754878968000412, 0.9150683283805847, 0.1485195904970169, 0.06562493741512299, 0.16924326121807098, 0.2774668335914612, 0.02072366513311863, 0.3177628517150879, 0.014596637338399887, 0.16867224872112274, 0.24814282357692719, 0.029193274676799774, 0.4054621458053589, 0.13136973977088928, 0.9752609133720398, 0.7358424663543701, 0.22995077073574066, 0.9855338931083679, 0.6408252716064453, 0.012443209066987038, 0.055994439870119095, 0.11821048706769943, 0.03732962906360626, 0.13376450538635254, 0.9350287914276123, 0.983144223690033, 0.8550370335578918, 0.9915744066238403, 0.04820423573255539, 0.1102854460477829, 0.4111967384815216, 0.1117461770772934, 0.027753952890634537, 0.29068613052368164, 0.917300283908844, 0.9868059754371643, 0.7335368990898132, 0.2604272961616516, 0.9592605829238892, 0.9709804058074951, 0.9340227842330933, 0.9661508798599243, 0.9402318000793457, 0.13153789937496185, 0.01485105324536562, 0.09971421211957932, 0.05303947627544403, 0.02970210649073124, 0.6704189777374268, 0.3025355041027069, 0.10609752684831619, 0.21534645557403564, 0.10084517300128937, 0.2741728127002716, 0.4374866485595703, 0.06413416564464569, 0.46039170026779175, 0.03435758873820305, 0.0034357591066509485, 0.936716616153717, 0.12215106189250946, 0.02874142676591873, 0.8406867384910583, 0.98454350233078, 0.3068847060203552, 0.6137694120407104, 0.9284518957138062, 0.2087574303150177, 0.7805712819099426, 0.43962156772613525, 0.45806723833084106, 0.10145113617181778, 0.8766552209854126, 0.9236474633216858, 0.01295954454690218, 0.9849253296852112, 0.08721950650215149, 0.0619717575609684, 0.05049550533294678, 0.08033376187086105, 0.7184133529663086, 0.3263511061668396, 0.3870471119880676, 0.2287096530199051, 0.02375061810016632, 0.034306447952985764, 0.9168702960014343, 0.14621186256408691, 0.3662833273410797, 0.43863561749458313, 0.027132099494338036, 0.02261008322238922, 0.877699077129364, 0.007774065714329481, 0.05441845953464508, 0.30577990412712097, 0.13215911388397217, 0.14252454042434692, 0.22156086564064026, 0.1360461413860321, 0.9685900807380676, 0.8686718344688416, 0.9863259196281433, 0.06671813875436783, 0.016679534688591957, 0.9006948471069336, 0.9818918108940125, 0.9554741382598877, 0.9774964451789856, 0.02176586166024208, 0.05441465228796005, 0.9141661524772644, 0.985899031162262, 0.96923828125, 0.9689977765083313, 0.9565026164054871, 0.9283555746078491, 0.8086939454078674, 0.161738783121109, 0.6954554319381714, 0.01800531893968582, 0.22956781089305878, 0.05626662075519562, 0.9332148432731628, 0.9526745676994324, 0.0017279417952522635, 0.07464708387851715, 0.5539781451225281, 0.3552648425102234, 0.0020735301077365875, 0.01209559291601181, 0.9208173155784607, 0.9625896215438843, 0.9910780191421509, 0.9592241048812866, 0.9908861517906189, 0.9854221343994141, 0.9200558662414551, 0.9452501535415649, 0.9426615834236145, 0.9647573828697205, 0.9783714413642883, 0.9712405204772949, 0.7889705896377563, 0.2084844559431076, 0.27922236919403076, 0.670133650302887, 0.14958766102790833, 0.6701527237892151, 0.17950519919395447, 0.9948304295539856, 0.8685327172279358, 0.9504873752593994, 0.04189174249768257, 0.09774740040302277, 0.13963913917541504, 0.6981956958770752, 0.922012209892273, 0.9873026609420776, 0.8583295345306396, 0.9852159023284912, 0.2941496968269348, 0.05843377858400345, 0.5774049758911133, 0.04952015355229378, 0.020798463374376297, 0.6179590821266174, 0.30325767397880554, 0.07724488526582718, 0.8924890756607056, 0.09153734147548676, 0.9443755745887756, 0.9907116889953613, 0.0033971015363931656, 0.24798841774463654, 0.0033971015363931656, 0.33971014618873596, 0.08153043687343597, 0.3227246403694153, 0.056916192173957825, 0.11672152578830719, 0.5720510482788086, 0.14936888217926025, 0.02253534458577633, 0.08234068006277084, 0.9530065655708313, 0.09075479209423065, 0.6316043138504028, 0.2771700620651245, 0.5143542885780334, 0.45720380544662476, 0.6911231279373169, 0.04531954973936081, 0.26285338401794434, 0.9435922503471375, 0.9566677212715149, 0.056085363030433655, 0.12619206309318542, 0.7150883674621582, 0.0981493890285492, 0.18207094073295593, 0.5728141069412231, 0.11231648921966553, 0.07034558802843094, 0.062069639563560486, 0.07734296470880508, 0.8507726192474365, 0.06629396975040436, 0.9765388369560242, 0.44476744532585144, 0.3558139503002167, 0.17790697515010834, 0.7862774133682251, 0.21334965527057648, 0.9578344225883484, 0.9768739342689514, 0.9886713027954102, 0.4441241919994354, 0.0035888825077563524, 0.05203879624605179, 0.35081323981285095, 0.1489386260509491, 0.7043203115463257, 0.28747767210006714, 0.9483355283737183, 0.9722304344177246, 0.07543356716632843, 0.480392724275589, 0.39701876044273376, 0.04764225333929062, 0.9652491807937622, 0.9251565933227539, 0.32601237297058105, 0.007793124299496412, 0.0012988541275262833, 0.3896562159061432, 0.03636791557073593, 0.2376902997493744, 0.995919406414032, 0.9864147305488586, 0.9770376682281494, 0.9880154132843018, 0.014998585917055607, 0.01666509546339512, 0.5399490594863892, 0.10332358628511429, 0.00833254773169756, 0.08999151736497879, 0.22831180691719055, 0.9463856816291809, 0.8930174112319946, 0.03133394569158554, 0.07833486050367355, 0.25444433093070984, 0.4664812684059143, 0.12722216546535492, 0.12722216546535492, 0.9688065052032471, 0.9329583644866943, 0.9084225296974182, 0.9260761737823486, 0.9581818580627441, 0.34881076216697693, 0.649761438369751, 0.8913959264755249, 0.69552081823349, 0.28980034589767456, 0.9773620963096619, 0.9955005645751953, 0.6734748482704163, 0.32209664583206177, 0.9667275547981262, 0.9916649460792542, 0.9750429391860962, 0.7420786619186401, 0.007831964641809464, 0.12335344403982162, 0.12139545381069183, 0.001957991160452366, 0.001957991160452366, 0.9549862146377563, 0.029843319207429886, 0.40878695249557495, 0.03790077939629555, 0.554975688457489, 0.9727240204811096, 0.9919591546058655, 0.9515367150306702, 0.08701316267251968, 0.8991360068321228, 0.976097822189331, 0.9825243949890137, 0.7684211134910583, 0.2119782418012619, 0.25625476241111755, 0.7410610914230347, 0.7349495887756348, 0.09163007885217667, 0.17371535301208496, 0.883243978023529, 0.1875636875629425, 0.8038443922996521, 0.7547381520271301, 0.18868453800678253, 0.9433241486549377, 0.9718497395515442, 0.9611329436302185, 0.05850181356072426, 0.9360290169715881, 0.2779407799243927, 0.12171262502670288, 0.1998267024755478, 0.052681583911180496, 0.3469718098640442, 0.8894810080528259, 0.9399940967559814, 0.9539631605148315, 0.3560771346092224, 0.01787259802222252, 0.048118531703948975, 0.2942104637622833, 0.08111409842967987, 0.20072302222251892, 0.06335058063268661, 0.046457093209028244, 0.42656058073043823, 0.029563605785369873, 0.1816049963235855, 0.25340232253074646, 0.11899387836456299, 0.024051954969763756, 0.3911607265472412, 0.17216135561466217, 0.03164730966091156, 0.04304033890366554, 0.2177334725856781, 0.007422992959618568, 0.5270324945449829, 0.19151321053504944, 0.031176568940281868, 0.07719912379980087, 0.16479043662548065, 0.9382243752479553, 0.9813039302825928, 0.9814319610595703, 0.1204146146774292, 0.10034550726413727, 0.22243253886699677, 0.3110710680484772, 0.17393220961093903, 0.07024185359477997, 0.9404442310333252, 0.03551452234387398, 0.9411348104476929, 0.9498212933540344, 0.04218820855021477, 0.03906315565109253, 0.12812715768814087, 0.16562777757644653, 0.04375073313713074, 0.27500462532043457, 0.3046926259994507, 0.16187961399555206, 0.07241982966661453, 0.2598593831062317, 0.13205969333648682, 0.03407992050051689, 0.3322792053222656, 0.9804352521896362, 0.06206177547574043, 0.008865968324244022, 0.8334010243415833, 0.017731936648488045, 0.07092774659395218, 0.008865968324244022, 0.9761504530906677, 0.9966546297073364, 0.931919276714325, 0.9715766906738281, 0.9856629967689514, 0.9875733852386475, 0.8947832584381104, 0.08134393393993378, 0.4441509246826172, 0.0029029471334069967, 0.0014514735667034984, 0.23804166913032532, 0.018869156017899513, 0.19740040600299835, 0.09870020300149918, 0.9394474029541016, 0.9458546042442322, 0.07004248350858688, 0.9105522632598877, 0.13709211349487305, 0.8225526809692383, 0.022848686203360558, 0.6575735211372375, 0.12576542794704437, 0.007186596281826496, 0.08803579956293106, 0.003593298140913248, 0.11678218841552734, 0.04377471283078194, 0.9411563277244568, 0.9698274731636047, 0.9739420413970947, 0.9840706586837769, 0.971439778804779, 0.01269855909049511, 0.01269855909049511, 0.20078550279140472, 0.47870200872421265, 0.2167014181613922, 0.10284135490655899, 0.9665960669517517, 0.9974842667579651, 0.2107757031917572, 0.03242703154683113, 0.7458217144012451, 0.8895708918571472, 0.0023693093098700047, 0.6098602414131165, 0.2501990795135498, 0.06728838384151459, 0.07013155519962311, 0.9512612223625183, 0.958963930606842, 0.34461265802383423, 0.6289180517196655, 0.025845948606729507, 0.9299652576446533, 0.14505863189697266, 0.4593523442745209, 0.1410292237997055, 0.04432347044348717, 0.20952913165092468, 0.12192700058221817, 0.04741605743765831, 0.8331678509712219, 0.06973913311958313, 0.6741449236869812, 0.2557101547718048, 0.9480010271072388, 0.9359821081161499, 0.3902013599872589, 0.11706040799617767, 0.24619849026203156, 0.007432407233864069, 0.006503356155008078, 0.2322627156972885, 0.9541963934898376, 0.07053125649690628, 0.028212502598762512, 0.056425005197525024, 0.6206750273704529, 0.16222189366817474, 0.06347812712192535, 0.971082866191864, 0.09048203378915787, 0.072255440056324, 0.6555065512657166, 0.12075120210647583, 0.060538340359926224, 0.6278219223022461, 0.007609962485730648, 0.015219924971461296, 0.005707471631467342, 0.22259140014648438, 0.009512453339993954, 0.11034445464611053, 0.9834712147712708, 0.9649460315704346, 0.9586141705513, 0.941148042678833, 0.011325971223413944, 0.5105628967285156, 0.11951880156993866, 0.008345453068614006, 0.02980518713593483, 0.3207038342952728, 0.9435160160064697, 0.10161852836608887, 0.18291334807872772, 0.040647413581609726, 0.20323705673217773, 0.21339891850948334, 0.24388447403907776, 0.1160179153084755, 0.243263378739357, 0.6362273097038269, 0.9869064688682556, 0.9954319596290588, 0.9628348350524902, 0.9835016131401062, 0.632437527179718, 0.34054329991340637, 0.37735414505004883, 0.03430492430925369, 0.5360144376754761, 0.047169268131256104, 0.06433891505002975, 0.9168295860290527, 0.7732357382774353, 0.20348308980464935, 0.10758210718631744, 0.8466244339942932, 0.02338741533458233, 0.018709931522607803, 0.5487453937530518, 0.33673012256622314, 0.049106474965810776, 0.06547529995441437, 0.9640376567840576, 0.06341736763715744, 0.9240816235542297, 0.05408809706568718, 0.9330196976661682, 0.9622212648391724, 0.994604766368866, 0.9688608050346375, 0.03889568895101547, 0.08132735639810562, 0.05657555162906647, 0.17679859697818756, 0.16619068384170532, 0.30055761337280273, 0.17679859697818756, 0.9551655650138855, 0.9561745524406433, 0.9498839378356934, 0.9982724189758301, 0.9860455989837646, 0.0915161520242691, 0.45186102390289307, 0.1944718360900879, 0.16587303578853607, 0.09342274069786072, 0.0030875939410179853, 0.16271619498729706, 0.00015437969705089927, 0.0010806579375639558, 0.3056718111038208, 0.004322631750255823, 0.18016110360622406, 0.03998434171080589, 0.05449603497982025, 0.2482425570487976, 0.22669467329978943, 0.007556488737463951, 0.17568837106227875, 0.09445611387491226, 0.018891222774982452, 0.3135942816734314, 0.1643536388874054, 0.206510990858078, 0.027172498404979706, 0.7608299255371094, 0.945220410823822, 0.16277511417865753, 0.4250239133834839, 0.41598084568977356, 0.8859119415283203, 0.9384752511978149, 0.8909213542938232, 0.12102348357439041, 0.8673349618911743, 0.8727347254753113, 0.9168558120727539, 0.0806233137845993, 0.9772804379463196, 0.9949040412902832, 0.9415715932846069, 0.15806564688682556, 0.8319244384765625, 0.050320543348789215, 0.04193378612399101, 0.7967419624328613, 0.11741460114717484, 0.9395525455474854, 0.9023759365081787, 0.11601849645376205, 0.007031423971056938, 0.13711276650428772, 0.07031423598527908, 0.6644695401191711, 0.22468732297420502, 0.5533965826034546, 0.0707348957657814, 0.14979155361652374, 0.6251853108406067, 0.37300971150398254, 0.9709922075271606, 0.6083993911743164, 0.27986374497413635, 0.10951189696788788, 0.9492302536964417, 0.09432864189147949, 0.9004097580909729, 0.9514018297195435, 0.0026229629293084145, 0.45639556646347046, 0.22295185923576355, 0.31737852096557617, 0.2690642774105072, 0.021402841433882713, 0.006115097552537918, 0.137589693069458, 0.003057548776268959, 0.3638482987880707, 0.19568312168121338, 0.9518762230873108, 0.40980201959609985, 0.08492282778024673, 0.06912323087453842, 0.1441713124513626, 0.06221090629696846, 0.046411313116550446, 0.1836702972650528, 0.8999606370925903, 0.05654098093509674, 0.7802655100822449, 0.1470065414905548, 0.34826019406318665, 0.6496391892433167, 0.005021173506975174, 0.6332257986068726, 0.032916583120822906, 0.01896887831389904, 0.010042347013950348, 0.30015459656715393, 0.9888607859611511, 0.9849937558174133, 0.1174871027469635, 0.09256559610366821, 0.03204193711280823, 0.5482731461524963, 0.024921506643295288, 0.18157097697257996, 0.15994776785373688, 0.056648168712854385, 0.05331592261791229, 0.1499510407447815, 0.07330939173698425, 0.026657961308956146, 0.02999020740389824, 0.4498530924320221, 0.9645251631736755, 0.9260777235031128, 0.07243065536022186, 0.9437947273254395, 0.06717508286237717, 0.28954777121543884, 0.04169487953186035, 0.09728805720806122, 0.5049713253974915, 0.9378920197486877, 0.20904678106307983, 0.00329207512550056, 0.5135637521743774, 0.055965278297662735, 0.14814338088035583, 0.06913357973098755, 0.02976757474243641, 0.023814059793949127, 0.07144217938184738, 0.09525623917579651, 0.7799104452133179, 0.9240278005599976, 0.0750570297241211, 0.02814638614654541, 0.011727660894393921, 0.5699643492698669, 0.11727660894393921, 0.06332936882972717, 0.1336953341960907, 0.9856593608856201, 0.9930300116539001, 0.17057815194129944, 0.44290468096733093, 0.38305267691612244, 0.0785064771771431, 0.03819233924150467, 0.025461560115218163, 0.24400660395622253, 0.016974372789263725, 0.06577569246292114, 0.17398732900619507, 0.3564618229866028, 0.974481999874115, 0.9279652237892151, 0.7525980472564697, 0.06102146580815315, 0.18306438624858856, 0.04525746405124664, 0.7241194248199463, 0.2212587147951126, 0.9734264016151428, 0.997493326663971, 0.963657021522522, 0.9659378528594971, 0.9685909748077393, 0.010191830806434155, 0.29046717286109924, 0.6981404423713684, 0.968233048915863, 0.9818359613418579, 0.9635080695152283, 0.9607909917831421, 0.9821721315383911, 0.22384078800678253, 0.11192039400339127, 0.5823654532432556, 0.001896955887787044, 0.07967214286327362, 0.8817055821418762, 0.9636297225952148, 0.9665324091911316, 0.015102068893611431, 0.15682826936244965, 0.06840382516384125, 0.09509799629449844, 0.1935327649116516, 0.17518052458763123, 0.0016683859284967184, 0.31031978130340576, 0.9855636954307556, 0.943135678768158, 0.45286399126052856, 0.2911268472671509, 0.2587794363498688, 0.027080746367573738, 0.7402070164680481, 0.036107659339904785, 0.18956521153450012, 0.9762812256813049, 0.25043925642967224, 0.002158959163352847, 0.06908669322729111, 0.18782944977283478, 0.3950895369052887, 0.0949942022562027, 0.98492032289505, 0.9526827931404114, 0.9183268547058105, 0.598226010799408, 0.0052707139402627945, 0.12649713456630707, 0.0474364273250103, 0.1317678540945053, 0.09223749488592148, 0.18000873923301697, 0.0942101776599884, 0.11439807713031769, 0.050469741225242615, 0.2775835692882538, 0.19851431250572205, 0.08579855412244797, 0.29197946190834045, 0.1683485209941864, 0.24068577587604523, 0.1473049521446228, 0.0210435651242733, 0.12889184057712555, 0.03731250762939453, 0.13584651052951813, 0.5245486497879028, 0.11483558267354965, 0.014490294270217419, 0.1724344938993454, 0.5190557241439819, 0.0007014266448095441, 0.021042799577116966, 0.1276596486568451, 0.13958391547203064, 0.05330842733383179, 0.13818106055259705, 0.9271255135536194, 0.007389593403786421, 0.5562348365783691, 0.21765711903572083, 0.08934690803289413, 0.11017212271690369, 0.001343562500551343, 0.018138093873858452, 0.6924527287483215, 0.20698314905166626, 0.09784658253192902, 0.8513259887695312, 0.14632165431976318, 0.920950174331665, 0.057050012052059174, 0.016300002112984657, 0.5473273992538452, 0.03287406638264656, 0.06419909745454788, 0.21359537541866302, 0.0034423107281327248, 0.0025817330460995436, 0.13579915463924408, 0.9674833416938782, 0.9683423638343811, 0.9604644179344177, 0.993424654006958, 0.9837400317192078, 0.9676616191864014, 0.9502126574516296, 0.911313533782959, 0.38995227217674255, 0.017571507021784782, 0.08447840064764023, 0.08380257338285446, 0.1824733465909958, 0.010813235305249691, 0.08988501876592636, 0.14124788343906403, 0.9603139162063599, 0.17464856803417206, 0.77213054895401, 0.036768119782209396, 0.9853455424308777, 0.9874194264411926, 0.9921727776527405, 0.958529531955719, 0.8290799856185913, 0.04841342940926552, 0.09682685881853104, 0.018155036494135857, 0.9473317861557007, 0.12284555286169052, 0.010839313268661499, 0.043357253074645996, 0.16258969902992249, 0.03613104671239853, 0.6250670552253723, 0.24751293659210205, 0.019336948171257973, 0.3557998538017273, 0.002578259678557515, 0.3738476634025574, 0.9600599408149719, 0.9595369696617126, 0.12857627868652344, 0.4648527204990387, 0.15824773907661438, 0.06923338770866394, 0.16813822090625763, 0.2904859185218811, 0.03382370248436928, 0.08356443792581558, 0.09749184548854828, 0.493428111076355, 0.8932074904441833, 0.9373588562011719, 0.9762722849845886, 0.9441962838172913, 0.9771594405174255, 0.10013098269701004, 0.680890679359436, 0.2152816206216812, 0.9714402556419373, 0.9737639427185059, 0.17181958258152008, 0.05727319419384003, 0.040807150304317474, 0.27419543266296387, 0.06658008694648743, 0.010022809728980064, 0.07731881737709045, 0.30140018463134766, 0.9844537377357483, 0.17481093108654022, 0.8104870915412903, 0.08429393917322159, 0.0766308531165123, 0.8352763056755066, 0.09746458381414413, 0.13258695602416992, 0.19931946694850922, 0.043024905025959015, 0.5277136564254761, 0.987962543964386, 0.9732636213302612, 0.9799180626869202, 0.9847272038459778, 0.1819920539855957, 0.10649905353784561, 0.5419318675994873, 0.04313885420560837, 0.1267203837633133, 0.30717530846595764, 0.038396913558244705, 0.5183583498001099, 0.13438919186592102, 0.9753217697143555, 0.9299049973487854, 0.01614093780517578, 0.8312583565711975, 0.15333892405033112, 0.9718871116638184, 0.9859977960586548, 0.07760202139616013, 0.7074416875839233, 0.02707047387957573, 0.1894933134317398, 0.6067687273025513, 0.3861255347728729, 0.0905497670173645, 0.0012073302641510963, 0.07726913690567017, 0.22456341981887817, 0.30786919593811035, 0.024146605283021927, 0.27285662293434143, 0.79073166847229, 0.1996021568775177, 0.01588127389550209, 0.5629029273986816, 0.16234190762043, 0.02117503061890602, 0.0264687892049551, 0.20998571813106537, 0.9878748059272766, 0.992189347743988, 0.9806616306304932, 0.9909084439277649, 0.9792698621749878, 0.06087813898921013, 0.03278053551912308, 0.056195203214883804, 0.8476110100746155, 0.5822463035583496, 0.41613486409187317, 0.9463272094726562, 0.95716392993927, 0.0746874287724495, 0.8606837391853333, 0.05690470710396767, 0.003556544193997979, 0.02470538206398487, 0.02470538206398487, 0.9511572122573853, 0.14279064536094666, 0.0028846594505012035, 0.24086906015872955, 0.05192387104034424, 0.005769318901002407, 0.5538545846939087, 0.07586778700351715, 0.9180002808570862, 0.9422277212142944, 0.9517073035240173, 0.9825076460838318, 0.4353272318840027, 0.14929541945457458, 0.1830478012561798, 0.12778808176517487, 0.027786843478679657, 0.0764530673623085, 0.17974309623241425, 0.09278509020805359, 0.3424531817436218, 0.09009566903114319, 0.021515382453799248, 0.03003188967704773, 0.24339276552200317, 0.9846125841140747, 0.8933017253875732, 0.9308688640594482, 0.06205792352557182, 0.9765496253967285, 0.970337450504303, 0.9809084534645081, 0.961832582950592, 0.057284802198410034, 0.9356517791748047, 0.936697244644165, 0.47149184346199036, 0.4992266595363617, 0.20538093149662018, 0.015798533335328102, 0.03385400027036667, 0.19635319709777832, 0.29791519045829773, 0.2482626736164093, 0.013469469733536243, 0.7273513674736023, 0.13469469547271729, 0.026938939467072487, 0.08081682026386261, 0.0007699505658820271, 0.2317551225423813, 0.0023098518140614033, 0.4250127077102661, 0.20095710456371307, 0.054666489362716675, 0.08392461389303207, 0.13823722302913666, 0.0036378218792378902, 0.12368594110012054, 0.1309615820646286, 0.36014434695243835, 0.24373406171798706, 0.985531747341156, 0.48064953088760376, 0.5149816274642944, 0.08035828918218613, 0.9107272624969482, 0.9949887990951538, 0.1371593475341797, 0.8546082377433777, 0.36341041326522827, 0.6359682679176331, 0.9854637980461121, 0.5182048082351685, 0.4750210642814636, 0.014605450443923473, 0.3188856542110443, 0.5477043986320496, 0.11927784234285355, 0.9949786067008972, 0.027882536873221397, 0.7050298452377319, 0.25492605566978455, 0.011949658393859863, 0.9635608196258545, 0.1922115683555603, 0.3584095537662506, 0.17342397570610046, 0.007225998677313328, 0.26880714297294617, 0.9927841424942017, 0.9937520623207092, 0.4625493586063385, 0.5045992732048035, 0.970672070980072, 0.9888870120048523, 0.9933976531028748, 0.9907922148704529, 0.9858790040016174, 0.10804788023233414, 0.8438025116920471, 0.04116109758615494, 0.16097776591777802, 0.8048888444900513, 0.9706624150276184, 0.9569596648216248, 0.7743561267852783, 0.10100297629833221, 0.11783680319786072, 0.9633256196975708, 0.017030300572514534, 0.504716157913208, 0.30344897508621216, 0.005418731831014156, 0.09005416184663773, 0.07947473227977753, 0.9791517853736877, 0.6815060377120972, 0.22716867923736572, 0.9926148653030396, 0.9928608536720276, 0.9739780426025391, 0.024349451065063477, 0.9257237911224365, 0.9423381090164185, 0.116046242415905, 0.00462010782212019, 0.0016306263860315084, 0.33971384167671204, 0.21605800092220306, 0.05734369531273842, 0.09865289181470871, 0.16578035056591034, 0.16914771497249603, 0.012404166162014008, 0.09190359711647034, 0.12460548430681229, 0.07724412530660629, 0.30728501081466675, 0.21707290410995483, 0.9537021517753601, 0.9201059341430664, 0.8488159775733948, 0.13058707118034363, 0.955844521522522, 0.9581429362297058, 0.044740188866853714, 0.9535253047943115, 0.14329269528388977, 0.8513271808624268, 0.02672957256436348, 0.4484628438949585, 0.09800843149423599, 0.17225724458694458, 0.2554159164428711, 0.9485909938812256, 0.09568357467651367, 0.049755457788705826, 0.10333826392889023, 0.13395699858665466, 0.022964058443903923, 0.5013819336891174, 0.09185623377561569, 0.6569969654083252, 0.30659857392311096, 0.9570894241333008, 0.19969262182712555, 0.1038401648402214, 0.6230409741401672, 0.0639016404747963, 0.9496451616287231, 0.08405503630638123, 0.09526237100362778, 0.8069283366203308, 0.011207337491214275, 0.9109123945236206, 0.08675356209278107, 0.8993469476699829, 0.9933474659919739, 0.9241963028907776, 0.06882312893867493, 0.0019137772032991052, 0.995164155960083, 0.9124918580055237, 0.9662158489227295, 0.9833254218101501, 0.17192792892456055, 0.0014694695128127933, 0.0014694695128127933, 0.055839840322732925, 0.2740560472011566, 0.1778058111667633, 0.104332335293293, 0.21380780637264252, 0.20164908468723297, 0.0118617108091712, 0.008896282874047756, 0.16606394946575165, 0.4210907220840454, 0.18682195246219635, 0.9854740500450134, 0.8963664770126343, 0.10025151073932648, 0.04022257775068283, 0.07240063697099686, 0.45853736996650696, 0.0214520413428545, 0.11262321472167969, 0.2922840416431427, 0.971593976020813, 0.9782024025917053, 0.061820004135370255, 0.05151667073369026, 0.2884933650493622, 0.08757834136486053, 0.49971169233322144, 0.010303334333002567, 0.9051783680915833, 0.8714233636856079, 0.022211559116840363, 0.06057697907090187, 0.10298086702823639, 0.27259641885757446, 0.058557745069265366, 0.2503848373889923, 0.23019251227378845, 0.03591131791472435, 0.9516499042510986, 0.2329016774892807, 0.6152775287628174, 0.15295034646987915, 0.9233333468437195, 0.33818987011909485, 0.6594702005386353, 0.3234986960887909, 0.007928889244794846, 0.22200889885425568, 0.12051911652088165, 0.07453156262636185, 0.2505528926849365, 0.875552773475647, 0.10612760484218597, 0.5995140671730042, 0.35970842838287354, 0.9363436102867126, 0.979000985622406, 0.9590657353401184, 0.985955536365509, 0.22041615843772888, 0.42693787813186646, 0.19452199339866638, 0.10483977198600769, 0.052419885993003845, 0.22769491374492645, 0.09487288445234299, 0.2466694861650467, 0.42692795395851135, 0.02772064320743084, 0.7865732312202454, 0.045046042650938034, 0.13860321044921875, 0.9571573138237, 0.0681624487042427, 0.9250617623329163, 0.8971064686775208, 0.018069859594106674, 0.028108671307563782, 0.05019405484199524, 0.032124195247888565, 0.8713687658309937, 0.12241702526807785, 0.8722212910652161, 0.9809341430664062, 0.03397136181592941, 0.1334589272737503, 0.03397136181592941, 0.3566993176937103, 0.20868122577667236, 0.2329464852809906, 0.2102576494216919, 0.7779533267021179, 0.17680343985557556, 0.6672903895378113, 0.017110010609030724, 0.017110010609030724, 0.12547340989112854, 0.08615943044424057, 0.0021539859008044004, 0.17231886088848114, 0.7388171553611755, 0.04482250288128853, 0.5944879055023193, 0.3585800230503082, 0.9940754175186157, 0.9583050012588501, 0.037580590695142746, 0.9610249400138855, 0.9789880514144897, 0.9070820808410645, 0.9764361381530762, 0.3248019218444824, 0.5759820938110352, 0.09744057804346085, 0.0691835805773735, 0.15912222862243652, 0.6918358206748962, 0.07610193639993668, 0.05015363171696663, 0.012538407929241657, 0.037615224719047546, 0.07836505025625229, 0.529747724533081, 0.2883833646774292, 0.16267266869544983, 0.8336974382400513, 0.06846035271883011, 0.04800093546509743, 0.36433497071266174, 0.2148238569498062, 0.059017542749643326, 0.24472607672214508, 0.11176954209804535, 0.8718024492263794, 0.10861705988645554, 0.2606809437274933, 0.19551071524620056, 0.23895753920078278, 0.17378729581832886, 0.14497844874858856, 0.0557609386742115, 0.005576094146817923, 0.446087509393692, 0.34014174342155457, 0.12571722269058228, 0.4141273498535156, 0.3956395089626312, 0.018487827852368355, 0.04437078535556793, 0.3607199192047119, 0.5861698389053345, 0.9591318964958191, 0.9694510102272034, 0.2047063708305359, 0.1735130250453949, 0.08383212983608246, 0.23200055956840515, 0.3060847520828247, 0.9755110740661621, 0.5749228596687317, 0.031141653656959534, 0.11019354313611984, 0.1820589005947113, 0.031141653656959534, 0.06946983933448792, 0.9917354583740234, 0.989108145236969, 0.30562475323677063, 0.0033797367941588163, 0.3147983253002167, 0.19795601069927216, 0.0144845861941576, 0.01834714226424694, 0.14532868564128876, 0.048857081681489944, 0.05637355521321297, 0.07516473531723022, 0.5787684917449951, 0.2367689311504364, 0.15523013472557068, 0.004435146693140268, 0.8338075280189514, 0.9842947721481323, 0.9426000714302063, 0.9930775165557861], \"Term\": [\"'\", \"'\", \"'\", \"'\", \"'\", \"'\", \"'s\", \"'s\", \"'s\", \"'s\", \"'s\", \"'s\", \"'s\", \"'s\", \"'s\", \"'ve\", \"'ve\", \"'ve\", \"'ve\", \"13\", \"2\", \"2\", \"2\", \"2\", \"2\", \"22\", \"300\", \"77\", \"ac\", \"access\", \"access\", \"accomodating\", \"accomodating\", \"across\", \"across\", \"across\", \"across\", \"add\", \"add\", \"ago\", \"ago\", \"ago\", \"air\", \"air\", \"air\", \"air\", \"alright\", \"also\", \"also\", \"also\", \"also\", \"also\", \"also\", \"always\", \"always\", \"always\", \"always\", \"always\", \"always\", \"anaheim\", \"angel\", \"angel\", \"anniversary\", \"another\", \"another\", \"another\", \"another\", \"another\", \"another\", \"antonio\", \"apartment\", \"appliances\", \"appreciate\", \"area\", \"area\", \"area\", \"area\", \"area\", \"area\", \"arena\", \"aria\", \"asked\", \"asked\", \"assigned\", \"attendant\", \"austin\", \"availability\", \"avons\", \"away\", \"away\", \"away\", \"away\", \"away\", \"away\", \"back\", \"back\", \"back\", \"back\", \"back\", \"bad\", \"bad\", \"bad\", \"bad\", \"bad\", \"balconies\", \"balcony\", \"balcony\", \"balcony\", \"baltimore\", \"baseball\", \"baseball\", \"basketball\", \"bath\", \"bath\", \"bathroom\", \"bathroom\", \"bathroom\", \"baymont\", \"bbq\", \"beach\", \"beach\", \"beautiful\", \"beautiful\", \"beautiful\", \"beautiful\", \"beautiful\", \"bed\", \"bed\", \"bed\", \"bed\", \"bed\", \"bedrooms\", \"beds\", \"beds\", \"beds\", \"beds\", \"beds\", \"belle\", \"best\", \"best\", \"best\", \"best\", \"best\", \"best\", \"best\", \"beverages\", \"bien\", \"bike\", \"birthday\", \"birthday\", \"birthday\", \"biscuits\", \"bites\", \"blankets\", \"block\", \"block\", \"block\", \"blocks\", \"boardwalk\", \"boats\", \"body\", \"boiled\", \"boise\", \"boise\", \"booked\", \"booked\", \"booked\", \"booked\", \"bothered\", \"bourbon\", \"breakfast\", \"breakfast\", \"breakfast\", \"breakfast\", \"breakfast\", \"breakfast\", \"brewery\", \"bricktown\", \"broken\", \"bug\", \"bugs\", \"buildings\", \"burns\", \"butler\", \"bwi\", \"cabin\", \"cabins\", \"california\", \"called\", \"called\", \"cancelled\", \"cancelled\", \"care\", \"care\", \"care\", \"carpet\", \"carrollton\", \"celebrating\", \"chain\", \"chain\", \"chain\", \"chain\", \"chains\", \"chair\", \"chambre\", \"charged\", \"check\", \"check\", \"check\", \"check\", \"check\", \"checked\", \"checked\", \"checked\", \"choosing\", \"choosing\", \"church\", \"cigarette\", \"city\", \"city\", \"city\", \"city\", \"city\", \"city\", \"clean\", \"clean\", \"clean\", \"clean\", \"clean\", \"clean\", \"clerks\", \"close\", \"close\", \"close\", \"coast\", \"coast\", \"coffee\", \"coffee\", \"coffee\", \"colorado\", \"columbus\", \"comfort\", \"comfort\", \"comfort\", \"comfort\", \"comfortable\", \"comfortable\", \"comfortable\", \"comfortable\", \"comfortable\", \"comments\", \"comments\", \"comments\", \"conditioning\", \"continue\", \"continue\", \"continue\", \"convenient\", \"convenient\", \"cook\", \"cooked\", \"couch\", \"could\", \"could\", \"could\", \"could\", \"could\", \"cozy\", \"cozy\", \"crown\", \"curtains\", \"customer\", \"customer\", \"customer\", \"customer\", \"damp\", \"das\", \"day\", \"day\", \"day\", \"day\", \"day\", \"day\", \"dc\", \"de\", \"dead\", \"dear\", \"definitely\", \"definitely\", \"definitely\", \"definitely\", \"definitely\", \"definitely\", \"definitely\", \"del\", \"delighted\", \"delighted\", \"delighted\", \"deliver\", \"deliver\", \"deliver\", \"deliver\", \"dells\", \"der\", \"des\", \"description\", \"desired\", \"desk\", \"desk\", \"di\", \"die\", \"die\", \"director\", \"dirty\", \"distance\", \"distance\", \"dixie\", \"dogs\", \"donuts\", \"door\", \"door\", \"door\", \"door\", \"door\", \"door\", \"doors\", \"doors\", \"downtown\", \"downtown\", \"downtown\", \"drinking\", \"driver\", \"drunk\", \"drury\", \"drury\", \"dry\", \"dryer\", \"e\", \"e\", \"early\", \"early\", \"easy\", \"easy\", \"easy\", \"edgar\", \"eggs\", \"eggs\", \"el\", \"el\", \"electrical\", \"embassy\", \"en\", \"encountered\", \"encountered\", \"enjoyed\", \"enjoyed\", \"enjoyed\", \"enjoyed\", \"enjoyed\", \"era\", \"es\", \"et\", \"even\", \"even\", \"even\", \"even\", \"even\", \"even\", \"every\", \"every\", \"every\", \"every\", \"every\", \"every\", \"everything\", \"everything\", \"everything\", \"everything\", \"everything\", \"everything\", \"everything\", \"excellent\", \"excellent\", \"excellent\", \"excellent\", \"excellent\", \"excellent\", \"excited\", \"exercise\", \"expedia\", \"experience\", \"experience\", \"experience\", \"experience\", \"experience\", \"experience\", \"exploring\", \"express\", \"express\", \"falls\", \"family\", \"family\", \"family\", \"family\", \"family\", \"family\", \"family\", \"far\", \"far\", \"far\", \"far\", \"far\", \"far\", \"fare\", \"fast\", \"fast\", \"fast\", \"fast\", \"fast\", \"fast\", \"faucet\", \"feedback\", \"festival\", \"field\", \"filthy\", \"fireplace\", \"firm\", \"firm\", \"first\", \"first\", \"first\", \"first\", \"first\", \"first\", \"first\", \"fishing\", \"fl\", \"flat\", \"flat\", \"flight\", \"flight\", \"flight\", \"floor\", \"floor\", \"floor\", \"floor\", \"floor\", \"floor\", \"florida\", \"florida\", \"foods\", \"football\", \"forgot\", \"forward\", \"forward\", \"forward\", \"free\", \"free\", \"free\", \"free\", \"frequent\", \"fridge\", \"friend\", \"friend\", \"friend\", \"friendliest\", \"friendly\", \"friendly\", \"friendly\", \"friendly\", \"friendly\", \"frig\", \"frills\", \"front\", \"front\", \"front\", \"ft\", \"full\", \"full\", \"full\", \"full\", \"full\", \"fun\", \"fun\", \"fun\", \"future\", \"future\", \"future\", \"gardens\", \"gatlinburg\", \"get\", \"get\", \"get\", \"get\", \"get\", \"get\", \"girls\", \"glad\", \"glad\", \"glad\", \"glad\", \"glad\", \"glad\", \"golf\", \"good\", \"good\", \"good\", \"good\", \"good\", \"got\", \"got\", \"got\", \"got\", \"got\", \"got\", \"got\", \"gracious\", \"graduation\", \"grandson\", \"grateful\", \"great\", \"great\", \"great\", \"great\", \"great\", \"great\", \"greatly\", \"group\", \"group\", \"group\", \"group\", \"group\", \"group\", \"guest\", \"guest\", \"guest\", \"hallway\", \"hampton\", \"handicap\", \"handled\", \"heading\", \"heading\", \"hear\", \"hear\", \"hear\", \"hear\", \"heart\", \"heart\", \"heavy\", \"heavy\", \"help\", \"help\", \"help\", \"help\", \"helpful\", \"helpful\", \"helpful\", \"helpful\", \"hidden\", \"hilton\", \"hilton\", \"historic\", \"historic\", \"holes\", \"holiday\", \"hollywood\", \"home\", \"home\", \"home\", \"home\", \"home\", \"home\", \"home\", \"home2\", \"honors\", \"honua\", \"hope\", \"horrible\", \"hot\", \"hot\", \"hot\", \"hot\", \"hot\", \"hotel\", \"hotel\", \"hotel\", \"hotel\", \"hotel\", \"hotel\", \"hotel\", \"hotel\", \"hotel\", \"hotel\", \"hotels\", \"hotels\", \"hotels\", \"hotels\", \"hotels\", \"hotels\", \"hotels\", \"housekeeping\", \"housekeeping\", \"housekeeping\", \"hubby\", \"hyatt\", \"hyatt\", \"hyatt\", \"il\", \"ill\", \"individual\", \"information\", \"information\", \"initial\", \"inn\", \"inn\", \"inner\", \"interstate\", \"ist\", \"items\", \"items\", \"job\", \"job\", \"job\", \"job\", \"kai\", \"kansas\", \"kids\", \"kids\", \"kids\", \"kids\", \"kids\", \"king\", \"king\", \"king\", \"king\", \"kitchen\", \"kitchen\", \"krauss\", \"la\", \"la\", \"la\", \"lacked\", \"lake\", \"lake\", \"lamp\", \"large\", \"large\", \"large\", \"large\", \"last\", \"last\", \"last\", \"last\", \"last\", \"last\", \"last\", \"le\", \"like\", \"like\", \"like\", \"like\", \"like\", \"like\", \"like\", \"linen\", \"living\", \"living\", \"living\", \"located\", \"located\", \"location\", \"location\", \"location\", \"location\", \"location\", \"location\", \"lock\", \"lodge\", \"look\", \"look\", \"look\", \"look\", \"look\", \"look\", \"looking\", \"looking\", \"looking\", \"looking\", \"looking\", \"looking\", \"looking\", \"looking\", \"los\", \"loud\", \"loud\", \"louis\", \"loved\", \"loved\", \"loved\", \"loved\", \"loved\", \"lumpy\", \"made\", \"made\", \"made\", \"made\", \"made\", \"made\", \"main\", \"main\", \"main\", \"main\", \"main\", \"maingate\", \"make\", \"make\", \"make\", \"make\", \"make\", \"make\", \"make\", \"maker\", \"mall\", \"manager\", \"manager\", \"manager\", \"many\", \"many\", \"many\", \"many\", \"many\", \"many\", \"many\", \"many\", \"march\", \"margineanhotel\", \"member\", \"member\", \"member\", \"metro\", \"metro\", \"metro\", \"miami\", \"microwave\", \"milk\", \"mills\", \"mine\", \"minute\", \"minute\", \"minute\", \"mixed\", \"mold\", \"moldy\", \"monday\", \"monica\", \"morning\", \"morning\", \"morning\", \"morning\", \"morning\", \"motorcycle\", \"mountains\", \"moved\", \"moved\", \"much\", \"much\", \"much\", \"much\", \"much\", \"much\", \"much\", \"musty\", \"muy\", \"n\", \"n\", \"n\", \"napa\", \"napa\", \"napa\", \"napa\", \"national\", \"needed\", \"needed\", \"needed\", \"needed\", \"needed\", \"needed\", \"needle\", \"negatives\", \"neighboring\", \"never\", \"never\", \"never\", \"never\", \"never\", \"never\", \"new\", \"new\", \"new\", \"new\", \"new\", \"new\", \"new\", \"next\", \"next\", \"next\", \"next\", \"next\", \"next\", \"nice\", \"nice\", \"nice\", \"nice\", \"nice\", \"nice\", \"night\", \"night\", \"night\", \"night\", \"night\", \"night\", \"night\", \"nite\", \"no\", \"no\", \"no\", \"no\", \"no\", \"no\", \"no\", \"noise\", \"noise\", \"noise\", \"noisy\", \"noisy\", \"non\", \"non\", \"non\", \"not\", \"not\", \"not\", \"not\", \"not\", \"not\", \"not\", \"nous\", \"nyc\", \"obvious\", \"ocean\", \"octavia\", \"odor\", \"okc\", \"oklahoma\", \"one\", \"one\", \"one\", \"one\", \"one\", \"one\", \"one\", \"one\", \"operations\", \"order\", \"order\", \"order\", \"outdoor\", \"overlooking\", \"owner\", \"oxford\", \"paid\", \"paid\", \"paid\", \"paid\", \"para\", \"park\", \"park\", \"park\", \"park\", \"park\", \"park\", \"parking\", \"parking\", \"parking\", \"parking\", \"parking\", \"pastries\", \"path\", \"per\", \"per\", \"per\", \"per\", \"per\", \"perfect\", \"perfect\", \"perfect\", \"perfect\", \"perfect\", \"perfection\", \"personable\", \"pets\", \"picky\", \"pier\", \"pillows\", \"pillows\", \"pillows\", \"pittsburgh\", \"pizza\", \"place\", \"place\", \"place\", \"place\", \"place\", \"place\", \"place\", \"place\", \"plaza\", \"pleasantly\", \"pleasantly\", \"please\", \"please\", \"please\", \"pool\", \"pool\", \"pool\", \"pool\", \"pool\", \"pools\", \"port\", \"pot\", \"pressure\", \"price\", \"price\", \"price\", \"price\", \"price\", \"pricey\", \"pricey\", \"pricey\", \"pricey\", \"pub\", \"que\", \"queen\", \"queen\", \"queen\", \"question\", \"questions\", \"quiet\", \"quiet\", \"quiet\", \"quiet\", \"rain\", \"rain\", \"really\", \"really\", \"really\", \"really\", \"really\", \"really\", \"really\", \"recent\", \"recent\", \"recommend\", \"recommend\", \"recommend\", \"recommend\", \"recommend\", \"recommend\", \"refrigerator\", \"refund\", \"regards\", \"regis\", \"required\", \"resort\", \"resort\", \"resort\", \"resort\", \"restaurants\", \"restaurants\", \"resturants\", \"reunion\", \"review\", \"review\", \"review\", \"review\", \"ride\", \"ride\", \"ride\", \"right\", \"right\", \"right\", \"right\", \"right\", \"right\", \"river\", \"river\", \"roach\", \"roaches\", \"romantic\", \"room\", \"room\", \"room\", \"room\", \"room\", \"room\", \"rooms\", \"rooms\", \"rooms\", \"rooms\", \"rooms\", \"rooms\", \"rooms\", \"row\", \"ruby\", \"said\", \"said\", \"santa\", \"sarah\", \"sausage\", \"scenery\", \"screen\", \"screen\", \"se\", \"season\", \"season\", \"see\", \"see\", \"see\", \"see\", \"see\", \"see\", \"separate\", \"separate\", \"separate\", \"separate\", \"separate\", \"service\", \"service\", \"service\", \"service\", \"service\", \"service\", \"service\", \"several\", \"several\", \"several\", \"several\", \"several\", \"several\", \"share\", \"shared\", \"shared\", \"sharing\", \"sharing\", \"sheets\", \"shops\", \"shops\", \"shower\", \"shower\", \"showers\", \"shut\", \"shut\", \"shuttle\", \"shuttle\", \"shuttle\", \"shuttle\", \"sincerely\", \"size\", \"size\", \"size\", \"size\", \"slamming\", \"small\", \"small\", \"small\", \"small\", \"small\", \"smell\", \"smelled\", \"smells\", \"smells\", \"smelly\", \"smoke\", \"smoking\", \"sofa\", \"soft\", \"soon\", \"soon\", \"soon\", \"specifically\", \"specifically\", \"spoke\", \"springfield\", \"st\", \"st\", \"st\", \"stadium\", \"staff\", \"staff\", \"staff\", \"staff\", \"staff\", \"staff\", \"staffed\", \"stain\", \"stain\", \"stained\", \"stains\", \"starbucks\", \"starbucks\", \"starts\", \"starwood\", \"stay\", \"stay\", \"stay\", \"stay\", \"stay\", \"stay\", \"stay\", \"stay\", \"stayed\", \"stayed\", \"stayed\", \"stayed\", \"stayed\", \"stayed\", \"stayed\", \"steve\", \"stopover\", \"stores\", \"stores\", \"storm\", \"stove\", \"street\", \"street\", \"strip\", \"strip\", \"suite\", \"suite\", \"suite\", \"suite\", \"suite\", \"suited\", \"suites\", \"suites\", \"suites\", \"suites\", \"suites\", \"suites\", \"suites\", \"summer\", \"summer\", \"supper\", \"surprised\", \"surprised\", \"surprised\", \"surprised\", \"surroundings\", \"taking\", \"taking\", \"taking\", \"taking\", \"tasty\", \"tasty\", \"te\", \"team\", \"terrible\", \"terrible\", \"thank\", \"thank\", \"theatre\", \"theme\", \"thin\", \"time\", \"time\", \"time\", \"time\", \"time\", \"time\", \"time\", \"time\", \"times\", \"times\", \"times\", \"times\", \"times\", \"times\", \"toast\", \"told\", \"told\", \"town\", \"town\", \"town\", \"town\", \"town\", \"town\", \"towneplace\", \"trash\", \"travel\", \"travel\", \"travel\", \"travel\", \"travel\", \"travel\", \"tremendous\", \"tres\", \"trip\", \"trip\", \"trip\", \"trip\", \"trip\", \"trip\", \"trip\", \"tripadvisor\", \"tripadvisor\", \"tub\", \"tub\", \"tub\", \"tuesday\", \"tv\", \"tv\", \"two\", \"two\", \"two\", \"two\", \"two\", \"two\", \"u\", \"u\", \"un\", \"un\", \"und\", \"union\", \"unique\", \"updates\", \"us\", \"us\", \"us\", \"us\", \"us\", \"vacation\", \"vacation\", \"vacation\", \"vacation\", \"value\", \"value\", \"value\", \"value\", \"vanity\", \"vegas\", \"vegas\", \"video\", \"view\", \"view\", \"view\", \"view\", \"view\", \"views\", \"views\", \"virginia\", \"visit\", \"visit\", \"visit\", \"visit\", \"visit\", \"visit\", \"waffles\", \"waffles\", \"wait\", \"wait\", \"wait\", \"wait\", \"wait\", \"walk\", \"walk\", \"walk\", \"walk\", \"walking\", \"walking\", \"walking\", \"wall\", \"walls\", \"walls\", \"war\", \"wash\", \"washer\", \"washington\", \"water\", \"water\", \"water\", \"wedding\", \"wedding\", \"wedding\", \"wedding\", \"weekend\", \"weekend\", \"weekend\", \"weekend\", \"weekend\", \"weekend\", \"welcomed\", \"welcomed\", \"well\", \"well\", \"well\", \"well\", \"well\", \"well\", \"west\", \"west\", \"whenever\", \"whenever\", \"whenever\", \"whenever\", \"whenever\", \"wife\", \"wife\", \"wife\", \"wife\", \"wife\", \"wifi\", \"wifi\", \"wifi\", \"wifi\", \"wifi\", \"winter\", \"winter\", \"wireless\", \"woke\", \"wonderful\", \"wonderful\", \"wonderful\", \"wonderful\", \"wonderful\", \"words\", \"work\", \"work\", \"work\", \"work\", \"work\", \"work\", \"worse\", \"worst\", \"would\", \"would\", \"would\", \"would\", \"would\", \"would\", \"would\", \"year\", \"year\", \"year\", \"year\", \"year\", \"years\", \"years\", \"years\", \"york\", \"\\u00e5\\u00f3\", \"\\u201e\"]}, \"R\": 30, \"lambda.step\": 0.01, \"plot.opts\": {\"xlab\": \"PC1\", \"ylab\": \"PC2\"}, \"topic.order\": [1, 2, 3, 4, 5, 6, 7, 8, 9, 10]};\n",
       "\n",
       "function LDAvis_load_lib(url, callback){\n",
       "  var s = document.createElement('script');\n",
       "  s.src = url;\n",
       "  s.async = true;\n",
       "  s.onreadystatechange = s.onload = callback;\n",
       "  s.onerror = function(){console.warn(\"failed to load library \" + url);};\n",
       "  document.getElementsByTagName(\"head\")[0].appendChild(s);\n",
       "}\n",
       "\n",
       "if(typeof(LDAvis) !== \"undefined\"){\n",
       "   // already loaded: just create the visualization\n",
       "   !function(LDAvis){\n",
       "       new LDAvis(\"#\" + \"ldavis_el203362590285919360400218974\", ldavis_el203362590285919360400218974_data);\n",
       "   }(LDAvis);\n",
       "}else if(typeof define === \"function\" && define.amd){\n",
       "   // require.js is available: use it to load d3/LDAvis\n",
       "   require.config({paths: {d3: \"https://cdnjs.cloudflare.com/ajax/libs/d3/3.5.5/d3.min\"}});\n",
       "   require([\"d3\"], function(d3){\n",
       "      window.d3 = d3;\n",
       "      LDAvis_load_lib(\"https://cdn.rawgit.com/bmabey/pyLDAvis/files/ldavis.v1.0.0.js\", function(){\n",
       "        new LDAvis(\"#\" + \"ldavis_el203362590285919360400218974\", ldavis_el203362590285919360400218974_data);\n",
       "      });\n",
       "    });\n",
       "}else{\n",
       "    // require.js not available: dynamically load d3 & LDAvis\n",
       "    LDAvis_load_lib(\"https://cdnjs.cloudflare.com/ajax/libs/d3/3.5.5/d3.min.js\", function(){\n",
       "         LDAvis_load_lib(\"https://cdn.rawgit.com/bmabey/pyLDAvis/files/ldavis.v1.0.0.js\", function(){\n",
       "                 new LDAvis(\"#\" + \"ldavis_el203362590285919360400218974\", ldavis_el203362590285919360400218974_data);\n",
       "            })\n",
       "         });\n",
       "}\n",
       "</script>"
      ],
      "text/plain": [
       "<IPython.core.display.HTML object>"
      ]
     },
     "execution_count": 92,
     "metadata": {},
     "output_type": "execute_result"
    }
   ],
   "source": [
    "pyLDAvis.display(lda_display)"
   ]
  },
  {
   "cell_type": "markdown",
   "metadata": {},
   "source": [
    "### Assigning Comments to Topics"
   ]
  },
  {
   "cell_type": "markdown",
   "metadata": {},
   "source": [
    "Based on the visualization, the topics generated become a lot more clear. Now, to finish off the algorithm, we want to label the topics and map them to each comment."
   ]
  },
  {
   "cell_type": "code",
   "execution_count": 122,
   "metadata": {},
   "outputs": [],
   "source": [
    "# Example of labelling topics for the Hotel sample dataset\n",
    "\n",
    "# Define your topic categories based on topic model analysis above\n",
    "topic_cats = {0:'Spanish Reviews',\n",
    "              1:'Dirty/Noisy Room',\n",
    "              2:'Location',\n",
    "              3:'Room Utilities',\n",
    "              4:'Good Experience',\n",
    "              5:'Anaheim Stadium',\n",
    "              6:'Front Desk',\n",
    "              7:'Thank You',\n",
    "              8:'Hotel Stay',\n",
    "              9:'Scenery'}\n",
    "\n",
    "\n",
    "# Get topic numbers from LDA model for each review\n",
    "corpus_topics = list(ldamodel.get_document_topics(corpus))\n",
    "\n",
    "\n",
    "# Map topic label numbers to topic category names\n",
    "topic_labels = []\n",
    "for comment in corpus_topics:\n",
    "    probs = {k:v for k, v in comment}\n",
    "    best_topic = max(probs, key=lambda key: probs[key])\n",
    "    topic_labels.append(topic_cats[best_topic])"
   ]
  },
  {
   "cell_type": "markdown",
   "metadata": {},
   "source": [
    "Finally, we add a column for the topic labels to the dataset. "
   ]
  },
  {
   "cell_type": "code",
   "execution_count": 131,
   "metadata": {},
   "outputs": [
    {
     "data": {
      "text/html": [
       "<div>\n",
       "<style scoped>\n",
       "    .dataframe tbody tr th:only-of-type {\n",
       "        vertical-align: middle;\n",
       "    }\n",
       "\n",
       "    .dataframe tbody tr th {\n",
       "        vertical-align: top;\n",
       "    }\n",
       "\n",
       "    .dataframe thead th {\n",
       "        text-align: right;\n",
       "    }\n",
       "</style>\n",
       "<table border=\"1\" class=\"dataframe\">\n",
       "  <thead>\n",
       "    <tr style=\"text-align: right;\">\n",
       "      <th></th>\n",
       "      <th>reviews.text</th>\n",
       "      <th>topic</th>\n",
       "    </tr>\n",
       "  </thead>\n",
       "  <tbody>\n",
       "    <tr>\n",
       "      <th>0</th>\n",
       "      <td>Our experience at Rancho Valencia was absolutely perfect from beginning to end!!!! We felt special and very happy du...</td>\n",
       "      <td>Scenery</td>\n",
       "    </tr>\n",
       "    <tr>\n",
       "      <th>1</th>\n",
       "      <td>Amazing place. Everyone was extremely warm and welcoming. We've stayed at some top notch places and this is definite...</td>\n",
       "      <td>Front Desk</td>\n",
       "    </tr>\n",
       "    <tr>\n",
       "      <th>2</th>\n",
       "      <td>We booked a 3 night stay at Rancho Valencia to play some tennis, since it is one of the highest rated tennis resorts...</td>\n",
       "      <td>Scenery</td>\n",
       "    </tr>\n",
       "    <tr>\n",
       "      <th>3</th>\n",
       "      <td>Currently in bed writing this for the past hr 1/2 there have been dogs barking and squealing call the front desk to ...</td>\n",
       "      <td>Dirty/Noisy Room</td>\n",
       "    </tr>\n",
       "    <tr>\n",
       "      <th>4</th>\n",
       "      <td>I live in Md and the Aloft is my Home away from home...we stayed 1 night 7-7-16 ...Staff is great ! Especially Olivi...</td>\n",
       "      <td>Hotel Stay</td>\n",
       "    </tr>\n",
       "    <tr>\n",
       "      <th>5</th>\n",
       "      <td>I stayed here with my family for my daughters wedding. It had a very accommodating staff, Olivia was excellent. The ...</td>\n",
       "      <td>Hotel Stay</td>\n",
       "    </tr>\n",
       "    <tr>\n",
       "      <th>6</th>\n",
       "      <td>Beautiful rooms and the nicest people working there. The front desk lady, Olivia, was extremely patient and helpful....</td>\n",
       "      <td>Front Desk</td>\n",
       "    </tr>\n",
       "    <tr>\n",
       "      <th>7</th>\n",
       "      <td>We stayed here while visiting Maryland Live!. Cute hotel in a great location. Clean, with a very modern look, upgrad...</td>\n",
       "      <td>Good Experience</td>\n",
       "    </tr>\n",
       "    <tr>\n",
       "      <th>8</th>\n",
       "      <td>I travel a lot with my job, so I'm constantly staying at hotels. When my co-workers and I arrived late last night at...</td>\n",
       "      <td>Front Desk</td>\n",
       "    </tr>\n",
       "    <tr>\n",
       "      <th>9</th>\n",
       "      <td>In my line of work, I use meeting space in hotels often. In my 15+ years of doing this work, this is the first time ...</td>\n",
       "      <td>Dirty/Noisy Room</td>\n",
       "    </tr>\n",
       "  </tbody>\n",
       "</table>\n",
       "</div>"
      ],
      "text/plain": [
       "                                                                                                              reviews.text             topic\n",
       "0  Our experience at Rancho Valencia was absolutely perfect from beginning to end!!!! We felt special and very happy du...           Scenery\n",
       "1  Amazing place. Everyone was extremely warm and welcoming. We've stayed at some top notch places and this is definite...        Front Desk\n",
       "2  We booked a 3 night stay at Rancho Valencia to play some tennis, since it is one of the highest rated tennis resorts...           Scenery\n",
       "3  Currently in bed writing this for the past hr 1/2 there have been dogs barking and squealing call the front desk to ...  Dirty/Noisy Room\n",
       "4  I live in Md and the Aloft is my Home away from home...we stayed 1 night 7-7-16 ...Staff is great ! Especially Olivi...        Hotel Stay\n",
       "5  I stayed here with my family for my daughters wedding. It had a very accommodating staff, Olivia was excellent. The ...        Hotel Stay\n",
       "6  Beautiful rooms and the nicest people working there. The front desk lady, Olivia, was extremely patient and helpful....        Front Desk\n",
       "7  We stayed here while visiting Maryland Live!. Cute hotel in a great location. Clean, with a very modern look, upgrad...   Good Experience\n",
       "8  I travel a lot with my job, so I'm constantly staying at hotels. When my co-workers and I arrived late last night at...        Front Desk\n",
       "9  In my line of work, I use meeting space in hotels often. In my 15+ years of doing this work, this is the first time ...  Dirty/Noisy Room"
      ]
     },
     "metadata": {},
     "output_type": "display_data"
    }
   ],
   "source": [
    "# Add topic label column to dataset\n",
    "data['topic'] = topic_labels\n",
    "\n",
    "pd.set_option('max_colwidth', 120)\n",
    "display(data[['reviews.text', 'topic']].head(10))"
   ]
  },
  {
   "cell_type": "markdown",
   "metadata": {},
   "source": [
    "## Rule Based Categorization"
   ]
  },
  {
   "cell_type": "markdown",
   "metadata": {},
   "source": [
    "Create dictionaries to categorize reviews"
   ]
  },
  {
   "cell_type": "code",
   "execution_count": 90,
   "metadata": {},
   "outputs": [],
   "source": [
    "# Tag Dictionaries\n",
    "\n",
    "good_experience = ['great', 'nice', 'good', 'awesome', 'wonderful', 'amazing', 'perfect']\n",
    "\n",
    "food = ['food', 'breakfast', 'lunch', 'dinner']\n",
    "\n",
    "front_desk = [('front', 'desk')]\n",
    "\n",
    "walking_distance = [('within', 'walking', 'distance')]"
   ]
  },
  {
   "cell_type": "markdown",
   "metadata": {},
   "source": [
    "Loop through each comment and tag a comment if it contains a word in one of the dictionaries"
   ]
  },
  {
   "cell_type": "code",
   "execution_count": null,
   "metadata": {},
   "outputs": [],
   "source": []
  },
  {
   "cell_type": "code",
   "execution_count": 91,
   "metadata": {},
   "outputs": [
    {
     "name": "stdout",
     "output_type": "stream",
     "text": [
      "Done.\n",
      "Runtime: 661.9216980934143\n"
     ]
    }
   ],
   "source": [
    "print('Done.')\n",
    "print('Runtime: {}'.format(time.time()-start))"
   ]
  },
  {
   "cell_type": "markdown",
   "metadata": {},
   "source": [
    "## Appendix"
   ]
  },
  {
   "cell_type": "markdown",
   "metadata": {},
   "source": [
    "### Sources:\n",
    "\n",
    "NLTK Online Textbook\n",
    "1. http://www.nltk.org/book/\n",
    "\n",
    "Stemming and Lemmatization \n",
    "1. https://towardsdatascience.com/stemming-lemmatization-what-ba782b7c0bd8\n",
    "2. https://www.datacamp.com/community/tutorials/stemming-lemmatization-python\n",
    "3. https://nlp.stanford.edu/IR-book/html/htmledition/stemming-and-lemmatization-1.html\n",
    "\n",
    "Topic Modelling with Gensm\n",
    "1. https://towardsdatascience.com/topic-modelling-in-python-with-nltk-and-gensim-4ef03213cd21\n",
    "\n",
    "Pickle\n",
    "1. https://docs.python.org/3/library/pickle.html\n",
    "2. https://www.geeksforgeeks.org/understanding-python-pickling-example/\n",
    "\n",
    "pyLDAvis\n",
    "1. https://nlp.stanford.edu/events/illvi2014/papers/sievert-illvi2014.pdf"
   ]
  }
 ],
 "metadata": {
  "kernelspec": {
   "display_name": "Python 3",
   "language": "python",
   "name": "python3"
  },
  "language_info": {
   "codemirror_mode": {
    "name": "ipython",
    "version": 3
   },
   "file_extension": ".py",
   "mimetype": "text/x-python",
   "name": "python",
   "nbconvert_exporter": "python",
   "pygments_lexer": "ipython3",
   "version": "3.6.4"
  }
 },
 "nbformat": 4,
 "nbformat_minor": 2
}
